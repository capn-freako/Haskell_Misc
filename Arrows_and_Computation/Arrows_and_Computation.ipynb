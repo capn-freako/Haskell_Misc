{
 "cells": [
  {
   "cell_type": "markdown",
   "metadata": {},
   "source": [
    "# Solutions to the Exercises in:  *Arrows and Computation*, by Ross Paterson\n",
    "\n",
    "Original author: David Banas <capn.freako@gmail.com>  \n",
    "Original date:   July 29, 2016\n",
    "\n",
    "Copyright &#169; 2016 David Banas; all rights reserved World wide.\n"
   ]
  },
  {
   "cell_type": "code",
   "execution_count": 1,
   "metadata": {
    "collapsed": false
   },
   "outputs": [
    {
     "data": {
      "text/plain": [
       "Notebook last run:"
      ]
     },
     "metadata": {},
     "output_type": "display_data"
    },
    {
     "data": {
      "text/plain": [
       "2016-09-27 13:40:27.318702 UTC"
      ]
     },
     "metadata": {},
     "output_type": "display_data"
    }
   ],
   "source": [
    "import Data.Time\n",
    "\n",
    "putStrLn \"Notebook last run:\"\n",
    "getCurrentTime\n"
   ]
  },
  {
   "cell_type": "markdown",
   "metadata": {},
   "source": [
    "## Table of Contents <a name=\"contents\"/>\n",
    "\n",
    "* <a href=\"#ex1\">Exercise 1 - *Arrow* instances for *Reader* and *Writer*.</a>\n",
    "* <a href=\"#ex2\">Exercise 2 - Attempted *Arrow* instance for *ListMap*.</a>\n",
    "* <a href=\"#ex3\">Exercise 3 - *Arrow* instance for *StreamtMap*.</a>\n",
    "* <a href=\"#ex4\">Exercise 4 - Show that a::Arrow &#8905; f::(&#8594;) is a *Functor*.</a>\n",
    "* <a href=\"#ex5\">Exercise 5 - Verify the *ArrowApply* axioms for pure functions.</a>\n"
   ]
  },
  {
   "cell_type": "markdown",
   "metadata": {},
   "source": [
    "## Exercise 1 <a name=\"ex1\"/>\n",
    "\n",
    "Write *Arrow* instances for the following types:\n",
    "\n",
    "`newtype Reader s a b = R ((s, a)` &#8594; `b)`  \n",
    "`newtype Writer a b   = W (a` &#8594; `(String, b))`\n",
    "\n",
    "In the latter case, any monoid could be used in place of String."
   ]
  },
  {
   "cell_type": "code",
   "execution_count": 2,
   "metadata": {
    "collapsed": false
   },
   "outputs": [
    {
     "data": {
      "text/plain": [
       "True\n",
       "True\n",
       "True\n",
       "True\n",
       "True\n",
       "True\n",
       "True\n",
       "True\n",
       "True\n",
       "True\n",
       "True\n",
       "True\n",
       "True\n",
       "True\n",
       "True\n",
       "True"
      ]
     },
     "metadata": {},
     "output_type": "display_data"
    }
   ],
   "source": [
    "import Prelude hiding (pure)\n",
    "\n",
    "class Arrow a where\n",
    "    pure  :: (b -> c) -> a b c\n",
    "    (>>>) :: a b c -> a c d -> a b d\n",
    "    first :: a b c -> a (b, d) (c, d)\n",
    "\n",
    "second :: Arrow a => a b c -> a (d, b) (d, c)\n",
    "second f = pure swap >>> first f >>> pure swap\n",
    "    where swap ~(x, y) = (y, x)\n",
    "\n",
    "assoc :: ((a, b), c) -> (a, (b, c))\n",
    "assoc ~(~(x, y), z) = (x, (y, z))\n",
    "\n",
    "unassoc :: (a, (b, c)) -> ((a, b), c)\n",
    "unassoc ~(x, ~(y, z)) = ((x, y), z)\n",
    "\n",
    "prod :: (a -> a') -> (b -> b') -> (a, b) -> (a', b')\n",
    "(f `prod` g) ~(x, y) = (f x, g y)\n",
    "\n",
    "newtype Reader s a b = R {runR :: (s, a) -> b}\n",
    "\n",
    "newtype Writer a b   = W {runW :: a -> (String, b)}\n",
    "\n",
    "instance Arrow (Reader s) where\n",
    "    pure f      = R (\\(_, x) -> f x)\n",
    "    R f >>> R g = R (\\(s, x) -> g (s, f (s, x)))\n",
    "    first (R f) = R (\\(s, (x, y)) -> (f (s, x), y))\n",
    "    \n",
    "instance Arrow Writer where\n",
    "    pure f      = W (\\x -> (\"\", f x))\n",
    "    W f >>> W g = W (\\x -> \n",
    "        let (s', w) = f x\n",
    "            (s, y)  = g w\n",
    "        in (s' ++ s, y))\n",
    "    first (W f) = W (\\(x, y) -> \n",
    "        let (s, w) = f x\n",
    "        in (s, (w, y)))\n",
    "\n",
    "-- Test axioms.\n",
    "a1 = R (\\(s, x) -> s)\n",
    "a2 = R (\\(s, x) -> x)\n",
    "a3 = R (\\(s, x) -> ())\n",
    "b1 = W (\\x -> (\"\", x))\n",
    "b2 = W (\\x -> (show x, x + 1))\n",
    "b3 = W (\\x -> (\"Hello, World!\", x * 2))\n",
    "x  = (\"test\", 1)\n",
    "y  = (\"for_first\", (2, 3))\n",
    "z  = (\"for_assoc\", ((2, 3), 4))\n",
    "f  = \\x -> x + 1\n",
    "g  = \\x -> x * 2\n",
    "w  = (2, 3)\n",
    "v = ((2, 3), 4)\n",
    "\n",
    "-- General utilities\n",
    "eqR :: (Eq b) => Reader s a b -> Reader s a b -> (s, a) -> Bool\n",
    "eqR r1 r2 x = runR r1 x == runR r2 x\n",
    "\n",
    "eqW :: (Eq b) => Writer a b -> Writer a b -> a -> Bool\n",
    "eqW w1 w2 x = runW w1 x == runW w2 x\n",
    "\n",
    "-- Functor identity\n",
    "assertion1 = eqR a1 a' x && eqR a1 a'' x\n",
    "    where a'  = idA >>> a1\n",
    "          a'' = a1 >>> idA\n",
    "          idA = pure id\n",
    "\n",
    "assertion1w = eqW b1 a' 1 && eqW b1 a'' 1\n",
    "    where a'  = idA >>> b1\n",
    "          a'' = b1 >>> idA\n",
    "          idA = pure id\n",
    "\n",
    "-- Functor composition\n",
    "assertion2 = eqR (pure (g . f)) (pure f >>> pure g) x\n",
    "assertion2w = eqW (pure (g . f)) (pure f >>> pure g) 1\n",
    "\n",
    "-- Associativity\n",
    "assertion3 = eqR ((a1 >>> a2) >>> a3) (a1 >>> (a2 >>> a3)) x\n",
    "assertion3w = eqW ((b1 >>> b2) >>> b3) (b1 >>> (b2 >>> b3)) 1\n",
    "\n",
    "-- Extension\n",
    "assertion4 = eqR (first (pure f)) (pure (f `prod` id)) y\n",
    "assertion4w = eqW (first (pure f)) (pure (f `prod` id)) w\n",
    "\n",
    "-- Functor\n",
    "assertion5 = eqR (first (a1 >>> a2)) (first a1 >>> first a2) y\n",
    "assertion5w = eqW (first (b1 >>> b2)) (first b1 >>> first b2) w\n",
    "\n",
    "-- Exchange\n",
    "assertion6 = eqR (first a1 >>> pure (id `prod` f)) (pure (id `prod` f) >>> first a1) y\n",
    "assertion6w = eqW (first b1 >>> pure (id `prod` f)) (pure (id `prod` f) >>> first b1) w\n",
    "\n",
    "-- Unit\n",
    "assertion7 = eqR (first a1 >>> pure fst) (pure fst >>> a1) y\n",
    "assertion7w = eqW (first b1 >>> pure fst) (pure fst >>> b1) w\n",
    "\n",
    "-- Association\n",
    "assertion8 = eqR (first (first a1) >>> pure assoc) (pure assoc >>> first a1) z\n",
    "assertion8w = eqW (first (first b1) >>> pure assoc) (pure assoc >>> first b1) v\n",
    "\n",
    "main :: IO ()\n",
    "main = do\n",
    "    print assertion1\n",
    "    print assertion1w\n",
    "    print assertion2\n",
    "    print assertion2w\n",
    "    print assertion3\n",
    "    print assertion3w\n",
    "    print assertion4\n",
    "    print assertion4w\n",
    "    print assertion5\n",
    "    print assertion5w\n",
    "    print assertion6\n",
    "    print assertion6w\n",
    "    print assertion7\n",
    "    print assertion7w\n",
    "    print assertion8\n",
    "    print assertion8w\n",
    "\n",
    "main\n"
   ]
  },
  {
   "cell_type": "markdown",
   "metadata": {},
   "source": [
    "<a href=\"#contents\">Back to Contents</a>"
   ]
  },
  {
   "cell_type": "markdown",
   "metadata": {},
   "source": [
    "## Exercise 2 <a name=\"ex2\"/>\n",
    "\n",
    "The following is almost an arrow type:\n",
    "\n",
    "`newtype ListMap ι o = LM ([ι] → [o])`\n",
    "\n",
    "What goes wrong?"
   ]
  },
  {
   "cell_type": "code",
   "execution_count": 3,
   "metadata": {
    "collapsed": false
   },
   "outputs": [
    {
     "data": {
      "text/plain": [
       "True\n",
       "True\n",
       "True\n",
       "True\n",
       "True\n",
       "True\n",
       "False\n",
       "True"
      ]
     },
     "metadata": {},
     "output_type": "display_data"
    }
   ],
   "source": [
    "newtype ListMap a b = LM {runLM :: [a] -> [b]}\n",
    "\n",
    "instance Arrow ListMap where\n",
    "    pure f        = LM (\\xs -> map f xs)\n",
    "    LM f >>> LM g = LM (\\xs -> (g . f) xs)\n",
    "    first (LM f)  = LM (\\ws ->  -- ws :: [(a, b)]\n",
    "        let (xs, ys) = unzip ws\n",
    "        in zip (f xs) ys)\n",
    "\n",
    "-- Test axioms.\n",
    "-- General utilities\n",
    "eqLM :: (Eq b) => ListMap a b -> ListMap a b -> [a] -> Bool\n",
    "eqLM lm1 lm2 xs = runLM lm1 xs == runLM lm2 xs\n",
    "\n",
    "-- Useful expressions\n",
    "lm3 = LM (\\xs -> map (+1) xs)\n",
    "lm2 = LM (\\xs -> map (*2) xs)\n",
    "lm1 = LM (\\xs -> xs ++ xs)\n",
    "xs  = [0, 1, 2]\n",
    "ys  = [(0, \"zero\"), (1, \"one\"), (2, \"two\")]\n",
    "zs  = [(0, 1), (1, 2), (2, 3)]\n",
    "zss = [((0, 1), 2), ((1, 2), 3), ((2, 3), 4)]\n",
    "\n",
    "-- Functor identity\n",
    "assertion_lm1 = eqLM lm1 a' xs && eqLM lm1 a'' xs\n",
    "    where a'  = idA >>> lm1\n",
    "          a'' = lm1 >>> idA\n",
    "          idA = pure id\n",
    "\n",
    "-- Functor composition\n",
    "assertion_lm2 = eqLM (pure (g . f)) (pure f >>> pure g) xs\n",
    "\n",
    "-- Associativity\n",
    "assertion_lm3 = eqLM ((lm1 >>> lm2) >>> lm3) (lm1 >>> (lm2 >>> lm3)) xs\n",
    "\n",
    "-- Extension\n",
    "assertion_lm4 = eqLM (first (pure f)) (pure (f `prod` id)) ys\n",
    "\n",
    "-- Functor\n",
    "assertion_lm5 = eqLM (first (lm1 >>> lm2)) (first lm1 >>> first lm2) ys\n",
    "\n",
    "-- Exchange\n",
    "assertion_lm6 = eqLM (first lm1 >>> pure (id `prod` f)) (pure (id `prod` f) >>> first lm1) zs\n",
    "\n",
    "-- Unit\n",
    "assertion_lm7 = eqLM (first lm1 >>> pure fst) (pure fst >>> lm1) ys\n",
    "\n",
    "-- Association\n",
    "assertion_lm8 = eqLM (first (first lm1) >>> pure assoc) (pure assoc >>> first lm1) zss\n",
    "\n",
    "main :: IO ()\n",
    "main = do\n",
    "    print assertion_lm1\n",
    "    print assertion_lm2\n",
    "    print assertion_lm3\n",
    "    print assertion_lm4\n",
    "    print assertion_lm5\n",
    "    print assertion_lm6\n",
    "    print assertion_lm7\n",
    "    print assertion_lm8\n",
    "\n",
    "main\n"
   ]
  },
  {
   "cell_type": "markdown",
   "metadata": {},
   "source": [
    "The type of the enclosed function allows us to change the \"shape\" of the data container (i.e.  *List*, in this case), and that can break some of the properties we need to rely on."
   ]
  },
  {
   "cell_type": "markdown",
   "metadata": {},
   "source": [
    "<a href=\"#contents\">Back to Contents</a>"
   ]
  },
  {
   "cell_type": "markdown",
   "metadata": {},
   "source": [
    "## Exercise 3 <a name=\"ex3\"/>\n",
    "\n",
    "Define the following as an arrow type:\n",
    "\n",
    "```\n",
    "data Stream α = Cons α (Stream α)\n",
    "newtype StreamMap ι o = SM (Stream ι → Stream o)\n",
    "```\n"
   ]
  },
  {
   "cell_type": "code",
   "execution_count": 4,
   "metadata": {
    "collapsed": false
   },
   "outputs": [
    {
     "data": {
      "text/plain": [
       "Streams used (first 10 elements):\n",
       "\ts1: [0,0,0,0,0,0,0,0,0,0]\n",
       "\ts2: [0,1,2,3,4,5,6,7,8,9]\n",
       "\n",
       "Assertion values:\n",
       "True\n",
       "True\n",
       "True\n",
       "True\n",
       "True\n",
       "True\n",
       "True\n",
       "True"
      ]
     },
     "metadata": {},
     "output_type": "display_data"
    }
   ],
   "source": [
    "data Stream a = Cons a (Stream a)\n",
    "\n",
    "newtype StreamMap a b = SM {runSM :: Stream a -> Stream b}\n",
    "\n",
    "zipS :: Stream a -> Stream b -> Stream (a, b)\n",
    "zipS (Cons x xs) (Cons y ys) = Cons (x, y) (zipS xs ys)\n",
    "\n",
    "unzipS :: Stream (a, b) -> (Stream a, Stream b)\n",
    "unzipS (Cons z zs) = (Cons (fst z) (fst (unzipS zs)), Cons (snd z) (snd (unzipS zs)))\n",
    "\n",
    "instance Arrow StreamMap where\n",
    "    pure f        = SM g\n",
    "     where g (Cons x xs) = Cons (f x) (g xs)\n",
    "    SM f >>> SM g = SM (g . f)\n",
    "    first (SM g)  = SM (\\ws ->\n",
    "     let ys       = g xs\n",
    "         (xs, zs) = unzipS ws\n",
    "     in zipS ys zs)\n",
    "\n",
    "-- Test axioms.\n",
    "-- General utilities\n",
    "toList :: Stream a -> [a]\n",
    "toList (Cons x xs) = x : (toList xs)\n",
    "\n",
    "eqSM :: (Eq b) => StreamMap a b -> StreamMap a b -> Stream a -> Bool\n",
    "eqSM sm1 sm2 s = take 100 (toList (runSM sm1 s)) == take 100 (toList (runSM sm2 s))\n",
    "\n",
    "-- Useful expressions\n",
    "f (Cons x xs) = Cons (x + 1) (f xs)\n",
    "sm1 = SM f\n",
    "g (Cons x xs) = Cons x (Cons x (g xs))\n",
    "sm2 = SM g\n",
    "sm3 :: StreamMap a a\n",
    "sm3 = pure id\n",
    "sms = [sm1, sm2, sm3]\n",
    "\n",
    "s1 = Cons 0 (s1)\n",
    "s2 = Cons 0 (f s2)\n",
    "ss = [s1, s2]\n",
    "\n",
    "f2 = \\x -> 1\n",
    "f3 = \\x -> x + 1\n",
    "f4 = \\x -> x * 2\n",
    "fs = [f2, f3, f4]\n",
    "\n",
    "-- Functor identity\n",
    "idSM :: StreamMap a a\n",
    "idSM = pure id\n",
    "\n",
    "assertion_sm1 = and [eqSM sm (idSM >>> sm) s && eqSM sm (sm >>> idSM) s | sm <- sms, s <- ss]\n",
    "\n",
    "-- Functor composition\n",
    "assertion_sm2 = and [eqSM (pure (g . f)) (pure f >>> pure g) s | f <- fs, g <- fs, s <- ss]\n",
    "\n",
    "-- Associativity\n",
    "assertion_sm3 = and [eqSM ((sm1 >>> sm2) >>> sm3) (sm1 >>> (sm2 >>> sm3)) s | s <- ss]\n",
    "\n",
    "-- Extension\n",
    "assertion_sm4 = and [eqSM (first (pure f)) (pure (f `prod` id)) (zipS s1 s2) | f <- fs]\n",
    "\n",
    "-- Functor\n",
    "assertion_sm5 = and [eqSM (first (sm >>> sm')) (first sm >>> first sm') (zipS s1 s2) | sm <- sms, sm' <- sms]\n",
    "\n",
    "-- Exchange\n",
    "assertion_sm6 = and [eqSM (first sm >>> pure (id `prod` f)) (pure (id `prod` f) >>> first sm) (zipS s1 s2) | sm <- sms, f <- fs]\n",
    "\n",
    "-- Unit\n",
    "assertion_sm7 = and [eqSM (first sm >>> pure fst) (pure fst >>> sm) (zipS s1 s2) | sm <- sms]\n",
    "\n",
    "-- Association\n",
    "assertion_sm8 = and [eqSM (first (first sm) >>> pure assoc) (pure assoc >>> first sm) (zipS (zipS s1 s2) s2) | sm <- sms]\n",
    "\n",
    "main :: IO ()\n",
    "main = do\n",
    "    putStrLn \"Streams used (first 10 elements):\"\n",
    "    putStr   \"\\ts1: \"\n",
    "    print $ take 10 $ toList s1\n",
    "    putStr   \"\\ts2: \"\n",
    "    print $ take 10 $ toList s2\n",
    "    putStrLn \"\"\n",
    "    putStrLn \"Assertion values:\"\n",
    "--    print res\n",
    "    print assertion_sm1\n",
    "    print assertion_sm2\n",
    "    print assertion_sm3\n",
    "    print assertion_sm4\n",
    "    print assertion_sm5\n",
    "    print assertion_sm6\n",
    "    print assertion_sm7\n",
    "    print assertion_sm8\n",
    "\n",
    "main\n"
   ]
  },
  {
   "cell_type": "markdown",
   "metadata": {},
   "source": [
    "<a href=\"#contents\">Back to Contents</a>"
   ]
  },
  {
   "cell_type": "markdown",
   "metadata": {},
   "source": [
    "## Exercise 4 <a name=\"ex4\"/>\n",
    "\n",
    "Show that the following is a Functor.\n",
    "\n",
    "```\n",
    "(<*) :: Arrow a => a b c -> (b' -> c') -> a (b, b') (c, c')\n",
    "f <* g = first f >>> pure (id × g)\n",
    "```\n",
    "\n",
    "Note: I added \"pure\".\n",
    "\n",
    "From a private e-mail exchange with Ross:\n",
    "\n",
    "To show:\n",
    "\n",
    "```\n",
    "pure id <* id = pure id\n",
    "\n",
    "(f >>> f') <* (g' . g) = (f <* g) >>> (f' <* g')\n",
    "```\n",
    "\n",
    "My solutions:\n",
    "\n",
    "`pure id <* id                       =` {definition of `(<*)`}  \n",
    "`first (pure id) >>> pure (id x id)  =` {extension}  \n",
    "`pure (id x id)  >>> pure (id x id)  =` {functor-composition}  \n",
    "`pure ((id x id) . (id x id))        =` {(x) is a functor in two arguments.}  \n",
    "`pure ((id . id) x (id . id))        =` {idempotency of *id*}  \n",
    "`pure (id x id)                      =` {by simple inspection}  \n",
    "`idA                                 =` {functor-identity}  \n",
    "`pure id`  \n",
    "&#9633;\n",
    "\n",
    "`(f >>> f') <* (g' . g)                                        =` {definition of `(<*)`}  \n",
    "`first (f >>> f') >>> pure (id x (g' . g))                     =` {idempotency of *id*}  \n",
    "`first (f >>> f') >>> pure ((id . id) x (g' . g))              =` {(x) is a functor in two arguments.}  \n",
    "`first (f >>> f') >>> pure ((id x g') . (id x g))              =` {functor-composition}  \n",
    "`first (f >>> f') >>> pure (id x g) >>> pure (id x g')         =` {functor}  \n",
    "`first f >>> first f' >>> pure (id x g) >>> pure (id x g')     =` {exchange}  \n",
    "`first f >>> pure (id x g) >>> first f' >>> pure (id x g')     =` {association?}  \n",
    "`(first f >>> pure (id x g)) >>> (first f' >>> pure (id x g')) =` {definition of `(<*)`}  \n",
    "`(f <* g) >>> (f' <* g')`  \n",
    "&#9633;\n"
   ]
  },
  {
   "cell_type": "markdown",
   "metadata": {},
   "source": [
    "<a href=\"#contents\">Back to Contents</a>"
   ]
  },
  {
   "cell_type": "markdown",
   "metadata": {},
   "source": [
    "## Exercise 5 <a name=\"ex5\"/>\n",
    "\n",
    "Verify the *ArrowApply* axioms for pure functions. \n",
    "\n",
    "To show:\n",
    "\n",
    "```\n",
    "pure ((⋙ h) × id) ⋙ app = app ⋙ h\n",
    "pure (mkPair × id) ⋙ app = pure id\n",
    "mkPair f           ⋙ app = f\n",
    "\n",
    "mkPair :: Arrow α ⇒ β → α γ (β, γ)\n",
    "mkPair b = pure (λc → (b, c))\n",
    "```\n",
    "\n",
    "Given:\n",
    "\n",
    "```\n",
    "instance Arrow (→) where  \n",
    "  pure f  = f  \n",
    "  f ⋙ g  = g · f  \n",
    "  first f = f × id\n",
    "\n",
    "instance ArrowApply (→) where\n",
    "  app  ̃(f, c) = f c\n",
    "```\n",
    "\n",
    "We have:\n",
    "\n",
    "`pure ((⋙ h) × id) ⋙ app              =` {definitions of *pure* and (&#8921;), for (→)}  \n",
    "`app . ((⋙ h) × id)                   =` {definitions of *app* and (&#8921;), for (→)}  \n",
    "`(λ(f, c) → f c) . ((λg → h . g) × id) =` {definitions of composition and application}  \n",
    "`λ(f', a) → (h . f') a                 =` {definition of composition}  \n",
    "`λ(f', a) → h (f' a)                   =` {(Not sure how to justify this step.)}  \n",
    "`h . (λ(f', a) → f' a)                 =` {definitions of *app* and (&#8921;), for (→)}  \n",
    "`app ⋙ h`  \n",
    "&#9633;\n",
    "\n",
    "`pure (mkPair × id) ⋙ app      =` {definitions of *pure* and (&#8921;), for (→)}   \n",
    "`app . (mkPair × id)            =` {definitions of (×), *mkPair*, and *id*}  \n",
    "`λ(b, d) → app (λc → (b, c), d) =` {definition of *app* for (→)}  \n",
    "`λ(b, d) → (b, d)               =` {definition of *id*}  \n",
    "`id                             =` {definition of *pure* for (→)}  \n",
    "`pure id`  \n",
    "&#9633;\n",
    "\n",
    "`mkPair f ⋙ app     =` {definition of (⋙), for (→)}  \n",
    "`app . mkPair f      =` {definition of *mkPair*}  \n",
    "`app . (λx → (f, x)) =` {(reverse of unsure step, above.}  \n",
    "`λx → app (f, x)     =` {definition of *app*, for (→)}  \n",
    "`λx → f x            =` {beta (eta?) reduction}\n",
    "`f`  \n",
    "&#9633;\n"
   ]
  },
  {
   "cell_type": "markdown",
   "metadata": {},
   "source": [
    "<a href=\"#contents\">Back to Contents</a>"
   ]
  },
  {
   "cell_type": "code",
   "execution_count": null,
   "metadata": {
    "collapsed": true
   },
   "outputs": [],
   "source": []
  }
 ],
 "metadata": {
  "kernelspec": {
   "display_name": "Haskell",
   "language": "haskell",
   "name": "haskell"
  },
  "language_info": {
   "codemirror_mode": "ihaskell",
   "file_extension": ".hs",
   "name": "haskell",
   "version": "7.10.3"
  }
 },
 "nbformat": 4,
 "nbformat_minor": 0
}
