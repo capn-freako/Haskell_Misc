{
 "cells": [
  {
   "cell_type": "markdown",
   "metadata": {},
   "source": [
    "# Cap'n Freako's Solutions to 20 Intermediate Exercises\n",
    "\n",
    "This IHaskell notebook contains my solutions to [20 intermediate exercies](https://www.fpcomplete.com/user/DanBurton/20-intermediate-exercises) by Dan Burton.\n",
    "\n",
    "David Banas <capn.freako@gmail.com>  \n",
    "Created: December 25, 2015\n",
    "\n",
    "## Instructions (from Dan's page)\n",
    "Fill in the blanks (which are marked error \"todo\") with a nontrivial implementation that typechecks. I recommend that you use the run button after implementing each one to make sure that it still typechecks. Let the types guide you! If you have trouble implementing a typeclass method, then try writing out the specialized type that it should have. For example, furry imlpemented for [] should have the type (a -> b) -> [a] -> [b]."
   ]
  },
  {
   "cell_type": "code",
   "execution_count": 1,
   "metadata": {
    "collapsed": false
   },
   "outputs": [
    {
     "data": {
      "text/plain": [
       "Notebook last run:"
      ]
     },
     "metadata": {},
     "output_type": "display_data"
    },
    {
     "data": {
      "text/plain": [
       "2015-12-27 17:13:50.11655 UTC"
      ]
     },
     "metadata": {},
     "output_type": "display_data"
    }
   ],
   "source": [
    "import Data.Time\n",
    "\n",
    "putStrLn \"Notebook last run:\"\n",
    "getCurrentTime"
   ]
  },
  {
   "cell_type": "code",
   "execution_count": 2,
   "metadata": {
    "collapsed": false
   },
   "outputs": [],
   "source": [
    "class Fluffy f where\n",
    "  furry :: (a -> b) -> f a -> f b\n",
    "\n",
    "-- Exercise 1\n",
    "-- Relative Difficulty: 1\n",
    "instance Fluffy [] where\n",
    "  furry = map\n",
    "\n",
    "-- Exercise 2\n",
    "-- Relative Difficulty: 1\n",
    "instance Fluffy Maybe where\n",
    "  furry = fmap\n",
    "\n",
    "-- Exercise 3\n",
    "-- Relative Difficulty: 5\n",
    "instance Fluffy ((->) t) where\n",
    "  -- furry :: (a -> b) -> (c -> a) -> (c -> b)\n",
    "  -- furry g h = g . h\n",
    "  furry = (.)\n",
    "\n",
    "newtype EitherLeft b a = EitherLeft (Either a b)\n",
    "newtype EitherRight a b = EitherRight (Either a b)\n",
    "\n",
    "-- Exercise 4\n",
    "-- Relative Difficulty: 5\n",
    "instance Fluffy (EitherLeft t) where\n",
    "  -- furry :: (t -> u) -> EitherLeft t v -> EitherLeft u v\n",
    "  furry g (EitherLeft (Left x)) = EitherLeft (Left (g x))\n",
    "  furry g (EitherLeft (Right y)) = EitherLeft (Right y)\n",
    "\n",
    "-- Exercise 5\n",
    "-- Relative Difficulty: 5\n",
    "instance Fluffy (EitherRight t) where\n",
    "  furry g (EitherRight (Left x)) = EitherRight (Left x)\n",
    "  furry g (EitherRight (Right y)) = EitherRight (Right (g y))\n"
   ]
  },
  {
   "cell_type": "code",
   "execution_count": 3,
   "metadata": {
    "collapsed": false
   },
   "outputs": [],
   "source": [
    "class Misty m where\n",
    "  banana :: (a -> m b) -> m a -> m b\n",
    "  unicorn :: a -> m a\n",
    "\n",
    "-- Exercise 7\n",
    "-- Relative Difficulty: 2\n",
    "instance Misty [] where\n",
    "  -- banana :: (a -> [b]) -> [a] -> [b]\n",
    "  -- banana g xs = concat $ map g xs\n",
    "  -- banana g = concat . (map g)\n",
    "  banana = \\ g -> concat . (map g)\n",
    "  -- unicorn :: a -> [a]\n",
    "  -- unicorn x = [x]\n",
    "  unicorn = (: [])\n",
    "\n",
    "-- Exercise 8\n",
    "-- Relative Difficulty: 2\n",
    "instance Misty Maybe where\n",
    "  -- banana :: (a -> Maybe b) -> Maybe a -> Maybe b\n",
    "  banana g Nothing = Nothing\n",
    "  banana g (Just x) = g x\n",
    "  -- banana = \\ g -> join . (fmap g) ?\n",
    "  -- unicorn :: a -> Maybe a\n",
    "  -- unicorn x = Just x\n",
    "  unicorn = Just\n",
    "\n",
    "-- Exercise 9\n",
    "-- Relative Difficulty: 6\n",
    "instance Misty ((->) t) where\n",
    "  -- banana :: (a -> (t -> b)) -> (t -> a) -> (t -> b)\n",
    "  banana g h = \\ x -> g (h x) x\n",
    "  -- unicorn :: a -> (t -> a)\n",
    "  -- unicorn x = const x\n",
    "  unicorn = const\n",
    "\n",
    "newtype EitherLeft b a  = EitherLeft (Either a b)\n",
    "newtype EitherRight a b = EitherRight (Either a b)\n",
    "\n",
    "-- Exercise 10\n",
    "-- Relative Difficulty: 6\n",
    "instance Misty (EitherLeft t) where\n",
    "  -- banana :: (a -> EitherLeft t b) -> EitherLeft t a -> EitherLeft t b\n",
    "  banana g (EitherLeft (Left a))  = g a\n",
    "  banana _ (EitherLeft (Right t)) = EitherLeft (Right t)\n",
    "  -- unicorn :: a -> EitherLeft t a\n",
    "  unicorn x = EitherLeft (Left x)\n",
    "\n",
    "-- Exercise 11\n",
    "-- Relative Difficulty: 6\n",
    "instance Misty (EitherRight t) where\n",
    "  -- banana :: (a -> EitherRight t b) -> EitherRight t a -> EitherRight t b\n",
    "  banana g (EitherRight (Right a)) = g a\n",
    "  banana _ (EitherRight (Left t))  = EitherRight (Left t)\n",
    "  -- unicorn :: a -> EitherLeft t a\n",
    "  unicorn x = EitherRight (Right x)\n"
   ]
  },
  {
   "cell_type": "code",
   "execution_count": 4,
   "metadata": {
    "collapsed": false
   },
   "outputs": [],
   "source": [
    "-- Exercise 6\n",
    "-- Relative Difficulty: 3\n",
    "-- (use banana and/or unicorn)\n",
    "furry' :: (Misty m) => (a -> b) -> m a -> m b\n",
    "-- furry' g m = banana (unicorn . g) m\n",
    "furry' g = banana (unicorn . g)\n",
    "\n",
    "-- Exercise 12\n",
    "-- Relative Difficulty: 3\n",
    "jellybean :: (Misty m) => m (m a) -> m a\n",
    "-- jellybean mm = banana id mm\n",
    "jellybean = banana id\n",
    "\n",
    "-- Exercise 13\n",
    "-- Relative Difficulty: 6\n",
    "apple :: (Misty m) => m a -> m (a -> b) -> m b\n",
    "-- apple mx mf = banana (\\x -> banana (\\g -> unicorn (g x)) mf) mx\n",
    "-- apple mx = \\mf -> banana (\\x -> banana (\\g -> unicorn (g x)) mf) mx\n",
    "apple = flip (\\mf -> banana (\\x -> banana (\\g -> unicorn (g x)) mf))\n",
    "\n",
    "-- Exercise 14\n",
    "-- Relative Difficulty: 6\n",
    "moppy :: (Misty m) => [a] -> (a -> m b) -> m [b]\n",
    "-- moppy xs g = foldl (\\m x -> banana (\\ys -> (banana (\\y -> unicorn (ys ++ [y])) (g x))) m) (unicorn []) xs\n",
    "moppy = flip moppy'\n",
    " where moppy' g = foldl (\\m x -> banana (\\ys -> (banana (\\y -> unicorn (ys ++ [y])) (g x))) m) (unicorn [])\n",
    "\n",
    "-- Exercise 15\n",
    "-- Relative Difficulty: 6\n",
    "-- (bonus: use moppy)\n",
    "sausage :: (Misty m) => [m a] -> m [a]\n",
    "-- sausage ms = moppy ms id\n",
    "sausage = flip moppy id\n",
    "\n",
    "-- Exercise 16\n",
    "-- Relative Difficulty: 6\n",
    "-- (bonus: use apple + furry')\n",
    "banana2 :: (Misty m) => (a -> b -> c) -> m a -> m b -> m c\n",
    "-- banana2 g ma mb = apple mb (furry' g ma)\n",
    "-- banana2 g ma = flip apple (furry' g ma)\n",
    "banana2 g = flip apple . furry' g\n",
    "\n",
    "-- Exercise 17\n",
    "-- Relative Difficulty: 6\n",
    "-- (bonus: use apple + banana2)\n",
    "banana3 :: (Misty m) => (a -> b -> c -> d) -> m a -> m b -> m c -> m d\n",
    "banana3 g ma = flip apple . banana2 g ma\n",
    "\n",
    "-- Exercise 18\n",
    "-- Relative Difficulty: 6\n",
    "-- (bonus: use apple + banana3)\n",
    "banana4 :: (Misty m) => (a -> b -> c -> d -> e) -> m a -> m b -> m c -> m d -> m e\n",
    "banana4 g ma mb = flip apple . banana3 g ma mb\n"
   ]
  },
  {
   "cell_type": "code",
   "execution_count": 5,
   "metadata": {
    "collapsed": false
   },
   "outputs": [],
   "source": [
    "newtype State s a = State {\n",
    "  state :: (s -> (s, a))\n",
    " }\n",
    "\n",
    "-- Exercise 19\n",
    "-- Relative Difficulty: 9\n",
    "instance Fluffy (State s) where\n",
    "  -- furry :: (a -> b) -> State s a -> State s b\n",
    "  furry g (State h) = State (second g . h)\n",
    "\n",
    "second :: (b -> c) -> (a, b) -> (a, c)\n",
    "second g p = (fst p, g . snd $ p)\n",
    "\n",
    "-- Exercise 20\n",
    "-- Relative Difficulty: 10\n",
    "instance Misty (State s) where\n",
    "  -- banana :: (a -> State s b) -> State s a -> State s b\n",
    "  -- state sa :: s -> (s, a)\n",
    "  -- state . g . snd :: (a2, a1) -> s -> (s, a)\n",
    "  -- furry (state . g . snd) (state sa) :: a1 -> s -> (s, a)\n",
    "  -- jellybean (furry (state . g . snd) (state sa)) :: s -> (s, a)\n",
    "  banana g sa = State (jellybean (furry (state . g . snd) (state sa)))\n",
    "\n",
    "  -- unicorn :: a -> State s a\n",
    "  unicorn x = State (\\s -> (s, x))\n",
    "  "
   ]
  }
 ],
 "metadata": {
  "kernelspec": {
   "display_name": "Haskell",
   "language": "haskell",
   "name": "haskell"
  },
  "language_info": {
   "codemirror_mode": "ihaskell",
   "file_extension": ".hs",
   "name": "haskell",
   "version": "8.0.2"
  }
 },
 "nbformat": 4,
 "nbformat_minor": 0
}
