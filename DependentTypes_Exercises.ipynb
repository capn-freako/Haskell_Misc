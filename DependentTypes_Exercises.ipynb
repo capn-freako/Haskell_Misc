{
 "cells": [
  {
   "cell_type": "markdown",
   "metadata": {
    "toc": true
   },
   "source": [
    "<h1>Table of Contents<span class=\"tocSkip\"></span></h1>\n",
    "<div class=\"toc\" style=\"margin-top: 1em;\"><ul class=\"toc-item\"><li><span><a href=\"#Language-Pragmas,-Imports,-and-Base-Type-Definitions\" data-toc-modified-id=\"Language-Pragmas,-Imports,-and-Base-Type-Definitions-1\"><span class=\"toc-item-num\">1&nbsp;&nbsp;</span>Language Pragmas, Imports, and Base Type Definitions</a></span></li><li><span><a href=\"#Popping-off-the-input-layer\" data-toc-modified-id=\"Popping-off-the-input-layer-2\"><span class=\"toc-item-num\">2&nbsp;&nbsp;</span>Popping off the input layer</a></span></li><li><span><a href=\"#Point-by-point-Addition-of-Two-Networks\" data-toc-modified-id=\"Point-by-point-Addition-of-Two-Networks-3\"><span class=\"toc-item-num\">3&nbsp;&nbsp;</span>Point-by-point Addition of Two Networks</a></span></li><li><span><a href=\"#Return-hidden-layer-structure.\" data-toc-modified-id=\"Return-hidden-layer-structure.-4\"><span class=\"toc-item-num\">4&nbsp;&nbsp;</span>Return hidden layer structure.</a></span></li></ul></div>"
   ]
  },
  {
   "cell_type": "markdown",
   "metadata": {},
   "source": [
    "<h1>Practical Dependent Types in Haskell: Type-Safe Neural Networks (Part 1) - Exercises<span class=\"tocSkip\"></span></h1>\n",
    "\n",
    "This [IHaskell](https://github.com/gibiansky/ihaskell/wiki) [Jupyter](http://jupyter.org) notebook contains my attempts at the exercises posed at the end of [Practical Dependent Types in Haskell: Type-Safe Neural Networks (Part 1)](https://blog.jle.im/entry/practical-dependent-types-in-haskell-1.html#fnref2) by Justin Le.\n",
    "\n",
    "Original author: David Banas <capn.freako@gmail.com>  \n",
    "Original date: January 10, 2018\n",
    "\n",
    "Copyright &copy; 2018 David Banas; all rights reserved World wide."
   ]
  },
  {
   "cell_type": "markdown",
   "metadata": {
    "ExecuteTime": {
     "end_time": "2018-01-11T16:07:46.187900Z",
     "start_time": "2018-01-12T00:07:46.162Z"
    }
   },
   "source": [
    "# Language Pragmas, Imports, and Base Type Definitions"
   ]
  },
  {
   "cell_type": "code",
   "execution_count": 1,
   "metadata": {
    "ExecuteTime": {
     "end_time": "2018-01-13T15:54:10.693224Z",
     "start_time": "2018-01-13T23:54:07.994Z"
    },
    "collapsed": false
   },
   "outputs": [],
   "source": [
    "{-# LANGUAGE AllowAmbiguousTypes #-}\n",
    "{-# LANGUAGE DataKinds #-}\n",
    "{-# LANGUAGE ExplicitForAll #-}\n",
    "{-# LANGUAGE GADTs #-}\n",
    "{-# LANGUAGE KindSignatures #-}\n",
    "{-# LANGUAGE LambdaCase #-}\n",
    "{-# LANGUAGE ScopedTypeVariables #-}\n",
    "{-# LANGUAGE TypeOperators #-}\n",
    "\n",
    "import Control.Monad.Random\n",
    "import Data.Singletons.Prelude\n",
    "import Data.Singletons.TypeLits\n",
    "import GHC.TypeLits\n",
    "import Numeric.LinearAlgebra.Static\n",
    "\n",
    "data Weights i o = W { wBiases :: !(R o)\n",
    "                     , wNodes  :: !(L o i)\n",
    "                     }                      -- an \"o x i\" layer\n",
    "                     \n",
    "data Network :: Nat -> [Nat] -> Nat -> * where\n",
    "    O     :: !(Weights i o)\n",
    "          -> Network i '[] o\n",
    "    (:&~) :: KnownNat h\n",
    "          => !(Weights i h)\n",
    "          -> !(Network h hs o)\n",
    "          -> Network i (h ': hs) o\n",
    "infixr 5 :&~\n",
    "\n",
    "randomWeights :: (MonadRandom m, KnownNat i, KnownNat o)\n",
    "              => m (Weights i o)\n",
    "randomWeights = do\n",
    "    s1 :: Int <- getRandom\n",
    "    s2 :: Int <- getRandom\n",
    "    let wB = randomVector  s1 Uniform * 2 - 1\n",
    "        wN = uniformSample s2 (-1) 1\n",
    "    return $ W wB wN\n",
    "    \n",
    "randomNet :: forall m i hs o. (MonadRandom m, KnownNat i, SingI hs, KnownNat o)\n",
    "          => m (Network i hs o)\n",
    "randomNet = go sing\n",
    "  where\n",
    "    go :: forall h hs'. KnownNat h\n",
    "       => Sing hs'\n",
    "       -> m (Network h hs' o)\n",
    "    go = \\case\n",
    "        SNil            ->     O <$> randomWeights\n",
    "        SNat `SCons` ss -> (:&~) <$> randomWeights <*> go ss"
   ]
  },
  {
   "cell_type": "markdown",
   "metadata": {},
   "source": [
    "# Popping off the input layer\n",
    "\n",
    "Write a function that “pops” the input layer off of a Network, returning both the input layer’s weights and the rest of the network, (`Weights i h`, `Network h hs o`)."
   ]
  },
  {
   "cell_type": "code",
   "execution_count": 2,
   "metadata": {
    "ExecuteTime": {
     "end_time": "2018-01-13T15:54:10.873463Z",
     "start_time": "2018-01-13T23:54:08.107Z"
    },
    "collapsed": false
   },
   "outputs": [],
   "source": [
    "pop :: (KnownNat i, KnownNat o, KnownNat h) => Network  i (h ': hs) o -> (Weights i h, Network h hs o)\n",
    "pop (w :&~ n) = (w, n)"
   ]
  },
  {
   "cell_type": "markdown",
   "metadata": {},
   "source": [
    "_Think about what its type would have to be. Could it possibly be called with a network that cannot be popped? (that is, that has only one layer?)_\n",
    "\n",
    "No, because the `(':)` in the type signature would cause an error to be flagged at compile time.\n",
    "\n",
    "Let's confirm this..."
   ]
  },
  {
   "cell_type": "code",
   "execution_count": 3,
   "metadata": {
    "ExecuteTime": {
     "end_time": "2018-01-13T15:54:10.914039Z",
     "start_time": "2018-01-13T23:54:08.278Z"
    },
    "collapsed": false
   },
   "outputs": [
    {
     "data": {
      "text/html": [
       "<style>/* Styles used for the Hoogle display in the pager */\n",
       ".hoogle-doc {\n",
       "display: block;\n",
       "padding-bottom: 1.3em;\n",
       "padding-left: 0.4em;\n",
       "}\n",
       ".hoogle-code {\n",
       "display: block;\n",
       "font-family: monospace;\n",
       "white-space: pre;\n",
       "}\n",
       ".hoogle-text {\n",
       "display: block;\n",
       "}\n",
       ".hoogle-name {\n",
       "color: green;\n",
       "font-weight: bold;\n",
       "}\n",
       ".hoogle-head {\n",
       "font-weight: bold;\n",
       "}\n",
       ".hoogle-sub {\n",
       "display: block;\n",
       "margin-left: 0.4em;\n",
       "}\n",
       ".hoogle-package {\n",
       "font-weight: bold;\n",
       "font-style: italic;\n",
       "}\n",
       ".hoogle-module {\n",
       "font-weight: bold;\n",
       "}\n",
       ".hoogle-class {\n",
       "font-weight: bold;\n",
       "}\n",
       ".get-type {\n",
       "color: green;\n",
       "font-weight: bold;\n",
       "font-family: monospace;\n",
       "display: block;\n",
       "white-space: pre-wrap;\n",
       "}\n",
       ".show-type {\n",
       "color: green;\n",
       "font-weight: bold;\n",
       "font-family: monospace;\n",
       "margin-left: 1em;\n",
       "}\n",
       ".mono {\n",
       "font-family: monospace;\n",
       "display: block;\n",
       "}\n",
       ".err-msg {\n",
       "color: red;\n",
       "font-style: italic;\n",
       "font-family: monospace;\n",
       "white-space: pre;\n",
       "display: block;\n",
       "}\n",
       "#unshowable {\n",
       "color: red;\n",
       "font-weight: bold;\n",
       "}\n",
       ".err-msg.in.collapse {\n",
       "padding-top: 0.7em;\n",
       "}\n",
       ".highlight-code {\n",
       "white-space: pre;\n",
       "font-family: monospace;\n",
       "}\n",
       ".suggestion-warning { \n",
       "font-weight: bold;\n",
       "color: rgb(200, 130, 0);\n",
       "}\n",
       ".suggestion-error { \n",
       "font-weight: bold;\n",
       "color: red;\n",
       "}\n",
       ".suggestion-name {\n",
       "font-weight: bold;\n",
       "}\n",
       "</style><span class='err-msg'>&lt;interactive&gt;:4:18: error:<br/>    • Couldn't match type ‘'[]’ with ‘h : hs’<br/>      Expected type: Network 3 (h : hs) 1<br/>        Actual type: Network 3 '[] 1<br/>    • In the second argument of ‘(<span>&dollar;</span>)’, namely ‘O w2’<br/>      In the expression: pop <span>&dollar;</span> O w2<br/>      In an equation for ‘r1’: r1 = pop <span>&dollar;</span> O w2<br/>    • Relevant bindings include<br/>        r1 :: (Weights 3 h, Network h hs 1) (bound at &lt;interactive&gt;:4:7)<br/>        r :: m (Weights 3 h, Network h hs 1) (bound at &lt;interactive&gt;:1:1)</span>"
      ],
      "text/plain": [
       "<interactive>:4:18: error:\n",
       "    • Couldn't match type ‘'[]’ with ‘h : hs’\n",
       "      Expected type: Network 3 (h : hs) 1\n",
       "        Actual type: Network 3 '[] 1\n",
       "    • In the second argument of ‘($)’, namely ‘O w2’\n",
       "      In the expression: pop $ O w2\n",
       "      In an equation for ‘r1’: r1 = pop $ O w2\n",
       "    • Relevant bindings include\n",
       "        r1 :: (Weights 3 h, Network h hs 1) (bound at <interactive>:4:7)\n",
       "        r :: m (Weights 3 h, Network h hs 1) (bound at <interactive>:1:1)"
      ]
     },
     "metadata": {},
     "output_type": "display_data"
    }
   ],
   "source": [
    "r = do\n",
    "  (w1 :: Weights 5 3) <- randomWeights\n",
    "  (w2 :: Weights 3 1) <- randomWeights\n",
    "  let r1 = pop $ O w2\n",
    "  return r1"
   ]
  },
  {
   "cell_type": "markdown",
   "metadata": {},
   "source": [
    "Okay, good, our error was caught at compile time as expected.\n",
    "Now, let's make sure a correct case goes through..."
   ]
  },
  {
   "cell_type": "code",
   "execution_count": 4,
   "metadata": {
    "ExecuteTime": {
     "end_time": "2018-01-13T15:54:11.076595Z",
     "start_time": "2018-01-13T23:54:08.495Z"
    },
    "collapsed": false
   },
   "outputs": [],
   "source": [
    "r = do\n",
    "  (w1 :: Weights 5 3) <- randomWeights\n",
    "  (w2 :: Weights 3 1) <- randomWeights\n",
    "  let r1 = pop $ w1 :&~ O w2\n",
    "  return r1"
   ]
  },
  {
   "cell_type": "markdown",
   "metadata": {},
   "source": [
    "Okay, looks good."
   ]
  },
  {
   "cell_type": "markdown",
   "metadata": {},
   "source": [
    "# Point-by-point Addition of Two Networks\n",
    "\n",
    "Write a function that takes two networks of the same dimensions and adds together their weights. Remember that L m n has a Num instance that adds the matrices together element-by-element."
   ]
  },
  {
   "cell_type": "code",
   "execution_count": 5,
   "metadata": {
    "ExecuteTime": {
     "end_time": "2018-01-13T15:54:11.255944Z",
     "start_time": "2018-01-13T23:54:08.781Z"
    },
    "collapsed": false
   },
   "outputs": [],
   "source": [
    "addW :: (KnownNat i, KnownNat o)\n",
    "     => Weights i o\n",
    "     -> Weights i o\n",
    "     -> Weights i o\n",
    "addW (W b1 w1) (W b2 w2) = W (b1 + b2) (w1 + w2)\n",
    "\n",
    "addN :: (KnownNat i, KnownNat o)\n",
    "     => Network  i hs o\n",
    "     -> Network  i hs o\n",
    "     -> Network  i hs o\n",
    "addN (O w1) (O w2) = O (addW w1 w2)\n",
    "addN (w1 :&~ n1) (w2 :&~ n2) = addW w1 w2 :&~ addN n1 n2\n"
   ]
  },
  {
   "cell_type": "markdown",
   "metadata": {},
   "source": [
    "_Could this function ever be accidentally called on two networks that have different internal structures?_\n",
    "\n",
    "I don't think so, since the `i` and `o` are shared by the two arguments in the type signature, but let's confirm..."
   ]
  },
  {
   "cell_type": "code",
   "execution_count": 6,
   "metadata": {
    "ExecuteTime": {
     "end_time": "2018-01-13T15:54:11.284888Z",
     "start_time": "2018-01-13T23:54:08.951Z"
    },
    "collapsed": false
   },
   "outputs": [
    {
     "data": {
      "text/html": [
       "<style>/* Styles used for the Hoogle display in the pager */\n",
       ".hoogle-doc {\n",
       "display: block;\n",
       "padding-bottom: 1.3em;\n",
       "padding-left: 0.4em;\n",
       "}\n",
       ".hoogle-code {\n",
       "display: block;\n",
       "font-family: monospace;\n",
       "white-space: pre;\n",
       "}\n",
       ".hoogle-text {\n",
       "display: block;\n",
       "}\n",
       ".hoogle-name {\n",
       "color: green;\n",
       "font-weight: bold;\n",
       "}\n",
       ".hoogle-head {\n",
       "font-weight: bold;\n",
       "}\n",
       ".hoogle-sub {\n",
       "display: block;\n",
       "margin-left: 0.4em;\n",
       "}\n",
       ".hoogle-package {\n",
       "font-weight: bold;\n",
       "font-style: italic;\n",
       "}\n",
       ".hoogle-module {\n",
       "font-weight: bold;\n",
       "}\n",
       ".hoogle-class {\n",
       "font-weight: bold;\n",
       "}\n",
       ".get-type {\n",
       "color: green;\n",
       "font-weight: bold;\n",
       "font-family: monospace;\n",
       "display: block;\n",
       "white-space: pre-wrap;\n",
       "}\n",
       ".show-type {\n",
       "color: green;\n",
       "font-weight: bold;\n",
       "font-family: monospace;\n",
       "margin-left: 1em;\n",
       "}\n",
       ".mono {\n",
       "font-family: monospace;\n",
       "display: block;\n",
       "}\n",
       ".err-msg {\n",
       "color: red;\n",
       "font-style: italic;\n",
       "font-family: monospace;\n",
       "white-space: pre;\n",
       "display: block;\n",
       "}\n",
       "#unshowable {\n",
       "color: red;\n",
       "font-weight: bold;\n",
       "}\n",
       ".err-msg.in.collapse {\n",
       "padding-top: 0.7em;\n",
       "}\n",
       ".highlight-code {\n",
       "white-space: pre;\n",
       "font-family: monospace;\n",
       "}\n",
       ".suggestion-warning { \n",
       "font-weight: bold;\n",
       "color: rgb(200, 130, 0);\n",
       "}\n",
       ".suggestion-error { \n",
       "font-weight: bold;\n",
       "color: red;\n",
       "}\n",
       ".suggestion-name {\n",
       "font-weight: bold;\n",
       "}\n",
       "</style><span class='err-msg'>&lt;interactive&gt;:4:32: error:<br/>    • Couldn't match type ‘'[]’ with ‘'[3]’<br/>      Expected type: Network 5 '[3] 1<br/>        Actual type: Network 5 '[] 3<br/>    • In the second argument of ‘addN’, namely ‘(O w1)’<br/>      In the expression: addN (w1 :&amp;~ O w2) (O w1)<br/>      In an equation for ‘r1’: r1 = addN (w1 :&amp;~ O w2) (O w1)</span>"
      ],
      "text/plain": [
       "<interactive>:4:32: error:\n",
       "    • Couldn't match type ‘'[]’ with ‘'[3]’\n",
       "      Expected type: Network 5 '[3] 1\n",
       "        Actual type: Network 5 '[] 3\n",
       "    • In the second argument of ‘addN’, namely ‘(O w1)’\n",
       "      In the expression: addN (w1 :&~ O w2) (O w1)\n",
       "      In an equation for ‘r1’: r1 = addN (w1 :&~ O w2) (O w1)"
      ]
     },
     "metadata": {},
     "output_type": "display_data"
    }
   ],
   "source": [
    "-- Test different network depths.\n",
    "r = do\n",
    "  (w1 :: Weights 5 3) <- randomWeights\n",
    "  (w2 :: Weights 3 1) <- randomWeights\n",
    "  let r1 = addN (w1 :&~ O w2) (O w1)\n",
    "  return r1"
   ]
  },
  {
   "cell_type": "markdown",
   "metadata": {},
   "source": [
    "Good, we expected failure."
   ]
  },
  {
   "cell_type": "code",
   "execution_count": 7,
   "metadata": {
    "ExecuteTime": {
     "end_time": "2018-01-13T15:54:11.307854Z",
     "start_time": "2018-01-13T23:54:09.121Z"
    },
    "collapsed": false
   },
   "outputs": [
    {
     "data": {
      "text/html": [
       "<style>/* Styles used for the Hoogle display in the pager */\n",
       ".hoogle-doc {\n",
       "display: block;\n",
       "padding-bottom: 1.3em;\n",
       "padding-left: 0.4em;\n",
       "}\n",
       ".hoogle-code {\n",
       "display: block;\n",
       "font-family: monospace;\n",
       "white-space: pre;\n",
       "}\n",
       ".hoogle-text {\n",
       "display: block;\n",
       "}\n",
       ".hoogle-name {\n",
       "color: green;\n",
       "font-weight: bold;\n",
       "}\n",
       ".hoogle-head {\n",
       "font-weight: bold;\n",
       "}\n",
       ".hoogle-sub {\n",
       "display: block;\n",
       "margin-left: 0.4em;\n",
       "}\n",
       ".hoogle-package {\n",
       "font-weight: bold;\n",
       "font-style: italic;\n",
       "}\n",
       ".hoogle-module {\n",
       "font-weight: bold;\n",
       "}\n",
       ".hoogle-class {\n",
       "font-weight: bold;\n",
       "}\n",
       ".get-type {\n",
       "color: green;\n",
       "font-weight: bold;\n",
       "font-family: monospace;\n",
       "display: block;\n",
       "white-space: pre-wrap;\n",
       "}\n",
       ".show-type {\n",
       "color: green;\n",
       "font-weight: bold;\n",
       "font-family: monospace;\n",
       "margin-left: 1em;\n",
       "}\n",
       ".mono {\n",
       "font-family: monospace;\n",
       "display: block;\n",
       "}\n",
       ".err-msg {\n",
       "color: red;\n",
       "font-style: italic;\n",
       "font-family: monospace;\n",
       "white-space: pre;\n",
       "display: block;\n",
       "}\n",
       "#unshowable {\n",
       "color: red;\n",
       "font-weight: bold;\n",
       "}\n",
       ".err-msg.in.collapse {\n",
       "padding-top: 0.7em;\n",
       "}\n",
       ".highlight-code {\n",
       "white-space: pre;\n",
       "font-family: monospace;\n",
       "}\n",
       ".suggestion-warning { \n",
       "font-weight: bold;\n",
       "color: rgb(200, 130, 0);\n",
       "}\n",
       ".suggestion-error { \n",
       "font-weight: bold;\n",
       "color: red;\n",
       "}\n",
       ".suggestion-name {\n",
       "font-weight: bold;\n",
       "}\n",
       "</style><span class='err-msg'>&lt;interactive&gt;:4:39: error:<br/>    • Couldn't match type ‘5’ with ‘1’<br/>      Expected type: Network 1 '[] 3<br/>        Actual type: Network 5 '[] 3<br/>    • In the second argument of ‘(:&amp;~)’, namely ‘O w1’<br/>      In the second argument of ‘addN’, namely ‘(w2 :&amp;~ O w1)’<br/>      In the expression: addN (w1 :&amp;~ O w2) (w2 :&amp;~ O w1)<br/>&lt;interactive&gt;:4:32: error:<br/>    • Couldn't match type ‘3’ with ‘5’<br/>      Expected type: Network 5 '[3] 1<br/>        Actual type: Network 3 '[1] 3<br/>    • In the second argument of ‘addN’, namely ‘(w2 :&amp;~ O w1)’<br/>      In the expression: addN (w1 :&amp;~ O w2) (w2 :&amp;~ O w1)<br/>      In an equation for ‘r1’: r1 = addN (w1 :&amp;~ O w2) (w2 :&amp;~ O w1)</span>"
      ],
      "text/plain": [
       "<interactive>:4:39: error:\n",
       "    • Couldn't match type ‘5’ with ‘1’\n",
       "      Expected type: Network 1 '[] 3\n",
       "        Actual type: Network 5 '[] 3\n",
       "    • In the second argument of ‘(:&~)’, namely ‘O w1’\n",
       "      In the second argument of ‘addN’, namely ‘(w2 :&~ O w1)’\n",
       "      In the expression: addN (w1 :&~ O w2) (w2 :&~ O w1)\n",
       "<interactive>:4:32: error:\n",
       "    • Couldn't match type ‘3’ with ‘5’\n",
       "      Expected type: Network 5 '[3] 1\n",
       "        Actual type: Network 3 '[1] 3\n",
       "    • In the second argument of ‘addN’, namely ‘(w2 :&~ O w1)’\n",
       "      In the expression: addN (w1 :&~ O w2) (w2 :&~ O w1)\n",
       "      In an equation for ‘r1’: r1 = addN (w1 :&~ O w2) (w2 :&~ O w1)"
      ]
     },
     "metadata": {},
     "output_type": "display_data"
    }
   ],
   "source": [
    "-- Test different network widths.\n",
    "r = do\n",
    "  (w1 :: Weights 5 3) <- randomWeights\n",
    "  (w2 :: Weights 3 1) <- randomWeights\n",
    "  let r1 = addN (w1 :&~ O w2) (w2 :&~ O w1)\n",
    "  return r1"
   ]
  },
  {
   "cell_type": "markdown",
   "metadata": {},
   "source": [
    "Good, we expected failure."
   ]
  },
  {
   "cell_type": "code",
   "execution_count": 8,
   "metadata": {
    "ExecuteTime": {
     "end_time": "2018-01-13T15:54:11.465676Z",
     "start_time": "2018-01-13T23:54:09.287Z"
    },
    "collapsed": false
   },
   "outputs": [],
   "source": [
    "-- Test a correct case.\n",
    "r = do\n",
    "  (w1 :: Weights 5 3) <- randomWeights\n",
    "  (w2 :: Weights 3 1) <- randomWeights\n",
    "  let r1 = addN (w1 :&~ O w2) (w1 :&~ O w2)\n",
    "  return r1"
   ]
  },
  {
   "cell_type": "markdown",
   "metadata": {},
   "source": [
    "Good, we expected success."
   ]
  },
  {
   "cell_type": "markdown",
   "metadata": {},
   "source": [
    "# Return hidden layer structure.\n",
    "\n",
    "Write a function that takes a `Network i hs o` and returns the singleton representing its hidden layer structure — `Sing hs`"
   ]
  },
  {
   "cell_type": "code",
   "execution_count": 12,
   "metadata": {
    "ExecuteTime": {
     "end_time": "2018-01-13T15:56:31.869157Z",
     "start_time": "2018-01-13T23:56:31.698Z"
    },
    "collapsed": false
   },
   "outputs": [
    {
     "data": {
      "text/html": [
       "<style>/* Styles used for the Hoogle display in the pager */\n",
       ".hoogle-doc {\n",
       "display: block;\n",
       "padding-bottom: 1.3em;\n",
       "padding-left: 0.4em;\n",
       "}\n",
       ".hoogle-code {\n",
       "display: block;\n",
       "font-family: monospace;\n",
       "white-space: pre;\n",
       "}\n",
       ".hoogle-text {\n",
       "display: block;\n",
       "}\n",
       ".hoogle-name {\n",
       "color: green;\n",
       "font-weight: bold;\n",
       "}\n",
       ".hoogle-head {\n",
       "font-weight: bold;\n",
       "}\n",
       ".hoogle-sub {\n",
       "display: block;\n",
       "margin-left: 0.4em;\n",
       "}\n",
       ".hoogle-package {\n",
       "font-weight: bold;\n",
       "font-style: italic;\n",
       "}\n",
       ".hoogle-module {\n",
       "font-weight: bold;\n",
       "}\n",
       ".hoogle-class {\n",
       "font-weight: bold;\n",
       "}\n",
       ".get-type {\n",
       "color: green;\n",
       "font-weight: bold;\n",
       "font-family: monospace;\n",
       "display: block;\n",
       "white-space: pre-wrap;\n",
       "}\n",
       ".show-type {\n",
       "color: green;\n",
       "font-weight: bold;\n",
       "font-family: monospace;\n",
       "margin-left: 1em;\n",
       "}\n",
       ".mono {\n",
       "font-family: monospace;\n",
       "display: block;\n",
       "}\n",
       ".err-msg {\n",
       "color: red;\n",
       "font-style: italic;\n",
       "font-family: monospace;\n",
       "white-space: pre;\n",
       "display: block;\n",
       "}\n",
       "#unshowable {\n",
       "color: red;\n",
       "font-weight: bold;\n",
       "}\n",
       ".err-msg.in.collapse {\n",
       "padding-top: 0.7em;\n",
       "}\n",
       ".highlight-code {\n",
       "white-space: pre;\n",
       "font-family: monospace;\n",
       "}\n",
       ".suggestion-warning { \n",
       "font-weight: bold;\n",
       "color: rgb(200, 130, 0);\n",
       "}\n",
       ".suggestion-error { \n",
       "font-weight: bold;\n",
       "color: red;\n",
       "}\n",
       ".suggestion-name {\n",
       "font-weight: bold;\n",
       "}\n",
       "</style><span class='get-type'>r :: forall (m :: * -> *). MonadRandom m => m (Sing '[3])</span>"
      ],
      "text/plain": [
       "r :: forall (m :: * -> *). MonadRandom m => m (Sing '[3])"
      ]
     },
     "metadata": {},
     "output_type": "display_data"
    }
   ],
   "source": [
    "hiddenSing :: (SingI hs) => Network i hs o -> Sing hs\n",
    "hiddenSing (n :: Network i hs o) = sing :: Sing hs\n",
    "\n",
    "r = do\n",
    "  net <- randomNet\n",
    "  return $ hiddenSing (net :: Network 5 '[3] 1)\n",
    "\n",
    ":t r"
   ]
  }
 ],
 "metadata": {
  "kernelspec": {
   "display_name": "Haskell",
   "language": "haskell",
   "name": "haskell"
  },
  "language_info": {
   "codemirror_mode": "ihaskell",
   "file_extension": ".hs",
   "name": "haskell",
   "version": "8.0.2"
  },
  "latex_envs": {
   "LaTeX_envs_menu_present": true,
   "autocomplete": true,
   "bibliofile": "biblio.bib",
   "cite_by": "apalike",
   "current_citInitial": 1,
   "eqLabelWithNumbers": true,
   "eqNumInitial": 1,
   "hotkeys": {
    "equation": "Ctrl-E",
    "itemize": "Ctrl-I"
   },
   "labels_anchors": false,
   "latex_user_defs": false,
   "report_style_numbering": false,
   "user_envs_cfg": false
  },
  "toc": {
   "nav_menu": {},
   "number_sections": true,
   "sideBar": true,
   "skip_h1_title": false,
   "toc_cell": true,
   "toc_position": {},
   "toc_section_display": "block",
   "toc_window_display": true
  }
 },
 "nbformat": 4,
 "nbformat_minor": 2
}
