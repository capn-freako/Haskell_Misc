{
 "cells": [
  {
   "cell_type": "markdown",
   "metadata": {},
   "source": [
    "# Captain Freako's Solutions to *Typeclassopedia* Exercises\n",
    "Original author: David Banas <capn.freako@gmail.com>  \n",
    "Original date: September 25, 2015\n",
    "\n",
    "Copyright (c) 2015 David Banas; all rights reserved World wide.\n",
    "\n",
    "This [jupyter notebook](https://github.com/gibiansky/ihaskell) contains my solutions to some of the exercises posed by [Brent Yorgey](mailto:byorgey@cis.upenn.edu), in his [Typeclassopedia](https://wiki.haskell.org/Typeclassopedia) document."
   ]
  },
  {
   "cell_type": "markdown",
   "metadata": {},
   "source": [
    "## Additional Contributors\n",
    "- Phil Ruffwind <rf@rufflewind.com>\n",
    "- Conal Elliott <conal@conal.net>\n"
   ]
  },
  {
   "cell_type": "markdown",
   "metadata": {},
   "source": [
    "## Contents <a name=\"contents\"/>\n",
    "- <a href=\"#3.2\">Section 3.2 - Functor Instances</a>\n",
    "    - <a href=\"#3.2.1\">Ex. 3.2.1 - Functor instances for Either e and ((->) e)</a>\n",
    "    - <a href=\"#3.2.2\">Ex. 3.2.2 - Functor instances for ((,) e) and Pair</a>\n",
    "    - <a href=\"#3.2.3\">Ex. 3.2.3 - Functor instances for a tree</a>\n",
    "    - <a href=\"#3.2.4\">Ex. 3.2.4 - Non-Functor type of kind: \\* -> \\* </a>\n",
    "    - <a href=\"#3.2.5\">Ex. 3.2.5 - Is the composition of two Functors also a Functor?</a>\n",
    "- <a href=\"#3.3\">Section 3.3 - Functor Laws</a>\n",
    "    - <a href=\"#3.3.1\">Ex. 3.3.1 - Satisfies second Functor law, but not first.</a>\n",
    "    - <a href=\"#3.3.2\">Ex. 3.3.2 - Which laws violated by bad Functor list instance?</a>\n",
    "- <a href=\"#4.2\">Section 4.2 - Applicative Laws</a>\n",
    "    - <a href=\"#4.2.1\">Ex. 4.2.1 - Applying a pure function to an effectful argument.</a>\n",
    "- <a href=\"#4.3\">Section 4.3 - Applicative Instances</a>\n",
    "    - <a href=\"#4.3.1\">Ex. 4.3.1 - Maybe</a>\n",
    "    - <a href=\"#4.3.2\">Ex. 4.3.2 - ZipList</a>\n",
    "- <a href=\"#4.5\">Section 4.5 - Alternative Formulation (Monoidal)</a>\n",
    "    - <a href=\"#4.5.1\">Ex. 4.5.1 - pure and <*>, via unit and (**)</a>\n",
    "    - <a href=\"#4.5.2\">Ex. 4.5.2 - Applicative instances providing inverses of Monoidal functions</a>\n",
    "    - <a href=\"#4.5.3\">Ex. 4.5.3 - Equivalency of Applicative and Monoidal laws</a>\n",
    "- <a href=\"#10.2\">Section 10.2 - *Foldable* - Instances and Examples</a>\n",
    "    - <a href=\"#10.2.1\">Ex. 10.2.1 - Type of 'foldMap . foldMap'?</a>\n",
    "- <a href=\"#10.3\">Section 10.3 - Derived Folds</a>\n",
    "    - <a href=\"#10.3.1\">Ex. 10.3.1 - Implement *toList*.</a>\n",
    "    - <a href=\"#10.3.2\">Ex. 10.3.2 - Implement *concat*, etc.</a>\n",
    "        - <a href=\"#10.3.2.a\">Ex. 10.3.2.a - Implement *concat*.</a>\n",
    "        - <a href=\"#10.3.2.b\">Ex. 10.3.2.b - Implement *concatMap*.</a>\n",
    "        - <a href=\"#10.3.2.c\">Ex. 10.3.2.c - Implement *and*.</a>\n",
    "        - <a href=\"#10.3.2.d\">Ex. 10.3.2.d - Implement *or*.</a>\n",
    "        - <a href=\"#10.3.2.e\">Ex. 10.3.2.e - Implement *any*.</a>\n",
    "        - <a href=\"#10.3.2.f\">Ex. 10.3.2.f - Implement *all*.</a>\n",
    "        - <a href=\"#10.3.2.g\">Ex. 10.3.2.g - Implement *sum*.</a>\n",
    "        - <a href=\"#10.3.2.h\">Ex. 10.3.2.h - Implement *product*.</a>\n",
    "        - <a href=\"#10.3.2.i\">Ex. 10.3.2.i - Implement *maximum*.</a>\n",
    "        - <a href=\"#10.3.2.j\">Ex. 10.3.2.j - Implement *minimum*.</a>\n",
    "        - <a href=\"#10.3.2.k\">Ex. 10.3.2.k - Implement *elem*.</a>\n",
    "        - <a href=\"#10.3.2.l\">Ex. 10.3.2.l - Implement *notElem*.</a>\n",
    "        - <a href=\"#10.3.2.m\">Ex. 10.3.2.m - Implement *find*.</a>\n",
    "- <a href=\"#11.1\">Section 11.1 - Traversable Definition</a>\n",
    "- <a href=\"#11.2\">Section 11.2 - Traversable Intuiition</a>\n",
    "    - <a href=\"#11.2.1\">Ex. 11.2.1 - Tree of list => list of trees.</a>\n",
    "    - <a href=\"#11.2.2\">Ex. 11.2.2 - List of Trees => Tree of lists.</a>\n",
    "    - <a href=\"#11.2.3\">Ex. 11.2.3 - Type of *traverse . traverse*.</a>\n",
    "- <a href=\"#11.3\">Section 11.3 - Traversable Instances and Examples</a>\n",
    "    - <a href=\"#11.3.1\">Ex. 11.3.1 - *fmap* & *foldMap*, via Traversable methods.</a>\n"
   ]
  },
  {
   "cell_type": "code",
   "execution_count": 1,
   "metadata": {
    "collapsed": false
   },
   "outputs": [
    {
     "data": {
      "text/plain": [
       "Notebook last run:"
      ]
     },
     "metadata": {},
     "output_type": "display_data"
    },
    {
     "data": {
      "text/plain": [
       "2016-02-23 03:00:18.120647 UTC"
      ]
     },
     "metadata": {},
     "output_type": "display_data"
    }
   ],
   "source": [
    "import Data.Time\n",
    "\n",
    "putStrLn \"Notebook last run:\"\n",
    "getCurrentTime"
   ]
  },
  {
   "cell_type": "markdown",
   "metadata": {},
   "source": [
    "## Section 3.2 - Functor Instances <a name=\"3.2\"/>"
   ]
  },
  {
   "cell_type": "markdown",
   "metadata": {},
   "source": [
    "### Ex. 3.2.1 - Functor instances for Either e and ((->) e) <a name=\"3.2.1\"/>"
   ]
  },
  {
   "cell_type": "code",
   "execution_count": 2,
   "metadata": {
    "collapsed": false,
    "scrolled": true
   },
   "outputs": [
    {
     "data": {
      "text/plain": [
       "True"
      ]
     },
     "metadata": {},
     "output_type": "display_data"
    },
    {
     "data": {
      "text/plain": [
       "True"
      ]
     },
     "metadata": {},
     "output_type": "display_data"
    },
    {
     "data": {
      "text/plain": [
       "True"
      ]
     },
     "metadata": {},
     "output_type": "display_data"
    }
   ],
   "source": [
    "class MyFunctor f where\n",
    "    fmap' :: (a -> b) -> f a -> f b\n",
    "\n",
    "instance MyFunctor (Either e) where\n",
    "    fmap' g (Left e)  = Left e\n",
    "    fmap' g (Right x) = Right (g x)\n",
    "\n",
    "instance MyFunctor ((->) e) where\n",
    "    -- fmap' g f = g . f\n",
    "    fmap' = (.)\n",
    "\n",
    "-- Testing Functor law on defined instances.\n",
    "func_law x = fmap' id x == id x\n",
    "\n",
    "func_law2 x = fmap' id f x == f x\n",
    "  where\n",
    "    f x = 2 * x\n",
    "\n",
    "func_law (Left \"Error String\")\n",
    "func_law (Right 1)\n",
    "func_law2 (2::Int)\n"
   ]
  },
  {
   "cell_type": "markdown",
   "metadata": {},
   "source": [
    "[Back to Contents](#contents)"
   ]
  },
  {
   "cell_type": "markdown",
   "metadata": {},
   "source": [
    "### Ex. 3.2.2 - Functor instances for ((,) e) and Pair <a name=\"3.2.2\"/>"
   ]
  },
  {
   "cell_type": "code",
   "execution_count": 3,
   "metadata": {
    "collapsed": false
   },
   "outputs": [
    {
     "data": {
      "text/plain": [
       "True"
      ]
     },
     "metadata": {},
     "output_type": "display_data"
    },
    {
     "data": {
      "text/plain": [
       "True"
      ]
     },
     "metadata": {},
     "output_type": "display_data"
    }
   ],
   "source": [
    "instance MyFunctor ((,) e) where\n",
    "    fmap' g (e, a) = (e, g a)\n",
    "\n",
    "data Pair a = Pair a a deriving (Eq, Show)\n",
    "\n",
    "instance MyFunctor Pair where\n",
    "    fmap' g (Pair x y) = Pair (g x) (g y)\n",
    "\n",
    "func_law (\"msg\", 0.1)\n",
    "func_law $ Pair 1 2\n"
   ]
  },
  {
   "cell_type": "markdown",
   "metadata": {},
   "source": [
    "__Discussion, as per exercise instructions:__\n",
    "\n",
    "  -  Similarities:\n",
    "  \n",
    "     - Both types/instances return a pair of values.\n",
    "\n",
    "  -  Differences:\n",
    "  \n",
    "    - The type of the first member of the pair can differ from that\n",
    "      of the second, in the '(,) e' case.\n",
    "      \n",
    "    - The mapped function, g, is only mapped over the second member\n",
    "      of the pair, in the '(,) e' case.\n",
    "      \n",
    "    - The type of the second member of the pair is NOT included in\n",
    "      the Functor instance, for either type, but the type of the\n",
    "      first member IS included, for ((,) e), but NOT for Pair.\n"
   ]
  },
  {
   "cell_type": "markdown",
   "metadata": {},
   "source": [
    "[Back to Contents](#contents)"
   ]
  },
  {
   "cell_type": "markdown",
   "metadata": {},
   "source": [
    "### Ex. 3.2.3 - Functor instance for a tree <a name=\"3.2.3\"/>"
   ]
  },
  {
   "cell_type": "code",
   "execution_count": 4,
   "metadata": {
    "collapsed": false
   },
   "outputs": [
    {
     "data": {
      "text/plain": [
       "True"
      ]
     },
     "metadata": {},
     "output_type": "display_data"
    }
   ],
   "source": [
    "data ITree a = Leaf (Int -> a) \n",
    "             | Node [ITree a]\n",
    "\n",
    "instance Eq a => Eq (ITree a) where\n",
    "    Leaf g == Leaf h = g 0 == h 0\n",
    "    Node xs == Node ys = and (zipWith (==) xs ys)\n",
    "    Leaf _ == Node _ = False\n",
    "    Node _ == Leaf _ = False\n",
    "\n",
    "instance MyFunctor ITree where\n",
    "    fmap' g (Leaf f)   = Leaf (g . f)\n",
    "    fmap' g (Node its) = Node $ map (fmap' g) its\n",
    "\n",
    "-- Test Functor identity law.\n",
    "let f = Node [Leaf id, Leaf id] in\n",
    "  fmap' id f == f\n"
   ]
  },
  {
   "cell_type": "markdown",
   "metadata": {},
   "source": [
    "[Back to Contents](#contents)"
   ]
  },
  {
   "cell_type": "markdown",
   "metadata": {},
   "source": [
    "### Ex. 3.2.4 - Non-Functor type of kind: \\* -> \\* <a name=\"3.2.4\"/>"
   ]
  },
  {
   "cell_type": "code",
   "execution_count": 5,
   "metadata": {
    "collapsed": false
   },
   "outputs": [
    {
     "data": {
      "text/html": [
       "<style>/* Styles used for the Hoogle display in the pager */\n",
       ".hoogle-doc {\n",
       "display: block;\n",
       "padding-bottom: 1.3em;\n",
       "padding-left: 0.4em;\n",
       "}\n",
       ".hoogle-code {\n",
       "display: block;\n",
       "font-family: monospace;\n",
       "white-space: pre;\n",
       "}\n",
       ".hoogle-text {\n",
       "display: block;\n",
       "}\n",
       ".hoogle-name {\n",
       "color: green;\n",
       "font-weight: bold;\n",
       "}\n",
       ".hoogle-head {\n",
       "font-weight: bold;\n",
       "}\n",
       ".hoogle-sub {\n",
       "display: block;\n",
       "margin-left: 0.4em;\n",
       "}\n",
       ".hoogle-package {\n",
       "font-weight: bold;\n",
       "font-style: italic;\n",
       "}\n",
       ".hoogle-module {\n",
       "font-weight: bold;\n",
       "}\n",
       ".hoogle-class {\n",
       "font-weight: bold;\n",
       "}\n",
       ".get-type {\n",
       "color: green;\n",
       "font-weight: bold;\n",
       "font-family: monospace;\n",
       "display: block;\n",
       "white-space: pre-wrap;\n",
       "}\n",
       ".show-type {\n",
       "color: green;\n",
       "font-weight: bold;\n",
       "font-family: monospace;\n",
       "margin-left: 1em;\n",
       "}\n",
       ".mono {\n",
       "font-family: monospace;\n",
       "display: block;\n",
       "}\n",
       ".err-msg {\n",
       "color: red;\n",
       "font-style: italic;\n",
       "font-family: monospace;\n",
       "white-space: pre;\n",
       "display: block;\n",
       "}\n",
       "#unshowable {\n",
       "color: red;\n",
       "font-weight: bold;\n",
       "}\n",
       ".err-msg.in.collapse {\n",
       "padding-top: 0.7em;\n",
       "}\n",
       ".highlight-code {\n",
       "white-space: pre;\n",
       "font-family: monospace;\n",
       "}\n",
       ".suggestion-warning { \n",
       "font-weight: bold;\n",
       "color: rgb(200, 130, 0);\n",
       "}\n",
       ".suggestion-error { \n",
       "font-weight: bold;\n",
       "color: red;\n",
       "}\n",
       ".suggestion-name {\n",
       "font-weight: bold;\n",
       "}\n",
       "</style><span class='err-msg'>Can't make a derived instance of ‘Functor interactive:IHaskell150.NoFunc’: Constructor ‘IHaskell150.NoFunc’ must be truly polymorphic in the last argument of the data type<br/>In the stand-alone deriving instance for ‘Functor (interactive:IHaskell150.NoFunc)’</span>"
      ],
      "text/plain": [
       "Can't make a derived instance of ‘Functor interactive:Ghci150.NoFunc’: Constructor ‘interactive:Ghci150.NoFunc’ must be truly polymorphic in the last argument of the data type\n",
       "In the stand-alone deriving instance for ‘Functor (interactive:Ghci150.NoFunc)’"
      ]
     },
     "metadata": {},
     "output_type": "display_data"
    }
   ],
   "source": [
    "{-# LANGUAGE KindSignatures GADTs StandaloneDeriving DeriveFunctor #-}\n",
    "\n",
    "data NoFunc :: * -> * where\n",
    "    NoFunc :: a -> NoFunc ()\n",
    "\n",
    "deriving instance Functor (NoFunc)\n"
   ]
  },
  {
   "cell_type": "markdown",
   "metadata": {},
   "source": [
    "[Back to Contents](#contents)"
   ]
  },
  {
   "cell_type": "markdown",
   "metadata": {},
   "source": [
    "### Ex. 3.2.5 - Is the composition of two Functors also a Functor? <a name=\"3.2.5\"/>"
   ]
  },
  {
   "cell_type": "code",
   "execution_count": 6,
   "metadata": {
    "collapsed": false
   },
   "outputs": [],
   "source": [
    "-- Yes: The following code compiles without error.\n",
    "data Func1 a = Func1 a deriving (Functor)\n",
    "data Func2 b = Func2 b deriving (Functor)\n",
    "data CompFunc b = CompFunc (Func1 (Func2 b)) deriving (Functor)\n"
   ]
  },
  {
   "cell_type": "markdown",
   "metadata": {},
   "source": [
    "[Back to Contents](#contents)"
   ]
  },
  {
   "cell_type": "markdown",
   "metadata": {},
   "source": [
    "## Section 3.3 - Functor Laws <a name=\"3.3\"/>"
   ]
  },
  {
   "cell_type": "markdown",
   "metadata": {},
   "source": [
    "### Ex. 3.3.1 - Satisfies second Functor law, but not first. <a name=\"3.3.1\"/>\n",
    "I was pointed to the following solution, by Phil Ruffwind <rf@rufflewind.com>:\n",
    "\n",
    "[Stack Overflow Solution](http://stackoverflow.com/questions/13539335/haskell-first-functor-law-from-second/13539433#13539433)\n"
   ]
  },
  {
   "cell_type": "code",
   "execution_count": 7,
   "metadata": {
    "collapsed": false
   },
   "outputs": [
    {
     "data": {
      "text/plain": [
       "False"
      ]
     },
     "metadata": {},
     "output_type": "display_data"
    },
    {
     "data": {
      "text/plain": [
       "True"
      ]
     },
     "metadata": {},
     "output_type": "display_data"
    }
   ],
   "source": [
    "data Break a = Yes | No deriving (Eq)\n",
    "\n",
    "instance MyFunctor Break where\n",
    "   fmap' f _ = No\n",
    "\n",
    "-- Test Functor id law.\n",
    "fmap' id Yes == Yes\n",
    "\n",
    "-- Test Functor composition law.\n",
    "let g = id\n",
    "    h = const Yes\n",
    "  in fmap' (g . h) Yes == (fmap' g . fmap' h) Yes\n"
   ]
  },
  {
   "cell_type": "markdown",
   "metadata": {},
   "source": [
    "[Back to Contents](#contents)"
   ]
  },
  {
   "cell_type": "markdown",
   "metadata": {},
   "source": [
    "### Ex. 3.3.2 - Which laws violated by bad Functor list instance? <a name=\"3.3.2\"/>\n",
    "Both, because each application of fmap doubles the size of the list."
   ]
  },
  {
   "cell_type": "code",
   "execution_count": 8,
   "metadata": {
    "collapsed": false
   },
   "outputs": [
    {
     "data": {
      "text/plain": [
       "False"
      ]
     },
     "metadata": {},
     "output_type": "display_data"
    },
    {
     "data": {
      "text/plain": [
       "False"
      ]
     },
     "metadata": {},
     "output_type": "display_data"
    }
   ],
   "source": [
    "-- Evil Functor instance\n",
    "instance MyFunctor [] where\n",
    "  fmap' _ [] = []\n",
    "  fmap' g (x:xs) = g x : g x : fmap g xs\n",
    "\n",
    "-- Testing Functor identity law.\n",
    "fmap' id [1,2,3] == [1,2,3]\n",
    "\n",
    "-- Testing Functor composition law.\n",
    "fmap' ((+ 1) . (* 2)) [1,2,3] == (fmap' (+ 1) . fmap' (* 2)) [1,2,3]\n"
   ]
  },
  {
   "cell_type": "markdown",
   "metadata": {},
   "source": [
    "[Back to Contents](#contents)"
   ]
  },
  {
   "cell_type": "markdown",
   "metadata": {},
   "source": [
    "## Section 4.2 - Applicative Laws <a name=\"4.2\"/>"
   ]
  },
  {
   "cell_type": "markdown",
   "metadata": {},
   "source": [
    "### Ex. 4.2.1 - Applying a pure function to an effectful argument. <a name=\"4.2.1\"/>"
   ]
  },
  {
   "cell_type": "markdown",
   "metadata": {},
   "source": [
    "__To prove:__\n",
    "```\n",
    "pure f <*> x = pure (flip ($)) <*> x <*> pure f\n",
    "```\n",
    "\n",
    "__Available Laws/Properties:__\n",
    "```\n",
    "pure f <*> x      = fmap f x            = f <$> x                  (1st Applicative Law)\n",
    "f <*> pure x      = pure ($ x) <*> f    = pure (flip ($) x) <*> f  (interchange)\n",
    "pure f <*> pure x = pure (f x)                                     (homomorphism)\n",
    "fmap h (fmap g f) = (fmap h . fmap g) f = fmap (h . g) f           (2nd Functor Law)\n",
    "```\n",
    "\n",
    "__Useful Relationships:__\n",
    "```\n",
    "f     = \\x -> f x =      ($) f = (f $)                             (function/lambda definition)\n",
    "($ x) = \\f -> f x = flip ($) x                                     (\"($ x)\" syntax definition)`\n",
    "```\n",
    "\n",
    "__Proof:__\n",
    "```\n",
    "pure (flip ($)) <*> x <*> pure f       =  (associativity)\n",
    "(pure (flip ($)) <*> x) <*> pure f     =  (interchange)\n",
    "pure ($ f) <*> (pure (flip ($)) <*> x) =  (1st Applicative Law)\n",
    "fmap (flip ($) f) (fmap (flip ($)) x)  =  (g = flip ($))\n",
    "fmap (g f) (fmap g x)                  =  (Second Functor Law)\n",
    "fmap (g f . g) x                       =  (lemma 1, below)\n",
    "fmap f x                               =  (1st Applicative Law)\n",
    "pure f <*> x\n",
    "```\n",
    "&#9633;\n",
    "\n",
    "__Lemma 1:__\n",
    "```\n",
    "(flip ($) g) . flip ($) == g\n",
    "```\n",
    "\n",
    "__Types:__\n",
    "```\n",
    "g                       :: a -> b\n",
    "flip ($)                :: a1 -> ((a1 -> b1) -> b1)\n",
    "flip ($) g              :: ((a -> b) -> b1) -> b1\n",
    "(flip ($) g) . flip ($) :: a -> b\n",
    "```\n",
    "\n",
    "__Proof:__\n",
    "```\n",
    "(flip ($) g) . flip ($)                         =  (definition of \"flip ($)\")\n",
    "((\\x -> (\\f -> f x)) g) . (\\y -> (\\f' -> f' y)) =  (eta reduction)\n",
    "(\\f -> f g) . (\\y -> (\\f' -> f' y))             =  (expansion of composition)\n",
    "\\y -> (\\f' -> f' y) g                           =  (eta reduction)\n",
    "\\y -> g y                                       =  (function/lambda definition)\n",
    "g  \n",
    "```\n",
    "&#9633;\n"
   ]
  },
  {
   "cell_type": "markdown",
   "metadata": {},
   "source": [
    "[Back to Contents](#contents)"
   ]
  },
  {
   "cell_type": "markdown",
   "metadata": {},
   "source": [
    "## Section 4.3 - Applicative Instances <a name=\"4.3\"/>"
   ]
  },
  {
   "cell_type": "markdown",
   "metadata": {},
   "source": [
    "### Ex. 4.3.1 - Applicative instance for Maybe <a name=\"4.3.1\"/>"
   ]
  },
  {
   "cell_type": "code",
   "execution_count": 9,
   "metadata": {
    "collapsed": true
   },
   "outputs": [],
   "source": [
    "class MyApplicative f where\n",
    "    pure'  :: a -> f a\n",
    "    (<@>)  :: f (a -> b) -> f a -> f b\n",
    "    \n",
    "instance MyApplicative Maybe where\n",
    "    pure' = Just\n",
    "    Nothing <@> _ = Nothing\n",
    "    _ <@> Nothing = Nothing\n",
    "    Just g <@> Just a = Just (g a)\n",
    "    "
   ]
  },
  {
   "cell_type": "code",
   "execution_count": 10,
   "metadata": {
    "collapsed": false
   },
   "outputs": [
    {
     "data": {
      "text/plain": [
       "Nothing"
      ]
     },
     "metadata": {},
     "output_type": "display_data"
    },
    {
     "data": {
      "text/plain": [
       "True"
      ]
     },
     "metadata": {},
     "output_type": "display_data"
    },
    {
     "data": {
      "text/plain": [
       "True"
      ]
     },
     "metadata": {},
     "output_type": "display_data"
    },
    {
     "data": {
      "text/plain": [
       "True"
      ]
     },
     "metadata": {},
     "output_type": "display_data"
    },
    {
     "data": {
      "text/plain": [
       "True"
      ]
     },
     "metadata": {},
     "output_type": "display_data"
    }
   ],
   "source": [
    "-- Test the Applicative laws.\n",
    "\n",
    "-- Identity\n",
    "-- pure' id <@> Nothing == Nothing\n",
    "pure' id <@> Nothing -- The above causes the IHaskell kernel to hang, while working fine in ghci.\n",
    "-- Curiously, even though the error message, below, calls for this,\n",
    "-- when I attempt to use it I get an error saying the function\n",
    "-- 'isNothing' is not in scope! (?!)\n",
    "-- isNothing (pure' id <@> Nothing)\n",
    "Just id <@> Just 3 == Just 3\n",
    "\n",
    "-- Homomorphism\n",
    "Just (+ 2) <@> Just 3 == Just ((+ 2) 3)\n",
    "\n",
    "-- Interchange\n",
    "Just (+ 2) <@> Just 3 == Just ($ 3) <@> Just (+ 2)\n",
    "\n",
    "-- Composition\n",
    "Just (+ 2) <@> (Just (+ 3) <@> Just 4) == Just (.) <@> Just (+ 2) <@> Just (+ 3) <@> Just 4"
   ]
  },
  {
   "cell_type": "markdown",
   "metadata": {},
   "source": [
    "[Back to Contents](#contents)"
   ]
  },
  {
   "cell_type": "markdown",
   "metadata": {},
   "source": [
    "### Ex. 4.3.2 - Correct Applicative instance for ZipList <a name=\"4.3.2\"/>"
   ]
  },
  {
   "cell_type": "code",
   "execution_count": 11,
   "metadata": {
    "collapsed": false
   },
   "outputs": [
    {
     "data": {
      "text/plain": [
       "True"
      ]
     },
     "metadata": {},
     "output_type": "display_data"
    },
    {
     "data": {
      "text/plain": [
       "True"
      ]
     },
     "metadata": {},
     "output_type": "display_data"
    },
    {
     "data": {
      "text/plain": [
       "True"
      ]
     },
     "metadata": {},
     "output_type": "display_data"
    },
    {
     "data": {
      "text/plain": [
       "True"
      ]
     },
     "metadata": {},
     "output_type": "display_data"
    }
   ],
   "source": [
    "newtype ZipList a = ZipList { getZipList :: [a] } deriving (Eq)\n",
    " \n",
    "instance MyApplicative ZipList where\n",
    "  pure' x = ZipList (repeat x)\n",
    "  (ZipList gs) <@> (ZipList xs) = ZipList (zipWith ($) gs xs)\n",
    "\n",
    "-- Test the Applicative laws.\n",
    "\n",
    "-- Identity\n",
    "pure' id <@> ZipList ([1,2,3] :: [Int]) == ZipList [1,2,3]\n",
    "\n",
    "-- Homomorphism\n",
    "pure' (+ 2) <@> ZipList ([1,2,3] :: [Int]) == ZipList (map (+ 2) [1,2,3])\n",
    "\n",
    "-- Interchange\n",
    "ZipList (replicate 3 (+ 2)) <@> pure' 1 == pure' ($ 1) <@> ZipList (replicate 3 (+ 2))\n",
    "\n",
    "-- Composition\n",
    "ZipList (replicate 3 (+ 2)) <@> (ZipList (replicate 3 (+ 3)) <@> ZipList [1,2,3]) ==\n",
    "    pure' (.) <@> ZipList (replicate 3 (+ 2)) <@> ZipList (replicate 3 (+ 3)) <@> ZipList [1,2,3]\n"
   ]
  },
  {
   "cell_type": "markdown",
   "metadata": {},
   "source": [
    "[Back to Contents](#contents)"
   ]
  },
  {
   "cell_type": "markdown",
   "metadata": {},
   "source": [
    "## Section 4.5 - Alternative Formulation (Monoidal) <a name=\"4.5\"/>"
   ]
  },
  {
   "cell_type": "markdown",
   "metadata": {},
   "source": [
    "### Ex. 4.5.1 - _pure_ and _<\\*>_, via _unit_ and _(\\*\\*)_ <a name=\"4.5.1\"/>"
   ]
  },
  {
   "cell_type": "code",
   "execution_count": 12,
   "metadata": {
    "collapsed": false
   },
   "outputs": [],
   "source": [
    "class Applicative f => Monoidal f where\n",
    "  unit :: f ()\n",
    "  unit  = pure ()\n",
    "  \n",
    "  (**) :: f a -> f b -> f (a,b)\n",
    "  (**)  fa fb = pure (,) <*> fa <*> fb\n"
   ]
  },
  {
   "cell_type": "code",
   "execution_count": 13,
   "metadata": {
    "collapsed": false
   },
   "outputs": [],
   "source": [
    "class Monoidal f => MyApplicative f where\n",
    "  pure'  :: a -> f a\n",
    "  pure' x = fmap (const x) unit\n",
    "  \n",
    "  (<@>)    :: f (a -> b) -> f a -> f b\n",
    "  fg <@> fx = fmap (uncurry ($)) (fg ** fx)"
   ]
  },
  {
   "cell_type": "markdown",
   "metadata": {},
   "source": [
    "The fact that we have to `fmap` something over `unit` and `(**)`, in order to implement `pure` and `<*>`, suggests that the _Monoidal_ implementation is more general (since we could `fmap` something else, if that proved useful to some purpose)."
   ]
  },
  {
   "cell_type": "markdown",
   "metadata": {},
   "source": [
    "[Back to Contents](#contents)"
   ]
  },
  {
   "cell_type": "markdown",
   "metadata": {},
   "source": [
    "### Ex. 4.5.2 - Applicative instances providing inverses of Monoidal functions <a name=\"4.5.2\"/>\n",
    "\n",
    "Are there any Applicative instances for which there are also functions `f () -> ()` and `f (a,b) -> (f a, f b)`, satisfying some \"reasonable\" laws?"
   ]
  },
  {
   "cell_type": "code",
   "execution_count": 14,
   "metadata": {
    "collapsed": false
   },
   "outputs": [],
   "source": [
    "instance Monoidal Maybe\n",
    "\n",
    "unit' :: Maybe () -> ()\n",
    "unit' Nothing   = ()\n",
    "unit' (Just ()) = ()\n",
    "\n",
    "unjoin :: Maybe (a, b) -> (Maybe a, Maybe b)\n",
    "unjoin Nothing       = (Nothing, Nothing)\n",
    "unjoin (Just (x, y)) = (Just x, Just y)\n"
   ]
  },
  {
   "cell_type": "markdown",
   "metadata": {},
   "source": [
    "**Laws:**\n",
    "\n",
    "- Left Identity:  \n",
    "  `first (arr unit') $ unjoin Just ((), x) ≅ Just x`\n",
    "  \n",
    "- Right Identity:  \n",
    "  `second (arr unit') $ unjoin Just (x, ()) ≅ Just x`\n",
    "  \n",
    "- Inverse:  \n",
    "  `unit' . unit == ()`\n",
    "\n",
    "**Proofs:**\n",
    "\n",
    "- Left Identity:  \n",
    "  ```\n",
    "  first (arr unit') $ unjoin Just ((), x) = (definition of unjoin)\n",
    "  first (arr unit') (Just (), Just x)     = (application of \"first (arr unit')\")\n",
    "  ((), Just x)                            ≅ (definition of isomorphism)\n",
    "  Just x\n",
    "  ```\n",
    "  &#9633;\n",
    "  \n",
    "- Right Identity:  \n",
    "  (Trivial, as per Left Identity.)\n",
    "  \n",
    "- Inverse:\n",
    "  ```\n",
    "  unit' . unit    = (definition of compose)\n",
    "  unit' (unit)    = (definition of unit)\n",
    "  unit' (Just ()) = (definition of unit')\n",
    "  ()\n",
    "  ```\n",
    "  &#9633;\n"
   ]
  },
  {
   "cell_type": "markdown",
   "metadata": {},
   "source": [
    "[Back to Contents](#contents)"
   ]
  },
  {
   "cell_type": "markdown",
   "metadata": {},
   "source": [
    "### Ex. 4.5.3 - Equivalency of Applicative and Monoidal laws <a name=\"4.5.3\"/>\n",
    "\n",
    "(Tricky) Prove that given your implementations from the previous exercise, the usual Applicative laws and the Monoidal laws stated above are equivalent."
   ]
  },
  {
   "cell_type": "markdown",
   "metadata": {},
   "source": [
    "**Applicative Laws:**\n",
    "\n",
    "- Identity:  \n",
    "  `pure id <*> v = v`\n",
    "\n",
    "- Homomorphism:  \n",
    "  `pure f <*> pure x = pure (f x)`\n",
    "\n",
    "- Interchange:  \n",
    "  `u <*> pure y = pure ($ y) <*> u`\n",
    "\n",
    "- Composition:  \n",
    "  `u <*> (v <*> w) = pure (.) <*> u <*> v <*> w`\n",
    "\n",
    "**Monoidal Laws:**\n",
    "\n",
    "- Left Identity:  \n",
    "  `unit ** v ≅ v`\n",
    "  \n",
    "- Right Identity:  \n",
    "  `u ** unit ≅ u`\n",
    "\n",
    "- Associativity:  \n",
    "  `u ** (v ** w) ≅ (u ** v) ** w`\n",
    "\n",
    "**Proofs:**\n",
    "\n",
    "- Identity:\n",
    "\n",
    "```\n",
    "pure id <*> v                                    = (implementation of (<*>), via (**))\n",
    "fmap (uncurry ($)) (pure id ** v)                = (implementation of pure, via unit)\n",
    "fmap (uncurry ($)) ((fmap (const id) unit) ** v) = ()\n",
    "\n",
    "fmap g (f x ** f y) = fmap g (f (x, y)) = f (g (x, y))\n",
    "fmap (uncurry ($)) ((fmap (const id) unit) ** v) = (v = f x)\n",
    "fmap (uncurry ($)) f (id, x) = f (id x) = f x = v\n",
    "```\n"
   ]
  },
  {
   "cell_type": "markdown",
   "metadata": {},
   "source": [
    "[Back to Contents](#contents)"
   ]
  },
  {
   "cell_type": "markdown",
   "metadata": {},
   "source": [
    "# Section 10.2 - *Foldable* - Instances and Examples <a name=\"10.2\"/>"
   ]
  },
  {
   "cell_type": "markdown",
   "metadata": {},
   "source": [
    "### Ex. 10.2.1 - Type of 'foldMap . foldMap'? <a name=\"10.2.1\"/>\n",
    "\n",
    "What is the type of 'foldMap . foldMap', or 'foldMap . foldMap . foldMap'? What do they do?"
   ]
  },
  {
   "cell_type": "code",
   "execution_count": 15,
   "metadata": {
    "collapsed": false
   },
   "outputs": [
    {
     "data": {
      "text/html": [
       "<style>/* Styles used for the Hoogle display in the pager */\n",
       ".hoogle-doc {\n",
       "display: block;\n",
       "padding-bottom: 1.3em;\n",
       "padding-left: 0.4em;\n",
       "}\n",
       ".hoogle-code {\n",
       "display: block;\n",
       "font-family: monospace;\n",
       "white-space: pre;\n",
       "}\n",
       ".hoogle-text {\n",
       "display: block;\n",
       "}\n",
       ".hoogle-name {\n",
       "color: green;\n",
       "font-weight: bold;\n",
       "}\n",
       ".hoogle-head {\n",
       "font-weight: bold;\n",
       "}\n",
       ".hoogle-sub {\n",
       "display: block;\n",
       "margin-left: 0.4em;\n",
       "}\n",
       ".hoogle-package {\n",
       "font-weight: bold;\n",
       "font-style: italic;\n",
       "}\n",
       ".hoogle-module {\n",
       "font-weight: bold;\n",
       "}\n",
       ".hoogle-class {\n",
       "font-weight: bold;\n",
       "}\n",
       ".get-type {\n",
       "color: green;\n",
       "font-weight: bold;\n",
       "font-family: monospace;\n",
       "display: block;\n",
       "white-space: pre-wrap;\n",
       "}\n",
       ".show-type {\n",
       "color: green;\n",
       "font-weight: bold;\n",
       "font-family: monospace;\n",
       "margin-left: 1em;\n",
       "}\n",
       ".mono {\n",
       "font-family: monospace;\n",
       "display: block;\n",
       "}\n",
       ".err-msg {\n",
       "color: red;\n",
       "font-style: italic;\n",
       "font-family: monospace;\n",
       "white-space: pre;\n",
       "display: block;\n",
       "}\n",
       "#unshowable {\n",
       "color: red;\n",
       "font-weight: bold;\n",
       "}\n",
       ".err-msg.in.collapse {\n",
       "padding-top: 0.7em;\n",
       "}\n",
       ".highlight-code {\n",
       "white-space: pre;\n",
       "font-family: monospace;\n",
       "}\n",
       ".suggestion-warning { \n",
       "font-weight: bold;\n",
       "color: rgb(200, 130, 0);\n",
       "}\n",
       ".suggestion-error { \n",
       "font-weight: bold;\n",
       "color: red;\n",
       "}\n",
       ".suggestion-name {\n",
       "font-weight: bold;\n",
       "}\n",
       "</style><span class='get-type'>foldMap . foldMap :: forall (t :: * -> *) m (t1 :: * -> *) a. (Foldable t, Foldable t1, Monoid m) => (a -> m) -> t (t1 a) -> m</span>"
      ],
      "text/plain": [
       "foldMap . foldMap :: forall (t :: * -> *) m (t1 :: * -> *) a. (Foldable t, Foldable t1, Monoid m) => (a -> m) -> t (t1 a) -> m"
      ]
     },
     "metadata": {},
     "output_type": "display_data"
    },
    {
     "data": {
      "text/html": [
       "<style>/* Styles used for the Hoogle display in the pager */\n",
       ".hoogle-doc {\n",
       "display: block;\n",
       "padding-bottom: 1.3em;\n",
       "padding-left: 0.4em;\n",
       "}\n",
       ".hoogle-code {\n",
       "display: block;\n",
       "font-family: monospace;\n",
       "white-space: pre;\n",
       "}\n",
       ".hoogle-text {\n",
       "display: block;\n",
       "}\n",
       ".hoogle-name {\n",
       "color: green;\n",
       "font-weight: bold;\n",
       "}\n",
       ".hoogle-head {\n",
       "font-weight: bold;\n",
       "}\n",
       ".hoogle-sub {\n",
       "display: block;\n",
       "margin-left: 0.4em;\n",
       "}\n",
       ".hoogle-package {\n",
       "font-weight: bold;\n",
       "font-style: italic;\n",
       "}\n",
       ".hoogle-module {\n",
       "font-weight: bold;\n",
       "}\n",
       ".hoogle-class {\n",
       "font-weight: bold;\n",
       "}\n",
       ".get-type {\n",
       "color: green;\n",
       "font-weight: bold;\n",
       "font-family: monospace;\n",
       "display: block;\n",
       "white-space: pre-wrap;\n",
       "}\n",
       ".show-type {\n",
       "color: green;\n",
       "font-weight: bold;\n",
       "font-family: monospace;\n",
       "margin-left: 1em;\n",
       "}\n",
       ".mono {\n",
       "font-family: monospace;\n",
       "display: block;\n",
       "}\n",
       ".err-msg {\n",
       "color: red;\n",
       "font-style: italic;\n",
       "font-family: monospace;\n",
       "white-space: pre;\n",
       "display: block;\n",
       "}\n",
       "#unshowable {\n",
       "color: red;\n",
       "font-weight: bold;\n",
       "}\n",
       ".err-msg.in.collapse {\n",
       "padding-top: 0.7em;\n",
       "}\n",
       ".highlight-code {\n",
       "white-space: pre;\n",
       "font-family: monospace;\n",
       "}\n",
       ".suggestion-warning { \n",
       "font-weight: bold;\n",
       "color: rgb(200, 130, 0);\n",
       "}\n",
       ".suggestion-error { \n",
       "font-weight: bold;\n",
       "color: red;\n",
       "}\n",
       ".suggestion-name {\n",
       "font-weight: bold;\n",
       "}\n",
       "</style><span class='get-type'>foldMap . foldMap . foldMap :: forall (t :: * -> *) m (t1 :: * -> *) (t2 :: * -> *) a. (Foldable t, Foldable t1, Foldable t2, Monoid m) => (a -> m) -> t (t1 (t2 a)) -> m</span>"
      ],
      "text/plain": [
       "foldMap . foldMap . foldMap :: forall (t :: * -> *) m (t1 :: * -> *) (t2 :: * -> *) a. (Foldable t, Foldable t1, Foldable t2, Monoid m) => (a -> m) -> t (t1 (t2 a)) -> m"
      ]
     },
     "metadata": {},
     "output_type": "display_data"
    }
   ],
   "source": [
    "import Data.Foldable\n",
    "\n",
    ":t foldMap . foldMap\n",
    ":t foldMap . foldMap . foldMap\n"
   ]
  },
  {
   "cell_type": "markdown",
   "metadata": {},
   "source": [
    "They allow for the reduction of nested Foldable data structures:"
   ]
  },
  {
   "cell_type": "code",
   "execution_count": 16,
   "metadata": {
    "collapsed": false
   },
   "outputs": [
    {
     "data": {
      "text/plain": [
       "Sum {getSum = 45}"
      ]
     },
     "metadata": {},
     "output_type": "display_data"
    },
    {
     "data": {
      "text/plain": [
       "Product {getProduct = 362880}"
      ]
     },
     "metadata": {},
     "output_type": "display_data"
    }
   ],
   "source": [
    "import Data.Monoid\n",
    "\n",
    "ls = [[1,2,3], [4,5,6], [7,8,9]]\n",
    "(foldMap . foldMap) Sum ls\n",
    "(foldMap . foldMap) Product ls\n"
   ]
  },
  {
   "cell_type": "markdown",
   "metadata": {},
   "source": [
    "[Back to Contents](#contents)"
   ]
  },
  {
   "cell_type": "markdown",
   "metadata": {},
   "source": [
    "# Section 10.3 - Derived folds <a name=\"10.3\"/>"
   ]
  },
  {
   "cell_type": "markdown",
   "metadata": {},
   "source": [
    "### Ex. 10.3.1 - Implement *toList*. <a name=\"10.3.1\"/>\n",
    "\n",
    "Implement toList :: Foldable f => f a -> [a]"
   ]
  },
  {
   "cell_type": "code",
   "execution_count": 17,
   "metadata": {
    "collapsed": false
   },
   "outputs": [
    {
     "data": {
      "text/plain": [
       "[1,2,3]"
      ]
     },
     "metadata": {},
     "output_type": "display_data"
    }
   ],
   "source": [
    "toList :: Foldable f => f a -> [a]\n",
    "toList = foldMap (: [])\n",
    "\n",
    "data Tree a = Empty | Leaf a | Node (Tree a) a (Tree a)\n",
    "  deriving (Show, Functor)\n",
    "\n",
    "instance Foldable Tree where\n",
    "   foldMap f Empty = mempty\n",
    "   foldMap f (Leaf x) = f x\n",
    "   foldMap f (Node l k r) = foldMap f l `mappend` f k `mappend` foldMap f r\n",
    "\n",
    "toList $ Node (Leaf 1) 2 (Leaf 3)\n"
   ]
  },
  {
   "cell_type": "markdown",
   "metadata": {},
   "source": [
    "[Back to Contents](#contents)"
   ]
  },
  {
   "cell_type": "markdown",
   "metadata": {},
   "source": [
    "### Ex. 10.3.2 - Implement *concat*, etc. <a name=\"10.3.2\"/>\n",
    "\n",
    "Pick some of the following functions to implement: concat, concatMap, and, or, any, all, sum, product, maximum(By), minimum(By), elem, notElem, and find. Figure out how they generalize to Foldable and come up with elegant implementations using fold or foldMap along with appropriate Monoid instances."
   ]
  },
  {
   "cell_type": "markdown",
   "metadata": {},
   "source": [
    "#### Ex. 10.3.2.a - Implement *concat*. <a name=\"10.3.2.a\"/>"
   ]
  },
  {
   "cell_type": "code",
   "execution_count": 18,
   "metadata": {
    "collapsed": false
   },
   "outputs": [
    {
     "data": {
      "text/plain": [
       "[1,2,3,4,5,6]"
      ]
     },
     "metadata": {},
     "output_type": "display_data"
    }
   ],
   "source": [
    "concat :: [a] -> [a] -> [a]\n",
    "\n",
    "-- concat [] ys = ys\n",
    "-- concat (x:xs) ys = x : (concat xs ys)\n",
    "\n",
    "-- concat xs ys = xs `mappend` ys\n",
    "concat = mappend\n",
    "\n",
    "concat [1,2,3] [4,5,6]\n"
   ]
  },
  {
   "cell_type": "markdown",
   "metadata": {},
   "source": [
    "[Back to Contents](#contents)"
   ]
  },
  {
   "cell_type": "markdown",
   "metadata": {},
   "source": [
    "#### Ex. 10.3.2.b - Implement *concatMap*. <a name=\"10.3.2.b\"/>"
   ]
  },
  {
   "cell_type": "code",
   "execution_count": 19,
   "metadata": {
    "collapsed": false
   },
   "outputs": [
    {
     "data": {
      "text/plain": [
       "[1,1,2,2,3,3]"
      ]
     },
     "metadata": {},
     "output_type": "display_data"
    }
   ],
   "source": [
    "concatMap :: (a -> [b]) -> [a] -> [b]\n",
    "\n",
    "-- concatMap _ [] = []\n",
    "-- concatMap g (x:xs) = g x ++ (concatMap g xs)\n",
    "\n",
    "-- concatMap g xs = fold $ fmap g xs\n",
    "-- concatMap g xs = (fold . fmap g) xs\n",
    "-- concatMap g xs = foldMap g xs\n",
    "concatMap = foldMap\n",
    "\n",
    "\n",
    "concatMap (\\x -> [x, x]) [1, 2, 3]\n"
   ]
  },
  {
   "cell_type": "markdown",
   "metadata": {},
   "source": [
    "[Back to Contents](#contents)"
   ]
  },
  {
   "cell_type": "markdown",
   "metadata": {},
   "source": [
    "#### Ex. 10.3.2.c - Implement *and*. <a name=\"10.3.2.c\"/>"
   ]
  },
  {
   "cell_type": "code",
   "execution_count": 20,
   "metadata": {
    "collapsed": false
   },
   "outputs": [
    {
     "data": {
      "text/plain": [
       "True"
      ]
     },
     "metadata": {},
     "output_type": "display_data"
    },
    {
     "data": {
      "text/plain": [
       "False"
      ]
     },
     "metadata": {},
     "output_type": "display_data"
    }
   ],
   "source": [
    "and :: Foldable t => t Bool -> Bool\n",
    "and = getAll . (foldMap All)\n",
    "\n",
    "newtype All = All {getAll :: Bool}\n",
    "\n",
    "instance Monoid All where\n",
    "    mempty = All True\n",
    "    mappend (All True) (All True) = All True\n",
    "    mappend _          _          = All False\n",
    "    \n",
    "and $ Node (Leaf True) True (Leaf True)\n",
    "and $ Node (Leaf True) True (Leaf False)\n"
   ]
  },
  {
   "cell_type": "markdown",
   "metadata": {},
   "source": [
    "[Back to Contents](#contents)"
   ]
  },
  {
   "cell_type": "markdown",
   "metadata": {},
   "source": [
    "#### Ex. 10.3.2.d - Implement *or*. <a name=\"10.3.2.d\"/>"
   ]
  },
  {
   "cell_type": "code",
   "execution_count": 21,
   "metadata": {
    "collapsed": false
   },
   "outputs": [
    {
     "data": {
      "text/plain": [
       "True"
      ]
     },
     "metadata": {},
     "output_type": "display_data"
    },
    {
     "data": {
      "text/plain": [
       "False"
      ]
     },
     "metadata": {},
     "output_type": "display_data"
    }
   ],
   "source": [
    "or :: Foldable t => t Bool -> Bool\n",
    "or = getAny . (foldMap Any)\n",
    "\n",
    "newtype Any = Any {getAny :: Bool}\n",
    "\n",
    "instance Monoid Any where\n",
    "    mempty = Any False\n",
    "    mappend (Any False) (Any False) = Any False\n",
    "    mappend _           _           = Any True\n",
    "    \n",
    "or $ Node (Leaf False) False (Leaf True)\n",
    "or $ Node (Leaf False) False (Leaf False)\n"
   ]
  },
  {
   "cell_type": "markdown",
   "metadata": {},
   "source": [
    "[Back to Contents](#contents)"
   ]
  },
  {
   "cell_type": "markdown",
   "metadata": {},
   "source": [
    "#### Ex. 10.3.2.e - Implement *any*. <a name=\"10.3.2.e\"/>"
   ]
  },
  {
   "cell_type": "code",
   "execution_count": 22,
   "metadata": {
    "collapsed": false
   },
   "outputs": [
    {
     "data": {
      "text/plain": [
       "True"
      ]
     },
     "metadata": {},
     "output_type": "display_data"
    },
    {
     "data": {
      "text/plain": [
       "False"
      ]
     },
     "metadata": {},
     "output_type": "display_data"
    }
   ],
   "source": [
    "any :: Foldable t => t Bool -> Bool\n",
    "any = or\n",
    "\n",
    "any $ Node (Leaf False) False (Leaf True)\n",
    "any $ Node (Leaf False) False (Leaf False)\n"
   ]
  },
  {
   "cell_type": "markdown",
   "metadata": {},
   "source": [
    "[Back to Contents](#contents)"
   ]
  },
  {
   "cell_type": "markdown",
   "metadata": {},
   "source": [
    "#### Ex. 10.3.2.f - Implement *all*. <a name=\"10.3.2.f\"/>"
   ]
  },
  {
   "cell_type": "code",
   "execution_count": 23,
   "metadata": {
    "collapsed": false
   },
   "outputs": [
    {
     "data": {
      "text/plain": [
       "True"
      ]
     },
     "metadata": {},
     "output_type": "display_data"
    },
    {
     "data": {
      "text/plain": [
       "False"
      ]
     },
     "metadata": {},
     "output_type": "display_data"
    }
   ],
   "source": [
    "all :: Foldable t => t Bool -> Bool\n",
    "all = and\n",
    "\n",
    "all $ Node (Leaf True) True (Leaf True)\n",
    "all $ Node (Leaf True) True (Leaf False)\n"
   ]
  },
  {
   "cell_type": "markdown",
   "metadata": {},
   "source": [
    "[Back to Contents](#contents)"
   ]
  },
  {
   "cell_type": "markdown",
   "metadata": {},
   "source": [
    "#### Ex. 10.3.2.g - Implement *sum*. <a name=\"10.3.2.g\"/>"
   ]
  },
  {
   "cell_type": "code",
   "execution_count": 24,
   "metadata": {
    "collapsed": false
   },
   "outputs": [
    {
     "data": {
      "text/plain": [
       "6"
      ]
     },
     "metadata": {},
     "output_type": "display_data"
    }
   ],
   "source": [
    "sum :: (Foldable t) => t Int -> Int\n",
    "sum = getSum . (foldMap Sum)\n",
    "\n",
    "newtype Sum = Sum {getSum :: Int}\n",
    "\n",
    "instance Monoid Sum where\n",
    "    mempty = Sum 0\n",
    "    mappend (Sum x) (Sum y) = Sum (x + y)\n",
    "    \n",
    "sum $ Node (Leaf 1) 2 (Leaf 3)\n"
   ]
  },
  {
   "cell_type": "markdown",
   "metadata": {},
   "source": [
    "[Back to Contents](#contents)"
   ]
  },
  {
   "cell_type": "markdown",
   "metadata": {},
   "source": [
    "#### Ex. 10.3.2.h - Implement *product*. <a name=\"10.3.2.h\"/>"
   ]
  },
  {
   "cell_type": "code",
   "execution_count": 25,
   "metadata": {
    "collapsed": false
   },
   "outputs": [
    {
     "data": {
      "text/plain": [
       "6"
      ]
     },
     "metadata": {},
     "output_type": "display_data"
    }
   ],
   "source": [
    "product :: (Foldable t) => t Int -> Int\n",
    "product = getProd . (foldMap Prod)\n",
    "\n",
    "newtype Prod = Prod {getProd :: Int}\n",
    "\n",
    "instance Monoid Prod where\n",
    "    mempty = Prod 1\n",
    "    mappend (Prod x) (Prod y) = Prod (x * y)\n",
    "    \n",
    "product $ Node (Leaf 1) 2 (Leaf 3)\n"
   ]
  },
  {
   "cell_type": "markdown",
   "metadata": {},
   "source": [
    "[Back to Contents](#contents)"
   ]
  },
  {
   "cell_type": "markdown",
   "metadata": {},
   "source": [
    "#### Ex. 10.3.2.i - Implement *maximum*. <a name=\"10.3.2.i\"/>"
   ]
  },
  {
   "cell_type": "code",
   "execution_count": 26,
   "metadata": {
    "collapsed": false
   },
   "outputs": [
    {
     "data": {
      "text/plain": [
       "4"
      ]
     },
     "metadata": {},
     "output_type": "display_data"
    }
   ],
   "source": [
    "maximum :: (Foldable t) => t Int -> Int\n",
    "maximum = getMax . (foldMap Max)\n",
    "\n",
    "newtype Max = Max {getMax :: Int}\n",
    "\n",
    "instance Monoid Max where\n",
    "    mempty = Max 0\n",
    "    mappend (Max x) (Max y) | y > x     = Max y\n",
    "                            | otherwise = Max x\n",
    "                            \n",
    "maximum $ Node (Leaf 1) 4 (Leaf 3)\n"
   ]
  },
  {
   "cell_type": "markdown",
   "metadata": {},
   "source": [
    "[Back to Contents](#contents)"
   ]
  },
  {
   "cell_type": "markdown",
   "metadata": {},
   "source": [
    "#### Ex. 10.3.2.j - Implement *minimum*. <a name=\"10.3.2.j\"/>"
   ]
  },
  {
   "cell_type": "code",
   "execution_count": 27,
   "metadata": {
    "collapsed": false
   },
   "outputs": [
    {
     "data": {
      "text/plain": [
       "1"
      ]
     },
     "metadata": {},
     "output_type": "display_data"
    }
   ],
   "source": [
    "minimum :: (Foldable t) => t Int -> Int\n",
    "minimum = getMin . (foldMap Min)\n",
    "\n",
    "newtype Min = Min {getMin :: Int}\n",
    "\n",
    "instance Monoid Min where\n",
    "    mempty = Min 1000000\n",
    "    mappend (Min x) (Min y) | y < x     = Min y\n",
    "                            | otherwise = Min x\n",
    "                            \n",
    "minimum $ Node (Leaf 1) 4 (Leaf 3)\n"
   ]
  },
  {
   "cell_type": "markdown",
   "metadata": {},
   "source": [
    "[Back to Contents](#contents)"
   ]
  },
  {
   "cell_type": "markdown",
   "metadata": {},
   "source": [
    "#### Ex. 10.3.2.k - Implement *elem*. <a name=\"10.3.2.k\"/>"
   ]
  },
  {
   "cell_type": "code",
   "execution_count": 28,
   "metadata": {
    "collapsed": false
   },
   "outputs": [
    {
     "data": {
      "text/plain": [
       "True"
      ]
     },
     "metadata": {},
     "output_type": "display_data"
    },
    {
     "data": {
      "text/plain": [
       "False"
      ]
     },
     "metadata": {},
     "output_type": "display_data"
    }
   ],
   "source": [
    "elem :: (Foldable t, Eq a) => a -> t a -> Bool\n",
    "elem x = getAny . (foldMap (Any . (== x)))\n",
    "\n",
    "elem 4 $ Node (Leaf 1) 4 (Leaf 3)\n",
    "elem 2 $ Node (Leaf 1) 4 (Leaf 3)\n"
   ]
  },
  {
   "cell_type": "markdown",
   "metadata": {},
   "source": [
    "[Back to Contents](#contents)"
   ]
  },
  {
   "cell_type": "markdown",
   "metadata": {},
   "source": [
    "#### Ex. 10.3.2.l - Implement *notElem*. <a name=\"10.3.2.l\"/>"
   ]
  },
  {
   "cell_type": "code",
   "execution_count": 29,
   "metadata": {
    "collapsed": false
   },
   "outputs": [
    {
     "data": {
      "text/plain": [
       "False"
      ]
     },
     "metadata": {},
     "output_type": "display_data"
    },
    {
     "data": {
      "text/plain": [
       "True"
      ]
     },
     "metadata": {},
     "output_type": "display_data"
    }
   ],
   "source": [
    "notElem :: (Foldable t, Eq a) => a -> t a -> Bool\n",
    "notElem x = not . (elem x)\n",
    "\n",
    "notElem 4 $ Node (Leaf 1) 4 (Leaf 3)\n",
    "notElem 2 $ Node (Leaf 1) 4 (Leaf 3)\n"
   ]
  },
  {
   "cell_type": "markdown",
   "metadata": {},
   "source": [
    "[Back to Contents](#contents)"
   ]
  },
  {
   "cell_type": "markdown",
   "metadata": {},
   "source": [
    "#### Ex. 10.3.2.m - Implement *find*. <a name=\"10.3.2.m\"/>"
   ]
  },
  {
   "cell_type": "code",
   "execution_count": 30,
   "metadata": {
    "collapsed": false
   },
   "outputs": [
    {
     "data": {
      "text/plain": [
       "Just 4"
      ]
     },
     "metadata": {},
     "output_type": "display_data"
    },
    {
     "data": {
      "text/plain": [
       "Nothing"
      ]
     },
     "metadata": {},
     "output_type": "display_data"
    }
   ],
   "source": [
    "find :: Foldable t => (a -> Bool) -> t a -> Maybe a\n",
    "find p = getFirst . foldMap (First . sel p)\n",
    "  where sel p x | p x       = Just x\n",
    "                | otherwise = Nothing\n",
    "\n",
    "t1 = Node (Leaf 1) 4 (Leaf 3)\n",
    "\n",
    "find (> 2) t1\n",
    "find (> 4) t1\n"
   ]
  },
  {
   "cell_type": "markdown",
   "metadata": {},
   "source": [
    "[Back to Contents](#contents)"
   ]
  },
  {
   "cell_type": "markdown",
   "metadata": {},
   "source": [
    "# Section 11.1 - Traversable Definition <a name=\"11.1\"/>"
   ]
  },
  {
   "cell_type": "markdown",
   "metadata": {},
   "source": [
    "*A good exercise is to figure out what the default implementations should be: given either traverse or sequenceA, how would you define the other three methods? (Hint for mapM: Control.Applicative exports the WrapMonad newtype, which makes any Monad into an Applicative. The sequence function can be implemented in terms of mapM.)*"
   ]
  },
  {
   "cell_type": "code",
   "execution_count": 31,
   "metadata": {
    "collapsed": false
   },
   "outputs": [],
   "source": [
    "-- I don't seem to need the following line. I include it, here, because it was necessary,\n",
    "-- when debugging the kernel hang mentioned, below, in GHCi.\n",
    "import Prelude hiding (Traversable, sequenceA, traverse, mapM, sequence)\n",
    "import Control.Applicative (WrappedMonad(..))\n",
    "\n",
    "class (Functor t, Foldable t) => Traversable t where\n",
    "  traverse :: Applicative f => (a -> f b) -> t a -> f (t b)\n",
    "  traverse g = sequenceA . fmap g\n",
    "\n",
    "  sequenceA :: Applicative f => t (f a) -> f (t a)\n",
    "  sequenceA = traverse id\n",
    "\n",
    "  mapM :: Monad m => (a -> m b) -> t a -> m (t b)\n",
    "  -- mapM g = unwrapMonad . sequenceA . (fmap (WrapMonad . g))\n",
    "  mapM g = unwrapMonad . traverse (WrapMonad . g)\n",
    "  \n",
    "  sequence :: Monad m => t (m a) -> m (t a)\n",
    "  sequence = mapM id\n",
    "  \n",
    "-- If I remove the following two lines, the kernel hangs when I attempt to run the cell.\n",
    "main :: IO ()\n",
    "main = putStrLn \"Hello, World!\"\n"
   ]
  },
  {
   "cell_type": "markdown",
   "metadata": {},
   "source": [
    "[Back to Contents](#contents)"
   ]
  },
  {
   "cell_type": "markdown",
   "metadata": {},
   "source": [
    "# Section 11.2 - Traversable Intuition <a name=\"11.2\"/>"
   ]
  },
  {
   "cell_type": "markdown",
   "metadata": {},
   "source": [
    "### Ex. 11.2.1 -  Tree of lists to list of trees. <a name=\"11.2.1\"/>"
   ]
  },
  {
   "cell_type": "markdown",
   "metadata": {},
   "source": [
    "*There are at least two natural ways to turn a tree of lists into a list of trees. What are they, and why?*\n",
    "\n",
    "They are:\n",
    "\n",
    "1. concatenation of all lists in the tree (going in the order prescribed by the tree's _Foldable_ instance), followed by mapping of the _Leaf_ constructor, and\n",
    "1. forming the list of all trees possible, by taking each value in the top node's list as the top node value in a new tree, and forming as many trees as are possible, via recursive application to both the left and right sub-trees, independently.\n",
    "\n",
    "These two approaches are induced by the *Monoid* and *Applicative* instances for the inner functor (*List*), which are: *concatenation* and *outer product*, respectively.\n",
    "\n",
    "By jumping ahead and copying the *Traversable* instance for *Tree* from the documentation, we can see this in code (because, the *sequenceA* function invokes the *Applicative* instance for the inner functor):"
   ]
  },
  {
   "cell_type": "code",
   "execution_count": 32,
   "metadata": {
    "collapsed": false
   },
   "outputs": [
    {
     "data": {
      "text/plain": [
       "Node (Leaf [1]) [2,3] (Leaf [4])"
      ]
     },
     "metadata": {},
     "output_type": "display_data"
    },
    {
     "data": {
      "text/plain": [
       "[Leaf 1,Leaf 2,Leaf 3,Leaf 4]"
      ]
     },
     "metadata": {},
     "output_type": "display_data"
    },
    {
     "data": {
      "text/plain": [
       "[Node (Leaf 1) 2 (Leaf 4),Node (Leaf 1) 3 (Leaf 4)]"
      ]
     },
     "metadata": {},
     "output_type": "display_data"
    }
   ],
   "source": [
    "instance Traversable Tree where\n",
    "  sequenceA Empty          = pure Empty\n",
    "  sequenceA (Leaf f)       = Leaf <$> f\n",
    "  sequenceA (Node t1 f t2) = Node <$> (sequenceA t1) <*> f <*> (sequenceA t2)\n",
    "\n",
    "t    = Node (Leaf [1]) [2, 3] (Leaf [4])\n",
    "res  = foldMap (fmap Leaf) t\n",
    "res' = sequenceA t\n",
    "\n",
    "print t\n",
    "print res\n",
    "print res'\n"
   ]
  },
  {
   "cell_type": "markdown",
   "metadata": {},
   "source": [
    "[Back to Contents](#contents)"
   ]
  },
  {
   "cell_type": "markdown",
   "metadata": {},
   "source": [
    "### Ex. 11.2.2 - List of trees to tree of lists. <a name=\"11.2.2\"/>\n",
    "*Give a natural way to turn a list of trees into a tree of lists.*"
   ]
  },
  {
   "cell_type": "code",
   "execution_count": 33,
   "metadata": {
    "collapsed": false
   },
   "outputs": [
    {
     "data": {
      "text/plain": [
       "[Empty,Leaf 1,Node (Leaf 2) 3 (Leaf 4)]"
      ]
     },
     "metadata": {},
     "output_type": "display_data"
    },
    {
     "data": {
      "text/plain": [
       "Leaf [1,2,3,4]"
      ]
     },
     "metadata": {},
     "output_type": "display_data"
    }
   ],
   "source": [
    "lofT2TofL :: [Tree a] -> Tree [a]\n",
    "-- lofT2TofL []     = Empty\n",
    "-- lofT2TofL (x:xs) = Node Empty (toList x) (lofT2TofL xs)\n",
    "lofT2TofL = Leaf . concatMap toList\n",
    "\n",
    "t1 = Empty\n",
    "t2 = Leaf 1\n",
    "t3 = Node (Leaf 2) 3 (Leaf 4)\n",
    "l1 = [t1, t2, t3]\n",
    "\n",
    "res = lofT2TofL l1\n",
    "\n",
    "print l1\n",
    "print res\n"
   ]
  },
  {
   "cell_type": "markdown",
   "metadata": {},
   "source": [
    "[Back to Contents](#contents)"
   ]
  },
  {
   "cell_type": "markdown",
   "metadata": {},
   "source": [
    "### Ex. 11.2.3 - traverse . traverse <a name=\"11.2.3\"/>\n",
    "*What is the type of traverse . traverse? What does it do?*"
   ]
  },
  {
   "cell_type": "code",
   "execution_count": 34,
   "metadata": {
    "collapsed": false
   },
   "outputs": [
    {
     "data": {
      "text/html": [
       "<style>/* Styles used for the Hoogle display in the pager */\n",
       ".hoogle-doc {\n",
       "display: block;\n",
       "padding-bottom: 1.3em;\n",
       "padding-left: 0.4em;\n",
       "}\n",
       ".hoogle-code {\n",
       "display: block;\n",
       "font-family: monospace;\n",
       "white-space: pre;\n",
       "}\n",
       ".hoogle-text {\n",
       "display: block;\n",
       "}\n",
       ".hoogle-name {\n",
       "color: green;\n",
       "font-weight: bold;\n",
       "}\n",
       ".hoogle-head {\n",
       "font-weight: bold;\n",
       "}\n",
       ".hoogle-sub {\n",
       "display: block;\n",
       "margin-left: 0.4em;\n",
       "}\n",
       ".hoogle-package {\n",
       "font-weight: bold;\n",
       "font-style: italic;\n",
       "}\n",
       ".hoogle-module {\n",
       "font-weight: bold;\n",
       "}\n",
       ".hoogle-class {\n",
       "font-weight: bold;\n",
       "}\n",
       ".get-type {\n",
       "color: green;\n",
       "font-weight: bold;\n",
       "font-family: monospace;\n",
       "display: block;\n",
       "white-space: pre-wrap;\n",
       "}\n",
       ".show-type {\n",
       "color: green;\n",
       "font-weight: bold;\n",
       "font-family: monospace;\n",
       "margin-left: 1em;\n",
       "}\n",
       ".mono {\n",
       "font-family: monospace;\n",
       "display: block;\n",
       "}\n",
       ".err-msg {\n",
       "color: red;\n",
       "font-style: italic;\n",
       "font-family: monospace;\n",
       "white-space: pre;\n",
       "display: block;\n",
       "}\n",
       "#unshowable {\n",
       "color: red;\n",
       "font-weight: bold;\n",
       "}\n",
       ".err-msg.in.collapse {\n",
       "padding-top: 0.7em;\n",
       "}\n",
       ".highlight-code {\n",
       "white-space: pre;\n",
       "font-family: monospace;\n",
       "}\n",
       ".suggestion-warning { \n",
       "font-weight: bold;\n",
       "color: rgb(200, 130, 0);\n",
       "}\n",
       ".suggestion-error { \n",
       "font-weight: bold;\n",
       "color: red;\n",
       "}\n",
       ".suggestion-name {\n",
       "font-weight: bold;\n",
       "}\n",
       "</style><span class='get-type'>traverse :: forall (t :: * -> *) a (f :: * -> *) b. (Applicative f, Traversable t) => (a -> f b) -> t a -> f (t b)</span>"
      ],
      "text/plain": [
       "traverse :: forall (t :: * -> *) a (f :: * -> *) b. (Applicative f, Traversable t) => (a -> f b) -> t a -> f (t b)"
      ]
     },
     "metadata": {},
     "output_type": "display_data"
    },
    {
     "data": {
      "text/html": [
       "<style>/* Styles used for the Hoogle display in the pager */\n",
       ".hoogle-doc {\n",
       "display: block;\n",
       "padding-bottom: 1.3em;\n",
       "padding-left: 0.4em;\n",
       "}\n",
       ".hoogle-code {\n",
       "display: block;\n",
       "font-family: monospace;\n",
       "white-space: pre;\n",
       "}\n",
       ".hoogle-text {\n",
       "display: block;\n",
       "}\n",
       ".hoogle-name {\n",
       "color: green;\n",
       "font-weight: bold;\n",
       "}\n",
       ".hoogle-head {\n",
       "font-weight: bold;\n",
       "}\n",
       ".hoogle-sub {\n",
       "display: block;\n",
       "margin-left: 0.4em;\n",
       "}\n",
       ".hoogle-package {\n",
       "font-weight: bold;\n",
       "font-style: italic;\n",
       "}\n",
       ".hoogle-module {\n",
       "font-weight: bold;\n",
       "}\n",
       ".hoogle-class {\n",
       "font-weight: bold;\n",
       "}\n",
       ".get-type {\n",
       "color: green;\n",
       "font-weight: bold;\n",
       "font-family: monospace;\n",
       "display: block;\n",
       "white-space: pre-wrap;\n",
       "}\n",
       ".show-type {\n",
       "color: green;\n",
       "font-weight: bold;\n",
       "font-family: monospace;\n",
       "margin-left: 1em;\n",
       "}\n",
       ".mono {\n",
       "font-family: monospace;\n",
       "display: block;\n",
       "}\n",
       ".err-msg {\n",
       "color: red;\n",
       "font-style: italic;\n",
       "font-family: monospace;\n",
       "white-space: pre;\n",
       "display: block;\n",
       "}\n",
       "#unshowable {\n",
       "color: red;\n",
       "font-weight: bold;\n",
       "}\n",
       ".err-msg.in.collapse {\n",
       "padding-top: 0.7em;\n",
       "}\n",
       ".highlight-code {\n",
       "white-space: pre;\n",
       "font-family: monospace;\n",
       "}\n",
       ".suggestion-warning { \n",
       "font-weight: bold;\n",
       "color: rgb(200, 130, 0);\n",
       "}\n",
       ".suggestion-error { \n",
       "font-weight: bold;\n",
       "color: red;\n",
       "}\n",
       ".suggestion-name {\n",
       "font-weight: bold;\n",
       "}\n",
       "</style><span class='get-type'>traverse . traverse :: forall (t :: * -> *) (f :: * -> *) (t1 :: * -> *) a b. (Applicative f, Traversable t, Traversable t1) => (a -> f b) -> t (t1 a) -> f (t (t1 b))</span>"
      ],
      "text/plain": [
       "traverse . traverse :: forall (t :: * -> *) (f :: * -> *) (t1 :: * -> *) a b. (Applicative f, Traversable t, Traversable t1) => (a -> f b) -> t (t1 a) -> f (t (t1 b))"
      ]
     },
     "metadata": {},
     "output_type": "display_data"
    }
   ],
   "source": [
    ":t traverse\n",
    ":t traverse . traverse\n"
   ]
  },
  {
   "cell_type": "code",
   "execution_count": 35,
   "metadata": {
    "collapsed": false
   },
   "outputs": [
    {
     "data": {
      "text/plain": [
       "[Leaf (Leaf 1)]"
      ]
     },
     "metadata": {},
     "output_type": "display_data"
    },
    {
     "data": {
      "text/plain": [
       "[Node (Leaf (Leaf 1)) (Leaf 3) (Leaf (Leaf 4)),Node (Leaf (Leaf 2)) (Leaf 3) (Leaf (Leaf 4))]"
      ]
     },
     "metadata": {},
     "output_type": "display_data"
    },
    {
     "data": {
      "text/plain": [
       "[]"
      ]
     },
     "metadata": {},
     "output_type": "display_data"
    }
   ],
   "source": [
    "-- (traverse . traverse) allows us to traverse nested Traversables:\n",
    "\n",
    "toList2 :: Tree (Tree [a]) -> [Tree(Tree a)]\n",
    "toList2 = (traverse . traverse) id\n",
    "\n",
    "tt1  = Leaf (Leaf [1])\n",
    "tt2  = Node (Leaf (Leaf [1,2])) (Leaf [3]) (Leaf (Leaf [4]))\n",
    "tt3  = Node (Leaf (Leaf [1,2])) (Leaf [3]) (Leaf (Leaf []))\n",
    "\n",
    "res1 = toList2 tt1\n",
    "res2 = toList2 tt2\n",
    "res3 = toList2 tt3\n",
    "\n",
    "print res1\n",
    "print res2\n",
    "print res3\n"
   ]
  },
  {
   "cell_type": "markdown",
   "metadata": {},
   "source": [
    "That last case is quite interesting; I don't completely understand it, yet."
   ]
  },
  {
   "cell_type": "markdown",
   "metadata": {},
   "source": [
    "[Back to Contents](#contents)"
   ]
  },
  {
   "cell_type": "markdown",
   "metadata": {},
   "source": [
    "# Section 11.3 - Traversable Instances and Examples <a name=\"11.3\"/>"
   ]
  },
  {
   "cell_type": "markdown",
   "metadata": {},
   "source": [
    "### Ex. 11.3.1 - *fmap* & *foldMap*, via Traversable methods. <a name=\"11.3.1\"/>\n",
    "*Implement *fmap* and *foldMap* using only the Traversable methods. (Note that the Traversable module provides these implementations as *fmapDefault* and *foldMapDefault*.)*"
   ]
  },
  {
   "cell_type": "code",
   "execution_count": 36,
   "metadata": {
    "collapsed": false
   },
   "outputs": [
    {
     "data": {
      "text/plain": [
       "Leaf 1"
      ]
     },
     "metadata": {},
     "output_type": "display_data"
    },
    {
     "data": {
      "text/plain": [
       "Leaf 2"
      ]
     },
     "metadata": {},
     "output_type": "display_data"
    }
   ],
   "source": [
    "import Data.Functor.Identity (Identity (..))\n",
    "\n",
    "-- fmap :: (a -> b) -> t a -> t b\n",
    "-- fmap g xs = <some function of 'traverse'>\n",
    "--   g  :: a -> b\n",
    "--   xs :: t a\n",
    "--\n",
    "-- traverse :: (Applicative f, Traversable t) => (a -> f b) -> t a -> f (t b)\n",
    "-- pure . g :: a -> f b\n",
    "-- traverse (pure . g) xs :: f (t b)\n",
    "-- runIdentity $ traverse (pure . g) xs :: t b (If f = Identity)\n",
    "-- Want :: t b\n",
    "-- fmap g xs = runIdentity $ traverse (pure . g) xs\n",
    "fmap g = runIdentity . traverse (pure . g)\n",
    "\n",
    "res = fmap (+ 1) t2\n",
    "print t2\n",
    "print res\n"
   ]
  },
  {
   "cell_type": "code",
   "execution_count": 37,
   "metadata": {
    "collapsed": false
   },
   "outputs": [
    {
     "data": {
      "text/plain": [
       "Node (Leaf 2) 3 (Leaf 4)"
      ]
     },
     "metadata": {},
     "output_type": "display_data"
    },
    {
     "data": {
      "text/plain": [
       "9"
      ]
     },
     "metadata": {},
     "output_type": "display_data"
    }
   ],
   "source": [
    "-- foldMap :: (Foldable t, Monoid m) => (a -> m) -> t a -> m\n",
    "-- foldMap g xs = <some function of 'traverse'>\n",
    "--   g  :: a -> m\n",
    "--   xs :: t a\n",
    "--\n",
    "-- traverse                          :: (Applicative f, Traversable t) => (a -> f b) -> t a -> f (t b)\n",
    "-- AppMon . g                        :: a -> AppMon m b\n",
    "-- traverse (AppMon . g)             :: t a -> AppMon m (t b)\n",
    "-- traverse (AppMon . g) xs          :: AppMon m (t b)\n",
    "-- getMon $ traverse (AppMon . g) xs :: m\n",
    "-- ..\n",
    "-- Want :: m\n",
    "-- foldMap g xs = getMon $ traverse (AppMon . g) xs\n",
    "foldMap g = getMon . traverse (AppMon . g)\n",
    "\n",
    "-- Applicative wrapper around a Monoid.\n",
    "newtype AppMon m a = AppMon {getMon :: m}\n",
    "\n",
    "instance Functor (AppMon m) where\n",
    "    fmap _ (AppMon m) = (AppMon m)\n",
    "    \n",
    "instance (Monoid m) => Applicative (AppMon m) where\n",
    "    pure _  = AppMon mempty\n",
    "    x <*> y = AppMon $ getMon x `mappend` getMon y\n",
    "    \n",
    "res = getSum $ foldMap Sum t3\n",
    "print t3\n",
    "print res\n"
   ]
  },
  {
   "cell_type": "markdown",
   "metadata": {},
   "source": [
    "[Back to Contents](#contents)"
   ]
  }
 ],
 "metadata": {
  "kernelspec": {
   "display_name": "Haskell",
   "language": "haskell",
   "name": "haskell"
  },
  "language_info": {
   "codemirror_mode": "ihaskell",
   "file_extension": ".hs",
   "name": "haskell",
   "version": "7.10.3"
  }
 },
 "nbformat": 4,
 "nbformat_minor": 0
}
