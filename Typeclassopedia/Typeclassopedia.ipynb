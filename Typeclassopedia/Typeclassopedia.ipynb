{
 "cells": [
  {
   "cell_type": "markdown",
   "metadata": {},
   "source": [
    "# Captain Freako's Solutions to *Typeclassopedia* Exercises\n",
    "Original author: David Banas <capn.freako@gmail.com>  \n",
    "Original date: September 25, 2015\n",
    "\n",
    "Copyright (c) 2015 David Banas; all rights reserved World wide.\n",
    "\n",
    "This [jupyter notebook](https://github.com/gibiansky/ihaskell) contains my solutions to some of the exercises posed by [Brent Yorgey](mailto:byorgey@cis.upenn.edu), in his [Typeclassopedia](https://wiki.haskell.org/Typeclassopedia) document."
   ]
  },
  {
   "cell_type": "markdown",
   "metadata": {},
   "source": [
    "## Additional Contributors\n",
    "- Phil Ruffwind <rf@rufflewind.com>\n",
    "- Conal Elliott <conal@conal.net>\n"
   ]
  },
  {
   "cell_type": "markdown",
   "metadata": {},
   "source": [
    "## Contents <a name=\"contents\"/>\n",
    "- <a href=\"#3.2\">Section 3.2 - Functor Instances</a>\n",
    "    - <a href=\"#3.2.1\">Ex. 3.2.1 - Functor instances for Either e and ((->) e)</a>\n",
    "    - <a href=\"#3.2.2\">Ex. 3.2.2 - Functor instances for ((,) e) and Pair</a>\n",
    "    - <a href=\"#3.2.3\">Ex. 3.2.3 - Functor instances for a tree</a>\n",
    "    - <a href=\"#3.2.4\">Ex. 3.2.4 - Non-Functor type of kind: \\* -> \\* </a>\n",
    "    - <a href=\"#3.2.5\">Ex. 3.2.5 - Is the composition of two Functors also a Functor?</a>\n",
    "- <a href=\"#3.3\">Section 3.3 - Functor Laws</a>\n",
    "    - <a href=\"#3.3.1\">Ex. 3.3.1 - Satisfies second Functor law, but not first.</a>\n",
    "    - <a href=\"#3.3.2\">Ex. 3.3.2 - Which laws violated by bad Functor list instance?</a>\n",
    "- <a href=\"#4.2\">Section 4.2 - Applicative Laws</a>\n",
    "    - <a href=\"#4.2.1\">Ex. 4.2.1 - Applying a pure function to an effectful argument.</a>\n",
    "- <a href=\"#4.3\">Section 4.3 - Applicative Instances</a>\n",
    "    - <a href=\"#4.3.1\">Ex. 4.3.1 - Maybe</a>\n",
    "    - <a href=\"#4.3.2\">Ex. 4.3.2 - ZipList</a>\n",
    "- <a href=\"#4.5\">Section 4.5 - Alternative Formulation (Monoidal)</a>\n",
    "    - <a href=\"#4.5.1\">Ex. 4.5.1 - pure and <*>, via unit and (**)</a>\n",
    "    - <a href=\"#4.5.2\">Ex. 4.5.2 - Applicative instances providing inverses of Monoidal functions</a>\n",
    "    - <a href=\"#4.5.3\">Ex. 4.5.3 - Equivalency of Applicative and Monoidal laws</a>\n",
    "- <a href=\"#10.2\">Section 10.2 - *Foldable* - Instances and Examples</a>\n",
    "    - <a href=\"#10.2.1\">Ex. 10.2.1 - Type of 'foldMap . foldMap'?</a>\n",
    "- <a href=\"#10.3\">Section 10.3 - Derived Folds</a>\n",
    "    - <a href=\"#10.3.1\">Ex. 10.3.1 - Implement *toList*.</a>\n",
    "    - <a href=\"#10.3.2\">Ex. 10.3.2 - Implement *concat*, etc.</a>\n",
    "        - <a href=\"#10.3.2.a\">Ex. 10.3.2.a - Implement *concat*.</a>\n",
    "        - <a href=\"#10.3.2.b\">Ex. 10.3.2.b - Implement *concatMap*.</a>\n",
    "        - <a href=\"#10.3.2.c\">Ex. 10.3.2.c - Implement *and*.</a>\n",
    "        - <a href=\"#10.3.2.d\">Ex. 10.3.2.d - Implement *or*.</a>\n",
    "        - <a href=\"#10.3.2.e\">Ex. 10.3.2.e - Implement *any*.</a>\n",
    "        - <a href=\"#10.3.2.f\">Ex. 10.3.2.f - Implement *all*.</a>\n",
    "        - <a href=\"#10.3.2.g\">Ex. 10.3.2.g - Implement *sum*.</a>\n",
    "        - <a href=\"#10.3.2.h\">Ex. 10.3.2.h - Implement *product*.</a>\n",
    "        - <a href=\"#10.3.2.i\">Ex. 10.3.2.i - Implement *maximum*.</a>\n",
    "        - <a href=\"#10.3.2.j\">Ex. 10.3.2.j - Implement *minimum*.</a>\n",
    "        - <a href=\"#10.3.2.k\">Ex. 10.3.2.k - Implement *elem*.</a>\n",
    "        - <a href=\"#10.3.2.l\">Ex. 10.3.2.l - Implement *notElem*.</a>\n",
    "        - <a href=\"#10.3.2.m\">Ex. 10.3.2.m - Implement *find*.</a>\n",
    "- <a href=\"#11.1\">Section 11.1 - Traversable Definition</a>\n",
    "- <a href=\"#11.2\">Section 11.2 - Traversable Intuiition</a>\n",
    "    - <a href=\"#11.2.1\">Ex. 11.2.1 - Tree of list => list of trees.</a>\n",
    "    - <a href=\"#11.2.1x\">Ex. 11.2.1x - *sequenceA* in terms of *foldMap*.</a>\n"
   ]
  },
  {
   "cell_type": "code",
   "execution_count": 1,
   "metadata": {
    "collapsed": false
   },
   "outputs": [
    {
     "data": {
      "text/html": [
       "<style>/* Styles used for the Hoogle display in the pager */\n",
       ".hoogle-doc {\n",
       "display: block;\n",
       "padding-bottom: 1.3em;\n",
       "padding-left: 0.4em;\n",
       "}\n",
       ".hoogle-code {\n",
       "display: block;\n",
       "font-family: monospace;\n",
       "white-space: pre;\n",
       "}\n",
       ".hoogle-text {\n",
       "display: block;\n",
       "}\n",
       ".hoogle-name {\n",
       "color: green;\n",
       "font-weight: bold;\n",
       "}\n",
       ".hoogle-head {\n",
       "font-weight: bold;\n",
       "}\n",
       ".hoogle-sub {\n",
       "display: block;\n",
       "margin-left: 0.4em;\n",
       "}\n",
       ".hoogle-package {\n",
       "font-weight: bold;\n",
       "font-style: italic;\n",
       "}\n",
       ".hoogle-module {\n",
       "font-weight: bold;\n",
       "}\n",
       ".hoogle-class {\n",
       "font-weight: bold;\n",
       "}\n",
       ".get-type {\n",
       "color: green;\n",
       "font-weight: bold;\n",
       "font-family: monospace;\n",
       "display: block;\n",
       "white-space: pre-wrap;\n",
       "}\n",
       ".show-type {\n",
       "color: green;\n",
       "font-weight: bold;\n",
       "font-family: monospace;\n",
       "margin-left: 1em;\n",
       "}\n",
       ".mono {\n",
       "font-family: monospace;\n",
       "display: block;\n",
       "}\n",
       ".err-msg {\n",
       "color: red;\n",
       "font-style: italic;\n",
       "font-family: monospace;\n",
       "white-space: pre;\n",
       "display: block;\n",
       "}\n",
       "#unshowable {\n",
       "color: red;\n",
       "font-weight: bold;\n",
       "}\n",
       ".err-msg.in.collapse {\n",
       "padding-top: 0.7em;\n",
       "}\n",
       ".highlight-code {\n",
       "white-space: pre;\n",
       "font-family: monospace;\n",
       "}\n",
       ".suggestion-warning { \n",
       "font-weight: bold;\n",
       "color: rgb(200, 130, 0);\n",
       "}\n",
       ".suggestion-error { \n",
       "font-weight: bold;\n",
       "color: red;\n",
       "}\n",
       ".suggestion-name {\n",
       "font-weight: bold;\n",
       "}\n",
       "</style><span class='err-msg'>Warning: -XDatatypeContexts is deprecated: It was widely considered a misfeature, and has been removed from the Haskell language.</span>"
      ],
      "text/plain": [
       "Warning: -XDatatypeContexts is deprecated: It was widely considered a misfeature, and has been removed from the Haskell language."
      ]
     },
     "metadata": {},
     "output_type": "display_data"
    },
    {
     "data": {
      "text/plain": [
       "Notebook last run:"
      ]
     },
     "metadata": {},
     "output_type": "display_data"
    },
    {
     "data": {
      "text/plain": [
       "2016-02-04 15:29:20.91673 UTC"
      ]
     },
     "metadata": {},
     "output_type": "display_data"
    }
   ],
   "source": [
    "-- All language pragmas should come before any other code cells, to avoid confusing errors.\n",
    "{-# LANGUAGE\n",
    " DeriveFunctor\n",
    " DatatypeContexts  -- Needs to be included, despite deprecation warning.\n",
    " ScopedTypeVariables\n",
    " FlexibleContexts\n",
    " UndecidableInstances\n",
    " AllowAmbiguousTypes\n",
    " #-}\n",
    "\n",
    "import Data.Time\n",
    "\n",
    "putStrLn \"Notebook last run:\"\n",
    "getCurrentTime"
   ]
  },
  {
   "cell_type": "markdown",
   "metadata": {},
   "source": [
    "## Section 3.2 - Functor Instances <a name=\"3.2\"/>"
   ]
  },
  {
   "cell_type": "markdown",
   "metadata": {},
   "source": [
    "### Ex. 3.2.1 - Functor instances for Either e and ((->) e) <a name=\"3.2.1\"/>"
   ]
  },
  {
   "cell_type": "code",
   "execution_count": 2,
   "metadata": {
    "collapsed": false,
    "scrolled": true
   },
   "outputs": [
    {
     "data": {
      "text/plain": [
       "True"
      ]
     },
     "metadata": {},
     "output_type": "display_data"
    },
    {
     "data": {
      "text/plain": [
       "True"
      ]
     },
     "metadata": {},
     "output_type": "display_data"
    },
    {
     "data": {
      "text/plain": [
       "True"
      ]
     },
     "metadata": {},
     "output_type": "display_data"
    }
   ],
   "source": [
    "class MyFunctor f where\n",
    "    fmap' :: (a -> b) -> f a -> f b\n",
    "\n",
    "instance MyFunctor (Either e) where\n",
    "    fmap' g (Left e)  = Left e\n",
    "    fmap' g (Right x) = Right (g x)\n",
    "\n",
    "instance MyFunctor ((->) e) where\n",
    "    fmap' g f = g . f\n",
    "\n",
    "-- Testing Functor law on defined instances.\n",
    "func_law x = fmap' id x == x  -- \"id x\" was producing an annoying error.\n",
    "\n",
    "func_law2 x = fmap' id f x == f x\n",
    "  where\n",
    "    f x = 2 * x\n",
    "\n",
    "func_law (Left \"Error String\")\n",
    "func_law (Right 1)\n",
    "func_law2 (2::Int)\n"
   ]
  },
  {
   "cell_type": "markdown",
   "metadata": {},
   "source": [
    "[Back to Contents](#contents)"
   ]
  },
  {
   "cell_type": "markdown",
   "metadata": {},
   "source": [
    "### Ex. 3.2.2 - Functor instances for ((,) e) and Pair <a name=\"3.2.2\"/>"
   ]
  },
  {
   "cell_type": "code",
   "execution_count": 3,
   "metadata": {
    "collapsed": false
   },
   "outputs": [
    {
     "data": {
      "text/plain": [
       "True"
      ]
     },
     "metadata": {},
     "output_type": "display_data"
    },
    {
     "data": {
      "text/plain": [
       "True"
      ]
     },
     "metadata": {},
     "output_type": "display_data"
    }
   ],
   "source": [
    "instance MyFunctor ((,) e) where\n",
    "    fmap' g (e, a) = (e, g a)\n",
    "\n",
    "data Pair a = Pair a a deriving (Eq, Show)\n",
    "\n",
    "instance MyFunctor Pair where\n",
    "    fmap' g (Pair x y) = Pair (g x) (g y)\n",
    "\n",
    "func_law (\"msg\", 0.1)\n",
    "func_law $ Pair 1 2\n"
   ]
  },
  {
   "cell_type": "markdown",
   "metadata": {},
   "source": [
    "__Discussion, as per exercise instructions:__\n",
    "\n",
    "  -  Similarities:\n",
    "  \n",
    "     - Both types/instances return a pair of values.\n",
    "\n",
    "  -  Differences:\n",
    "  \n",
    "    - The type of the first member of the pair can differ from that\n",
    "      of the second, in the '(,) e' case.\n",
    "      \n",
    "    - The mapped function, g, is only mapped over the second member\n",
    "      of the pair, in the '(,) e' case.\n",
    "      \n",
    "    - The type of the second member of the pair is NOT included in\n",
    "      the Functor instance, for either type, but the type of the\n",
    "      first member IS included, for ((,) e), but NOT for Pair.\n"
   ]
  },
  {
   "cell_type": "markdown",
   "metadata": {},
   "source": [
    "[Back to Contents](#contents)"
   ]
  },
  {
   "cell_type": "markdown",
   "metadata": {},
   "source": [
    "### Ex. 3.2.3 - Functor instance for a tree <a name=\"3.2.3\"/>"
   ]
  },
  {
   "cell_type": "code",
   "execution_count": 4,
   "metadata": {
    "collapsed": false
   },
   "outputs": [
    {
     "data": {
      "text/plain": [
       "True"
      ]
     },
     "metadata": {},
     "output_type": "display_data"
    }
   ],
   "source": [
    "data ITree a = Leaf (Int -> a) \n",
    "             | Node [ITree a]\n",
    "\n",
    "instance Eq a => Eq (ITree a) where\n",
    "    Leaf g == Leaf h = g 0 == h 0\n",
    "    Node xs == Node ys = and (zipWith (==) xs ys)\n",
    "    Leaf _ == Node _ = False\n",
    "    Node _ == Leaf _ = False\n",
    "\n",
    "instance MyFunctor ITree where\n",
    "    fmap' g (Leaf f)   = Leaf (g . f)\n",
    "    fmap' g (Node its) = Node $ map (fmap' g) its\n",
    "\n",
    "-- Test Functor identity law.\n",
    "let f = Node [Leaf id, Leaf id] in\n",
    "  fmap' id f == f\n"
   ]
  },
  {
   "cell_type": "markdown",
   "metadata": {},
   "source": [
    "[Back to Contents](#contents)"
   ]
  },
  {
   "cell_type": "markdown",
   "metadata": {},
   "source": [
    "### Ex. 3.2.4 - Non-Functor type of kind: \\* -> \\* <a name=\"3.2.4\"/>"
   ]
  },
  {
   "cell_type": "code",
   "execution_count": 5,
   "metadata": {
    "collapsed": false
   },
   "outputs": [
    {
     "data": {
      "text/html": [
       "<style>/* Styles used for the Hoogle display in the pager */\n",
       ".hoogle-doc {\n",
       "display: block;\n",
       "padding-bottom: 1.3em;\n",
       "padding-left: 0.4em;\n",
       "}\n",
       ".hoogle-code {\n",
       "display: block;\n",
       "font-family: monospace;\n",
       "white-space: pre;\n",
       "}\n",
       ".hoogle-text {\n",
       "display: block;\n",
       "}\n",
       ".hoogle-name {\n",
       "color: green;\n",
       "font-weight: bold;\n",
       "}\n",
       ".hoogle-head {\n",
       "font-weight: bold;\n",
       "}\n",
       ".hoogle-sub {\n",
       "display: block;\n",
       "margin-left: 0.4em;\n",
       "}\n",
       ".hoogle-package {\n",
       "font-weight: bold;\n",
       "font-style: italic;\n",
       "}\n",
       ".hoogle-module {\n",
       "font-weight: bold;\n",
       "}\n",
       ".hoogle-class {\n",
       "font-weight: bold;\n",
       "}\n",
       ".get-type {\n",
       "color: green;\n",
       "font-weight: bold;\n",
       "font-family: monospace;\n",
       "display: block;\n",
       "white-space: pre-wrap;\n",
       "}\n",
       ".show-type {\n",
       "color: green;\n",
       "font-weight: bold;\n",
       "font-family: monospace;\n",
       "margin-left: 1em;\n",
       "}\n",
       ".mono {\n",
       "font-family: monospace;\n",
       "display: block;\n",
       "}\n",
       ".err-msg {\n",
       "color: red;\n",
       "font-style: italic;\n",
       "font-family: monospace;\n",
       "white-space: pre;\n",
       "display: block;\n",
       "}\n",
       "#unshowable {\n",
       "color: red;\n",
       "font-weight: bold;\n",
       "}\n",
       ".err-msg.in.collapse {\n",
       "padding-top: 0.7em;\n",
       "}\n",
       ".highlight-code {\n",
       "white-space: pre;\n",
       "font-family: monospace;\n",
       "}\n",
       ".suggestion-warning { \n",
       "font-weight: bold;\n",
       "color: rgb(200, 130, 0);\n",
       "}\n",
       ".suggestion-error { \n",
       "font-weight: bold;\n",
       "color: red;\n",
       "}\n",
       ".suggestion-name {\n",
       "font-weight: bold;\n",
       "}\n",
       "</style><span class='err-msg'>Can't make a derived instance of ‘Functor interactive:IHaskell150.NoFunc’: Data type ‘IHaskell150.NoFunc’ must not have a class context (Ord a)<br/>In the data declaration for ‘IHaskell150.NoFunc’</span>"
      ],
      "text/plain": [
       "Can't make a derived instance of ‘Functor interactive:Ghci150.NoFunc’: Data type ‘interactive:Ghci150.NoFunc’ must not have a class context (Ord a)\n",
       "In the data declaration for ‘interactive:Ghci150.NoFunc’"
      ]
     },
     "metadata": {},
     "output_type": "display_data"
    }
   ],
   "source": [
    "-- data NoFunc a = NoFunc a deriving (Functor)  -- Compiles without error.\n",
    "data (Ord a) => NoFunc a = NoFunc a deriving (Functor)\n"
   ]
  },
  {
   "cell_type": "markdown",
   "metadata": {},
   "source": [
    "[Back to Contents](#contents)"
   ]
  },
  {
   "cell_type": "markdown",
   "metadata": {},
   "source": [
    "### Ex. 3.2.5 - Is the composition of two Functors also a Functor? <a name=\"3.2.5\"/>"
   ]
  },
  {
   "cell_type": "code",
   "execution_count": 6,
   "metadata": {
    "collapsed": false
   },
   "outputs": [],
   "source": [
    "-- Yes: The following code compiles without error.\n",
    "data Func1 a = Func1 a deriving (Functor)\n",
    "data Func2 b = Func2 b deriving (Functor)\n",
    "data CompFunc b = CompFunc (Func1 (Func2 b)) deriving (Functor)\n"
   ]
  },
  {
   "cell_type": "markdown",
   "metadata": {},
   "source": [
    "[Back to Contents](#contents)"
   ]
  },
  {
   "cell_type": "markdown",
   "metadata": {},
   "source": [
    "## Section 3.3 - Functor Laws <a name=\"3.3\"/>"
   ]
  },
  {
   "cell_type": "markdown",
   "metadata": {},
   "source": [
    "### Ex. 3.3.1 - Satisfies second Functor law, but not first. <a name=\"3.3.1\"/>\n",
    "I was pointed to the following solution, by Phil Ruffwind <rf@rufflewind.com>:\n",
    "\n",
    "[Stack Overflow Solution](http://stackoverflow.com/questions/13539335/haskell-first-functor-law-from-second/13539433#13539433)\n"
   ]
  },
  {
   "cell_type": "code",
   "execution_count": 7,
   "metadata": {
    "collapsed": false
   },
   "outputs": [
    {
     "data": {
      "text/plain": [
       "False"
      ]
     },
     "metadata": {},
     "output_type": "display_data"
    },
    {
     "data": {
      "text/plain": [
       "True"
      ]
     },
     "metadata": {},
     "output_type": "display_data"
    }
   ],
   "source": [
    "data Break a = Yes | No deriving (Eq)\n",
    "\n",
    "instance MyFunctor Break where\n",
    "   fmap' f _ = No\n",
    "\n",
    "-- Test Functor id law.\n",
    "fmap' id Yes == Yes\n",
    "\n",
    "-- Test Functor composition law.\n",
    "let g = id\n",
    "    h = const Yes\n",
    "  in fmap' (g . h) Yes == (fmap' g . fmap' h) Yes\n"
   ]
  },
  {
   "cell_type": "markdown",
   "metadata": {},
   "source": [
    "[Back to Contents](#contents)"
   ]
  },
  {
   "cell_type": "markdown",
   "metadata": {},
   "source": [
    "### Ex. 3.3.2 - Which laws violated by bad Functor list instance? <a name=\"3.3.2\"/>\n",
    "Both, because each application of fmap doubles the size of the list."
   ]
  },
  {
   "cell_type": "code",
   "execution_count": 8,
   "metadata": {
    "collapsed": false
   },
   "outputs": [
    {
     "data": {
      "text/plain": [
       "False"
      ]
     },
     "metadata": {},
     "output_type": "display_data"
    },
    {
     "data": {
      "text/plain": [
       "False"
      ]
     },
     "metadata": {},
     "output_type": "display_data"
    }
   ],
   "source": [
    "-- Evil Functor instance\n",
    "instance MyFunctor [] where\n",
    "  fmap' _ [] = []\n",
    "  fmap' g (x:xs) = g x : g x : fmap g xs\n",
    "\n",
    "-- Testing Functor identity law.\n",
    "fmap' id [1,2,3] == [1,2,3]\n",
    "\n",
    "-- Testing Functor composition law.\n",
    "fmap' ((+ 1) . (* 2)) [1,2,3] == (fmap' (+ 1) . fmap' (* 2)) [1,2,3]\n"
   ]
  },
  {
   "cell_type": "markdown",
   "metadata": {},
   "source": [
    "[Back to Contents](#contents)"
   ]
  },
  {
   "cell_type": "markdown",
   "metadata": {},
   "source": [
    "## Section 4.2 - Applicative Laws <a name=\"4.2\"/>"
   ]
  },
  {
   "cell_type": "markdown",
   "metadata": {},
   "source": [
    "### Ex. 4.2.1 - Applying a pure function to an effectful argument. <a name=\"4.2.1\"/>"
   ]
  },
  {
   "cell_type": "markdown",
   "metadata": {},
   "source": [
    "__To prove:__\n",
    "```\n",
    "pure f <*> x = pure (flip ($)) <*> x <*> pure f\n",
    "```\n",
    "\n",
    "__Available Laws/Properties:__\n",
    "```\n",
    "pure f <*> x      = fmap f x            = f <$> x                  (1st Applicative Law)\n",
    "f <*> pure x      = pure ($ x) <*> f    = pure (flip ($) x) <*> f  (interchange)\n",
    "pure f <*> pure x = pure (f x)                                     (homomorphism)\n",
    "fmap h (fmap g f) = (fmap h . fmap g) f = fmap (h . g) f           (2nd Functor Law)\n",
    "```\n",
    "\n",
    "__Useful Relationships:__\n",
    "```\n",
    "f     = \\x -> f x =      ($) f = (f $)                             (function/lambda definition)\n",
    "($ x) = \\f -> f x = flip ($) x                                     (\"($ x)\" syntax definition)`\n",
    "```\n",
    "\n",
    "__Proof:__\n",
    "```\n",
    "pure (flip ($)) <*> x <*> pure f       =  (associativity)\n",
    "(pure (flip ($)) <*> x) <*> pure f     =  (interchange)\n",
    "pure ($ f) <*> (pure (flip ($)) <*> x) =  (1st Applicative Law)\n",
    "fmap (flip ($) f) (fmap (flip ($)) x)  =  (g = flip ($))\n",
    "fmap (g f) (fmap g x)                  =  (Second Functor Law)\n",
    "fmap (g f . g) x                       =  (lemma 1, below)\n",
    "fmap f x                               =  (1st Applicative Law)\n",
    "pure f <*> x\n",
    "```\n",
    "&#9633;\n",
    "\n",
    "__Lemma 1:__\n",
    "```\n",
    "(flip ($) g) . flip ($) == g\n",
    "```\n",
    "\n",
    "__Types:__\n",
    "```\n",
    "g                       :: a -> b\n",
    "flip ($)                :: a1 -> ((a1 -> b1) -> b1)\n",
    "flip ($) g              :: ((a -> b) -> b1) -> b1\n",
    "(flip ($) g) . flip ($) :: a -> b\n",
    "```\n",
    "\n",
    "__Proof:__\n",
    "```\n",
    "(flip ($) g) . flip ($)                         =  (definition of \"flip ($)\")\n",
    "((\\x -> (\\f -> f x)) g) . (\\y -> (\\f' -> f' y)) =  (eta reduction)\n",
    "(\\f -> f g) . (\\y -> (\\f' -> f' y))             =  (expansion of composition)\n",
    "\\y -> (\\f' -> f' y) g                           =  (eta reduction)\n",
    "\\y -> g y                                       =  (function/lambda definition)\n",
    "g  \n",
    "```\n",
    "&#9633;\n"
   ]
  },
  {
   "cell_type": "markdown",
   "metadata": {},
   "source": [
    "[Back to Contents](#contents)"
   ]
  },
  {
   "cell_type": "markdown",
   "metadata": {},
   "source": [
    "## Section 4.3 - Applicative Instances <a name=\"4.3\"/>"
   ]
  },
  {
   "cell_type": "markdown",
   "metadata": {},
   "source": [
    "### Ex. 4.3.1 - Applicative instance for Maybe <a name=\"4.3.1\"/>"
   ]
  },
  {
   "cell_type": "code",
   "execution_count": 9,
   "metadata": {
    "collapsed": true
   },
   "outputs": [],
   "source": [
    "class MyApplicative f where\n",
    "    pure'  :: a -> f a\n",
    "    (<@>)  :: f (a -> b) -> f a -> f b\n",
    "    \n",
    "instance MyApplicative Maybe where\n",
    "    pure' = Just\n",
    "    Nothing <@> _ = Nothing\n",
    "    _ <@> Nothing = Nothing\n",
    "    Just g <@> Just a = Just (g a)\n",
    "    "
   ]
  },
  {
   "cell_type": "code",
   "execution_count": 10,
   "metadata": {
    "collapsed": false
   },
   "outputs": [
    {
     "data": {
      "text/plain": [
       "Nothing"
      ]
     },
     "metadata": {},
     "output_type": "display_data"
    },
    {
     "data": {
      "text/plain": [
       "True"
      ]
     },
     "metadata": {},
     "output_type": "display_data"
    },
    {
     "data": {
      "text/plain": [
       "True"
      ]
     },
     "metadata": {},
     "output_type": "display_data"
    },
    {
     "data": {
      "text/plain": [
       "True"
      ]
     },
     "metadata": {},
     "output_type": "display_data"
    },
    {
     "data": {
      "text/plain": [
       "True"
      ]
     },
     "metadata": {},
     "output_type": "display_data"
    }
   ],
   "source": [
    "-- Test the Applicative laws.\n",
    "\n",
    "-- Identity\n",
    "-- pure' id <@> Nothing == Nothing\n",
    "pure' id <@> Nothing -- The above causes the IHaskell kernel to hang, while working fine in ghci.\n",
    "-- Curiously, even though the error message, below, calls for this,\n",
    "-- when I attempt to use it I get an error saying the function\n",
    "-- 'isNothing' is not in scope! (?!)\n",
    "-- isNothing (pure' id <@> Nothing)\n",
    "Just id <@> Just 3 == Just 3\n",
    "\n",
    "-- Homomorphism\n",
    "Just (+ 2) <@> Just 3 == Just ((+ 2) 3)\n",
    "\n",
    "-- Interchange\n",
    "Just (+ 2) <@> Just 3 == Just ($ 3) <@> Just (+ 2)\n",
    "\n",
    "-- Composition\n",
    "Just (+ 2) <@> (Just (+ 3) <@> Just 4) == Just (.) <@> Just (+ 2) <@> Just (+ 3) <@> Just 4"
   ]
  },
  {
   "cell_type": "markdown",
   "metadata": {},
   "source": [
    "[Back to Contents](#contents)"
   ]
  },
  {
   "cell_type": "markdown",
   "metadata": {},
   "source": [
    "### Ex. 4.3.2 - Correct Applicative instance for ZipList <a name=\"4.3.2\"/>"
   ]
  },
  {
   "cell_type": "code",
   "execution_count": 11,
   "metadata": {
    "collapsed": false
   },
   "outputs": [
    {
     "data": {
      "text/plain": [
       "True"
      ]
     },
     "metadata": {},
     "output_type": "display_data"
    },
    {
     "data": {
      "text/plain": [
       "True"
      ]
     },
     "metadata": {},
     "output_type": "display_data"
    },
    {
     "data": {
      "text/plain": [
       "True"
      ]
     },
     "metadata": {},
     "output_type": "display_data"
    },
    {
     "data": {
      "text/plain": [
       "True"
      ]
     },
     "metadata": {},
     "output_type": "display_data"
    }
   ],
   "source": [
    "newtype ZipList a = ZipList { getZipList :: [a] } deriving (Eq)\n",
    " \n",
    "instance MyApplicative ZipList where\n",
    "  pure' x = ZipList (repeat x)\n",
    "  (ZipList gs) <@> (ZipList xs) = ZipList (zipWith ($) gs xs)\n",
    "\n",
    "-- Test the Applicative laws.\n",
    "\n",
    "-- Identity\n",
    "pure' id <@> ZipList ([1,2,3] :: [Int]) == ZipList [1,2,3]\n",
    "\n",
    "-- Homomorphism\n",
    "pure' (+ 2) <@> ZipList ([1,2,3] :: [Int]) == ZipList (map (+ 2) [1,2,3])\n",
    "\n",
    "-- Interchange\n",
    "ZipList (replicate 3 (+ 2)) <@> pure' 1 == pure' ($ 1) <@> ZipList (replicate 3 (+ 2))\n",
    "\n",
    "-- Composition\n",
    "ZipList (replicate 3 (+ 2)) <@> (ZipList (replicate 3 (+ 3)) <@> ZipList [1,2,3]) ==\n",
    "    pure' (.) <@> ZipList (replicate 3 (+ 2)) <@> ZipList (replicate 3 (+ 3)) <@> ZipList [1,2,3]\n"
   ]
  },
  {
   "cell_type": "markdown",
   "metadata": {},
   "source": [
    "[Back to Contents](#contents)"
   ]
  },
  {
   "cell_type": "markdown",
   "metadata": {},
   "source": [
    "## Section 4.5 - Alternative Formulation (Monoidal) <a name=\"4.5\"/>"
   ]
  },
  {
   "cell_type": "markdown",
   "metadata": {},
   "source": [
    "### Ex. 4.5.1 - _pure_ and _<\\*>_, via _unit_ and _(\\*\\*)_ <a name=\"4.5.1\"/>"
   ]
  },
  {
   "cell_type": "code",
   "execution_count": 12,
   "metadata": {
    "collapsed": false
   },
   "outputs": [],
   "source": [
    "class Applicative f => Monoidal f where\n",
    "  unit :: f ()\n",
    "  unit  = pure ()\n",
    "  \n",
    "  (**) :: f a -> f b -> f (a,b)\n",
    "  (**)  fa fb = pure (,) <*> fa <*> fb\n"
   ]
  },
  {
   "cell_type": "code",
   "execution_count": 13,
   "metadata": {
    "collapsed": false
   },
   "outputs": [],
   "source": [
    "class Monoidal f => MyApplicative f where\n",
    "  pure'  :: a -> f a\n",
    "  pure' x = fmap (const x) unit\n",
    "  \n",
    "  (<@>)    :: f (a -> b) -> f a -> f b\n",
    "  fg <@> fx = fmap (uncurry ($)) (fg ** fx)"
   ]
  },
  {
   "cell_type": "markdown",
   "metadata": {},
   "source": [
    "The fact that we have to `fmap` something over `unit` and `(**)`, in order to implement `pure` and `<*>`, suggests that the _Monoidal_ implementation is more general (since we could `fmap` something else, if that proved useful to some purpose)."
   ]
  },
  {
   "cell_type": "markdown",
   "metadata": {},
   "source": [
    "[Back to Contents](#contents)"
   ]
  },
  {
   "cell_type": "markdown",
   "metadata": {},
   "source": [
    "### Ex. 4.5.2 - Applicative instances providing inverses of Monoidal functions <a name=\"4.5.2\"/>\n",
    "\n",
    "Are there any Applicative instances for which there are also functions `f () -> ()` and `f (a,b) -> (f a, f b)`, satisfying some \"reasonable\" laws?"
   ]
  },
  {
   "cell_type": "code",
   "execution_count": 14,
   "metadata": {
    "collapsed": false
   },
   "outputs": [],
   "source": [
    "instance Monoidal Maybe\n",
    "\n",
    "unit' :: Maybe () -> ()\n",
    "unit' Nothing   = ()\n",
    "unit' (Just ()) = ()\n",
    "\n",
    "unjoin :: Maybe (a, b) -> (Maybe a, Maybe b)\n",
    "unjoin Nothing       = (Nothing, Nothing)\n",
    "unjoin (Just (x, y)) = (Just x, Just y)\n"
   ]
  },
  {
   "cell_type": "markdown",
   "metadata": {},
   "source": [
    "**Laws:**\n",
    "\n",
    "- Left Identity:  \n",
    "  `first (arr unit') $ unjoin Just ((), x) ≅ Just x`\n",
    "  \n",
    "- Right Identity:  \n",
    "  `second (arr unit') $ unjoin Just (x, ()) ≅ Just x`\n",
    "  \n",
    "- Inverse:  \n",
    "  `unit' . unit == ()`\n",
    "\n",
    "**Proofs:**\n",
    "\n",
    "- Left Identity:  \n",
    "  ```\n",
    "  first (arr unit') $ unjoin Just ((), x) = (definition of unjoin)\n",
    "  first (arr unit') (Just (), Just x)     = (application of \"first (arr unit')\")\n",
    "  ((), Just x)                            ≅ (definition of isomorphism)\n",
    "  Just x\n",
    "  ```\n",
    "  &#9633;\n",
    "  \n",
    "- Right Identity:  \n",
    "  (Trivial, as per Left Identity.)\n",
    "  \n",
    "- Inverse:\n",
    "  ```\n",
    "  unit' . unit    = (definition of compose)\n",
    "  unit' (unit)    = (definition of unit)\n",
    "  unit' (Just ()) = (definition of unit')\n",
    "  ()\n",
    "  ```\n",
    "  &#9633;\n"
   ]
  },
  {
   "cell_type": "markdown",
   "metadata": {},
   "source": [
    "[Back to Contents](#contents)"
   ]
  },
  {
   "cell_type": "markdown",
   "metadata": {},
   "source": [
    "### Ex. 4.5.3 - Equivalency of Applicative and Monoidal laws <a name=\"4.5.3\"/>\n",
    "\n",
    "(Tricky) Prove that given your implementations from the previous exercise, the usual Applicative laws and the Monoidal laws stated above are equivalent."
   ]
  },
  {
   "cell_type": "markdown",
   "metadata": {},
   "source": [
    "**Applicative Laws:**\n",
    "\n",
    "- Identity:  \n",
    "  `pure id <*> v = v`\n",
    "\n",
    "- Homomorphism:  \n",
    "  `pure f <*> pure x = pure (f x)`\n",
    "\n",
    "- Interchange:  \n",
    "  `u <*> pure y = pure ($ y) <*> u`\n",
    "\n",
    "- Composition:  \n",
    "  `u <*> (v <*> w) = pure (.) <*> u <*> v <*> w`\n",
    "\n",
    "**Monoidal Laws:**\n",
    "\n",
    "- Left Identity:  \n",
    "  `unit ** v ≅ v`\n",
    "  \n",
    "- Right Identity:  \n",
    "  `u ** unit ≅ u`\n",
    "\n",
    "- Associativity:  \n",
    "  `u ** (v ** w) ≅ (u ** v) ** w`\n",
    "\n",
    "**Proofs:**\n",
    "\n",
    "- Identity:\n",
    "\n",
    "```\n",
    "pure id <*> v                                    = (implementation of (<*>), via (**))\n",
    "fmap (uncurry ($)) (pure id ** v)                = (implementation of pure, via unit)\n",
    "fmap (uncurry ($)) ((fmap (const id) unit) ** v) = ()\n",
    "\n",
    "fmap g (f x ** f y) = fmap g (f (x, y)) = f (g (x, y))\n",
    "fmap (uncurry ($)) ((fmap (const id) unit) ** v) = (v = f x)\n",
    "fmap (uncurry ($)) f (id, x) = f (id x) = f x = v\n",
    "```\n"
   ]
  },
  {
   "cell_type": "markdown",
   "metadata": {},
   "source": [
    "[Back to Contents](#contents)"
   ]
  },
  {
   "cell_type": "markdown",
   "metadata": {},
   "source": [
    "# Section 10.2 - *Foldable* - Instances and Examples <a name=\"10.2\"/>"
   ]
  },
  {
   "cell_type": "markdown",
   "metadata": {},
   "source": [
    "### Ex. 10.2.1 - Type of 'foldMap . foldMap'? <a name=\"10.2.1\"/>\n",
    "\n",
    "What is the type of 'foldMap . foldMap', or 'foldMap . foldMap . foldMap'? What do they do?"
   ]
  },
  {
   "cell_type": "code",
   "execution_count": 15,
   "metadata": {
    "collapsed": false
   },
   "outputs": [
    {
     "data": {
      "text/html": [
       "<style>/* Styles used for the Hoogle display in the pager */\n",
       ".hoogle-doc {\n",
       "display: block;\n",
       "padding-bottom: 1.3em;\n",
       "padding-left: 0.4em;\n",
       "}\n",
       ".hoogle-code {\n",
       "display: block;\n",
       "font-family: monospace;\n",
       "white-space: pre;\n",
       "}\n",
       ".hoogle-text {\n",
       "display: block;\n",
       "}\n",
       ".hoogle-name {\n",
       "color: green;\n",
       "font-weight: bold;\n",
       "}\n",
       ".hoogle-head {\n",
       "font-weight: bold;\n",
       "}\n",
       ".hoogle-sub {\n",
       "display: block;\n",
       "margin-left: 0.4em;\n",
       "}\n",
       ".hoogle-package {\n",
       "font-weight: bold;\n",
       "font-style: italic;\n",
       "}\n",
       ".hoogle-module {\n",
       "font-weight: bold;\n",
       "}\n",
       ".hoogle-class {\n",
       "font-weight: bold;\n",
       "}\n",
       ".get-type {\n",
       "color: green;\n",
       "font-weight: bold;\n",
       "font-family: monospace;\n",
       "display: block;\n",
       "white-space: pre-wrap;\n",
       "}\n",
       ".show-type {\n",
       "color: green;\n",
       "font-weight: bold;\n",
       "font-family: monospace;\n",
       "margin-left: 1em;\n",
       "}\n",
       ".mono {\n",
       "font-family: monospace;\n",
       "display: block;\n",
       "}\n",
       ".err-msg {\n",
       "color: red;\n",
       "font-style: italic;\n",
       "font-family: monospace;\n",
       "white-space: pre;\n",
       "display: block;\n",
       "}\n",
       "#unshowable {\n",
       "color: red;\n",
       "font-weight: bold;\n",
       "}\n",
       ".err-msg.in.collapse {\n",
       "padding-top: 0.7em;\n",
       "}\n",
       ".highlight-code {\n",
       "white-space: pre;\n",
       "font-family: monospace;\n",
       "}\n",
       ".suggestion-warning { \n",
       "font-weight: bold;\n",
       "color: rgb(200, 130, 0);\n",
       "}\n",
       ".suggestion-error { \n",
       "font-weight: bold;\n",
       "color: red;\n",
       "}\n",
       ".suggestion-name {\n",
       "font-weight: bold;\n",
       "}\n",
       "</style><span class='get-type'>foldMap . foldMap :: forall (t :: * -> *) m (t1 :: * -> *) a. (Foldable t, Foldable t1, Monoid m) => (a -> m) -> t (t1 a) -> m</span>"
      ],
      "text/plain": [
       "foldMap . foldMap :: forall (t :: * -> *) m (t1 :: * -> *) a. (Foldable t, Foldable t1, Monoid m) => (a -> m) -> t (t1 a) -> m"
      ]
     },
     "metadata": {},
     "output_type": "display_data"
    },
    {
     "data": {
      "text/html": [
       "<style>/* Styles used for the Hoogle display in the pager */\n",
       ".hoogle-doc {\n",
       "display: block;\n",
       "padding-bottom: 1.3em;\n",
       "padding-left: 0.4em;\n",
       "}\n",
       ".hoogle-code {\n",
       "display: block;\n",
       "font-family: monospace;\n",
       "white-space: pre;\n",
       "}\n",
       ".hoogle-text {\n",
       "display: block;\n",
       "}\n",
       ".hoogle-name {\n",
       "color: green;\n",
       "font-weight: bold;\n",
       "}\n",
       ".hoogle-head {\n",
       "font-weight: bold;\n",
       "}\n",
       ".hoogle-sub {\n",
       "display: block;\n",
       "margin-left: 0.4em;\n",
       "}\n",
       ".hoogle-package {\n",
       "font-weight: bold;\n",
       "font-style: italic;\n",
       "}\n",
       ".hoogle-module {\n",
       "font-weight: bold;\n",
       "}\n",
       ".hoogle-class {\n",
       "font-weight: bold;\n",
       "}\n",
       ".get-type {\n",
       "color: green;\n",
       "font-weight: bold;\n",
       "font-family: monospace;\n",
       "display: block;\n",
       "white-space: pre-wrap;\n",
       "}\n",
       ".show-type {\n",
       "color: green;\n",
       "font-weight: bold;\n",
       "font-family: monospace;\n",
       "margin-left: 1em;\n",
       "}\n",
       ".mono {\n",
       "font-family: monospace;\n",
       "display: block;\n",
       "}\n",
       ".err-msg {\n",
       "color: red;\n",
       "font-style: italic;\n",
       "font-family: monospace;\n",
       "white-space: pre;\n",
       "display: block;\n",
       "}\n",
       "#unshowable {\n",
       "color: red;\n",
       "font-weight: bold;\n",
       "}\n",
       ".err-msg.in.collapse {\n",
       "padding-top: 0.7em;\n",
       "}\n",
       ".highlight-code {\n",
       "white-space: pre;\n",
       "font-family: monospace;\n",
       "}\n",
       ".suggestion-warning { \n",
       "font-weight: bold;\n",
       "color: rgb(200, 130, 0);\n",
       "}\n",
       ".suggestion-error { \n",
       "font-weight: bold;\n",
       "color: red;\n",
       "}\n",
       ".suggestion-name {\n",
       "font-weight: bold;\n",
       "}\n",
       "</style><span class='get-type'>foldMap . foldMap . foldMap :: forall (t :: * -> *) m (t1 :: * -> *) (t2 :: * -> *) a. (Foldable t, Foldable t1, Foldable t2, Monoid m) => (a -> m) -> t (t1 (t2 a)) -> m</span>"
      ],
      "text/plain": [
       "foldMap . foldMap . foldMap :: forall (t :: * -> *) m (t1 :: * -> *) (t2 :: * -> *) a. (Foldable t, Foldable t1, Foldable t2, Monoid m) => (a -> m) -> t (t1 (t2 a)) -> m"
      ]
     },
     "metadata": {},
     "output_type": "display_data"
    }
   ],
   "source": [
    "import Data.Foldable\n",
    "\n",
    ":t foldMap . foldMap\n",
    ":t foldMap . foldMap . foldMap\n"
   ]
  },
  {
   "cell_type": "markdown",
   "metadata": {},
   "source": [
    "They allow for the reduction of nested Foldable data structures:"
   ]
  },
  {
   "cell_type": "code",
   "execution_count": 16,
   "metadata": {
    "collapsed": false
   },
   "outputs": [
    {
     "data": {
      "text/plain": [
       "Sum {getSum = 45}"
      ]
     },
     "metadata": {},
     "output_type": "display_data"
    },
    {
     "data": {
      "text/plain": [
       "Product {getProduct = 362880}"
      ]
     },
     "metadata": {},
     "output_type": "display_data"
    }
   ],
   "source": [
    "import Data.Monoid\n",
    "\n",
    "ls = [[1,2,3], [4,5,6], [7,8,9]]\n",
    "(foldMap . foldMap) Sum ls\n",
    "(foldMap . foldMap) Product ls\n"
   ]
  },
  {
   "cell_type": "markdown",
   "metadata": {},
   "source": [
    "[Back to Contents](#contents)"
   ]
  },
  {
   "cell_type": "markdown",
   "metadata": {},
   "source": [
    "# Section 10.3 - Derived folds <a name=\"10.3\"/>"
   ]
  },
  {
   "cell_type": "markdown",
   "metadata": {},
   "source": [
    "### Ex. 10.3.1 - Implement *toList*. <a name=\"10.3.1\"/>\n",
    "\n",
    "Implement toList :: Foldable f => f a -> [a]"
   ]
  },
  {
   "cell_type": "code",
   "execution_count": 17,
   "metadata": {
    "collapsed": false
   },
   "outputs": [
    {
     "data": {
      "text/plain": [
       "[1,2,3]"
      ]
     },
     "metadata": {},
     "output_type": "display_data"
    }
   ],
   "source": [
    "toList :: Foldable f => f a -> [a]\n",
    "toList = foldMap (: [])\n",
    "\n",
    "data Tree a = Empty | Leaf a | Node (Tree a) a (Tree a)\n",
    "  deriving (Show, Functor)\n",
    "\n",
    "instance Foldable Tree where\n",
    "   foldMap f Empty = mempty\n",
    "   foldMap f (Leaf x) = f x\n",
    "   foldMap f (Node l k r) = foldMap f l `mappend` f k `mappend` foldMap f r\n",
    "\n",
    "toList $ Node (Leaf 1) 2 (Leaf 3)\n"
   ]
  },
  {
   "cell_type": "markdown",
   "metadata": {},
   "source": [
    "[Back to Contents](#contents)"
   ]
  },
  {
   "cell_type": "markdown",
   "metadata": {},
   "source": [
    "### Ex. 10.3.2 - Implement *concat*, etc. <a name=\"10.3.2\"/>\n",
    "\n",
    "Pick some of the following functions to implement: concat, concatMap, and, or, any, all, sum, product, maximum(By), minimum(By), elem, notElem, and find. Figure out how they generalize to Foldable and come up with elegant implementations using fold or foldMap along with appropriate Monoid instances."
   ]
  },
  {
   "cell_type": "markdown",
   "metadata": {},
   "source": [
    "#### Ex. 10.3.2.a - Implement *concat*. <a name=\"10.3.2.a\"/>"
   ]
  },
  {
   "cell_type": "code",
   "execution_count": 18,
   "metadata": {
    "collapsed": false
   },
   "outputs": [
    {
     "data": {
      "text/plain": [
       "[1,2,3,4,5,6]"
      ]
     },
     "metadata": {},
     "output_type": "display_data"
    }
   ],
   "source": [
    "concat :: [a] -> [a] -> [a]\n",
    "\n",
    "-- concat [] ys = ys\n",
    "-- concat (x:xs) ys = x : (concat xs ys)\n",
    "\n",
    "-- concat xs ys = xs `mappend` ys\n",
    "concat = mappend\n",
    "\n",
    "concat [1,2,3] [4,5,6]\n"
   ]
  },
  {
   "cell_type": "markdown",
   "metadata": {},
   "source": [
    "[Back to Contents](#contents)"
   ]
  },
  {
   "cell_type": "markdown",
   "metadata": {},
   "source": [
    "#### Ex. 10.3.2.b - Implement *concatMap*. <a name=\"10.3.2.b\"/>"
   ]
  },
  {
   "cell_type": "code",
   "execution_count": 19,
   "metadata": {
    "collapsed": false
   },
   "outputs": [
    {
     "data": {
      "text/plain": [
       "[1,1,2,2,3,3]"
      ]
     },
     "metadata": {},
     "output_type": "display_data"
    }
   ],
   "source": [
    "concatMap :: (a -> [b]) -> [a] -> [b]\n",
    "\n",
    "-- concatMap _ [] = []\n",
    "-- concatMap g (x:xs) = g x ++ (concatMap g xs)\n",
    "\n",
    "-- concatMap g xs = fold $ fmap g xs\n",
    "-- concatMap g xs = (fold . fmap g) xs\n",
    "-- concatMap g xs = foldMap g xs\n",
    "concatMap = foldMap\n",
    "\n",
    "\n",
    "concatMap (\\x -> [x, x]) [1, 2, 3]\n"
   ]
  },
  {
   "cell_type": "markdown",
   "metadata": {},
   "source": [
    "[Back to Contents](#contents)"
   ]
  },
  {
   "cell_type": "markdown",
   "metadata": {},
   "source": [
    "#### Ex. 10.3.2.c - Implement *and*. <a name=\"10.3.2.c\"/>"
   ]
  },
  {
   "cell_type": "code",
   "execution_count": 20,
   "metadata": {
    "collapsed": false
   },
   "outputs": [
    {
     "data": {
      "text/plain": [
       "True"
      ]
     },
     "metadata": {},
     "output_type": "display_data"
    },
    {
     "data": {
      "text/plain": [
       "False"
      ]
     },
     "metadata": {},
     "output_type": "display_data"
    }
   ],
   "source": [
    "and :: Foldable t => t Bool -> Bool\n",
    "and = getAll . (foldMap All)\n",
    "\n",
    "newtype All = All {getAll :: Bool}\n",
    "\n",
    "instance Monoid All where\n",
    "    mempty = All True\n",
    "    mappend (All True) (All True) = All True\n",
    "    mappend _          _          = All False\n",
    "    \n",
    "and $ Node (Leaf True) True (Leaf True)\n",
    "and $ Node (Leaf True) True (Leaf False)\n"
   ]
  },
  {
   "cell_type": "markdown",
   "metadata": {},
   "source": [
    "[Back to Contents](#contents)"
   ]
  },
  {
   "cell_type": "markdown",
   "metadata": {},
   "source": [
    "#### Ex. 10.3.2.d - Implement *or*. <a name=\"10.3.2.d\"/>"
   ]
  },
  {
   "cell_type": "code",
   "execution_count": 21,
   "metadata": {
    "collapsed": false
   },
   "outputs": [
    {
     "data": {
      "text/plain": [
       "True"
      ]
     },
     "metadata": {},
     "output_type": "display_data"
    },
    {
     "data": {
      "text/plain": [
       "False"
      ]
     },
     "metadata": {},
     "output_type": "display_data"
    }
   ],
   "source": [
    "or :: Foldable t => t Bool -> Bool\n",
    "or = getAny . (foldMap Any)\n",
    "\n",
    "newtype Any = Any {getAny :: Bool}\n",
    "\n",
    "instance Monoid Any where\n",
    "    mempty = Any False\n",
    "    mappend (Any False) (Any False) = Any False\n",
    "    mappend _           _           = Any True\n",
    "    \n",
    "or $ Node (Leaf False) False (Leaf True)\n",
    "or $ Node (Leaf False) False (Leaf False)\n"
   ]
  },
  {
   "cell_type": "markdown",
   "metadata": {},
   "source": [
    "[Back to Contents](#contents)"
   ]
  },
  {
   "cell_type": "markdown",
   "metadata": {},
   "source": [
    "#### Ex. 10.3.2.e - Implement *any*. <a name=\"10.3.2.e\"/>"
   ]
  },
  {
   "cell_type": "code",
   "execution_count": 22,
   "metadata": {
    "collapsed": false
   },
   "outputs": [
    {
     "data": {
      "text/plain": [
       "True"
      ]
     },
     "metadata": {},
     "output_type": "display_data"
    },
    {
     "data": {
      "text/plain": [
       "False"
      ]
     },
     "metadata": {},
     "output_type": "display_data"
    }
   ],
   "source": [
    "any :: Foldable t => t Bool -> Bool\n",
    "any = or\n",
    "\n",
    "any $ Node (Leaf False) False (Leaf True)\n",
    "any $ Node (Leaf False) False (Leaf False)\n"
   ]
  },
  {
   "cell_type": "markdown",
   "metadata": {},
   "source": [
    "[Back to Contents](#contents)"
   ]
  },
  {
   "cell_type": "markdown",
   "metadata": {},
   "source": [
    "#### Ex. 10.3.2.f - Implement *all*. <a name=\"10.3.2.f\"/>"
   ]
  },
  {
   "cell_type": "code",
   "execution_count": 23,
   "metadata": {
    "collapsed": false
   },
   "outputs": [
    {
     "data": {
      "text/plain": [
       "True"
      ]
     },
     "metadata": {},
     "output_type": "display_data"
    },
    {
     "data": {
      "text/plain": [
       "False"
      ]
     },
     "metadata": {},
     "output_type": "display_data"
    }
   ],
   "source": [
    "all :: Foldable t => t Bool -> Bool\n",
    "all = and\n",
    "\n",
    "all $ Node (Leaf True) True (Leaf True)\n",
    "all $ Node (Leaf True) True (Leaf False)\n"
   ]
  },
  {
   "cell_type": "markdown",
   "metadata": {},
   "source": [
    "[Back to Contents](#contents)"
   ]
  },
  {
   "cell_type": "markdown",
   "metadata": {},
   "source": [
    "#### Ex. 10.3.2.g - Implement *sum*. <a name=\"10.3.2.g\"/>"
   ]
  },
  {
   "cell_type": "code",
   "execution_count": 24,
   "metadata": {
    "collapsed": false
   },
   "outputs": [
    {
     "data": {
      "text/plain": [
       "6"
      ]
     },
     "metadata": {},
     "output_type": "display_data"
    }
   ],
   "source": [
    "sum :: (Foldable t) => t Int -> Int\n",
    "sum = getSum . (foldMap Sum)\n",
    "\n",
    "newtype Sum = Sum {getSum :: Int}\n",
    "\n",
    "instance Monoid Sum where\n",
    "    mempty = Sum 0\n",
    "    mappend (Sum x) (Sum y) = Sum (x + y)\n",
    "    \n",
    "sum $ Node (Leaf 1) 2 (Leaf 3)\n"
   ]
  },
  {
   "cell_type": "markdown",
   "metadata": {},
   "source": [
    "[Back to Contents](#contents)"
   ]
  },
  {
   "cell_type": "markdown",
   "metadata": {},
   "source": [
    "#### Ex. 10.3.2.h - Implement *product*. <a name=\"10.3.2.h\"/>"
   ]
  },
  {
   "cell_type": "code",
   "execution_count": 25,
   "metadata": {
    "collapsed": false
   },
   "outputs": [
    {
     "data": {
      "text/plain": [
       "6"
      ]
     },
     "metadata": {},
     "output_type": "display_data"
    }
   ],
   "source": [
    "product :: (Foldable t) => t Int -> Int\n",
    "product = getProd . (foldMap Prod)\n",
    "\n",
    "newtype Prod = Prod {getProd :: Int}\n",
    "\n",
    "instance Monoid Prod where\n",
    "    mempty = Prod 1\n",
    "    mappend (Prod x) (Prod y) = Prod (x * y)\n",
    "    \n",
    "product $ Node (Leaf 1) 2 (Leaf 3)\n"
   ]
  },
  {
   "cell_type": "markdown",
   "metadata": {},
   "source": [
    "[Back to Contents](#contents)"
   ]
  },
  {
   "cell_type": "markdown",
   "metadata": {},
   "source": [
    "#### Ex. 10.3.2.i - Implement *maximum*. <a name=\"10.3.2.i\"/>"
   ]
  },
  {
   "cell_type": "code",
   "execution_count": 26,
   "metadata": {
    "collapsed": false
   },
   "outputs": [
    {
     "data": {
      "text/plain": [
       "4"
      ]
     },
     "metadata": {},
     "output_type": "display_data"
    }
   ],
   "source": [
    "maximum :: (Foldable t) => t Int -> Int\n",
    "maximum = getMax . (foldMap Max)\n",
    "\n",
    "newtype Max = Max {getMax :: Int}\n",
    "\n",
    "instance Monoid Max where\n",
    "    mempty = Max 0\n",
    "    mappend (Max x) (Max y) | y > x     = Max y\n",
    "                            | otherwise = Max x\n",
    "                            \n",
    "maximum $ Node (Leaf 1) 4 (Leaf 3)\n"
   ]
  },
  {
   "cell_type": "markdown",
   "metadata": {},
   "source": [
    "[Back to Contents](#contents)"
   ]
  },
  {
   "cell_type": "markdown",
   "metadata": {},
   "source": [
    "#### Ex. 10.3.2.j - Implement *minimum*. <a name=\"10.3.2.j\"/>"
   ]
  },
  {
   "cell_type": "code",
   "execution_count": 27,
   "metadata": {
    "collapsed": false
   },
   "outputs": [
    {
     "data": {
      "text/plain": [
       "1"
      ]
     },
     "metadata": {},
     "output_type": "display_data"
    }
   ],
   "source": [
    "minimum :: (Foldable t) => t Int -> Int\n",
    "minimum = getMin . (foldMap Min)\n",
    "\n",
    "newtype Min = Min {getMin :: Int}\n",
    "\n",
    "instance Monoid Min where\n",
    "    mempty = Min 1000000\n",
    "    mappend (Min x) (Min y) | y < x     = Min y\n",
    "                            | otherwise = Min x\n",
    "                            \n",
    "minimum $ Node (Leaf 1) 4 (Leaf 3)\n"
   ]
  },
  {
   "cell_type": "markdown",
   "metadata": {},
   "source": [
    "[Back to Contents](#contents)"
   ]
  },
  {
   "cell_type": "markdown",
   "metadata": {},
   "source": [
    "#### Ex. 10.3.2.k - Implement *elem*. <a name=\"10.3.2.k\"/>"
   ]
  },
  {
   "cell_type": "code",
   "execution_count": 28,
   "metadata": {
    "collapsed": false
   },
   "outputs": [
    {
     "data": {
      "text/plain": [
       "True"
      ]
     },
     "metadata": {},
     "output_type": "display_data"
    },
    {
     "data": {
      "text/plain": [
       "False"
      ]
     },
     "metadata": {},
     "output_type": "display_data"
    }
   ],
   "source": [
    "elem :: (Foldable t, Eq a) => a -> t a -> Bool\n",
    "elem x = getAny . (foldMap (Any . (== x)))\n",
    "\n",
    "elem 4 $ Node (Leaf 1) 4 (Leaf 3)\n",
    "elem 2 $ Node (Leaf 1) 4 (Leaf 3)\n"
   ]
  },
  {
   "cell_type": "markdown",
   "metadata": {},
   "source": [
    "[Back to Contents](#contents)"
   ]
  },
  {
   "cell_type": "markdown",
   "metadata": {},
   "source": [
    "#### Ex. 10.3.2.l - Implement *notElem*. <a name=\"10.3.2.l\"/>"
   ]
  },
  {
   "cell_type": "code",
   "execution_count": 29,
   "metadata": {
    "collapsed": false
   },
   "outputs": [
    {
     "data": {
      "text/plain": [
       "False"
      ]
     },
     "metadata": {},
     "output_type": "display_data"
    },
    {
     "data": {
      "text/plain": [
       "True"
      ]
     },
     "metadata": {},
     "output_type": "display_data"
    }
   ],
   "source": [
    "notElem :: (Foldable t, Eq a) => a -> t a -> Bool\n",
    "notElem x = not . (elem x)\n",
    "\n",
    "notElem 4 $ Node (Leaf 1) 4 (Leaf 3)\n",
    "notElem 2 $ Node (Leaf 1) 4 (Leaf 3)\n"
   ]
  },
  {
   "cell_type": "markdown",
   "metadata": {},
   "source": [
    "[Back to Contents](#contents)"
   ]
  },
  {
   "cell_type": "markdown",
   "metadata": {},
   "source": [
    "#### Ex. 10.3.2.m - Implement *find*. <a name=\"10.3.2.m\"/>"
   ]
  },
  {
   "cell_type": "code",
   "execution_count": 30,
   "metadata": {
    "collapsed": false
   },
   "outputs": [
    {
     "data": {
      "text/plain": [
       "Just 4"
      ]
     },
     "metadata": {},
     "output_type": "display_data"
    },
    {
     "data": {
      "text/plain": [
       "Nothing"
      ]
     },
     "metadata": {},
     "output_type": "display_data"
    }
   ],
   "source": [
    "find :: Foldable t => (a -> Bool) -> t a -> Maybe a\n",
    "find p = getFirst . foldMap (First . sel p)\n",
    "  where sel p x | p x       = Just x\n",
    "                | otherwise = Nothing\n",
    "\n",
    "t1 = Node (Leaf 1) 4 (Leaf 3)\n",
    "\n",
    "find (> 2) t1\n",
    "find (> 4) t1\n"
   ]
  },
  {
   "cell_type": "markdown",
   "metadata": {},
   "source": [
    "[Back to Contents](#contents)"
   ]
  },
  {
   "cell_type": "markdown",
   "metadata": {},
   "source": [
    "# Section 11.1 - Traversable Definition <a name=\"11.1\"/>"
   ]
  },
  {
   "cell_type": "markdown",
   "metadata": {},
   "source": [
    "A good exercise is to figure out what the default implementations should be: given either traverse or sequenceA, how would you define the other three methods? (Hint for mapM: Control.Applicative exports the WrapMonad newtype, which makes any Monad into an Applicative. The sequence function can be implemented in terms of mapM.)"
   ]
  },
  {
   "cell_type": "code",
   "execution_count": 31,
   "metadata": {
    "collapsed": false
   },
   "outputs": [],
   "source": [
    "-- I don't seem to need the following line. I include it, here, because it was necessary,\n",
    "-- when debugging the kernel hang mentioned, below, in GHCi.\n",
    "import Prelude hiding (Traversable, sequenceA, traverse, mapM, sequence)\n",
    "import Control.Applicative (WrappedMonad(..))\n",
    "\n",
    "class (Functor t, Foldable t) => Traversable t where\n",
    "  traverse :: Applicative f => (a -> f b) -> t a -> f (t b)\n",
    "  traverse g = sequenceA . fmap g\n",
    "  \n",
    "  sequenceA :: Applicative f => t (f a) -> f (t a)\n",
    "  sequenceA = traverse id\n",
    "\n",
    "  mapM :: Monad m => (a -> m b) -> t a -> m (t b)\n",
    "  -- mapM g = unwrapMonad . sequenceA . (fmap (WrapMonad . g))\n",
    "  mapM g = unwrapMonad . traverse (WrapMonad . g)\n",
    "  \n",
    "  sequence :: Monad m => t (m a) -> m (t a)\n",
    "  sequence = mapM id\n",
    "  \n",
    "-- If I remove the following two lines, the kernel hangs when I attempt to run the cell.\n",
    "main :: IO ()\n",
    "main = putStrLn \"Hello, World!\"\n"
   ]
  },
  {
   "cell_type": "markdown",
   "metadata": {},
   "source": [
    "[Back to Contents](#contents)"
   ]
  },
  {
   "cell_type": "markdown",
   "metadata": {},
   "source": [
    "# Section 11.2 - Traversable Intuition <a name=\"11.2\"/>"
   ]
  },
  {
   "cell_type": "markdown",
   "metadata": {},
   "source": [
    "### Ex. 11.2.1 -  Tree of lists to list of trees. <a name=\"11.2.1\"/>"
   ]
  },
  {
   "cell_type": "markdown",
   "metadata": {},
   "source": [
    "*There are at least two natural ways to turn a tree of lists into a list of trees. What are they, and why?*\n",
    "\n",
    "Taking the following tree, as an example:\n",
    "\n",
    "             [1,2,3]\n",
    "\n",
    "            /       \\\n",
    "         [4,5]      [6]\n",
    "         /   \\\n",
    "     [7,8,9] [10]\n",
    "         \n",
    "The most natural way seems to be to push it straight down from above, preserving the existing relative horizontal position of the elements, which seems to be what we get, when we rely on the *Foldable* instance to do the transposition:"
   ]
  },
  {
   "cell_type": "code",
   "execution_count": 32,
   "metadata": {
    "collapsed": false
   },
   "outputs": [
    {
     "data": {
      "text/plain": [
       "Node (Node (Leaf [7,8,9]) [4,5] (Leaf [10])) [1,2,3] (Leaf [6])"
      ]
     },
     "metadata": {},
     "output_type": "display_data"
    },
    {
     "data": {
      "text/plain": [
       "[Leaf 7,Leaf 8,Leaf 9,Leaf 4,Leaf 5,Leaf 10,Leaf 1,Leaf 2,Leaf 3,Leaf 6]"
      ]
     },
     "metadata": {},
     "output_type": "display_data"
    }
   ],
   "source": [
    "t   = (Node (Node (Leaf [7,8,9]) [4,5] (Leaf [10])) [1,2,3] (Leaf [6]))\n",
    "res = foldMap (fmap Leaf) t\n",
    "\n",
    "print t\n",
    "print res\n"
   ]
  },
  {
   "cell_type": "markdown",
   "metadata": {},
   "source": [
    "I suppose another \"natural\" way would be to scan down the complete depth of the tree, always taking the left-most untraversed path. Here is my attempt at coding this:"
   ]
  },
  {
   "cell_type": "code",
   "execution_count": 33,
   "metadata": {
    "collapsed": false
   },
   "outputs": [
    {
     "data": {
      "text/plain": [
       "Node (Node (Leaf [7,8,9]) [4,5] (Leaf [10])) [1,2,3] (Leaf [6])"
      ]
     },
     "metadata": {},
     "output_type": "display_data"
    },
    {
     "data": {
      "text/plain": [
       "[Leaf 1,Leaf 2,Leaf 3,Leaf 4,Leaf 5,Leaf 7,Leaf 8,Leaf 9,Leaf 10,Leaf 6]"
      ]
     },
     "metadata": {},
     "output_type": "display_data"
    }
   ],
   "source": [
    "toListRowByRow :: Tree [a] -> [Tree a]\n",
    "toListRowByRow Empty           = []\n",
    "toListRowByRow (Leaf xs)       = map Leaf xs\n",
    "toListRowByRow (Node t1 xs t2) = (map Leaf xs) ++ (toListRowByRow t1) ++ (toListRowByRow t2)\n",
    "\n",
    "res' = toListRowByRow t\n",
    "\n",
    "print t\n",
    "print res'\n"
   ]
  },
  {
   "cell_type": "markdown",
   "metadata": {},
   "source": [
    "[Back to Contents](#contents)"
   ]
  },
  {
   "cell_type": "markdown",
   "metadata": {},
   "source": [
    "### Ex. 11.2.1x -  *sequenceA* in terms of *foldMap*. <a name=\"11.2.1x\"/>"
   ]
  },
  {
   "cell_type": "markdown",
   "metadata": {
    "collapsed": true
   },
   "source": [
    "In trying to answer the previous question, it occured to me that, if there was a completely generic way of turning an *Applicative* into a *Monoid*, then one could define *sequenceA* in terms of *foldMap*, thereby providing automatic *Traversable* instance derivation. Here is my attempt to code this:"
   ]
  },
  {
   "cell_type": "code",
   "execution_count": 34,
   "metadata": {
    "collapsed": false
   },
   "outputs": [
    {
     "data": {
      "text/html": [
       "<style>/* Styles used for the Hoogle display in the pager */\n",
       ".hoogle-doc {\n",
       "display: block;\n",
       "padding-bottom: 1.3em;\n",
       "padding-left: 0.4em;\n",
       "}\n",
       ".hoogle-code {\n",
       "display: block;\n",
       "font-family: monospace;\n",
       "white-space: pre;\n",
       "}\n",
       ".hoogle-text {\n",
       "display: block;\n",
       "}\n",
       ".hoogle-name {\n",
       "color: green;\n",
       "font-weight: bold;\n",
       "}\n",
       ".hoogle-head {\n",
       "font-weight: bold;\n",
       "}\n",
       ".hoogle-sub {\n",
       "display: block;\n",
       "margin-left: 0.4em;\n",
       "}\n",
       ".hoogle-package {\n",
       "font-weight: bold;\n",
       "font-style: italic;\n",
       "}\n",
       ".hoogle-module {\n",
       "font-weight: bold;\n",
       "}\n",
       ".hoogle-class {\n",
       "font-weight: bold;\n",
       "}\n",
       ".get-type {\n",
       "color: green;\n",
       "font-weight: bold;\n",
       "font-family: monospace;\n",
       "display: block;\n",
       "white-space: pre-wrap;\n",
       "}\n",
       ".show-type {\n",
       "color: green;\n",
       "font-weight: bold;\n",
       "font-family: monospace;\n",
       "margin-left: 1em;\n",
       "}\n",
       ".mono {\n",
       "font-family: monospace;\n",
       "display: block;\n",
       "}\n",
       ".err-msg {\n",
       "color: red;\n",
       "font-style: italic;\n",
       "font-family: monospace;\n",
       "white-space: pre;\n",
       "display: block;\n",
       "}\n",
       "#unshowable {\n",
       "color: red;\n",
       "font-weight: bold;\n",
       "}\n",
       ".err-msg.in.collapse {\n",
       "padding-top: 0.7em;\n",
       "}\n",
       ".highlight-code {\n",
       "white-space: pre;\n",
       "font-family: monospace;\n",
       "}\n",
       ".suggestion-warning { \n",
       "font-weight: bold;\n",
       "color: rgb(200, 130, 0);\n",
       "}\n",
       ".suggestion-error { \n",
       "font-weight: bold;\n",
       "color: red;\n",
       "}\n",
       ".suggestion-name {\n",
       "font-weight: bold;\n",
       "}\n",
       "</style><span class='err-msg'>Illegal polymorphic or qualified type: forall (f :: * -> *) a. (Applicative f, Monoid a) => f a<br/>Perhaps you intended to use RankNTypes or Rank2Types<br/>In the definition of data constructor ‘IHaskell992.MonApp’<br/>In the newtype declaration for ‘IHaskell992.MonApp’</span>"
      ],
      "text/plain": [
       "Illegal polymorphic or qualified type: forall (f :: * -> *) a. (Applicative f, Monoid a) => f a\n",
       "Perhaps you intended to use RankNTypes or Rank2Types\n",
       "In the definition of data constructor ‘interactive:Ghci992.MonApp’\n",
       "In the newtype declaration for ‘interactive:Ghci992.MonApp’"
      ]
     },
     "metadata": {},
     "output_type": "display_data"
    }
   ],
   "source": [
    "newtype MonApp = MonApp {getApp :: (Applicative f, Monoid a) => f a}\n",
    "\n",
    "instance Monoid MonApp where\n",
    "  mempty          = MonApp $ pure mempty\n",
    "  mappend ma1 ma2 = MonApp $ mappend <$> (getApp ma1) <*> (getApp ma2)\n",
    "\n",
    "instance (Monoid a) => Monoid (Tree a) where\n",
    "  mempty = Empty\n",
    "  mappend Empty t = t\n",
    "  mappend t Empty = t\n",
    "  mappend (Leaf x) (Leaf y) = Leaf (x `mappend` y)\n",
    "  mappend (Leaf x) (Node t1 y t2) = Node t1 (x `mappend` y) t2\n",
    "  mappend (Node t1 y t2) (Leaf x) = Node t1 (y `mappend` x) t2\n",
    "  mappend (Node t1 x t2) (Node t3 y t4) = Node (t1 `mappend` t3) (x `mappend` y) (t2 `mappend` t4)\n",
    "\n",
    "-- This instance definition is only intended to work for those cases\n",
    "-- in which the data type contained within the tree is a Monoid,\n",
    "-- in which case 'Tree a' will also be a Monoid, via the instance, above.\n",
    "-- I can't figure out how to express this to the compiler. Little help? :)\n",
    "instance Monoid (Tree a) => Traversable Tree where\n",
    "  sequenceA = getApp . foldMap (MonApp . (fmap Leaf))\n"
   ]
  },
  {
   "cell_type": "markdown",
   "metadata": {},
   "source": [
    "[Back to Contents](#contents)"
   ]
  }
 ],
 "metadata": {
  "kernelspec": {
   "display_name": "Haskell",
   "language": "haskell",
   "name": "haskell"
  },
  "language_info": {
   "codemirror_mode": "ihaskell",
   "file_extension": ".hs",
   "name": "haskell",
   "version": "7.10.3"
  }
 },
 "nbformat": 4,
 "nbformat_minor": 0
}
