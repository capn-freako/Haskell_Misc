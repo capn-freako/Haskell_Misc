{
 "cells": [
  {
   "cell_type": "markdown",
   "metadata": {},
   "source": [
    "# Captain Freako's Solutions to *Typeclassopedia* Exercises\n",
    "Original author: David Banas <capn.freako@gmail.com>  \n",
    "Original date: September 25, 2015\n",
    "\n",
    "Copyright (c) 2015 David Banas; all rights reserved World wide.\n",
    "\n",
    "This [jupyter notebook](https://github.com/gibiansky/ihaskell) contains my solutions to some of the exercises posed by [Brent Yorgey](mailto:byorgey@cis.upenn.edu), in his [Typeclassopedia](https://wiki.haskell.org/Typeclassopedia) document."
   ]
  },
  {
   "cell_type": "markdown",
   "metadata": {},
   "source": [
    "## Additional Contributors\n",
    "- Phil Ruffwind <rf@rufflewind.com>\n"
   ]
  },
  {
   "cell_type": "markdown",
   "metadata": {},
   "source": [
    "## Contents\n",
    "- <a href=\"#3.2\">Section 3.2 - Functor Instances</a>\n",
    "    - <a href=\"#3.2.1\">Ex. 3.2.1 - Functor instances for Either e and ((->) e)</a>\n",
    "    - <a href=\"#3.2.2\">Ex. 3.2.2 - Functor instances for ((,) e) and Pair</a>\n",
    "    - <a href=\"#3.2.3\">Ex. 3.2.3 - Functor instances for a tree</a>\n",
    "    - <a href=\"#3.2.4\">Ex. 3.2.4 - Non-Functor type of kind: \\* -> \\* </a>\n",
    "    - <a href=\"#3.2.5\">Ex. 3.2.5 - Is the composition of two Functors also a Functor?</a>\n",
    "- <a href=\"#3.3\">Section 3.3 - Functor Laws</a>\n",
    "    - <a href=\"#3.3.1\">Ex. 3.3.1 - Satisfies second Functor law, but not first.</a>\n",
    "    - <a href=\"#3.3.2\">Ex. 3.3.2 - Which laws violated by bad Functor list instance?</a>\n",
    "- <a href=\"#4.2\">Section 4.2 - Applicative Laws</a>\n",
    "    - <a href=\"#4.2.1\">Ex. 4.2.1 - Applying a pure function to an effectful argument.</a>\n"
   ]
  },
  {
   "cell_type": "markdown",
   "metadata": {},
   "source": [
    "## Section 3.2 - Functor Instances <a name=\"3.2\"/>"
   ]
  },
  {
   "cell_type": "markdown",
   "metadata": {},
   "source": [
    "### Ex. 3.2.1 - Functor instances for Either e and ((->) e) <a name=\"3.2.1\"/>"
   ]
  },
  {
   "cell_type": "code",
   "execution_count": null,
   "metadata": {
    "collapsed": false,
    "scrolled": true
   },
   "outputs": [],
   "source": [
    "class MyFunctor f where\n",
    "    fmap' :: (a -> b) -> f a -> f b\n",
    "\n",
    "instance MyFunctor (Either e) where\n",
    "    fmap' g (Left e)  = Left e\n",
    "    fmap' g (Right x) = Right (g x)\n",
    "\n",
    "instance MyFunctor ((->) e) where\n",
    "    fmap' g f = g . f\n",
    "\n",
    "-- Testing Functor law on defined instances.\n",
    "func_law x = fmap' id x == x  -- \"id x\" was producing an annoying error.\n",
    "\n",
    "func_law2 x = fmap' id f x == f x\n",
    "  where\n",
    "    f x = 2 * x\n",
    "\n",
    "func_law (Left \"Error String\")\n",
    "func_law (Right 1)\n",
    "func_law2 (2::Int)\n"
   ]
  },
  {
   "cell_type": "markdown",
   "metadata": {},
   "source": [
    "### Ex. 3.2.2 - Functor instances for ((,) e) and Pair <a name=\"3.2.2\"/>"
   ]
  },
  {
   "cell_type": "code",
   "execution_count": null,
   "metadata": {
    "collapsed": false
   },
   "outputs": [],
   "source": [
    "instance MyFunctor ((,) e) where\n",
    "    fmap' g (e, a) = (e, g a)\n",
    "\n",
    "data Pair a = Pair a a deriving (Eq, Show)\n",
    "\n",
    "instance MyFunctor Pair where\n",
    "    fmap' g (Pair x y) = Pair (g x) (g y)\n",
    "\n",
    "func_law (\"msg\", 0.1)\n",
    "func_law $ Pair 1 2\n"
   ]
  },
  {
   "cell_type": "markdown",
   "metadata": {},
   "source": [
    "__Discussion, as per exercise instructions:__\n",
    "\n",
    "  -  Similarities:\n",
    "  \n",
    "     - Both types/instances return a pair of values.\n",
    "\n",
    "  -  Differences:\n",
    "  \n",
    "    - The type of the first member of the pair can differ from that\n",
    "      of the second, in the '(,) e' case.\n",
    "      \n",
    "    - The mapped function, g, is only mapped over the second member\n",
    "      of the pair, in the '(,) e' case.\n",
    "      \n",
    "    - The type of the second member of the pair is NOT included in\n",
    "      the Functor instance, for either type, but the type of the\n",
    "      first member IS included, for ((,) e), but NOT for Pair.\n"
   ]
  },
  {
   "cell_type": "markdown",
   "metadata": {},
   "source": [
    "### Ex. 3.2.3 - Functor instance for a tree <a name=\"3.2.3\"/>"
   ]
  },
  {
   "cell_type": "code",
   "execution_count": null,
   "metadata": {
    "collapsed": false
   },
   "outputs": [],
   "source": [
    "data ITree a = Leaf (Int -> a) \n",
    "             | Node [ITree a]\n",
    "\n",
    "instance Eq a => Eq (ITree a) where\n",
    "    Leaf g == Leaf h = g 0 == h 0\n",
    "    Node xs == Node ys = and (zipWith (==) xs ys)\n",
    "    Leaf _ == Node _ = False\n",
    "    Node _ == Leaf _ = False\n",
    "\n",
    "instance MyFunctor ITree where\n",
    "    fmap' g (Leaf f)   = Leaf (g . f)\n",
    "    fmap' g (Node its) = Node $ map (fmap' g) its\n",
    "\n",
    "-- Test Functor identity law.\n",
    "let f = Node [Leaf id, Leaf id] in\n",
    "  fmap' id f == f\n"
   ]
  },
  {
   "cell_type": "markdown",
   "metadata": {},
   "source": [
    "### Ex. 3.2.4 - Non-Functor type of kind: \\* -> \\* <a name=\"3.2.4\"/>"
   ]
  },
  {
   "cell_type": "code",
   "execution_count": null,
   "metadata": {
    "collapsed": false
   },
   "outputs": [],
   "source": [
    "{-# LANGUAGE DeriveFunctor DatatypeContexts #-}\n",
    "\n",
    "-- data NoFunc a = NoFunc a deriving (Functor)  -- Compiles without error.\n",
    "data (Ord a) => NoFunc a = NoFunc a deriving (Functor)\n"
   ]
  },
  {
   "cell_type": "markdown",
   "metadata": {},
   "source": [
    "### Ex. 3.2.5 - Is the composition of two Functors also a Functor? <a name=\"3.2.5\"/>"
   ]
  },
  {
   "cell_type": "code",
   "execution_count": null,
   "metadata": {
    "collapsed": false
   },
   "outputs": [],
   "source": [
    "-- Yes: The following code compiles without error.\n",
    "\n",
    "{-# LANGUAGE DeriveFunctor #-}\n",
    "\n",
    "data Func1 a = Func1 a deriving (Functor)\n",
    "data Func2 b = Func2 b deriving (Functor)\n",
    "data CompFunc b = CompFunc (Func1 (Func2 b)) deriving (Functor)\n"
   ]
  },
  {
   "cell_type": "markdown",
   "metadata": {},
   "source": [
    "## Section 3.3 - Functor Laws <a name=\"3.3\"/>"
   ]
  },
  {
   "cell_type": "markdown",
   "metadata": {},
   "source": [
    "### Ex. 3.3.1 - Satisfies second Functor law, but not first. <a name=\"3.3.1\"/>\n",
    "I was pointed to the following solution, by Phil Ruffwind <rf@rufflewind.com>:\n",
    "\n",
    "[Stack Overflow Solution](http://stackoverflow.com/questions/13539335/haskell-first-functor-law-from-second/13539433#13539433)\n"
   ]
  },
  {
   "cell_type": "code",
   "execution_count": null,
   "metadata": {
    "collapsed": false
   },
   "outputs": [],
   "source": [
    "data Break a = Yes | No deriving (Eq)\n",
    "\n",
    "instance MyFunctor Break where\n",
    "   fmap' f _ = No\n",
    "\n",
    "-- Test Functor id law.\n",
    "fmap' id Yes == Yes\n",
    "\n",
    "-- Test Functor composition law.\n",
    "let g = id\n",
    "    h = const Yes\n",
    "  in fmap' (g . h) Yes == (fmap' g . fmap' h) Yes\n"
   ]
  },
  {
   "cell_type": "markdown",
   "metadata": {},
   "source": [
    "### Ex. 3.3.2 - Which laws violated by bad Functor list instance? <a name=\"3.3.2\"/>\n",
    "Both, because each application of fmap doubles the size of the list."
   ]
  },
  {
   "cell_type": "code",
   "execution_count": null,
   "metadata": {
    "collapsed": false
   },
   "outputs": [],
   "source": [
    "-- Evil Functor instance\n",
    "instance MyFunctor [] where\n",
    "  fmap' _ [] = []\n",
    "  fmap' g (x:xs) = g x : g x : fmap g xs\n",
    "\n",
    "-- Testing Functor identity law.\n",
    "fmap' id [1,2,3] == [1,2,3]\n",
    "\n",
    "-- Testing Functor composition law.\n",
    "fmap' ((+ 1) . (* 2)) [1,2,3] == (fmap' (+ 1) . fmap' (* 2)) [1,2,3]\n"
   ]
  },
  {
   "cell_type": "markdown",
   "metadata": {},
   "source": [
    "## Section 4.2 - Applicative Laws <a name=\"4.2\"/>"
   ]
  },
  {
   "cell_type": "markdown",
   "metadata": {},
   "source": [
    "### Ex. 4.2.1 - Applying a pure function to an effectful argument. <a name=\"4.2.1\"/>"
   ]
  },
  {
   "cell_type": "markdown",
   "metadata": {},
   "source": [
    "__To prove:__\n",
    "\n",
    "    pure f <*> x = pure (flip ($)) <*> x <*> pure f\n",
    "    \n",
    "__Available Properties:__\n",
    "\n",
    "    pure f <*> x      = fmap f x                                    (1st Applicative Law)\n",
    "    f <*> pure x      = pure ($ x) <*> f = pure (flip ($) x) <*> f  (interchange)\n",
    "    pure f <*> pure x = pure (f x)                                  (homomorphism)\n",
    "\n",
    "__Useful Relationships:__\n",
    "\n",
    "    f     = \\x -> f x =      ($) f = (f $)\n",
    "    ($ x) = \\f -> f x = flip ($) x\n",
    "    \n",
    "__Proof:__\n",
    "\n",
    "    pure f <*> x = pure (\\x -> f x) <*> x = pure (flip ($) (\\x -> (\\f -> f x))) <*> x\n",
    "    \n",
    "    pure f <*> pure (sequence x)\n",
    "    \n",
    "    f <$> x = pure ($ f) <*> x = (interchange)\n",
    "\n",
    "    pure (flip ($)) <*> x <*> pure f        =  (homomorphism)\n",
    "    pure flip <*> pure ($) <*> x <*> pure f =  (1st Applicative Law)\n",
    "    fmap flip (pure ($)) <*> x <*> pure f\n",
    "\n",
    "\n",
    "pure (flip ($)) <*> x <*> pure f     = (interchange)\n",
    "x <*> pure ($ flip ($)) <*> pure f   =\n",
    "x <*> pure ($ flip ($) f)\n",
    "\n",
    "pure (flip ($)) <*> pure ($ f) <*> x = (homomorphism)\n",
    "pure (flip ($) ($ f)) <*> x          = (definition of flip)\n",
    "pure ($ ($ f)) <*> x                 = (interchange)\n",
    "x <*> pure ($ f)                     = (interchange) (Is this step valid?)\n",
    "    pure f <*> x"
   ]
  },
  {
   "cell_type": "code",
   "execution_count": 2,
   "metadata": {
    "collapsed": false
   },
   "outputs": [
    {
     "data": {
      "text/html": [
       "<style>/* Styles used for the Hoogle display in the pager */\n",
       ".hoogle-doc {\n",
       "display: block;\n",
       "padding-bottom: 1.3em;\n",
       "padding-left: 0.4em;\n",
       "}\n",
       ".hoogle-code {\n",
       "display: block;\n",
       "font-family: monospace;\n",
       "white-space: pre;\n",
       "}\n",
       ".hoogle-text {\n",
       "display: block;\n",
       "}\n",
       ".hoogle-name {\n",
       "color: green;\n",
       "font-weight: bold;\n",
       "}\n",
       ".hoogle-head {\n",
       "font-weight: bold;\n",
       "}\n",
       ".hoogle-sub {\n",
       "display: block;\n",
       "margin-left: 0.4em;\n",
       "}\n",
       ".hoogle-package {\n",
       "font-weight: bold;\n",
       "font-style: italic;\n",
       "}\n",
       ".hoogle-module {\n",
       "font-weight: bold;\n",
       "}\n",
       ".hoogle-class {\n",
       "font-weight: bold;\n",
       "}\n",
       ".get-type {\n",
       "color: green;\n",
       "font-weight: bold;\n",
       "font-family: monospace;\n",
       "display: block;\n",
       "white-space: pre-wrap;\n",
       "}\n",
       ".show-type {\n",
       "color: green;\n",
       "font-weight: bold;\n",
       "font-family: monospace;\n",
       "margin-left: 1em;\n",
       "}\n",
       ".mono {\n",
       "font-family: monospace;\n",
       "display: block;\n",
       "}\n",
       ".err-msg {\n",
       "color: red;\n",
       "font-style: italic;\n",
       "font-family: monospace;\n",
       "white-space: pre;\n",
       "display: block;\n",
       "}\n",
       "#unshowable {\n",
       "color: red;\n",
       "font-weight: bold;\n",
       "}\n",
       ".err-msg.in.collapse {\n",
       "padding-top: 0.7em;\n",
       "}\n",
       ".highlight-code {\n",
       "white-space: pre;\n",
       "font-family: monospace;\n",
       "}\n",
       ".suggestion-warning { \n",
       "font-weight: bold;\n",
       "color: rgb(200, 130, 0);\n",
       "}\n",
       ".suggestion-error { \n",
       "font-weight: bold;\n",
       "color: red;\n",
       "}\n",
       ".suggestion-name {\n",
       "font-weight: bold;\n",
       "}\n",
       "</style><span class='get-type'>x :: forall a. Num a => Maybe a</span>"
      ],
      "text/plain": [
       "x :: forall a. Num a => Maybe a"
      ]
     },
     "metadata": {},
     "output_type": "display_data"
    },
    {
     "data": {
      "text/plain": [
       "Just 1"
      ]
     },
     "metadata": {},
     "output_type": "display_data"
    },
    {
     "data": {
      "text/html": [
       "<style>/* Styles used for the Hoogle display in the pager */\n",
       ".hoogle-doc {\n",
       "display: block;\n",
       "padding-bottom: 1.3em;\n",
       "padding-left: 0.4em;\n",
       "}\n",
       ".hoogle-code {\n",
       "display: block;\n",
       "font-family: monospace;\n",
       "white-space: pre;\n",
       "}\n",
       ".hoogle-text {\n",
       "display: block;\n",
       "}\n",
       ".hoogle-name {\n",
       "color: green;\n",
       "font-weight: bold;\n",
       "}\n",
       ".hoogle-head {\n",
       "font-weight: bold;\n",
       "}\n",
       ".hoogle-sub {\n",
       "display: block;\n",
       "margin-left: 0.4em;\n",
       "}\n",
       ".hoogle-package {\n",
       "font-weight: bold;\n",
       "font-style: italic;\n",
       "}\n",
       ".hoogle-module {\n",
       "font-weight: bold;\n",
       "}\n",
       ".hoogle-class {\n",
       "font-weight: bold;\n",
       "}\n",
       ".get-type {\n",
       "color: green;\n",
       "font-weight: bold;\n",
       "font-family: monospace;\n",
       "display: block;\n",
       "white-space: pre-wrap;\n",
       "}\n",
       ".show-type {\n",
       "color: green;\n",
       "font-weight: bold;\n",
       "font-family: monospace;\n",
       "margin-left: 1em;\n",
       "}\n",
       ".mono {\n",
       "font-family: monospace;\n",
       "display: block;\n",
       "}\n",
       ".err-msg {\n",
       "color: red;\n",
       "font-style: italic;\n",
       "font-family: monospace;\n",
       "white-space: pre;\n",
       "display: block;\n",
       "}\n",
       "#unshowable {\n",
       "color: red;\n",
       "font-weight: bold;\n",
       "}\n",
       ".err-msg.in.collapse {\n",
       "padding-top: 0.7em;\n",
       "}\n",
       ".highlight-code {\n",
       "white-space: pre;\n",
       "font-family: monospace;\n",
       "}\n",
       ".suggestion-warning { \n",
       "font-weight: bold;\n",
       "color: rgb(200, 130, 0);\n",
       "}\n",
       ".suggestion-error { \n",
       "font-weight: bold;\n",
       "color: red;\n",
       "}\n",
       ".suggestion-name {\n",
       "font-weight: bold;\n",
       "}\n",
       "</style><span class='get-type'>y :: forall b. Num b => Maybe b</span>"
      ],
      "text/plain": [
       "y :: forall b. Num b => Maybe b"
      ]
     },
     "metadata": {},
     "output_type": "display_data"
    },
    {
     "data": {
      "text/plain": [
       "Just 2"
      ]
     },
     "metadata": {},
     "output_type": "display_data"
    }
   ],
   "source": [
    "x = Just 1\n",
    ":t x\n",
    "x\n",
    "y = (+ 1) <$> x\n",
    ":t y\n",
    "y\n"
   ]
  },
  {
   "cell_type": "markdown",
   "metadata": {},
   "source": [
    "## Section 4.3 - Applicative Instances <a name=\"4.3\"/>"
   ]
  },
  {
   "cell_type": "markdown",
   "metadata": {},
   "source": [
    "### Ex. 4.3.1 - Applicative instance for Maybe <a name=\"4.3.1\"/>"
   ]
  },
  {
   "cell_type": "code",
   "execution_count": null,
   "metadata": {
    "collapsed": false
   },
   "outputs": [],
   "source": [
    "class MyApplicative f where\n",
    "    pure'  :: a -> f a\n",
    "    (<@>)  :: f (a -> b) -> f a -> f b\n",
    "    \n",
    "instance MyApplicative Maybe where\n",
    "    pure' = Just\n",
    "    Nothing <@> _ = Nothing\n",
    "    _ <@> Nothing = Nothing\n",
    "    Just g <@> Just a = Just (g a)\n",
    "    \n",
    "-- Test the Applicative laws.\n",
    "\n",
    "-- Identity\n",
    "Just id <@> Nothing == Nothing\n",
    "-- Curiously, even though the error message, below, calls for this,\n",
    "-- when I attempt to use it I get an error saying the function\n",
    "-- 'isNothing' is not in scope! (?!)\n",
    "-- isNothing (Just id <@> Nothing)\n",
    "Just id <@> Just 3  == Just 3\n",
    "\n",
    "-- Homomorphism\n",
    "Just (+ 2) <@> Just 3 == Just ((+ 2) 3)\n",
    "\n",
    "-- Interchange\n",
    "Just (+ 2) <@> Just 3 == Just ($ 3) <@> Just (+ 2)\n",
    "\n",
    "-- Composition\n",
    "Just (+ 2) <@> (Just (+ 3) <@> Just 4) == Just (.) <@> Just (+ 2) <@> Just (+ 3) <@> Just 4\n"
   ]
  },
  {
   "cell_type": "markdown",
   "metadata": {},
   "source": [
    "### Ex. 4.3.2 - Correct Applicative instance for ZipList <a name=\"4.3.2\"/>"
   ]
  },
  {
   "cell_type": "code",
   "execution_count": null,
   "metadata": {
    "collapsed": false
   },
   "outputs": [],
   "source": [
    "newtype ZipList a = ZipList { getZipList :: [a] } deriving (Eq)\n",
    " \n",
    "instance MyApplicative ZipList where\n",
    "  pure' x = ZipList (repeat x)\n",
    "  (ZipList gs) <@> (ZipList xs) = ZipList (zipWith ($) gs xs)\n",
    "\n",
    "-- Test the Applicative laws.\n",
    "\n",
    "-- Identity\n",
    "pure' id <@> ZipList ([1,2,3] :: [Int]) == ZipList [1,2,3]\n",
    "\n",
    "-- Homomorphism\n",
    "pure' (+ 2) <@> ZipList ([1,2,3] :: [Int]) == ZipList (map (+ 2) [1,2,3])\n",
    "\n",
    "-- Interchange\n",
    "ZipList (replicate 3 (+ 2)) <@> pure' 1 == pure' ($ 1) <@> ZipList (replicate 3 (+ 2))\n",
    "\n",
    "-- Composition\n",
    "ZipList (replicate 3 (+ 2)) <@> (ZipList (replicate 3 (+ 3)) <@> ZipList [1,2,3]) ==\n",
    "    pure' (.) <@> ZipList (replicate 3 (+ 2)) <@> ZipList (replicate 3 (+ 3)) <@> ZipList [1,2,3]\n"
   ]
  },
  {
   "cell_type": "code",
   "execution_count": null,
   "metadata": {
    "collapsed": true
   },
   "outputs": [],
   "source": []
  }
 ],
 "metadata": {
  "kernelspec": {
   "display_name": "Haskell",
   "language": "haskell",
   "name": "haskell"
  },
  "language_info": {
   "codemirror_mode": "ihaskell",
   "file_extension": ".hs",
   "name": "haskell",
   "version": "7.10.3"
  }
 },
 "nbformat": 4,
 "nbformat_minor": 0
}
