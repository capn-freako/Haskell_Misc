{
 "cells": [
  {
   "cell_type": "markdown",
   "metadata": {},
   "source": [
    "# Fun with Phantom Types - My answers to some exercises.\n",
    "\n",
    "This [Jupyter](http://jupyter.org) notebook contains my solutions to some exercises from [Fun with Phantom Types](http://www.cs.ox.ac.uk/ralf.hinze/talks/FOP.pdf) by Ralf Hinze.\n",
    "\n",
    "**Original author:** David Banas [capn.freako@gmail.com](mailto:capn.freako@gmail.com)  \n",
    "**Original date:**   July 30, 2017  \n",
    "**Copied from:**     *norm_by_eval.hs* (Original response to **Ex. 12**, authored on July 9, 2015.)\n",
    "\n",
    "Copyright &copy; 2017 David Banas; all rights reserved World wide.\n"
   ]
  },
  {
   "cell_type": "code",
   "execution_count": 1,
   "metadata": {
    "collapsed": false
   },
   "outputs": [
    {
     "data": {
      "text/plain": [
       "Notebook last run:"
      ]
     },
     "metadata": {},
     "output_type": "display_data"
    },
    {
     "data": {
      "text/plain": [
       "2017-08-01 14:46:49.293129 UTC"
      ]
     },
     "metadata": {},
     "output_type": "display_data"
    }
   ],
   "source": [
    "import Data.Time\n",
    "\n",
    "putStrLn \"Notebook last run:\"\n",
    "getCurrentTime\n"
   ]
  },
  {
   "cell_type": "markdown",
   "metadata": {},
   "source": [
    "## Contents <a name=\"contents\" /a>\n",
    "\n",
    "### [Preliminaries](#preliminaries)\n",
    "- [GADT syntax](#gadt)\n",
    "\n",
    "### [1 Introducing phantom types](#ch1)\n",
    "- [Term evaluator](#eval)\n",
    "\n",
    "### [2 Generic functions](#ch2)\n",
    "- [Exercise 4](#ex4)\n",
    "\n",
    "### [5 Normalization by evaluation](#ch5)\n",
    "- [Exercise 12](#ex12)\n",
    "    "
   ]
  },
  {
   "cell_type": "markdown",
   "metadata": {},
   "source": [
    "## Preliminaries <a name=\"preliminaries\" />"
   ]
  },
  {
   "cell_type": "markdown",
   "metadata": {},
   "source": [
    "### GADT syntax <a name=\"gadt\" />\n",
    "\n",
    "*Phantom Types* is a somewhat, if not exactly, synonymous term to [Generalized Algebraic Data Types (GADTs)](https://wiki.haskell.org/GADTs_for_dummies), which is used more frequently now. Ralf uses an older syntax for defining GADTs, which doesn't compile in more recent versions of GHC. (Did it ever?) Here is an example translation from Ralf's syntax to the current syntax:"
   ]
  },
  {
   "cell_type": "code",
   "execution_count": 2,
   "metadata": {
    "collapsed": false
   },
   "outputs": [
    {
     "data": {
      "text/html": [
       "<style>/* Styles used for the Hoogle display in the pager */\n",
       ".hoogle-doc {\n",
       "display: block;\n",
       "padding-bottom: 1.3em;\n",
       "padding-left: 0.4em;\n",
       "}\n",
       ".hoogle-code {\n",
       "display: block;\n",
       "font-family: monospace;\n",
       "white-space: pre;\n",
       "}\n",
       ".hoogle-text {\n",
       "display: block;\n",
       "}\n",
       ".hoogle-name {\n",
       "color: green;\n",
       "font-weight: bold;\n",
       "}\n",
       ".hoogle-head {\n",
       "font-weight: bold;\n",
       "}\n",
       ".hoogle-sub {\n",
       "display: block;\n",
       "margin-left: 0.4em;\n",
       "}\n",
       ".hoogle-package {\n",
       "font-weight: bold;\n",
       "font-style: italic;\n",
       "}\n",
       ".hoogle-module {\n",
       "font-weight: bold;\n",
       "}\n",
       ".hoogle-class {\n",
       "font-weight: bold;\n",
       "}\n",
       ".get-type {\n",
       "color: green;\n",
       "font-weight: bold;\n",
       "font-family: monospace;\n",
       "display: block;\n",
       "white-space: pre-wrap;\n",
       "}\n",
       ".show-type {\n",
       "color: green;\n",
       "font-weight: bold;\n",
       "font-family: monospace;\n",
       "margin-left: 1em;\n",
       "}\n",
       ".mono {\n",
       "font-family: monospace;\n",
       "display: block;\n",
       "}\n",
       ".err-msg {\n",
       "color: red;\n",
       "font-style: italic;\n",
       "font-family: monospace;\n",
       "white-space: pre;\n",
       "display: block;\n",
       "}\n",
       "#unshowable {\n",
       "color: red;\n",
       "font-weight: bold;\n",
       "}\n",
       ".err-msg.in.collapse {\n",
       "padding-top: 0.7em;\n",
       "}\n",
       ".highlight-code {\n",
       "white-space: pre;\n",
       "font-family: monospace;\n",
       "}\n",
       ".suggestion-warning { \n",
       "font-weight: bold;\n",
       "color: rgb(200, 130, 0);\n",
       "}\n",
       ".suggestion-error { \n",
       "font-weight: bold;\n",
       "color: red;\n",
       "}\n",
       ".suggestion-name {\n",
       "font-weight: bold;\n",
       "}\n",
       "</style><span class='err-msg'>Parse error (line 1, column 56): parse error on input ‘=’<br/>Perhaps you need a 'let' in a 'do' block?<br/>e.g. 'let x = 5' instead of 'x = 5'</span>"
      ],
      "text/plain": [
       "Parse error (line 1, column 56): parse error on input ‘=’\n",
       "Perhaps you need a 'let' in a 'do' block?\n",
       "e.g. 'let x = 5' instead of 'x = 5'"
      ]
     },
     "metadata": {},
     "output_type": "display_data"
    }
   ],
   "source": [
    "data Term t = Zero                              with t = Int\n",
    "            | Succ (Term Int)                   with t = Int\n",
    "            | Pred (Term Int)                   with t = Int\n",
    "            | IsZero (Term Int)                 with t = Bool\n",
    "            | If (Term Bool) (Term a) (Term a)  with t = a\n"
   ]
  },
  {
   "cell_type": "code",
   "execution_count": 3,
   "metadata": {
    "collapsed": true
   },
   "outputs": [],
   "source": [
    "{-# LANGUAGE GADTs #-}\n",
    "\n",
    "data Term t where\n",
    "    Zero   :: Term Int\n",
    "    Succ   :: Term Int -> Term Int\n",
    "    Pred   :: Term Int -> Term Int\n",
    "    IsZero :: Term Int -> Term Bool\n",
    "    If     :: Term Bool -> Term a -> Term a -> Term a\n",
    "    "
   ]
  },
  {
   "cell_type": "markdown",
   "metadata": {},
   "source": [
    "Note that Ralf alludes to the new syntax, above, in Ex. 2."
   ]
  },
  {
   "cell_type": "markdown",
   "metadata": {},
   "source": [
    "[Back to Contents](#contents)"
   ]
  },
  {
   "cell_type": "markdown",
   "metadata": {},
   "source": [
    "## 1 Introducing phantom types <a name=\"ch1\" />"
   ]
  },
  {
   "cell_type": "markdown",
   "metadata": {},
   "source": [
    "### Term evaluator <a name=\"eval\" />\n",
    "\n",
    "Here is Ralf's term evaluator, taken directly from the paper without translation, except for the removal of a superfluous *for all t.* in the type definition:"
   ]
  },
  {
   "cell_type": "code",
   "execution_count": 4,
   "metadata": {
    "collapsed": false
   },
   "outputs": [],
   "source": [
    "eval :: Term t -> t\n",
    "eval (Zero)        = 0\n",
    "eval (Succ e)      = eval e + 1\n",
    "eval (Pred e)      = eval e - 1\n",
    "eval (IsZero e)    = eval e == 0\n",
    "eval (If e1 e2 e3) = if eval e1 then eval e2 else eval e3"
   ]
  },
  {
   "cell_type": "code",
   "execution_count": 5,
   "metadata": {
    "collapsed": false
   },
   "outputs": [
    {
     "data": {
      "text/html": [
       "<style>/* Styles used for the Hoogle display in the pager */\n",
       ".hoogle-doc {\n",
       "display: block;\n",
       "padding-bottom: 1.3em;\n",
       "padding-left: 0.4em;\n",
       "}\n",
       ".hoogle-code {\n",
       "display: block;\n",
       "font-family: monospace;\n",
       "white-space: pre;\n",
       "}\n",
       ".hoogle-text {\n",
       "display: block;\n",
       "}\n",
       ".hoogle-name {\n",
       "color: green;\n",
       "font-weight: bold;\n",
       "}\n",
       ".hoogle-head {\n",
       "font-weight: bold;\n",
       "}\n",
       ".hoogle-sub {\n",
       "display: block;\n",
       "margin-left: 0.4em;\n",
       "}\n",
       ".hoogle-package {\n",
       "font-weight: bold;\n",
       "font-style: italic;\n",
       "}\n",
       ".hoogle-module {\n",
       "font-weight: bold;\n",
       "}\n",
       ".hoogle-class {\n",
       "font-weight: bold;\n",
       "}\n",
       ".get-type {\n",
       "color: green;\n",
       "font-weight: bold;\n",
       "font-family: monospace;\n",
       "display: block;\n",
       "white-space: pre-wrap;\n",
       "}\n",
       ".show-type {\n",
       "color: green;\n",
       "font-weight: bold;\n",
       "font-family: monospace;\n",
       "margin-left: 1em;\n",
       "}\n",
       ".mono {\n",
       "font-family: monospace;\n",
       "display: block;\n",
       "}\n",
       ".err-msg {\n",
       "color: red;\n",
       "font-style: italic;\n",
       "font-family: monospace;\n",
       "white-space: pre;\n",
       "display: block;\n",
       "}\n",
       "#unshowable {\n",
       "color: red;\n",
       "font-weight: bold;\n",
       "}\n",
       ".err-msg.in.collapse {\n",
       "padding-top: 0.7em;\n",
       "}\n",
       ".highlight-code {\n",
       "white-space: pre;\n",
       "font-family: monospace;\n",
       "}\n",
       ".suggestion-warning { \n",
       "font-weight: bold;\n",
       "color: rgb(200, 130, 0);\n",
       "}\n",
       ".suggestion-error { \n",
       "font-weight: bold;\n",
       "color: red;\n",
       "}\n",
       ".suggestion-name {\n",
       "font-weight: bold;\n",
       "}\n",
       "</style><span class='get-type'>one :: Term Int</span>"
      ],
      "text/plain": [
       "one :: Term Int"
      ]
     },
     "metadata": {},
     "output_type": "display_data"
    },
    {
     "data": {
      "text/plain": [
       "1"
      ]
     },
     "metadata": {},
     "output_type": "display_data"
    },
    {
     "data": {
      "text/plain": [
       "False"
      ]
     },
     "metadata": {},
     "output_type": "display_data"
    },
    {
     "data": {
      "text/html": [
       "<style>/* Styles used for the Hoogle display in the pager */\n",
       ".hoogle-doc {\n",
       "display: block;\n",
       "padding-bottom: 1.3em;\n",
       "padding-left: 0.4em;\n",
       "}\n",
       ".hoogle-code {\n",
       "display: block;\n",
       "font-family: monospace;\n",
       "white-space: pre;\n",
       "}\n",
       ".hoogle-text {\n",
       "display: block;\n",
       "}\n",
       ".hoogle-name {\n",
       "color: green;\n",
       "font-weight: bold;\n",
       "}\n",
       ".hoogle-head {\n",
       "font-weight: bold;\n",
       "}\n",
       ".hoogle-sub {\n",
       "display: block;\n",
       "margin-left: 0.4em;\n",
       "}\n",
       ".hoogle-package {\n",
       "font-weight: bold;\n",
       "font-style: italic;\n",
       "}\n",
       ".hoogle-module {\n",
       "font-weight: bold;\n",
       "}\n",
       ".hoogle-class {\n",
       "font-weight: bold;\n",
       "}\n",
       ".get-type {\n",
       "color: green;\n",
       "font-weight: bold;\n",
       "font-family: monospace;\n",
       "display: block;\n",
       "white-space: pre-wrap;\n",
       "}\n",
       ".show-type {\n",
       "color: green;\n",
       "font-weight: bold;\n",
       "font-family: monospace;\n",
       "margin-left: 1em;\n",
       "}\n",
       ".mono {\n",
       "font-family: monospace;\n",
       "display: block;\n",
       "}\n",
       ".err-msg {\n",
       "color: red;\n",
       "font-style: italic;\n",
       "font-family: monospace;\n",
       "white-space: pre;\n",
       "display: block;\n",
       "}\n",
       "#unshowable {\n",
       "color: red;\n",
       "font-weight: bold;\n",
       "}\n",
       ".err-msg.in.collapse {\n",
       "padding-top: 0.7em;\n",
       "}\n",
       ".highlight-code {\n",
       "white-space: pre;\n",
       "font-family: monospace;\n",
       "}\n",
       ".suggestion-warning { \n",
       "font-weight: bold;\n",
       "color: rgb(200, 130, 0);\n",
       "}\n",
       ".suggestion-error { \n",
       "font-weight: bold;\n",
       "color: red;\n",
       "}\n",
       ".suggestion-name {\n",
       "font-weight: bold;\n",
       "}\n",
       "</style><span class='err-msg'>&lt;interactive&gt;:1:9: error:<br/>    • Couldn't match type ‘Bool’ with ‘Int’<br/>      Expected type: Term Int<br/>        Actual type: Term Bool<br/>    • In the first argument of ‘IsZero’, namely ‘(IsZero one)’<br/>      In the expression: IsZero (IsZero one)<br/>      In an equation for ‘it’: it = IsZero (IsZero one)</span>"
      ],
      "text/plain": [
       "<interactive>:1:9: error:\n",
       "    • Couldn't match type ‘Bool’ with ‘Int’\n",
       "      Expected type: Term Int\n",
       "        Actual type: Term Bool\n",
       "    • In the first argument of ‘IsZero’, namely ‘(IsZero one)’\n",
       "      In the expression: IsZero (IsZero one)\n",
       "      In an equation for ‘it’: it = IsZero (IsZero one)"
      ]
     },
     "metadata": {},
     "output_type": "display_data"
    }
   ],
   "source": [
    "let one = Succ Zero\n",
    ":type one\n",
    "eval one\n",
    "eval (IsZero one)\n",
    "IsZero (IsZero one)"
   ]
  },
  {
   "cell_type": "code",
   "execution_count": 6,
   "metadata": {
    "collapsed": false
   },
   "outputs": [
    {
     "data": {
      "text/plain": [
       "1"
      ]
     },
     "metadata": {},
     "output_type": "display_data"
    },
    {
     "data": {
      "text/plain": [
       "True"
      ]
     },
     "metadata": {},
     "output_type": "display_data"
    }
   ],
   "source": [
    "eval (If (IsZero one) Zero one)\n",
    "let true = IsZero Zero\n",
    "let false = IsZero one\n",
    "eval (If true true false)"
   ]
  },
  {
   "cell_type": "markdown",
   "metadata": {},
   "source": [
    "[Back to Contents](#contents)"
   ]
  },
  {
   "cell_type": "markdown",
   "metadata": {},
   "source": [
    "## 2 Generic functions <a name=\"ch2\" />"
   ]
  },
  {
   "cell_type": "markdown",
   "metadata": {},
   "source": [
    "### Exercise 4 <a name=\"ex4\" /a>\n",
    "\n",
    "*Families of type-indexed functions can be implemented either using type classes or using type representations. Discuss differences and commonalities of the two approaches.*\n",
    "\n",
    "As an alternative to simply answering this question, I'm going to attempt to implement the functionality introduced in this chapter, using type classes.\n",
    "\n",
    "Note: There's no need to write *pretty*, in this case, as we can just rely on the exisitng *Show* instances of the standard types we're using. Likewise for *compare*.\n",
    "\n",
    "This prompts one obvious answer to the exercise question: Using type classes obviates the need to write our own utility functions, which we get for free, via the default instances of the standard types.\n"
   ]
  },
  {
   "cell_type": "code",
   "execution_count": 7,
   "metadata": {
    "collapsed": false
   },
   "outputs": [
    {
     "data": {
      "text/html": [
       "<style>/* Styles used for the Hoogle display in the pager */\n",
       ".hoogle-doc {\n",
       "display: block;\n",
       "padding-bottom: 1.3em;\n",
       "padding-left: 0.4em;\n",
       "}\n",
       ".hoogle-code {\n",
       "display: block;\n",
       "font-family: monospace;\n",
       "white-space: pre;\n",
       "}\n",
       ".hoogle-text {\n",
       "display: block;\n",
       "}\n",
       ".hoogle-name {\n",
       "color: green;\n",
       "font-weight: bold;\n",
       "}\n",
       ".hoogle-head {\n",
       "font-weight: bold;\n",
       "}\n",
       ".hoogle-sub {\n",
       "display: block;\n",
       "margin-left: 0.4em;\n",
       "}\n",
       ".hoogle-package {\n",
       "font-weight: bold;\n",
       "font-style: italic;\n",
       "}\n",
       ".hoogle-module {\n",
       "font-weight: bold;\n",
       "}\n",
       ".hoogle-class {\n",
       "font-weight: bold;\n",
       "}\n",
       ".get-type {\n",
       "color: green;\n",
       "font-weight: bold;\n",
       "font-family: monospace;\n",
       "display: block;\n",
       "white-space: pre-wrap;\n",
       "}\n",
       ".show-type {\n",
       "color: green;\n",
       "font-weight: bold;\n",
       "font-family: monospace;\n",
       "margin-left: 1em;\n",
       "}\n",
       ".mono {\n",
       "font-family: monospace;\n",
       "display: block;\n",
       "}\n",
       ".err-msg {\n",
       "color: red;\n",
       "font-style: italic;\n",
       "font-family: monospace;\n",
       "white-space: pre;\n",
       "display: block;\n",
       "}\n",
       "#unshowable {\n",
       "color: red;\n",
       "font-weight: bold;\n",
       "}\n",
       ".err-msg.in.collapse {\n",
       "padding-top: 0.7em;\n",
       "}\n",
       ".highlight-code {\n",
       "white-space: pre;\n",
       "font-family: monospace;\n",
       "}\n",
       ".suggestion-warning { \n",
       "font-weight: bold;\n",
       "color: rgb(200, 130, 0);\n",
       "}\n",
       ".suggestion-error { \n",
       "font-weight: bold;\n",
       "color: red;\n",
       "}\n",
       ".suggestion-name {\n",
       "font-weight: bold;\n",
       "}\n",
       "</style><span class='err-msg'>&lt;interactive&gt;:66:25: error:<br/>    • Could not deduce (Compressable t0)<br/>      from the context: (Compressable a, Compressable b) bound by the instance declaration at &lt;interactive&gt;:58:10-64<br/>      The type variable ‘t0’ is ambiguous<br/>    • When checking that the inferred type<br/>        bs'' :: forall t. Compressable t =&gt; [Bit]<br/>      is as general as its inferred signature<br/>        bs'' :: [Bit]<br/>      In the expression:<br/>        let<br/>          (x, bs') = uncompress bs<br/>          (y, bs'') = uncompress bs'<br/>        in ((x, y), bs'')<br/>      In an equation for ‘uncompress’:<br/>          uncompress bs<br/>            = let<br/>                (x, bs') = uncompress bs<br/>                (y, bs'') = uncompress bs'<br/>              in ((x, y), bs'')</span>"
      ],
      "text/plain": [
       "<interactive>:66:25: error:\n",
       "    • Could not deduce (Compressable t0)\n",
       "      from the context: (Compressable a, Compressable b) bound by the instance declaration at <interactive>:58:10-64\n",
       "      The type variable ‘t0’ is ambiguous\n",
       "    • When checking that the inferred type\n",
       "        bs'' :: forall t. Compressable t => [Bit]\n",
       "      is as general as its inferred signature\n",
       "        bs'' :: [Bit]\n",
       "      In the expression:\n",
       "        let\n",
       "          (x, bs') = uncompress bs\n",
       "          (y, bs'') = uncompress bs'\n",
       "        in ((x, y), bs'')\n",
       "      In an equation for ‘uncompress’:\n",
       "          uncompress bs\n",
       "            = let\n",
       "                (x, bs') = uncompress bs\n",
       "                (y, bs'') = uncompress bs'\n",
       "              in ((x, y), bs'')"
      ]
     },
     "metadata": {},
     "output_type": "display_data"
    }
   ],
   "source": [
    "{-# LANGUAGE AllowAmbiguousTypes, TypeApplications #-}\n",
    "\n",
    "-- module Main where\n",
    "\n",
    "import Data.Char (ord, chr)\n",
    "\n",
    "-- Our \"bit\" representation.\n",
    "data Bit = O  -- 0\n",
    "         | I  -- 1\n",
    "    deriving (Show, Eq)\n",
    "    \n",
    "-- Generic conversions from Int to [Bit] and back.\n",
    "intToBits :: Int -> [Bit]\n",
    "intToBits n | n < 0          = error \"No negative Ints!\"\n",
    "            | n == 0         = []\n",
    "            | n `mod` 2 /= 0 = I : msbs\n",
    "            | otherwise      = O : msbs\n",
    "    where msbs = intToBits (n `div` 2)\n",
    "            \n",
    "bitsToInt :: [Bit] -> Int\n",
    "bitsToInt = bitsToInt' 1\n",
    "\n",
    "bitsToInt' :: Int -> [Bit] -> Int\n",
    "bitsToInt' _ []                 = 0\n",
    "bitsToInt' w (b:bs) | b == I    = w + bitsToInt' w' bs\n",
    "                    | otherwise = 0 + bitsToInt' w' bs\n",
    "    where w' = w * 2\n",
    "\n",
    "-- Typeclass representing compressable data types.\n",
    "class Compressable t where\n",
    "    -- bitLen  :: Int  -- Why doesn't this work?\n",
    "    bitLen  :: t -> Int\n",
    "    toInt   :: t -> Int\n",
    "    fromInt :: Int -> t\n",
    "    \n",
    "    -- the \"generic\" functions\n",
    "    compress :: t -> [Bit]\n",
    "    compress x | neededFill < 0 = error \"Value overflow!\"\n",
    "               | otherwise      = prelimRes ++ (take neededFill (repeat O))\n",
    "        where prelimRes  = intToBits $ toInt x\n",
    "              neededFill = bitLen x - length prelimRes\n",
    "\n",
    "    uncompress :: [Bit] -> (t, [Bit])  -- Returns the unconsumed bits.\n",
    "    uncompress bs | length bs < bitLen x = error \"Insufficient bits!\"\n",
    "                  | otherwise            = ( x, drop (bitLen x) bs)\n",
    "        where x = fromInt (bitsToInt (take (bitLen x) bs))\n",
    "\n",
    "instance Compressable Int where\n",
    "    bitLen _ = 32\n",
    "    toInt    = id\n",
    "    fromInt  = id\n",
    "    \n",
    "instance Compressable Char where\n",
    "    bitLen _ = 7\n",
    "    toInt    = ord\n",
    "    fromInt  = chr\n",
    "\n",
    "instance Compressable a => Compressable [a] where\n",
    "    bitLen  xs = sum $ map bitLen xs\n",
    "    toInt      = undefined\n",
    "    fromInt n  = undefined\n",
    "    \n",
    "    compress []     = O : []\n",
    "    compress (x:xs) = I : compress x ++ compress xs\n",
    "\n",
    "    uncompress []              = error \"Empty list!\"\n",
    "    uncompress (b:bs) | b == O = ([]           , bs)\n",
    "                      | b == I = (head' : tail', unusedBits)\n",
    "        where head'      = fst recRes\n",
    "              tail'      = fst $ recRes'\n",
    "              unusedBits = snd $ recRes'\n",
    "              recRes     = uncompress bs\n",
    "              recRes'    = uncompress $ snd recRes\n",
    "\n",
    "instance (Compressable a, Compressable b) => Compressable (a, b) where\n",
    "    bitLen (x, y) = bitLen x + bitLen y\n",
    "    toInt         = undefined\n",
    "    fromInt       = undefined\n",
    "    \n",
    "    compress (x, y) = compress x ++ compress y\n",
    "    \n",
    "    uncompress bs = let (x, bs')  = uncompress bs\n",
    "                        (y, bs'') = uncompress bs'\n",
    "                    in ((x, y), bs'')\n",
    "\n",
    "main :: IO ()\n",
    "main = do\n",
    "    let x = compress (5 :: Int)\n",
    "    print x\n",
    "    let y = compress ('A' :: Char)\n",
    "    print y\n",
    "    let z = compress ['A', 'B']\n",
    "    print z\n",
    "    print $ compress ('A', 5 :: Int)\n",
    "    print $ compress 'A' == compress 'A'\n",
    "    print $ compress 'A' == compress 'B'\n",
    "    print $ ((uncompress x) :: (Int, [Bit]))\n",
    "    print $ ((uncompress y) :: (Char, [Bit]))\n",
    "    print $ ((uncompress z) :: ([Char], [Bit]))\n",
    "\n",
    "main\n"
   ]
  },
  {
   "cell_type": "markdown",
   "metadata": {},
   "source": [
    "[Back to Contents](#contents)"
   ]
  },
  {
   "cell_type": "markdown",
   "metadata": {},
   "source": [
    "## 5 Normalization by evaluation <a name=\"ch5\" />"
   ]
  },
  {
   "cell_type": "markdown",
   "metadata": {},
   "source": [
    "### Exercise 12 <a name=\"ex12\" /a>\n",
    "\n",
    "Implement a *show* function for *Term t*.\n",
    "\n",
    "Hint: augment the expression type *Term t* by an additional constructor *Var* of type `String → Term t`.\n"
   ]
  },
  {
   "cell_type": "code",
   "execution_count": 8,
   "metadata": {
    "collapsed": false
   },
   "outputs": [
    {
     "data": {
      "text/plain": [
       "Fun (λa -> a)"
      ]
     },
     "metadata": {},
     "output_type": "display_data"
    },
    {
     "data": {
      "text/plain": [
       "Fun (λa -> Fun (λb -> a))"
      ]
     },
     "metadata": {},
     "output_type": "display_data"
    },
    {
     "data": {
      "text/plain": [
       "Fun (λa -> Fun (λb -> App a (App a b)))"
      ]
     },
     "metadata": {},
     "output_type": "display_data"
    }
   ],
   "source": [
    "{-# LANGUAGE ExplicitForAll #-}\n",
    "\n",
    "import Control.Monad.State\n",
    "\n",
    "newtype Base = In{out :: Term Base}\n",
    "\n",
    "infixr :->\n",
    "data Type t where\n",
    "    RBase :: Type Base\n",
    "    (:->) :: Type a -> Type b -> Type (a -> b)\n",
    "\n",
    "b :: Type Base\n",
    "b = RBase\n",
    "\n",
    "data Term t where\n",
    "    App :: Term (a -> b) -> Term a -> Term b\n",
    "    Fun :: (Term a -> Term b) -> Term (a -> b)\n",
    "    Var :: String -> Term t\n",
    "\n",
    "reify :: forall t. Type t -> t -> Term t\n",
    "reify RBase v = out v\n",
    "reify (ra :-> rb) v = Fun (reify rb . v . reflect ra)\n",
    "\n",
    "reflect :: forall t. Type t -> Term t -> t\n",
    "reflect RBase expr = In expr\n",
    "reflect (ra :-> rb) expr = reflect rb . App expr . reify ra\n",
    "\n",
    "-- Exercise 12 - Implement show() for 'Term t'.\n",
    "allNames :: [String]\n",
    "allNames = map reverse $ tail allNames' where\n",
    "    allNames' = \"\" : [suf : base | base <- allNames', suf <- ['a'..'z']]\n",
    "\n",
    "instance Show (Term t) where\n",
    "    show x = evalState (showTerm x) allNames\n",
    "\n",
    "showTerm :: Term t -> State [String] String\n",
    "showTerm (Var str) = return str\n",
    "showTerm (App f (Var str)) = do\n",
    "    fStr <- showTerm f\n",
    "    return $ \"App \" ++ fStr ++ \" \" ++ str\n",
    "showTerm (App f x) = do\n",
    "    fStr <- showTerm f\n",
    "    xStr <- showTerm x\n",
    "    return $ \"App \" ++ fStr ++ \" (\" ++ xStr ++ \")\"\n",
    "showTerm (Fun rf) = do\n",
    "    varNames <- get\n",
    "    let varName = head varNames\n",
    "    put $ tail varNames\n",
    "    rfStr <- showTerm (rf (Var varName))\n",
    "    return $ \"Fun (\\x3BB\" ++ varName ++ \" -> \" ++ rfStr ++ \")\"\n",
    "\n",
    "-- Hinze's interactive testing repeated, here.\n",
    "s :: forall t t1 t2. (t2 -> t1 -> t) -> (t2 -> t1) -> t2 -> t\n",
    "s x y z = x z (y z)\n",
    "\n",
    "k :: forall t t1. t1 -> t -> t1\n",
    "k x _ = x\n",
    "\n",
    "i :: forall t. t -> t\n",
    "i x = x\n",
    "\n",
    "e =s (s (k s) (s (k k) i))((s ((s (k s))((s (k k))i)))(k i))\n",
    "\n",
    "print $ reify (b :-> b) (s k k)\n",
    "print $ reify (b :-> (b :-> b)) (s (k k)i)\n",
    "print $ reify ((b :-> b) :-> (b :-> b)) e\n"
   ]
  },
  {
   "cell_type": "markdown",
   "metadata": {},
   "source": [
    "[Back to Contents](#contents)"
   ]
  },
  {
   "cell_type": "code",
   "execution_count": null,
   "metadata": {
    "collapsed": true
   },
   "outputs": [],
   "source": []
  }
 ],
 "metadata": {
  "kernelspec": {
   "display_name": "Haskell",
   "language": "haskell",
   "name": "haskell"
  },
  "language_info": {
   "codemirror_mode": "ihaskell",
   "file_extension": ".hs",
   "name": "haskell",
   "version": "8.0.2"
  }
 },
 "nbformat": 4,
 "nbformat_minor": 2
}
