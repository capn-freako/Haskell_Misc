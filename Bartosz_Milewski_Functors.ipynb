{
 "cells": [
  {
   "cell_type": "markdown",
   "metadata": {},
   "source": [
    "# Bartosz Milewski's - \"Categories for Programmers\"\n",
    "## *Challenges* - Cap'n Freako's responses.\n",
    "\n",
    "Original Author: David Banas <capn.freako@gmail.com>  \n",
    "Original Date: May 2, 2016\n",
    "\n",
    "Copyright (c) 2016 David Banas; all rights reserved World wide.\n",
    "\n",
    "This [IHaskell](https://github.com/gibiansky/ihaskell) notebook contains my responses to the *Challenges* posed by Bartosz Milewski in his [Categories for Programmers](https://bartoszmilewski.com/2014/10/28/category-theory-for-programmers-the-preface/)."
   ]
  },
  {
   "cell_type": "code",
   "execution_count": 1,
   "metadata": {
    "collapsed": false
   },
   "outputs": [
    {
     "data": {
      "text/plain": [
       "\"Notebook last run:\""
      ]
     },
     "metadata": {},
     "output_type": "display_data"
    },
    {
     "data": {
      "text/plain": [
       "2016-11-22 20:21:57.081656 UTC"
      ]
     },
     "metadata": {},
     "output_type": "display_data"
    }
   ],
   "source": [
    "import Data.Time\n",
    "\n",
    "print \"Notebook last run:\"\n",
    "getCurrentTime\n"
   ]
  },
  {
   "cell_type": "markdown",
   "metadata": {},
   "source": [
    "## Table of Contents <a name=\"contents\"/>\n",
    "\n",
    "1. <a href=\"#category\">Category: The Essence of Composition</a>\n",
    "    1. <a href=\"#category_1\">Identity in Python</a>\n",
    "    1. <a href=\"#category_2\">Composition in Python</a>\n",
    "    1. <a href=\"#category_3\">Composition w/ Identity in Python</a>\n",
    "    1. <a href=\"#category_4\">WWW a category? Links morphisms?</a>\n",
    "    1. <a href=\"#category_5\">Facebook a category? Friendships morphisms?</a>\n",
    "    1. <a href=\"#category_6\">When is a directed graph a category?</a>\n",
    "1. <a href=\"#types_and_functions\">Types and Functions</a>\n",
    "    1. <a href=\"#types_1\">Memoization in Python</a>\n",
    "    1. <a href=\"#types_2\">Memoization of random()</a>\n",
    "    1. <a href=\"#types_3\">Memoized C++ functions</a>\n",
    "    1. <a href=\"#types_4\">Memoization in Python</a>\n",
    "    1. <a href=\"#types_5\">Bool to Bool</a>\n",
    "    1. <a href=\"#types_6\">Category drawing: Void, (), and Bool</a>\n",
    "1. <a href=\"#categories\">Categories Great and Small</a>\n",
    "    1. <a href=\"#categories_1\">Free category construction</a>\n",
    "    1. <a href=\"#categories_2\">Determining order kind</a>\n",
    "    1. <a href=\"#categories_3\">Bool as two (set-theoretical) monoids</a>\n",
    "    1. <a href=\"#categories_4\">True/AND monoid as category</a>\n",
    "    1. <a href=\"#categories_5\">Addition modulo 3 as category</a>\n",
    "1. <a href=\"#kleisli\">Kleisli Categories</a>\n",
    "    1. <a href=\"#kleisli_1\">Kleisli category for partial functions</a>\n",
    "    1. <a href=\"#kleisli_2\">Implementation of `safe_reciprocal`</a>\n",
    "    1. <a href=\"#kleisli_3\">Composition of `safe_root` and `safe_reciprocal`</a>\n",
    "1. <a href=\"#products\">Products and Coproducts</a>\n",
    "    1. <a href=\"#products_1\">Uniqueness of Terminal Object</a>\n",
    "    1. <a href=\"#products_2\">Product of Two Objects in a Poset</a>\n",
    "    1. <a href=\"#products_3\">Coproduct of Two Objects in a Poset</a>\n",
    "    1. <a href=\"#products_4\">*Either* in Python</a>\n",
    "    1. <a href=\"#products_5\">*Either* as best coproduct</a>\n",
    "    1. <a href=\"#products_6\">Arguing in favor of *Either*</a>\n",
    "    1. <a href=\"#products_7\">Testing a slight change in *i()* injector.</a>\n",
    "    1. <a href=\"#products_8\">Uniqueness of Terminal Object</a>\n",
    "1. <a href=\"#sadts\">Simple Algebraic Data Types</a>\n",
    "    1. <a href=\"#sadts_1\">Isomorphism Between *Maybe* and *Either ()*</a>\n",
    "    1. <a href=\"#sadts_2\">*Shape* as a C++ interface</a>\n",
    "    1. <a href=\"#sadts_3\">Adding *circ* to *Shape*</a>\n",
    "    1. <a href=\"#sadts_4\">Adding *Square* to *Shape*</a>\n",
    "    1. <a href=\"#sadts_5\">Showing \"`a + a = 2 * a`\", for types.</a>\n",
    "1. <a href=\"#functors\">Functors</a>\n",
    "    1. <a href=\"#functors_1\">Alternative Functor instance for *Maybe*</a>\n",
    "    1. <a href=\"#functors_2\">Functor laws for *Reader*</a>\n",
    "    1. <a href=\"#functors_3\">*Reader* functor, in Python</a>\n",
    "    1. <a href=\"#functors_4\">Prove Functor laws for *List*.</a>\n",
    "1. <a href=\"#functoriality\">Functoriality</a>\n",
    "    1. <a href=\"#functoriality_1\">*Bifunctor* instance for *Pair*</a>\n",
    "    1. <a href=\"#functoriality_2\">Isomorphic definitions of *Maybe*</a>\n",
    "    1. <a href=\"#functoriality_3\">Bifunctor instance for *PreList*</a>\n",
    "    1. <a href=\"#functoriality_4\">More Bifunctor instances</a>\n",
    "    1. <a href=\"#functoriality_5\">Bifunctor in Python</a>\n",
    "    1. <a href=\"#functoriality_6\">Functorial nature of C++ std::map</a>\n",
    "1. <a href=\"#natural_transformations\">Natural Transformations</a>\n",
    "    1. <a href=\"#natural_transformations_1\">Natural Transformation from *Maybe* to *List*</a>\n",
    "    1. <a href=\"#natural_transformations_2\">Natural Transformations from *Reader ()* to *List*</a>\n",
    "    1. <a href=\"#natural_transformations_3\">Natural Transformations from *Reader Bool* to *Maybe*</a>\n",
    "1. <a href=\"#limits_and_colimits\">Limits and Colimits</a>\n",
    "    1. <a href=\"#limits_and_colimits_1\">*Pushout*, for C++ classes</a>\n",
    "    1. <a href=\"#limits_and_colimits_2\">Limit of identity functor</a>\n",
    "    1. <a href=\"#limits_and_colimits_3\">Properties of category of subsets</a>\n",
    "    1. <a href=\"#limits_and_colimits_4\">Guess what a *coequalizer* is.</a>\n",
    "    1. <a href=\"#limits_and_colimits_5\">Show that pullback towards terminal object is a product.</a>\n",
    "    1. <a href=\"#limits_and_colimits_6\">Show that pushout from initial object is a coproduct.</a>\n"
   ]
  },
  {
   "cell_type": "markdown",
   "metadata": {},
   "source": [
    "## Category: The Essence of Composition <a name=\"category\"/>"
   ]
  },
  {
   "cell_type": "markdown",
   "metadata": {},
   "source": [
    "### Challenge 1 - Identity in Python <a name=\"category_1\"/>\n",
    "\n",
    "```\n",
    "def identity(x):\n",
    "    return x\n",
    "```\n"
   ]
  },
  {
   "cell_type": "markdown",
   "metadata": {},
   "source": [
    "### Challenge 2 - Composition in Python <a name=\"category_2\"/>\n",
    "\n",
    "```\n",
    "def compose(g, h):\n",
    "    return lambda x: g(h(x))\n",
    "```\n"
   ]
  },
  {
   "cell_type": "markdown",
   "metadata": {},
   "source": [
    "### Challenge 3 - Composition w/ Identity in Python <a name=\"category_3\"/>\n",
    "\n",
    "*identity_compose.py*:\n",
    "\n",
    "```\n",
    "#! /usr/bin/env python\n",
    "\n",
    "def main():\n",
    "    def f(x):\n",
    "        return x + 2\n",
    "\n",
    "    g = compose(f, identity)\n",
    "    h = compose(identity, f)\n",
    "\n",
    "    for x in range(3):\n",
    "        assert g(x) == f(x)\n",
    "        assert h(x) == f(x)\n",
    "\n",
    "    print \"All tests passed.\"\n",
    "\n",
    "if(__name__ == \"__main__\"):\n",
    "    main()\n",
    "```\n",
    "\n",
    "davids-air-2:Haskell_Misc dbanas$ ./identity_compose.py  \n",
    "All tests passed.\n"
   ]
  },
  {
   "cell_type": "markdown",
   "metadata": {},
   "source": [
    "<a href=\"#contents\">Back to contents.</a>"
   ]
  },
  {
   "cell_type": "markdown",
   "metadata": {},
   "source": [
    "### Challenge 4 - WWW a category? Links morphisms? <a name=\"category_4\"/>\n",
    "\n",
    "I say, \"yes,\" because:\n",
    "\n",
    "- I can certainly make an identity link.\n",
    "- Composition is easy and associative: it amounts to simply taking the destination of the final link in the composition chain.\n"
   ]
  },
  {
   "cell_type": "markdown",
   "metadata": {},
   "source": [
    "### Challenge 5 - Facebook a category? Friendships morphisms? <a name=\"category_5\"/>\n",
    "\n",
    "I say, \"no,\" because I can't friend myself; therefore, identity is missing.\n"
   ]
  },
  {
   "cell_type": "markdown",
   "metadata": {},
   "source": [
    "### Challenge 6 - When is a directed graph a category? <a name=\"category_6\"/>\n",
    "\n",
    "When all possible compositions of arrows are members of the graph, and every node in the graph has an identity arrow."
   ]
  },
  {
   "cell_type": "markdown",
   "metadata": {},
   "source": [
    "<a href=\"#contents\">Back to contents.</a>"
   ]
  },
  {
   "cell_type": "markdown",
   "metadata": {},
   "source": [
    "## Types and Functions <a name=\"types_and_functions\"/>"
   ]
  },
  {
   "cell_type": "markdown",
   "metadata": {},
   "source": [
    "### Challenge 1 - Memoization in Python <a name=\"types_1\"/>\n",
    "\n",
    "```\n",
    "#! /usr/bin/env python\n",
    "\n",
    "from operator import mul\n",
    "import time\n",
    "\n",
    "class Memoized(object):\n",
    "    def __init__(self, f):\n",
    "        self.f = f\n",
    "        self.memo = {}\n",
    "\n",
    "    def call(self, *args):\n",
    "        if(args in self.memo):\n",
    "            return self.memo[args]\n",
    "        else:\n",
    "            res = self.f(*args)\n",
    "            self.memo[args] = res\n",
    "            return res\n",
    "\n",
    "def fact(x):\n",
    "    return reduce(mul, range(1, x + 1), 1)\n",
    "\n",
    "def main():\n",
    "    fact_m = Memoized(fact)\n",
    "    arg = 100000\n",
    "\n",
    "    t0 = time.time()\n",
    "    fact_m.call(arg)\n",
    "    t1 = time.time()\n",
    "    res = fact_m.call(arg)\n",
    "    t2 = time.time()\n",
    "\n",
    "    print \"{}! = {}\".format(arg, res)\n",
    "    print \"First call took {} seconds.\".format(t1 - t0)\n",
    "    print \"Second call took {} seconds.\".format(t2 - t1)\n",
    "\n",
    "if(__name__ == \"__main__\"):\n",
    "    main()\n",
    "```\n",
    "\n",
    "    > ./memoize.py  \n",
    "    100000! = 2824229407960347874293421578024535518477494926091224850578918  \n",
    "    {Many lines snipped.}  \n",
    "    00000000000000000000000000000000000000000000000000000000000000000000000  \n",
    "\n",
    "    First call took 3.60797715187 seconds.  \n",
    "    Second call took 5.00679016113e-06 seconds.  \n",
    "    Keys of memo: [(100000,)]\n"
   ]
  },
  {
   "cell_type": "markdown",
   "metadata": {},
   "source": [
    "<a href=\"#contents\">Back to contents.</a>"
   ]
  },
  {
   "cell_type": "markdown",
   "metadata": {},
   "source": [
    "### Challenge 2 - Memoization of *random()* <a name=\"types_2\"/>\n",
    "\n",
    "*rand_mem.py*:\n",
    "\n",
    "```\n",
    "#! /usr/bin/env python\n",
    "\n",
    "import time\n",
    "from random import random\n",
    "from memoize import Memoized\n",
    "\n",
    "def main():\n",
    "    rand_m = Memoized(random)\n",
    "\n",
    "    t0 = time.time()\n",
    "    res1 = rand_m.call()\n",
    "    t1 = time.time()\n",
    "    res2 = rand_m.call()\n",
    "    t2 = time.time()\n",
    "\n",
    "    print \"First result: {} ; Second result: {}\".format(res1, res2)\n",
    "    print \"First call took {} seconds.\".format(t1 - t0)\n",
    "    print \"Second call took {} seconds.\".format(t2 - t1)\n",
    "    print \"Keys of memo: {}\".format(rand_m.memo.keys())\n",
    "\n",
    "if(__name__ == \"__main__\"):\n",
    "    main()\n",
    "```\n",
    "\n",
    "    > ./rand_mem.py  \n",
    "    First result: 0.314463120332 ; Second result: 0.314463120332  \n",
    "    First call took 3.81469726562e-06 seconds.  \n",
    "    Second call took 1.19209289551e-06 seconds.  \n",
    "    Keys of memo: [()]\n",
    "\n",
    "It didn't work, because the *random()* function gets called without an argument.  \n",
    "So, all successive calls will return the original value, which isn't very random.\n"
   ]
  },
  {
   "cell_type": "markdown",
   "metadata": {},
   "source": [
    "<a href=\"#contents\">Back to contents.</a>"
   ]
  },
  {
   "cell_type": "markdown",
   "metadata": {},
   "source": [
    "### Challenge 4 - Memoized C++ functions <a name=\"types_4\"/>\n",
    "\n",
    "*rand_mem.py*:\n",
    "\n",
    "```\n",
    "#include <map>\n",
    "#include <iostream>\n",
    "#include <chrono>\n",
    "\n",
    "using namespace std;\n",
    "using namespace std::chrono;\n",
    "\n",
    "template<typename T1, typename T2>\n",
    "class Memoized {\n",
    "  public:\n",
    "    Memoized(T2 (*g)(T1)) {\n",
    "        f = g;\n",
    "        _memo.clear();\n",
    "    }\n",
    "\n",
    "    T2 call(T1 x) {\n",
    "        try {\n",
    "            return _memo.at(x);\n",
    "        }\n",
    "        catch(...) {\n",
    "            T2 res = f(x);\n",
    "            _memo[x] = res;\n",
    "            return res;\n",
    "        }\n",
    "    }\n",
    "\n",
    "  protected:\n",
    "    map<T1, T2> _memo;\n",
    "    T2 (*f)(T1);\n",
    "};\n",
    "\n",
    "double fact(int n) {\n",
    "    int i;\n",
    "    double result = 1;\n",
    "    for (i = 2; i <= n; ++i)\n",
    "        result *= i;\n",
    "    return result;\n",
    "}\n",
    "\n",
    "int f(int x)\n",
    "{\n",
    "    static int y = 0;\n",
    "    y += x;\n",
    "    return y;\n",
    "}\n",
    "\n",
    "int main(int argc, char *argv[]) {\n",
    "    int x = 1000;\n",
    "\n",
    "    cout << \"1. Factorial\\n\";\n",
    "    Memoized<int, double> fact_m(fact);\n",
    "    for(auto i=0; i < 2; ++i) {\n",
    "        cout << \"\\tTrial \" << i << \"\\n\";\n",
    "        high_resolution_clock::time_point t1 = high_resolution_clock::now();\n",
    "        double res = fact(x);\n",
    "        high_resolution_clock::time_point t2 = high_resolution_clock::now();\n",
    "        auto duration = duration_cast<microseconds>( t2 - t1 ).count();\n",
    "        t1 = high_resolution_clock::now();\n",
    "        double res_m = fact_m.call(x);\n",
    "        t2 = high_resolution_clock::now();\n",
    "        auto duration_m = duration_cast<microseconds>( t2 - t1 ).count();\n",
    "        printf(\"\\t\\tFunction argument: %d; Function result: %e; Memoized function result: %e.\\n\", x, res, res_m);\n",
    "        printf(\"\\t\\tFunction time: %lld us; Memoized function time: %lld us.\\n\", duration, duration_m);\n",
    "    }\n",
    "\n",
    "    cout << \"4. f(int x)\\n\";\n",
    "    Memoized<int, int> f_m(f);\n",
    "    for(auto i=0; i < 2; ++i) {\n",
    "        cout << \"\\tTrial \" << i << \"\\n\";\n",
    "        high_resolution_clock::time_point t1 = high_resolution_clock::now();\n",
    "        int res = f(x);\n",
    "        high_resolution_clock::time_point t2 = high_resolution_clock::now();\n",
    "        auto duration = duration_cast<microseconds>( t2 - t1 ).count();\n",
    "        t1 = high_resolution_clock::now();\n",
    "        int res_m = f_m.call(x);\n",
    "        t2 = high_resolution_clock::now();\n",
    "        auto duration_m = duration_cast<microseconds>( t2 - t1 ).count();\n",
    "        printf(\"\\t\\tFunction argument: %d; Function result: %d; Memoized function result: %d.\\n\", x, res, res_m);\n",
    "        printf(\"\\t\\tFunction time: %lld us; Memoized function time: %lld us.\\n\", duration, duration_m);\n",
    "    }\n",
    "}\n",
    "\n",
    "```\n",
    "\n",
    "    > g++ -Wno-c++11-extensions mem_fact.cpp  \n",
    "    > ./a.out \n",
    "    1. Factorial\n",
    "        Trial 0\n",
    "            Function argument: 1000; Function result: inf; Memoized function result: inf.\n",
    "            Function time: 6 us; Memoized function time: 473 us.\n",
    "        Trial 1\n",
    "            Function argument: 1000; Function result: inf; Memoized function result: inf.\n",
    "            Function time: 7 us; Memoized function time: 7 us.\n",
    "    \n",
    "    4. f(int x)\n",
    "        Trial 0\n",
    "            Function argument: 1000; Function result: 1000; Memoized function result: 2000.\n",
    "            Function time: 0 us; Memoized function time: 19 us.\n",
    "        Trial 1\n",
    "            Function argument: 1000; Function result: 3000; Memoized function result: 2000.\n",
    "            Function time: 0 us; Memoized function time: 0 us.\n",
    "\n",
    "#### 1) Factorial\n",
    "\n",
    "This function is pure:\n",
    "\n",
    "- Both trials produce the same result.\n",
    "- The memoized and non-memoized versions yield identical results.\n",
    "\n",
    "#### 2) std::getchar()\n",
    "\n",
    "This function is not pure:\n",
    "\n",
    "- It can, potentially, produce different results each time it is called, depending upon user input.\n",
    "- It can't be memoized, because it takes no argument.\n",
    "\n",
    "#### 3) bool f()\n",
    "\n",
    "This function is not pure:\n",
    "\n",
    "- It produces the same result, each time it is called.\n",
    "- However, it has side effects: it modifies the state of the governing terminal, via its output statement.\n",
    "- It can't be memoized, because it takes no argument.\n",
    "\n",
    "#### 4) int f(int x)\n",
    "\n",
    "This function is not pure:\n",
    "\n",
    "- It produces different results, each time it is called, due to its static storage.\n",
    "- The memoized and non-memoized versions produce different results.\n"
   ]
  },
  {
   "cell_type": "markdown",
   "metadata": {},
   "source": [
    "<a href=\"#contents\">Back to contents.</a>"
   ]
  },
  {
   "cell_type": "markdown",
   "metadata": {},
   "source": [
    "### Challenge 5 <a name=\"types_5\"/>\n",
    "\n",
    "*How many different functions are there from Bool to Bool?*  \n",
    "*Can you implement them all?*\n",
    "\n",
    "There are 4:\n",
    "\n",
    "- true\n",
    "- complement\n",
    "- constant\n",
    "- bottom\n",
    "\n",
    "Yes, they can all be implemented (in Haskell):\n"
   ]
  },
  {
   "cell_type": "code",
   "execution_count": 2,
   "metadata": {
    "collapsed": false
   },
   "outputs": [
    {
     "data": {
      "text/plain": [
       "true:\n",
       "\tTrue -> True\n",
       "\tFalse -> False\n",
       "complement:\n",
       "\tTrue -> False\n",
       "\tFalse -> True\n",
       "const:\n",
       "\tTrue -> True\n",
       "\tFalse -> True\n",
       "bottom:\n",
       "\t(Attempting to call 'bottom' short circuits the monad, and we get no output.)"
      ]
     },
     "metadata": {},
     "output_type": "display_data"
    }
   ],
   "source": [
    "true :: Bool -> Bool\n",
    "true True = True\n",
    "true False = False\n",
    "\n",
    "complement :: Bool -> Bool\n",
    "complement True = False\n",
    "complement False = True\n",
    "\n",
    "constant :: a -> Bool\n",
    "constant _ = True\n",
    "\n",
    "bottom :: Bool -> Bool\n",
    "bottom _ = undefined\n",
    "\n",
    "main :: IO ()\n",
    "main = do\n",
    "  putStrLn \"true:\"\n",
    "  putStrLn $ \"\\tTrue -> \" ++ (show $ true True)\n",
    "  putStrLn $ \"\\tFalse -> \" ++ (show $ true False)\n",
    "  putStrLn \"complement:\"\n",
    "  putStrLn $ \"\\tTrue -> \" ++ (show $ complement True)\n",
    "  putStrLn $ \"\\tFalse -> \" ++ (show $ complement False)\n",
    "  putStrLn \"const:\"\n",
    "  putStrLn $ \"\\tTrue -> \" ++ (show $ constant True)\n",
    "  putStrLn $ \"\\tFalse -> \" ++ (show $ constant False)\n",
    "  putStrLn \"bottom:\"\n",
    "  putStrLn \"\\t(Attempting to call 'bottom' short circuits the monad, and we get no output.)\"\n",
    "main\n"
   ]
  },
  {
   "cell_type": "markdown",
   "metadata": {},
   "source": [
    "<a href=\"#contents\">Back to contents.</a>"
   ]
  },
  {
   "cell_type": "markdown",
   "metadata": {},
   "source": [
    "### Challenge 6 <a name=\"types_6\"/>\n",
    "\n",
    "![Category Picture](types_6.png)\n"
   ]
  },
  {
   "cell_type": "markdown",
   "metadata": {},
   "source": [
    "<a href=\"#contents\">Back to contents.</a>"
   ]
  },
  {
   "cell_type": "markdown",
   "metadata": {},
   "source": [
    "## Categories Great and Small <a name=\"categories\"/>"
   ]
  },
  {
   "cell_type": "markdown",
   "metadata": {},
   "source": [
    "### Challenge 1 - Free category construction <a name=\"categories_1\"/>\n",
    "\n",
    "Generate a free category from:\n",
    "\n",
    "1. A graph with one node and no edges\n",
    "![Single node](categories_1_1.png)\n",
    "1. A graph with one node and one (directed) edge (hint: this edge can be composed with itself)\n",
    "![Single node](categories_1_4.png)\n",
    "1. A graph with two nodes and a single arrow between them\n",
    "![Single node](categories_1_3.png)\n",
    "1. A graph with a single node and 26 arrows marked with the letters of the alphabet: a, b, c … z.\n",
    "![Single node](categories_1_4.png)\n"
   ]
  },
  {
   "cell_type": "markdown",
   "metadata": {},
   "source": [
    "<a href=\"#contents\">Back to contents.</a>"
   ]
  },
  {
   "cell_type": "markdown",
   "metadata": {},
   "source": [
    "### Challenge 2 - Determining order kind. <a name=\"categories_2\"/>\n",
    "\n",
    "What kind of order is this?\n",
    "\n",
    "1. A set of sets with the inclusion relation: A is included in B if every element of A is also an element of B.  \n",
    "I believe this is a *preorder*, because it isn't explicitly stipulated that, if A is included in B *and* B is included in A, then A and B are identical.\n",
    "\n",
    "1. C++ types with the following subtyping relation: T1 is a subtype of T2 if a pointer to T1 can be passed to a function that expects a pointer to T2 without triggering a compilation error.  \n",
    "Again, I claim preorder, due to the missing stipulation regarding equality."
   ]
  },
  {
   "cell_type": "markdown",
   "metadata": {},
   "source": [
    "<a href=\"#contents\">Back to contents.</a>"
   ]
  },
  {
   "cell_type": "markdown",
   "metadata": {},
   "source": [
    "### Challenge 3 - *Bool* as two (set-theoretical) monoids. <a name=\"categories_3\"/>\n",
    "\n",
    "Considering that Bool is a set of two values True and False, show that it forms two (set-theoretical) monoids with respect to, respectively, operator && (AND) and || (OR).\n",
    "\n",
    "**True**:\n",
    "\n",
    "1. True is a unit, under AND; check.\n",
    "1. AND is associative; check.\n",
    "\n",
    "**False**:\n",
    "\n",
    "1. False is a unit, under OR; check.\n",
    "1. OR is associative; check.\n"
   ]
  },
  {
   "cell_type": "markdown",
   "metadata": {},
   "source": [
    "<a href=\"#contents\">Back to contents.</a>"
   ]
  },
  {
   "cell_type": "markdown",
   "metadata": {},
   "source": [
    "### Challenge 4 - *True*/*AND* monoid as category. <a name=\"categories_4\"/>\n",
    "\n",
    "Represent the Bool monoid with the AND operator as a category: List the morphisms and their rules of composition.\n",
    "\n",
    "Morphisms:\n",
    "\n",
    "1. id\n",
    "1. \"a && b\", which happens to be equal to id, since the only value available for populating 'a' and 'b' is True.\n",
    "\n",
    "Rules of Composition:\n",
    "\n",
    "1. m1 . m2 = (a && b) && (c && d), where\n",
    "  * m1 = a && b\n",
    "  * m2 = c && d\n",
    "  "
   ]
  },
  {
   "cell_type": "markdown",
   "metadata": {},
   "source": [
    "<a href=\"#contents\">Back to contents.</a>"
   ]
  },
  {
   "cell_type": "markdown",
   "metadata": {},
   "source": [
    "### Challenge 5 - Addition modulo 3 as category. <a name=\"categories_5\"/>\n",
    "\n",
    "Represent addition modulo 3 as a monoid category.\n",
    "\n",
    "Nodes:\n",
    "\n",
    "1. {{0, 1, 2}, {1, 2, 0}, {2, 0, 1}}\n",
    "\n",
    "Morphisms:\n",
    "\n",
    "1. rotate 0 (id)\n",
    "1. rotate 1 ({0, 1, 2} -> {1, 2, 0}, etc.)\n",
    "1. rotate 2 ({0, 1, 2} -> {2, 0, 1}, etc.)\n",
    "\n",
    "Composition Rules:\n",
    "\n",
    "1. rotate n . rotate m = rotate (n + m mod 3)\n"
   ]
  },
  {
   "cell_type": "markdown",
   "metadata": {},
   "source": [
    "<a href=\"#contents\">Back to contents.</a>"
   ]
  },
  {
   "cell_type": "markdown",
   "metadata": {},
   "source": [
    "## Kleisli Categories <a name=\"kleisli\"/>"
   ]
  },
  {
   "cell_type": "markdown",
   "metadata": {},
   "source": [
    "### Challenge 1 - Kleisli category for partial functions <a name=\"kleisli_1\"/>\n",
    "\n",
    "Construct the Kleisli category for partial functions (define composition and identity).\n",
    "\n",
    "**Objects**: Hask\n",
    "\n",
    "**Morphisms**: a -> (b, Bool)\n",
    "\n",
    "**Composition**:  \n",
    "m1 &#183; m2 = &#955;x &#8594; case (m1 x) of  \n",
    "(\\_, False) &#8594; (&#8709;, False)  \n",
    "(y, True) &#8594; m2 y\n",
    "\n",
    "**Identity**:  \n",
    "&#955;x &#8594; (x, True)\n"
   ]
  },
  {
   "cell_type": "markdown",
   "metadata": {},
   "source": [
    "<a href=\"#contents\">Back to contents.</a>"
   ]
  },
  {
   "cell_type": "markdown",
   "metadata": {},
   "source": [
    "### Challenge 2 - Implementation of `safe_reciprocal` <a name=\"kleisli_2\"/>\n",
    "\n",
    "Implement the embellished function `safe_reciprocal` that returns a valid reciprocal of its argument, if it’s different from zero.\n"
   ]
  },
  {
   "cell_type": "code",
   "execution_count": 3,
   "metadata": {
    "collapsed": false
   },
   "outputs": [
    {
     "data": {
      "text/plain": [
       "safe_reciprocal 0 = (0.0,False)\n",
       "safe_reciprocal 2 = (0.5,True)"
      ]
     },
     "metadata": {},
     "output_type": "display_data"
    }
   ],
   "source": [
    "type SafeRecip a = (a, Bool)\n",
    "\n",
    "safe_reciprocal :: (Fractional a, Eq a) => a -> SafeRecip a\n",
    "safe_reciprocal x\n",
    "    | x == 0    = (0, False)\n",
    "    | otherwise = (1/x, True)\n",
    "\n",
    "main :: IO ()\n",
    "main = do\n",
    "    putStr \"safe_reciprocal 0 = \"\n",
    "    print $ safe_reciprocal 0\n",
    "    putStr \"safe_reciprocal 2 = \"\n",
    "    print $ safe_reciprocal 2\n",
    "    \n",
    "main\n"
   ]
  },
  {
   "cell_type": "markdown",
   "metadata": {},
   "source": [
    "<a href=\"#contents\">Back to contents.</a>"
   ]
  },
  {
   "cell_type": "markdown",
   "metadata": {},
   "source": [
    "### Challenge 3 - Composition of `safe_root` and  `safe_reciprocal` <a name=\"kleisli_3\"/>\n",
    "\n",
    "Compose `safe_root` and `safe_reciprocal` to implement safe_root_reciprocal that calculates sqrt(1/x) whenever possible.\n"
   ]
  },
  {
   "cell_type": "code",
   "execution_count": 4,
   "metadata": {
    "collapsed": false
   },
   "outputs": [
    {
     "data": {
      "text/plain": [
       "safe_recip_root 0 = (0.0,False)\n",
       "safe_recip_root -1 = (0.0,False)\n",
       "safe_recip_root 2 = (0.70710677,True)"
      ]
     },
     "metadata": {},
     "output_type": "display_data"
    }
   ],
   "source": [
    "-- We need a way to generate a default value, in the event of failure.\n",
    "class HasDef a where\n",
    "    defVal :: a\n",
    "\n",
    "instance HasDef Float where\n",
    "    defVal = 0.0\n",
    "\n",
    "-- Some convenient type aliases.\n",
    "type SafeUnit a = (a, Bool)\n",
    "type SafeFunc a b = a -> SafeUnit b\n",
    "\n",
    "-- Our composer for SafeFuncs.\n",
    "infix 9 >=>\n",
    "(>=>) :: (HasDef c) => SafeFunc a b -> SafeFunc b c -> SafeFunc a c\n",
    "sf1 >=> sf2 = \\x -> case sf1 x of\n",
    "    (_, False) -> (defVal, False)\n",
    "    (y, True)  -> sf2 y\n",
    "\n",
    "-- Rewriting `safe_reciprocal`, so that it fits into the new framework.\n",
    "safe_reciprocal :: (Floating a, Eq a) => SafeFunc a a\n",
    "safe_reciprocal x\n",
    "    | x == 0    = (0, False)\n",
    "    | otherwise = (1/x, True)\n",
    "\n",
    "-- The safe version of `sqrt`.\n",
    "safe_root :: (Floating a, Ord a) => SafeFunc a a\n",
    "safe_root x\n",
    "    | x < 0     = (0, False)\n",
    "    | otherwise = (sqrt x, True)\n",
    "\n",
    "-- The goal of this exercise.\n",
    "safe_recip_root :: (Floating a, Ord a, Eq a, HasDef a) => SafeFunc a a\n",
    "safe_recip_root = safe_root >=> safe_reciprocal\n",
    "\n",
    "-- Testing\n",
    "main :: IO ()\n",
    "main = do\n",
    "    putStr \"safe_recip_root 0 = \"\n",
    "    print $ safe_recip_root (0 :: Float)\n",
    "    putStr \"safe_recip_root -1 = \"\n",
    "    print $ safe_recip_root ((-1) :: Float)\n",
    "    putStr \"safe_recip_root 2 = \"\n",
    "    print $ safe_recip_root (2 :: Float)\n",
    "\n",
    "main\n"
   ]
  },
  {
   "cell_type": "markdown",
   "metadata": {},
   "source": [
    "<a href=\"#contents\">Back to contents.</a>"
   ]
  },
  {
   "cell_type": "markdown",
   "metadata": {},
   "source": [
    "## Products and Coproducts <a name=\"products\"/>"
   ]
  },
  {
   "cell_type": "markdown",
   "metadata": {},
   "source": [
    "### Challenge 1 - Uniqueness of Terminal Object <a name=\"products_1\"/>\n",
    "\n",
    "Show that the terminal object is unique up to unique isomorphism.\n",
    "\n",
    "1. Assume two terminal objects: *a* and *b*.\n",
    "1. Because they are terminal, there can be only one morphism to them from any other object, including themselves.\n",
    "1. Assume:\n",
    "  1. Morphism *f* connects a to b, and\n",
    "  1. Morphism *g* connects b to a.\n",
    "1. Then:\n",
    "  1. g &#183; f is a reflective morphism on a, and\n",
    "  1. f &#183; g is a reflective morphism on b.\n",
    "1. But, both a and b *must* have identity morphisms. And, since they can only have one morphism to them from any other object, including themselves:\n",
    "  1. g &#183; f = id_a\n",
    "  1. f &#183; g = id_b\n",
    "1. So, f and g form an isomorphism between a an b. And, since there can be only one morphism connecting a to b and b to a, this isomorphism must be unique.\n",
    "  "
   ]
  },
  {
   "cell_type": "markdown",
   "metadata": {},
   "source": [
    "<a href=\"#contents\">Back to contents.</a>"
   ]
  },
  {
   "cell_type": "markdown",
   "metadata": {},
   "source": [
    "### Challenge 2 - Product of Two Objects in a Poset <a name=\"products_2\"/>\n",
    "\n",
    "What is a product of two objects in a poset? Hint: Use the universal construction.\n",
    "\n",
    "1. Morphisms in a partial order imply inequality, as follows:  \n",
    "If morphism *f* points from object *a* to object *b*, then `a <= b`.\n",
    "1. Since the product *c* of a and b must have projections to both a and b, which must be morphisms in the poset, c must be less than or equal to both a and b.\n",
    "1. Many objects may satisfy this constraint, but the only one that will not produce a factorizing morphism common to both projections is `min(a, b)`.\n",
    "1. So, the product of two objects, *a* and *b*, in a poset is their minimum.\n",
    "\n",
    "After reading comments #26 - #28, I realize that the above is incorrect (for a poset; it's correct, for a total order.), because it presumes an arrow connecting objects *a* and *b*, which needn't exist. The correct answer is, \"smallest object having morphisms to both a and b.\""
   ]
  },
  {
   "cell_type": "markdown",
   "metadata": {},
   "source": [
    "<a href=\"#contents\">Back to contents.</a>"
   ]
  },
  {
   "cell_type": "markdown",
   "metadata": {},
   "source": [
    "### Challenge 3 - Coproduct of Two Objects in a Poset <a name=\"products_3\"/>\n",
    "\n",
    "What is a coproduct of two objects in a poset?\n",
    "\n",
    "1. Reversing the direction of the two projections, relative to the previous challenge, would imply:\n",
    "  1. a <= c, and\n",
    "  1. b <= c.\n",
    "  \n",
    "So, the coproduct, *c*, must be greater than or equal to both objects, *a* and *b*.\n",
    "1. Again, there may be many objects, which satisfy this constraint. However, only `max(a, b)` will eliminate all common factorizing morphisms.\n",
    "1. So, the coproduct of two objects in a poset is their maximum.\n",
    "\n",
    "(Same correction applies here, re: poset vs. total order.)\n"
   ]
  },
  {
   "cell_type": "markdown",
   "metadata": {},
   "source": [
    "<a href=\"#contents\">Back to contents.</a>"
   ]
  },
  {
   "cell_type": "markdown",
   "metadata": {},
   "source": [
    "### Challenge 4 - *Either* in Python <a name=\"products_4\"/>\n",
    "\n",
    "Implement the equivalent of Haskell Either as a generic type in your favorite language (other than Haskell).\n",
    "\n",
    "*either.py*:\n",
    "\n",
    "#! /usr/bin/env python\n",
    "\n",
    "````\n",
    "class Either(object):\n",
    "    def __init__(self, constructor, value):\n",
    "        if(constructor == 'Left'):\n",
    "            self._constructor = 'Left'\n",
    "        elif(constructor == 'Right'):\n",
    "            self._constructor = 'Right'\n",
    "        else:\n",
    "            raise RuntimeError('Unrecognized constructor: {}'.format(constructor))\n",
    "        self._value = value\n",
    "\n",
    "    def __str__(self):\n",
    "        if(self._constructor == 'Left'):\n",
    "            res = \"Left \"\n",
    "        else:\n",
    "            res = \"Right \"\n",
    "        res += str(self._value)\n",
    "        return res\n",
    "\n",
    "    def _get_constructor(self):\n",
    "        return _constructor\n",
    "    constructor = property(_get_constructor)\n",
    "\n",
    "    def _get_value(self):\n",
    "        return _value\n",
    "    value = property(_get_value)\n",
    "\n",
    "def left(x):\n",
    "    return Either('Left', x)\n",
    "\n",
    "def right(x):\n",
    "    return Either('Right', x)\n",
    "\n",
    "def main():\n",
    "    myLeft = left('Testing')\n",
    "    print \"left('Testing'): {}\".format(myLeft)\n",
    "    print \"right(1): {}\".format(right(1))\n",
    "    print \"Either('Middle', 2): {}\".format(Either('Middle', 2))\n",
    "\n",
    "if(__name__ == \"__main__\"):\n",
    "    main()\n",
    "````\n",
    "\n",
    "*From a command prompt*:\n",
    "\n",
    "````\n",
    "./either.py \n",
    "left('Testing'): Left Testing\n",
    "right(1): Right 1\n",
    "Traceback (most recent call last):\n",
    "  File \"./either.py\", line 42, in <module>\n",
    "    main()\n",
    "  File \"./either.py\", line 39, in main\n",
    "    print \"Either('Middle', 2): {}\".format(Either('Middle', 2))\n",
    "  File \"./either.py\", line 10, in __init__\n",
    "    raise RuntimeError('Unrecognized constructor: {}'.format(constructor))\n",
    "RuntimeError: Unrecognized constructor: Middle\n",
    "````"
   ]
  },
  {
   "cell_type": "markdown",
   "metadata": {},
   "source": [
    "<a href=\"#contents\">Back to contents.</a>"
   ]
  },
  {
   "cell_type": "markdown",
   "metadata": {},
   "source": [
    "### Challenge 5 - *Either* as best coproduct <a name=\"products_5\"/>\n",
    "\n",
    "Show that Either is a “better” coproduct than int equipped with two injections:\n",
    "```\n",
    "int i(int n) { return n; }\n",
    "int j(bool b) { return b? 0: 1; }\n",
    "```\n",
    "\n",
    "Hint: Define a function:\n",
    "```\n",
    "int m(Either const & e);\n",
    "that factorizes i and j.\n",
    "```\n",
    "\n",
    "Assumptions:\n",
    "1. *Either* is a C++ class with the following:\n",
    "  1. Constructors:\n",
    "    * `Either(int n)`\n",
    "    * `Either(bool b)`\n",
    "  1. Member variables:\n",
    "    * **type** - an enumeration containing *INT* and *BOOL*\n",
    "    * **val** - a union of *int* and *bool*\n",
    "    \n",
    "```\n",
    "int m(Either const & e) {\n",
    "    switch(e.type) {\n",
    "        INT:\n",
    "            return e.val;\n",
    "            \n",
    "        BOOL:\n",
    "            return e.val ? 0 : 1;\n",
    "            \n",
    "        default:\n",
    "            throw Exception(\"m: Unrecognized type.\");\n",
    "    }\n",
    "}\n",
    "\n",
    "int i2(int n) {\n",
    "    Either e(n);\n",
    "    return m(e);\n",
    "}\n",
    "\n",
    "int j2(bool b) {\n",
    "    Either e(b);\n",
    "    return m(e);\n",
    "}\n",
    "\n",
    "```\n"
   ]
  },
  {
   "cell_type": "markdown",
   "metadata": {},
   "source": [
    "<a href=\"#contents\">Back to contents.</a>"
   ]
  },
  {
   "cell_type": "markdown",
   "metadata": {},
   "source": [
    "### Challenge 6 - Arguing in favor of *Either*. <a name=\"products_6\"/>\n",
    "\n",
    "Continuing the previous problem: How would you argue that int with the two injections i and j cannot be “better” than Either?\n",
    "\n",
    "It is because the two injections, *i* and *j*, have been shown to have a common factorizing function, *m*."
   ]
  },
  {
   "cell_type": "markdown",
   "metadata": {},
   "source": [
    "<a href=\"#contents\">Back to contents.</a>"
   ]
  },
  {
   "cell_type": "markdown",
   "metadata": {},
   "source": [
    "### Challenge 7 - Testing a slight change in *i()* injector. <a name=\"products_7\"/>\n",
    "\n",
    "Still continuing: What about these injections?\n",
    "```\n",
    "int i(int n) { \n",
    "    if (n < 0) return n; \n",
    "    return n + 2;\n",
    "}\n",
    "int j(bool b) { return b? 0: 1; }\n",
    "```\n",
    "\n",
    "They are still factorable, given a slight change to *m()*, above:\n",
    "\n",
    "```\n",
    "int m(Either const & e) {\n",
    "    switch(e.type) {\n",
    "        INT:\n",
    "            if (e.val < 0) return e.val;\n",
    "            return e.val + 2;\n",
    "            \n",
    "        BOOL:\n",
    "            return e.val ? 0 : 1;\n",
    "            \n",
    "        default:\n",
    "            throw Exception(\"m: Unrecognized type.\");\n",
    "    }\n",
    "}\n",
    "```\n",
    "\n",
    "However, I believe the factorization, in this case, is superfluous and that the two representations are isomorphic, due to the two element \"gap\" created by the *i()* injector. That gap yields a unique function back from the int representation to the Either representation, which we don't have without it, due to the ambiguity in the meaning of values '0' and '1'. (i.e. - They could represent either an *int*, or a *bool*.)\n"
   ]
  },
  {
   "cell_type": "markdown",
   "metadata": {},
   "source": [
    "<a href=\"#contents\">Back to contents.</a>"
   ]
  },
  {
   "cell_type": "markdown",
   "metadata": {},
   "source": [
    "### Challenge 8 - Proving inferiority, via multiple morphisms. <a name=\"products_8\"/>\n",
    "\n",
    "Come up with an inferior candidate for a coproduct of int and bool that cannot be better than Either because it allows multiple acceptable morphisms from it to Either.\n",
    "\n",
    "From comment #37:\n",
    "```\n",
    "int i(int n) { \n",
    "    if (n < 0) return n; \n",
    "    return n + 3;\n",
    "}\n",
    "\n",
    "int j(bool b) { return b ? 0 : 1; }\n",
    "\n",
    "Either m1(int x) {\n",
    "    if (x >= 3) return new Either(x - 3);\n",
    "    else if (x == 2) return new Either(false); // There's no way to produce 2 from either i or j to int (as coproduct) so this line has no effect in the composition of m and i, j\n",
    "    else if (x == 1) return new Either(false);\n",
    "    else if (x == 0) return new Either(true);\n",
    "    else return new Either(x);\n",
    "}\n",
    "\n",
    "Either m2(int x) {\n",
    "    if (x >= 3) return new Either(x - 3);\n",
    "    else if (x == 2) return new Either(true); // Here we return Either(true) instead to make m2 different from m1.\n",
    "    else if (x == 1) return new Either(false);\n",
    "    else if (x == 0) return new Either(true);\n",
    "    else return new Either(x);\n",
    "}\n",
    "```\n",
    "\n",
    "The fact that the \"x = 2\" case does not lie in the *image* of either injector makes it an available degree of freedom with which to define multiple morphisms.\n",
    "\n",
    "My own:\n",
    "\n",
    "```\n",
    "// injections\n",
    "int i(int n) {return n;}\n",
    "int j(bool b) {return b ? 0 : 1;}\n",
    "\n",
    "// morphisms\n",
    "Either m1(int x) {return new Either(x);}\n",
    "Either m2(int x) {\n",
    "    switch(x) {\n",
    "        case 0: return new Either(true);\n",
    "        case 1: return new Either(false);\n",
    "        default: return new Either(x);\n",
    "    }\n",
    "}\n",
    "\n",
    "```\n"
   ]
  },
  {
   "cell_type": "markdown",
   "metadata": {},
   "source": [
    "<a href=\"#contents\">Back to contents.</a>"
   ]
  },
  {
   "cell_type": "markdown",
   "metadata": {},
   "source": [
    "## Simple Algebraic Data Types <a name=\"sadts\"/>"
   ]
  },
  {
   "cell_type": "markdown",
   "metadata": {},
   "source": [
    "### Challenge 1 - Isomorphism Between *Maybe* and *Either ()* <a name=\"sadts_1\"/>\n"
   ]
  },
  {
   "cell_type": "code",
   "execution_count": 5,
   "metadata": {
    "collapsed": false
   },
   "outputs": [
    {
     "data": {
      "text/plain": [
       "True\n",
       "True"
      ]
     },
     "metadata": {},
     "output_type": "display_data"
    }
   ],
   "source": [
    "maybe_to_either :: Maybe a -> Either () a\n",
    "maybe_to_either Nothing  = Left ()\n",
    "maybe_to_either (Just x) = Right x\n",
    "\n",
    "either_to_maybe :: Either () a -> Maybe a\n",
    "either_to_maybe (Left ())  = Nothing\n",
    "either_to_maybe (Right x)  = Just x\n",
    "\n",
    "assertion1 = map (maybe_to_either . either_to_maybe) [Left (), Right 1] == map id [Left (), Right 1]\n",
    "assertion2 = map (either_to_maybe . maybe_to_either) [Nothing, Just 1]  == map id [Nothing, Just 1]\n",
    "\n",
    "main :: IO ()\n",
    "main = do\n",
    "    print assertion1\n",
    "    print assertion2\n",
    "\n",
    "main\n"
   ]
  },
  {
   "cell_type": "markdown",
   "metadata": {},
   "source": [
    "<a href=\"#contents\">Back to contents.</a>"
   ]
  },
  {
   "cell_type": "markdown",
   "metadata": {},
   "source": [
    "### Challenge 2 - *Shape* as a C++ interface <a name=\"sadts_2\"/>\n",
    "\n",
    "Here’s a sum type defined in Haskell:\n",
    "```\n",
    "data Shape = Circle Float\n",
    "           | Rect Float Float\n",
    "```\n",
    "When we want to define a function like area that acts on a Shape, we do it by pattern matching on the two constructors:\n",
    "```\n",
    "area :: Shape -> Float\n",
    "area (Circle r) = pi * r * r\n",
    "area (Rect d h) = d * h\n",
    "```\n",
    "Implement Shape in C++ or Java as an interface and create two classes: Circle and Rect. Implement area as a virtual function.\n",
    "\n",
    "*shape.cpp*:\n",
    "\n",
    "```\n",
    "#include <iostream>\n",
    "\n",
    "#define PI 3.14159\n",
    "\n",
    "using namespace std;\n",
    "\n",
    "class Shape {\n",
    "  public:\n",
    "    virtual double area() const = 0;\n",
    "};\n",
    "\n",
    "class Rectangle : public Shape {\n",
    "  public:\n",
    "    Rectangle (double height, double width) {\n",
    "        _height = height;\n",
    "        _width  = width;\n",
    "    }\n",
    "\n",
    "    Rectangle (const Rectangle &r) {\n",
    "        _height = r.height();\n",
    "        _width  = r.width();\n",
    "    }\n",
    "\n",
    "    double area() const { return (_height * _width); }\n",
    "    double height() const { return _height; }\n",
    "    double width() const { return _width; }\n",
    "\n",
    "  private:\n",
    "    double _height, _width;\n",
    "};\n",
    "\n",
    "class Circle : public Shape {\n",
    "  public:\n",
    "    Circle (double radius) {\n",
    "        _radius = radius;\n",
    "    }\n",
    "\n",
    "    Circle (const Circle &c) {\n",
    "        _radius = c.radius();\n",
    "    }\n",
    "\n",
    "    double area() const { return (PI * _radius * _radius); }\n",
    "    double radius() const { return _radius; }\n",
    "\n",
    "  private:\n",
    "    double _radius;\n",
    "};\n",
    "\n",
    "int main(int argc, char *argv[]) {\n",
    "    auto r1 = Rectangle(2.0, 4.0);\n",
    "    cout << \"Area of r1: \" << r1.area() << endl;\n",
    "    auto r2 = Rectangle(r1);\n",
    "    cout << \"Area of r2: \" << r2.area() << endl;\n",
    "    auto c1 = Circle(2.0);\n",
    "    cout << \"Area of c1: \" << c1.area() << endl;\n",
    "    auto c2 = Circle(c1);\n",
    "    cout << \"Area of c2: \" << c2.area() << endl;\n",
    "}\n",
    "```\n",
    "\n",
    "*From command prompt*:\n",
    "\n",
    "```\n",
    "g++ -Wno-c++11-extensions shape.cpp \n",
    "./a.out \n",
    "Area of r1: 8\n",
    "Area of r2: 8\n",
    "Area of c1: 12.5664\n",
    "Area of c2: 12.5664\n",
    "```\n"
   ]
  },
  {
   "cell_type": "markdown",
   "metadata": {},
   "source": [
    "<a href=\"#contents\">Back to contents.</a>"
   ]
  },
  {
   "cell_type": "markdown",
   "metadata": {},
   "source": [
    "### Challenge 3 - Adding *circ* to *Shape*. <a name=\"sadts_3\"/>\n",
    "\n",
    "Continuing with the previous example: We can easily add a new function `circ` that calculates the circumference of a Shape. We can do it without touching the definition of Shape:\n",
    "```\n",
    "circ :: Shape -> Float\n",
    "circ (Circle r) = 2.0 * pi * r\n",
    "circ (Rect d h) = 2.0 * (d + h)\n",
    "```\n",
    "Add circ to your C++ or Java implementation. What parts of the original code did you have to touch?\n",
    "\n",
    "I had to change the definitions of the interface, as well as both classes:\n",
    "\n",
    "```\n",
    "diff --git a/shape.cpp b/shape.cpp\n",
    "index 67ed088..4842965 100644\n",
    "--- a/shape.cpp\n",
    "+++ b/shape.cpp\n",
    "@@ -7,6 +7,7 @@ using namespace std;\n",
    " class Shape {\n",
    "   public:\n",
    "     virtual double area() const = 0;\n",
    "+    virtual double circ() const = 0;\n",
    " };\n",
    " \n",
    " class Rectangle : public Shape {\n",
    "@@ -22,6 +23,7 @@ class Rectangle : public Shape {\n",
    "     }\n",
    " \n",
    "     double area() const { return (_height * _width); }\n",
    "+    double circ() const { return (2.0 * (_height + _width)); }\n",
    "     double height() const { return _height; }\n",
    "     double width() const { return _width; }\n",
    " \n",
    "@@ -40,6 +42,7 @@ class Circle : public Shape {\n",
    "     }\n",
    " \n",
    "     double area() const { return (PI * _radius * _radius); }\n",
    "+    double circ() const { return (2.0 * PI * _radius); }\n",
    "     double radius() const { return _radius; }\n",
    "```\n"
   ]
  },
  {
   "cell_type": "markdown",
   "metadata": {},
   "source": [
    "<a href=\"#contents\">Back to contents.</a>"
   ]
  },
  {
   "cell_type": "markdown",
   "metadata": {},
   "source": [
    "### Challenge 4 - Adding *Square* to *Shape*. <a name=\"sadts_4\"/>\n",
    "\n",
    "Continuing further: Add a new shape, Square, to Shape and make all the necessary updates. What code did you have to touch in Haskell vs. C++ or Java? (Even if you’re not a Haskell programmer, the modifications should be pretty obvious.)\n",
    "\n",
    "In Haskell, I have to add:\n",
    "* a third data constructor to the *Shape* type.\n",
    "* a third pattern matching alternative to both functions:\n",
    "  * area\n",
    "  * circ\n",
    "  \n",
    "In C++, I have to:\n",
    "* Add a class, Square, derived from Shape.\n",
    "* Add overides of *area* and *circ* for this new class.\n"
   ]
  },
  {
   "cell_type": "markdown",
   "metadata": {},
   "source": [
    "<a href=\"#contents\">Back to contents.</a>"
   ]
  },
  {
   "cell_type": "markdown",
   "metadata": {},
   "source": [
    "### Challenge 5 - Showing `a + a = 2 * a`, for types. <a name=\"sadts_5\"/>\n",
    "\n",
    "Show that `a + a = 2 * a` holds for types (up to isomorphism). Remember that 2 corresponds to Bool, according to our translation table.\n",
    "\n",
    "```\n",
    "a + a      = {row 3}\n",
    "Either a a = {isomorphism, below}\n",
    "(Bool, a)  = {row 4}\n",
    "Bool * a   = {row 5}\n",
    "2 * a\n",
    "```"
   ]
  },
  {
   "cell_type": "code",
   "execution_count": 6,
   "metadata": {
    "collapsed": false
   },
   "outputs": [
    {
     "data": {
      "text/plain": [
       "True\n",
       "True"
      ]
     },
     "metadata": {},
     "output_type": "display_data"
    }
   ],
   "source": [
    "forward :: Either a a -> (Bool, a)\n",
    "forward (Left x)  = (False, x)\n",
    "forward (Right x) = (True, x)\n",
    "\n",
    "backward :: (Bool, a) -> Either a a\n",
    "backward (False, x) = Left x\n",
    "backward (True, x)  = Right x\n",
    "\n",
    "assertion1 = map (forward . backward) [(False, 1), (True, 1)] == map id [(False, 1), (True, 1)]\n",
    "assertion2 = map (backward . forward) [Left 1, Right 1] == map id [Left 1, Right 1]\n",
    "\n",
    "main :: IO ()\n",
    "main = do\n",
    "    print assertion1\n",
    "    print assertion2\n",
    "\n",
    "main\n"
   ]
  },
  {
   "cell_type": "markdown",
   "metadata": {},
   "source": [
    "<a href=\"#contents\">Back to contents.</a>"
   ]
  },
  {
   "cell_type": "markdown",
   "metadata": {},
   "source": [
    "## Functors <a name=\"functors\"/>"
   ]
  },
  {
   "cell_type": "markdown",
   "metadata": {},
   "source": [
    "### Challenge 1 - Alternative Functor instance for Maybe <a name=\"functors_1\"/>\n",
    "\n",
    "Can we turn the Maybe type constructor into a functor by defining:\n",
    "\n",
    "    fmap _ _ = Nothing\n",
    "    \n",
    "which ignores both of its arguments? (Hint: Check the functor laws.)\n",
    "\n",
    "No, we cannot, because such an instance violates, at least, the identity Functor law:\n",
    "\n",
    "    fmap id (Just x) = {fmap definition}\n",
    "    Nothing /= id (Just x) = {id definition}\n",
    "    Just x"
   ]
  },
  {
   "cell_type": "markdown",
   "metadata": {},
   "source": [
    "<a href=\"#contents\">Back to contents.</a>"
   ]
  },
  {
   "cell_type": "markdown",
   "metadata": {},
   "source": [
    "### Challenge 2 - Functor laws for Reader <a name=\"functors_2\"/>\n",
    "\n",
    "Prove functor laws for the reader functor. Hint: it’s really simple.\n",
    "\n",
    "    instance Functor ((->) r) where\n",
    "        fmap = (.)\n",
    "    \n",
    "    f :: r -> a\n",
    "    \n",
    "    fmap id f      = {fmap definition}\n",
    "    id . f         = {id is the identity of composition}\n",
    "    f              = {definition of id}\n",
    "    id f\n",
    "    \n",
    "    (fmap g . fmap h) f = {definition of composition}\n",
    "    fmap g (fmap h f)   = {definition of fmap}\n",
    "    fmap g (h . f)      = {definition of fmap}\n",
    "    g . (h . f)         = {associativity of composition}\n",
    "    (g . h) . f         = {definition of fmap}\n",
    "    fmap (g . h) f\n"
   ]
  },
  {
   "cell_type": "markdown",
   "metadata": {},
   "source": [
    "<a href=\"#contents\">Back to contents.</a>"
   ]
  },
  {
   "cell_type": "markdown",
   "metadata": {},
   "source": [
    "### Challenge 3 - Reader Functor, in Python. <a name=\"functors_3\"/>\n",
    "\n",
    "Implement the reader functor in your second favorite language (the first being Haskell, of course).\n",
    "\n",
    "*reader_functory.py*:\n",
    "\n",
    "    #! /usr/bin/env python\n",
    "\n",
    "    def fmap(g, f):\n",
    "        return lambda x: g(f(x))\n",
    "\n",
    "    def f(x):\n",
    "        return x + 1\n",
    "\n",
    "    def g(x):\n",
    "        return x * 2\n",
    "\n",
    "    def main():\n",
    "        h = fmap(g, f)\n",
    "        res = h(3)\n",
    "        print res\n",
    "\n",
    "    if(__name__ == '__main__'):\n",
    "        main()\n",
    "        \n",
    "Davids-MacBook-Air-2:Haskell_Misc dbanas$ ./reader_functor.py  \n",
    "8\n"
   ]
  },
  {
   "cell_type": "markdown",
   "metadata": {},
   "source": [
    "<a href=\"#contents\">Back to contents.</a>"
   ]
  },
  {
   "cell_type": "markdown",
   "metadata": {},
   "source": [
    "### Challenge 4 - Prove Functor laws for List. <a name=\"functors_4\"/>\n",
    "\n",
    "Prove the functor laws for the list functor. Assume that the laws are true for the tail part of the list you’re applying it to (in other words, use induction).\n",
    "\n",
    "    instance Functor [] where\n",
    "        fmap g []     = []\n",
    "        fmap g (x:xs) = g x : (fmap g xs)\n",
    "    \n",
    "    fmap id [] = {definition of fmap}\n",
    "    []         = {definition of id}\n",
    "    id []\n",
    "\n",
    "    fmap id (x:xs)      = {definition of fmap}\n",
    "    id x : (fmap id xs) = {definition of id}\n",
    "    x : (fmap id xs)    = {inductive assumption}\n",
    "    x : xs              = {definition of id}\n",
    "    id (x:xs)\n",
    "\n",
    "    (fmap g . fmap h) [] = {definition of composition}\n",
    "    fmap g (fmap h [])   = {definition of fmap}\n",
    "    fmap g []            = {definition of fmap}\n",
    "    []                   = {definition of fmap}\n",
    "    fmap (g . h) []\n",
    "    \n",
    "    (fmap g . fmap h) (x:xs)           = {definition of composition}\n",
    "    fmap g (fmap h (x:xs))             = {definition of fmap}\n",
    "    fmap g (h x : (fmap h xs))         = {definition of fmap}\n",
    "    g (h x) : (fmap g (fmap h xs))     = {definition of composition}\n",
    "    (g . h) x : ((fmap g . fmap h) xs) = {inductive assumption}\n",
    "    (g . h) x : (fmap (g . h) xs)      = {definition of fmap}\n",
    "    fmap (g . h) (x:xs)"
   ]
  },
  {
   "cell_type": "markdown",
   "metadata": {},
   "source": [
    "<a href=\"#contents\">Back to contents.</a>"
   ]
  },
  {
   "cell_type": "markdown",
   "metadata": {},
   "source": [
    "## Functoriality <a name=\"functoriality\"/>"
   ]
  },
  {
   "cell_type": "markdown",
   "metadata": {},
   "source": [
    "### Challenge 1 - *Bifunctor* instance for *Pair* <a name=\"functoriality_1\"/>\n",
    "\n",
    "Show that the data type:\n",
    "\n",
    "    data Pair a b = Pair a b\n",
    "    \n",
    "is a bifunctor. For additional credit implement all three methods of Bifunctor and use equational reasoning to show that these definitions are compatible with the default implementations whenever they can be applied."
   ]
  },
  {
   "cell_type": "code",
   "execution_count": 7,
   "metadata": {
    "collapsed": false
   },
   "outputs": [],
   "source": [
    "import Data.Bifunctor\n",
    "\n",
    "data Pair a b = Pair a b\n",
    "\n",
    "instance Bifunctor Pair where\n",
    "    bimap g h (Pair x y) = Pair (g x) (h y)\n",
    "    first g (Pair x y)   = Pair (g x) y\n",
    "    second h (Pair x y)  = Pair x (h y)\n",
    "    "
   ]
  },
  {
   "cell_type": "markdown",
   "metadata": {},
   "source": [
    "```\n",
    "bimap g id                       = {definition of *bimap*}\n",
    "\\(Pair x y) -> Pair (g x) (id y) = {definition of *id*}\n",
    "\\(Pair x y) -> Pair (g x) y      = {definition of *first*}\n",
    "first g\n",
    "```\n",
    "&#9633;\n",
    "\n",
    "```\n",
    "bimap id                           = {definition of *bimap*}\n",
    "\\h (Pair x y) -> Pair (id x) (h y) = {definition of *id*}\n",
    "\\h (Pair x y) -> Pair x (h y)      = {definition of *second*}\n",
    "second\n",
    "```\n",
    "&#9633;\n"
   ]
  },
  {
   "cell_type": "markdown",
   "metadata": {},
   "source": [
    "<a href=\"#contents\">Back to contents.</a>"
   ]
  },
  {
   "cell_type": "markdown",
   "metadata": {},
   "source": [
    "### Challenge 2 - Isomorphic definitions of *Maybe* <a name=\"functoriality_2\"/>\n",
    "\n",
    "Show the isomorphism between the standard definition of *Maybe* and this desugaring:\n",
    "\n",
    "    type Maybe' a = Either (Const () a) (Identity a)\n",
    "    \n",
    "Hint: Define two mappings between the two implementations. For additional credit, show that they are the inverse of each other using equational reasoning."
   ]
  },
  {
   "cell_type": "code",
   "execution_count": 8,
   "metadata": {
    "collapsed": false
   },
   "outputs": [
    {
     "data": {
      "text/plain": [
       "True\n",
       "True\n",
       "True\n",
       "True"
      ]
     },
     "metadata": {},
     "output_type": "display_data"
    }
   ],
   "source": [
    "import Control.Applicative   (Const (..))\n",
    "import Data.Functor.Identity (Identity (..))\n",
    "\n",
    "type Maybe' a = Either (Const () a) (Identity a)\n",
    "\n",
    "toMaybe :: Maybe' a -> Maybe a\n",
    "toMaybe (Left (Const ()))    = Nothing\n",
    "toMaybe (Right (Identity x)) = Just x\n",
    "\n",
    "toMaybe' :: Maybe a -> Maybe' a\n",
    "toMaybe' Nothing  = Left (Const ())\n",
    "toMaybe' (Just x) = Right (Identity x)\n",
    "\n",
    "-- Check for isomorphism, empirically:\n",
    "main :: IO ()\n",
    "main = do\n",
    "    print $ (toMaybe . toMaybe') Nothing              == Nothing\n",
    "    print $ (toMaybe . toMaybe') (Just 1)             == Just 1\n",
    "    print $ (toMaybe' . toMaybe) (Left (Const ()))    == Left (Const ())\n",
    "    print $ (toMaybe' . toMaybe) (Right (Identity 1)) == Right (Identity 1)\n",
    "\n",
    "main\n"
   ]
  },
  {
   "cell_type": "markdown",
   "metadata": {},
   "source": [
    "To show that the mappings are inverses, we show that composing them equals *id*.  \n",
    "I'll do it in both directions, to be thorough.\n",
    "\n",
    "First, the *Const*/*Nothing* case:\n",
    "\n",
    "```\n",
    "(toMaybe . toMaybe') Nothing = {definition of composition}\n",
    "toMaybe (toMaybe' Nothing)   = {definition of *toMaybe'*}\n",
    "toMaybe (Left (Const ()))    = {definition of *toMaybe*}\n",
    "Nothing                      = {definition of *id*}\n",
    "id Nothing\n",
    "```\n",
    "&#9633;\n",
    "\n",
    "```\n",
    "(toMaybe' . toMaybe) (Left (Const ())) = {definition of composition}\n",
    "toMaybe' (toMaybe (Left (Const ())))   = {definition of *toMaybe*}\n",
    "toMaybe' Nothing                       = {definition of *toMaybe'*}\n",
    "Left (Const ())                        = {definition of *id*}\n",
    "id (Left (Const ()))\n",
    "```\n",
    "&#9633;\n",
    "\n",
    "Next, the *Identity*/*Just* case:\n",
    "\n",
    "```\n",
    "(toMaybe . toMaybe') (Just x) = {definition of composition}\n",
    "toMaybe (toMaybe' (Just x))   = {definition of *toMaybe'*}\n",
    "toMaybe (Right (Identity x))  = {definition of *toMaybe*}\n",
    "Just x                        = {definition of *id*}\n",
    "id (Just x)\n",
    "```\n",
    "&#9633;\n",
    "\n",
    "```\n",
    "(toMaybe' . toMaybe) (Right (Identity x)) = {definition of composition}\n",
    "toMaybe' (toMaybe (Right (Identity x)))   = {definition of *toMaybe*}\n",
    "toMaybe' (Just x)                         = {definition of *toMaybe'*}\n",
    "Right (Identity x)                        = {definition of *id*}\n",
    "id (Right (Identity x))\n",
    "```\n",
    "&#9633;\n"
   ]
  },
  {
   "cell_type": "markdown",
   "metadata": {},
   "source": [
    "<a href=\"#contents\">Back to contents.</a>"
   ]
  },
  {
   "cell_type": "markdown",
   "metadata": {},
   "source": [
    "### Challenge 3 - Bifunctor instance for *PreList* <a name=\"functoriality_3\"/>\n",
    "\n",
    "Let’s try another data structure. I call it a *PreList* because it’s a precursor to a List. It replaces recursion with a type parameter, *b*.\n",
    "\n",
    "    data PreList a b = Nil | Cons a b\n",
    "    \n",
    "You could recover our earlier definition of a List by recursively applying PreList to itself (we’ll see how it’s done when we talk about fixed points).\n",
    "\n",
    "Show that PreList is an instance of Bifunctor."
   ]
  },
  {
   "cell_type": "code",
   "execution_count": 9,
   "metadata": {
    "collapsed": false
   },
   "outputs": [
    {
     "data": {
      "text/plain": [
       "True\n",
       "True\n",
       "True\n",
       "True"
      ]
     },
     "metadata": {},
     "output_type": "display_data"
    }
   ],
   "source": [
    "import Data.Bifunctor\n",
    "\n",
    "data PreList a b = Nil | Cons a b\n",
    "    deriving (Eq)\n",
    "\n",
    "instance Bifunctor PreList where\n",
    "    bimap g h Nil        = Nil\n",
    "    bimap g h (Cons x y) = Cons (g x) (h y)\n",
    "\n",
    "main :: IO ()\n",
    "main = do\n",
    "    -- Checking the Functor laws.\n",
    "    print $ bimap id id Nil        == Nil\n",
    "    print $ bimap id id (Cons 1 2) == Cons 1 2\n",
    "    print $ ((bimap (+ 1) (* 2)) . (bimap (+ 2) (* 3))) Nil        == bimap ((+ 1) . (+ 2)) ((* 2) . (* 3)) Nil\n",
    "    print $ ((bimap (+ 1) (* 2)) . (bimap (+ 2) (* 3))) (Cons 1 2) == bimap ((+ 1) . (+ 2)) ((* 2) . (* 3)) (Cons 1 2)\n",
    "\n",
    "main\n"
   ]
  },
  {
   "cell_type": "markdown",
   "metadata": {},
   "source": [
    "<a href=\"#contents\">Back to contents.</a>"
   ]
  },
  {
   "cell_type": "markdown",
   "metadata": {},
   "source": [
    "### Challenge 4 - More Bifunctor instances <a name=\"functoriality_4\"/>\n",
    "\n",
    "Show that the following data types define bifunctors in a and b:\n",
    "```\n",
    "data K2 c a b = K2 c\n",
    "data Fst a b = Fst a\n",
    "data Snd a b = Snd b\n",
    "```\n",
    "For additional credit, check your solutions agains Conor McBride’s paper [Clowns to the Left of me, Jokers to the Right](http://strictlypositive.org/CJ.pdf)."
   ]
  },
  {
   "cell_type": "code",
   "execution_count": 10,
   "metadata": {
    "collapsed": false
   },
   "outputs": [
    {
     "data": {
      "text/plain": [
       "True\n",
       "True\n",
       "True\n",
       "True\n",
       "True\n",
       "True"
      ]
     },
     "metadata": {},
     "output_type": "display_data"
    }
   ],
   "source": [
    "import Data.Bifunctor\n",
    "\n",
    "data K2 c a b = K2 c\n",
    "    deriving (Eq)\n",
    "\n",
    "instance Bifunctor (K2 c) where\n",
    "    bimap g h (K2 c) = K2 c\n",
    "    \n",
    "-- Check Functor laws.\n",
    "assert1 = bimap id id (K2 1) == K2 1\n",
    "assert2 = ((bimap (+ 1) (* 2)) . (bimap (+ 2) (* 3))) (K2 1) == bimap ((+ 1) . (+ 2)) ((* 2) . (* 3)) (K2 1)\n",
    "\n",
    "data Fst a b = Fst a\n",
    "    deriving (Eq)\n",
    "\n",
    "instance Bifunctor Fst where\n",
    "    bimap g h (Fst x) = Fst (g x)\n",
    "    \n",
    "-- Check Functor laws.\n",
    "assert3 = bimap id id (Fst 1) == Fst 1\n",
    "assert4 = ((bimap (+ 1) (* 2)) . (bimap (+ 2) (* 3))) (Fst 1) == bimap ((+ 1) . (+ 2)) ((* 2) . (* 3)) (Fst 1)\n",
    "\n",
    "data Snd a b = Snd b\n",
    "    deriving (Eq)\n",
    "\n",
    "instance Bifunctor Snd where\n",
    "    bimap g h (Snd y) = Snd (h y)\n",
    "    \n",
    "-- Check Functor laws.\n",
    "assert5 = bimap id id (Snd 1) == Snd 1\n",
    "assert6 = ((bimap (+ 1) (* 2)) . (bimap (+ 2) (* 3))) (Snd 1) == bimap ((+ 1) . (+ 2)) ((* 2) . (* 3)) (Snd 1)\n",
    "\n",
    "main :: IO ()\n",
    "main = do\n",
    "    print assert1\n",
    "    print assert2\n",
    "    print assert3\n",
    "    print assert4\n",
    "    print assert5\n",
    "    print assert6\n",
    "\n",
    "main\n"
   ]
  },
  {
   "cell_type": "markdown",
   "metadata": {},
   "source": [
    "My definitions *do* match those in Conor's paper."
   ]
  },
  {
   "cell_type": "markdown",
   "metadata": {},
   "source": [
    "<a href=\"#contents\">Back to contents.</a>"
   ]
  },
  {
   "cell_type": "markdown",
   "metadata": {},
   "source": [
    "### Challenge 5 - Bifunctor in Python <a name=\"functoriality_5\"/>\n",
    "\n",
    "Define a bifunctor in a language other than Haskell. Implement bimap for a generic pair in that language."
   ]
  },
  {
   "cell_type": "markdown",
   "metadata": {},
   "source": [
    "*bifunctor.py*:\n",
    "\n",
    "```\n",
    "#! /usr/bin/env python\n",
    "\n",
    "import abc\n",
    "\n",
    "\n",
    "def ident(x):\n",
    "    \"\"\"\n",
    "    Identity function - Just returns whatever is passed in.\n",
    "\n",
    "    'id' is a built-in function, in Python, which doesn't give what we\n",
    "    want.\n",
    "\n",
    "    \"\"\"\n",
    "\n",
    "    return x\n",
    "\n",
    "\n",
    "def compose(*functions):\n",
    "    \"\"\"\n",
    "    Function composition for arbitrary number of inputs.\n",
    "\n",
    "    Taken from:\n",
    "    https://mathieularose.com/function-composition-in-python/#solution\n",
    "\n",
    "    \"\"\"\n",
    "\n",
    "    return reduce(lambda f, g: lambda x: f(g(x)), functions, lambda x: x)\n",
    "\n",
    "\n",
    "class Bifunctor(object):\n",
    "    __metaclass__ = abc.ABCMeta\n",
    "\n",
    "    @abc.abstractmethod\n",
    "    def bimap(self, g, h):\n",
    "        pass\n",
    "\n",
    "class Eq(object):\n",
    "    __metaclass__ = abc.ABCMeta\n",
    "\n",
    "    @abc.abstractmethod\n",
    "    def equals(self, other):\n",
    "        pass\n",
    "\n",
    "class Pair(Bifunctor, Eq):\n",
    "    'Bifunctorial Product.'\n",
    "\n",
    "    def __init__(self, x, y):\n",
    "        self._x = x\n",
    "        self._y = y\n",
    "\n",
    "    def GetX(self):\n",
    "        return self._x\n",
    "    def SetX(self, val):\n",
    "        self._x = val\n",
    "    x = property(GetX, SetX)\n",
    "\n",
    "    def GetY(self):\n",
    "        return self._y\n",
    "    def SetY(self, val):\n",
    "        self._y = val\n",
    "    y = property(GetY, SetY)\n",
    "\n",
    "    def bimap(self, g, h):\n",
    "        return Pair(g(self.x), h(self.y))\n",
    "\n",
    "    def equals(self, other):\n",
    "        if(self.x == other.x and self.y == other.y):\n",
    "            return True\n",
    "        else:\n",
    "            return False\n",
    "\n",
    "\n",
    "class K2(Bifunctor, Eq):\n",
    "    'Bifunctorial constant.'\n",
    "\n",
    "    def __init__(self, val):\n",
    "        self._val = val\n",
    "\n",
    "    def GetVal(self):\n",
    "        return self._val\n",
    "    def SetVal(self, val):\n",
    "        self._val = val\n",
    "    val = property(GetVal, SetVal)\n",
    "\n",
    "    def bimap(self, g, h):\n",
    "        return self\n",
    "\n",
    "    def equals(self, other):\n",
    "        if(self.val == other.val):\n",
    "            return True\n",
    "        else:\n",
    "            return False\n",
    "\n",
    "\n",
    "class Fst(Bifunctor, Eq):\n",
    "    'First applicative bifunctor.'\n",
    "\n",
    "    def __init__(self, val):\n",
    "        self._val = val\n",
    "\n",
    "    def GetVal(self):\n",
    "        return self._val\n",
    "    def SetVal(self, val):\n",
    "        self._val = val\n",
    "    val = property(GetVal, SetVal)\n",
    "\n",
    "    def bimap(self, g, h):\n",
    "        return Fst(g(self.val))\n",
    "\n",
    "    def equals(self, other):\n",
    "        if(self.val == other.val):\n",
    "            return True\n",
    "        else:\n",
    "            return False\n",
    "\n",
    "\n",
    "class Snd(Bifunctor, Eq):\n",
    "    'Second applicative bifunctor.'\n",
    "\n",
    "    def __init__(self, val):\n",
    "        self._val = val\n",
    "\n",
    "    def GetVal(self):\n",
    "        return self._val\n",
    "    def SetVal(self, val):\n",
    "        self._val = val\n",
    "    val = property(GetVal, SetVal)\n",
    "\n",
    "    def bimap(self, g, h):\n",
    "        return Snd(h(self.val))\n",
    "\n",
    "    def equals(self, other):\n",
    "        if(self.val == other.val):\n",
    "            return True\n",
    "        else:\n",
    "            return False\n",
    "\n",
    "\n",
    "def g1(x):\n",
    "    return x + 1\n",
    "\n",
    "def g2(x):\n",
    "    return x + 2\n",
    "\n",
    "def h1(x):\n",
    "    return x * 2\n",
    "\n",
    "def h2(x):\n",
    "    return x * 3\n",
    "\n",
    "def main():\n",
    "    assert Pair(1, 2).bimap(ident, ident).equals(ident(Pair(1, 2)))\n",
    "    assert Pair(1, 2).bimap(g1, h1).bimap(g2, h2).equals(Pair(1, 2).bimap(compose(g1, g2), compose(h1, h2)))\n",
    "    assert K2(1).bimap(ident, ident).equals(ident(K2(1)))\n",
    "    assert K2(1).bimap(g1, h1).bimap(g2, h2).equals(K2(1).bimap(compose(g1, g2), compose(h1, h2)))\n",
    "    assert Fst(1).bimap(ident, ident).equals(ident(Fst(1)))\n",
    "    assert Fst(1).bimap(g1, h1).bimap(g2, h2).equals(Fst(1).bimap(compose(g1, g2), compose(h1, h2)))\n",
    "    assert Snd(1).bimap(ident, ident).equals(ident(Snd(1)))\n",
    "    assert Snd(1).bimap(g1, h1).bimap(g2, h2).equals(Snd(1).bimap(compose(g1, g2), compose(h1, h2)))\n",
    "\n",
    "    print \"All assertions passed.\"\n",
    "\n",
    "if(__name__ == '__main__'):\n",
    "    main()\n",
    "```\n",
    "\n",
    "Davids-MacBook-Air-2:Haskell_Misc dbanas$ ./bifunctor.py  \n",
    "All assertions passed.\n"
   ]
  },
  {
   "cell_type": "markdown",
   "metadata": {},
   "source": [
    "<a href=\"#contents\">Back to contents.</a>"
   ]
  },
  {
   "cell_type": "markdown",
   "metadata": {},
   "source": [
    "### Challenge 6 - Functorial nature of C++ std::map <a name=\"functoriality_6\"/>\n",
    "\n",
    "Should `std::map` be considered a *bifunctor* or a *profunctor* in the two template arguments `Key` and `T`?  \n",
    "How would you redesign this data type to make it so?\n",
    "\n",
    "Since `std::map` is a mapping from type `Key` to type `T`, the same argument that was used to show that `(->)` is a *Profunctor* applies to `std::map`.\n",
    "\n",
    "I'll break the task of making `std::map` profunctorial down, by choosing to implement two new functions: *lmap* and *rmap*, using the C++ equivalent of the Haskell default implementation for *dimap*, in order to complete the definition:\n",
    "\n",
    "While I was able to get *rmap* working:\n",
    "\n",
    "```\n",
    "#include <stdio.h>\n",
    "#include <stdlib.h>\n",
    "#include <vector>\n",
    "#include <map>\n",
    "\n",
    "template<class T>\n",
    "T id(T x) {return x;}\n",
    "\n",
    "// Using \"has a\", instead of \"is a\", to make immutability enforcement easier.\n",
    "template<\n",
    "    class Key,\n",
    "    class T\n",
    "> class promap\n",
    "{\n",
    "  public:\n",
    "    // I'm only providing initial and copy constructors.\n",
    "    promap( const std::map<Key, T>* the_map )\n",
    "    {\n",
    "        _keys.clear();\n",
    "        my_map = the_map;\n",
    "        for(auto elem : *(this->my_map))\n",
    "            _keys.push_back(elem.first);\n",
    "    }\n",
    "\n",
    "    // Piggy-backing on other's my_map should be okay, since I'm enforcing immutability.\n",
    "    promap( const promap& other )\n",
    "    {\n",
    "        _keys.clear();\n",
    "        my_map = other.my_map;\n",
    "        for(auto elem : *(this->my_map))\n",
    "            _keys.push_back(elem.first);\n",
    "    }\n",
    "\n",
    "    // Access is read-only, of course.\n",
    "    T operator[](const Key& key) const\n",
    "    {\n",
    "        return my_map->at(key);\n",
    "    }\n",
    "\n",
    "    // Fetching keys is handy.\n",
    "    const std::vector<Key>& keys() const { return _keys; }\n",
    "\n",
    "    // Need '==' definition, for testing.\n",
    "    bool operator==(const promap& other) const\n",
    "    {\n",
    "        if(other.my_map->size() != this->my_map->size())\n",
    "            return false;\n",
    "\n",
    "        for(auto key : keys())\n",
    "            if(other[key] != (*this)[key])\n",
    "                return false;\n",
    "\n",
    "        return true;\n",
    "    }\n",
    "\n",
    "  protected:\n",
    "    const std::map<Key, T>* my_map=nullptr;\n",
    "\n",
    "  private:\n",
    "    // Holds the keys in the underlying map, for fetching via keys().\n",
    "    std::vector<Key> _keys;\n",
    "\n",
    "    template<class Key1, class A, class B>\n",
    "    friend const promap<Key1, B>* rmap(B (*g)(A), const promap<Key1, A>& f);\n",
    "};\n",
    "\n",
    "// rmap\n",
    "template<class Key1, class A, class B>\n",
    "const promap<Key1, B>* rmap(B (*g)(A), const promap<Key1, A>& f)\n",
    "{\n",
    "    auto new_map = new std::map<Key1, B>(*(f.my_map));\n",
    "    for(auto key : f.keys())\n",
    "        new_map->operator[](key) = g(f[key]);\n",
    "    auto res = new promap<Key1, B> (new_map);\n",
    "    return res;\n",
    "}\n",
    "\n",
    "int g(int x) {return(x + 1);}\n",
    "\n",
    "int h(int x) {return(x * 2);}\n",
    "\n",
    "int g_comp_h(int x) {return x * 2 + 1;}\n",
    "\n",
    "int main(int argc, char *argv[])\n",
    "{\n",
    "    std::vector<int> xs;\n",
    "    xs.clear();\n",
    "    xs.push_back(0);\n",
    "    xs.push_back(1);\n",
    "    xs.push_back(2);\n",
    "\n",
    "    std::map<int, int> the_map;\n",
    "    the_map.clear();\n",
    "    int ix = 0;\n",
    "    for(auto x : xs)\n",
    "        the_map[ix++] = x;\n",
    "\n",
    "    promap<int, int> my_promap(&the_map);\n",
    "\n",
    "    // Test Functor identity law.\n",
    "    const promap<int, int>* new_promap = rmap<int, int, int>(id, my_promap);\n",
    "    if(*new_promap == id(my_promap))\n",
    "        printf(\"Functor identity law held.\\n\");\n",
    "    else\n",
    "        printf(\"Functor identity law did not hold!\\n\");\n",
    "\n",
    "    // Test Functor composition law.\n",
    "    const promap<int, int>* tmp_promap  = rmap<int, int, int> (h, my_promap);\n",
    "    const promap<int, int>* new_promap2 = rmap<int, int, int> (g, *tmp_promap);\n",
    "    const promap<int, int>* new_promap3 = rmap<int, int, int> (g_comp_h, my_promap);\n",
    "    if(*new_promap2 == *new_promap3)\n",
    "        printf(\"Functor composition law held.\\n\");\n",
    "    else\n",
    "        printf(\"Functor composition law did not hold!\\n\");\n",
    "}\n",
    "\n",
    "Davids-MacBook-Air-2:Haskell_Misc dbanas$ g++ -Wno-c++11-extensions promap.cpp \n",
    "Davids-MacBook-Air-2:Haskell_Misc dbanas$ ./a.out \n",
    "Functor identity law held.\n",
    "Functor composition law held.\n",
    "```\n",
    "\n",
    "I'm stuck on *lmap*, because I’m not going to be able to use the same trick, because I’ll be modifying the key value, before applying it to the original map. Also, it’s not clear to me how I can prevent this key transformation from resulting in a failed lookup. Any thoughts?"
   ]
  },
  {
   "cell_type": "markdown",
   "metadata": {},
   "source": [
    "<a href=\"#contents\">Back to contents.</a>"
   ]
  },
  {
   "cell_type": "markdown",
   "metadata": {},
   "source": [
    "## Natural Transformations <a name=\"natural_transformations\"/>"
   ]
  },
  {
   "cell_type": "markdown",
   "metadata": {},
   "source": [
    "### Challenge 1 - Natural Transformation from *Maybe* to *List* <a name=\"natural_transformations_1\"/>\n",
    "\n",
    "\n",
    "Define a natural transformation from the Maybe functor to the list functor. Prove the naturality condition for it.\n",
    "\n",
    "In this case, the *naturality condition* is:\n",
    "\n",
    "`G f ∘ αa = αb ∘ F f`\n",
    "\n",
    "where:\n",
    "- `G = []`\n",
    "- `F = Maybe`\n",
    "- `f :: a -> b`\n",
    "- `α` = natural transformation (`maybe_to_list`, below)\n"
   ]
  },
  {
   "cell_type": "code",
   "execution_count": 11,
   "metadata": {
    "collapsed": false
   },
   "outputs": [
    {
     "data": {
      "text/plain": [
       "Success!"
      ]
     },
     "metadata": {},
     "output_type": "display_data"
    }
   ],
   "source": [
    "{-# LANGUAGE\n",
    "  Rank2Types\n",
    "  FlexibleContexts\n",
    "  #-}\n",
    "  \n",
    "type NatTran f f' a = (Functor f, Functor f') => f a -> f' a\n",
    "\n",
    "to_assert :: (Functor f, Functor f', Eq (f' b)) => (a -> b) -> NatTran f f' a -> NatTran f f' b -> f a -> Bool\n",
    "to_assert g h h' f = (fmap g . h) f == (h' . fmap g) f\n",
    "\n",
    "maybe_to_list :: NatTran Maybe [] a\n",
    "maybe_to_list Nothing  = []\n",
    "maybe_to_list (Just x) = [x]\n",
    "\n",
    "test_func :: Num a => a -> (a, a)\n",
    "test_func x = (x, x + 1)\n",
    "\n",
    "success = all (to_assert test_func maybe_to_list maybe_to_list) [Nothing, Just 1]\n",
    "\n",
    "main :: IO ()\n",
    "main = do\n",
    "    if success then putStrLn \"Success!\" else putStrLn \"Failure.\"\n",
    "    \n",
    "main\n"
   ]
  },
  {
   "cell_type": "markdown",
   "metadata": {},
   "source": [
    "<a href=\"#contents\">Back to contents.</a>"
   ]
  },
  {
   "cell_type": "markdown",
   "metadata": {},
   "source": [
    "### Challenge 2 - Natural Transformations from *Reader ()* to *List* <a name=\"natural_transformations_2\"/>\n",
    "\n",
    "\n",
    "Define at least two different natural transformations between Reader () and the list functor."
   ]
  },
  {
   "cell_type": "code",
   "execution_count": 12,
   "metadata": {
    "collapsed": false
   },
   "outputs": [
    {
     "data": {
      "text/plain": [
       "Success!"
      ]
     },
     "metadata": {},
     "output_type": "display_data"
    }
   ],
   "source": [
    "newtype Reader e a = Reader {runReader :: (e -> a)}\n",
    "\n",
    "instance Functor (Reader e) where  \n",
    "    fmap f (Reader g) = Reader (\\x -> f (g x))\n",
    "\n",
    "-- First natural transformation\n",
    "reader_to_list :: Reader () a -> [a]\n",
    "reader_to_list m = runReader m () : []\n",
    "\n",
    "-- Second natural transformation\n",
    "reader_to_list' :: Reader () a -> [a]\n",
    "reader_to_list' m = []\n",
    "\n",
    "success = (all (to_assert test_func reader_to_list reader_to_list) [Reader (const 1), Reader (const 2)]) &&\n",
    "          (all (to_assert test_func reader_to_list' reader_to_list') [Reader (const 1), Reader (const 2)])\n",
    "\n",
    "main :: IO ()\n",
    "main = do\n",
    "    if success then putStrLn \"Success!\" else putStrLn \"Failure.\"\n",
    "\n",
    "main\n"
   ]
  },
  {
   "cell_type": "markdown",
   "metadata": {},
   "source": [
    "How many different lists of `()` are there?\n",
    "\n",
    "Stictly speaking, in Haskell, an infinite number:"
   ]
  },
  {
   "cell_type": "code",
   "execution_count": 13,
   "metadata": {
    "collapsed": false
   },
   "outputs": [
    {
     "data": {
      "text/plain": [
       "[()]\n",
       "[(),()]\n",
       "[(),(),()]\n",
       "False"
      ]
     },
     "metadata": {},
     "output_type": "display_data"
    }
   ],
   "source": [
    "l   = [()]\n",
    "l'  = [(), ()]\n",
    "l'' = [(), (), ()]\n",
    "\n",
    "main :: IO ()\n",
    "main = do\n",
    "    print l\n",
    "    print l'\n",
    "    print l''\n",
    "    print (l == l')\n",
    "\n",
    "main\n"
   ]
  },
  {
   "cell_type": "markdown",
   "metadata": {},
   "source": [
    "But, I suspect that, from our categorical perspective, they are all isomorphic, since `List` is considered to be a sum of alternative values of a particular type, and the type, `()`, has only one value: `()`. From that perspective, then, there are only 2 possible lists of `()`:\n",
    "\n",
    "- `[]`, and\n",
    "- `()` : `[]`.\n"
   ]
  },
  {
   "cell_type": "markdown",
   "metadata": {},
   "source": [
    "<a href=\"#contents\">Back to contents.</a>"
   ]
  },
  {
   "cell_type": "markdown",
   "metadata": {},
   "source": [
    "### Challenge 3 - Natural Transformations from *Reader Bool* to *Maybe* <a name=\"natural_transformations_3\"/>\n",
    "\n",
    "\n",
    "Define at least two different natural transformations between `Reader Bool` and the `Maybe` functor."
   ]
  },
  {
   "cell_type": "code",
   "execution_count": 14,
   "metadata": {
    "collapsed": false
   },
   "outputs": [
    {
     "data": {
      "text/plain": [
       "Success!"
      ]
     },
     "metadata": {},
     "output_type": "display_data"
    }
   ],
   "source": [
    "-- First natural transformation\n",
    "reader_to_maybe :: Reader Bool a -> Maybe a\n",
    "reader_to_maybe m = Just $ runReader m True\n",
    "\n",
    "-- Second natural transformation\n",
    "reader_to_maybe' :: Reader Bool a -> Maybe a\n",
    "reader_to_maybe' m = Nothing\n",
    "\n",
    "reader_func :: Bool -> Int\n",
    "reader_func False = 0\n",
    "reader_func True  = 1\n",
    "\n",
    "reader_func' :: Bool -> Int\n",
    "reader_func' False = 1\n",
    "reader_func' True  = 0\n",
    "\n",
    "success = (all (to_assert test_func reader_to_maybe  reader_to_maybe)  [Reader reader_func, Reader reader_func']) &&\n",
    "          (all (to_assert test_func reader_to_maybe' reader_to_maybe') [Reader reader_func, Reader reader_func'])\n",
    "\n",
    "main :: IO ()\n",
    "main = do\n",
    "    if success then putStrLn \"Success!\" else putStrLn \"Failure.\"\n",
    "\n",
    "main\n"
   ]
  },
  {
   "cell_type": "markdown",
   "metadata": {},
   "source": [
    "<a href=\"#contents\">Back to contents.</a>"
   ]
  },
  {
   "cell_type": "markdown",
   "metadata": {},
   "source": [
    "## Limits and Colimits <a name=\"limits_and_colimits\"/>"
   ]
  },
  {
   "cell_type": "markdown",
   "metadata": {},
   "source": [
    "### Challenge 1 - *Pushout*, for C++ classes <a name=\"limits_and_colimits_1\"/>\n",
    "\n",
    "\n",
    "How would you describe a pushout in the category of C++ classes?\n",
    "\n",
    "First, change the definition of the category, such that morphisms point *from* superclasses *to* subclasses.  \n",
    "Then, the *push-out* is that class, which is a (the?) superclass of all other possible apexes of the cone (i.e. - all classes, which multiply inherit from the original classes).\n"
   ]
  },
  {
   "cell_type": "markdown",
   "metadata": {},
   "source": [
    "<a href=\"#contents\">Back to contents.</a>"
   ]
  },
  {
   "cell_type": "markdown",
   "metadata": {},
   "source": [
    "### Challenge 2 -  Limit of identity functor <a name=\"limits_and_colimits_2\"/>\n",
    "\n",
    "\n",
    "Show that the limit of the identity functor Id :: C -> C is the initial object.\n",
    "\n",
    "1. The identity functor maps a category into itself. That is, it maps the objects and morphisms of a category into themselves.\n",
    "1. Since the *diagram*, in this case, includes the complete set of original objects in **C**, and the *limit* must have a unique morphism to all the objects in the diagram, the limit and intial object share the same definition, in this case, and are, therefore, the same object.\n"
   ]
  },
  {
   "cell_type": "markdown",
   "metadata": {},
   "source": [
    "<a href=\"#contents\">Back to contents.</a>"
   ]
  },
  {
   "cell_type": "markdown",
   "metadata": {},
   "source": [
    "### Challenge 3 -  Properties of category of subsets <a name=\"limits_and_colimits_3\"/>\n",
    "\n",
    "\n",
    "Subsets of a given set form a category. A morphism in that category is defined to be an arrow connecting two sets if the first is the subset of the second.\n",
    "\n",
    "- What is a pullback of two sets in such a category?\n",
    "\n",
    "The pullback of two sets, *A* and *B*, is that set, *C*, which contains all elements of A *and* all elements of B, but no elements belonging to neither A nor B. That is, the *union* of A and B.\n",
    "\n",
    "- What’s a pushout?\n",
    "\n",
    "The pushout of two sets, *A* and *B*, is that set, *C*, which contains all elements common to A and B. That is, the *intersection* of A and B.\n",
    "\n",
    "- What are the initial and terminal objects?\n",
    "\n",
    "The initial object is the *null* set, containing no objects, and the terminal object is the *omega* set, containing all objects of the given set.\n"
   ]
  },
  {
   "cell_type": "markdown",
   "metadata": {},
   "source": [
    "<a href=\"#contents\">Back to contents.</a>"
   ]
  },
  {
   "cell_type": "markdown",
   "metadata": {},
   "source": [
    "### Challenge 4 - Guess what a *coequalizer* is. <a name=\"limits_and_colimits_4\"/>\n",
    "\n",
    "Can you guess what a coequalizer is?\n",
    "\n",
    "Inverting the directions of *p* and *q*, in the first diagram of the *Examples of Limits* section, yields:\n",
    "\n",
    "```\n",
    "p = q . f\n",
    "p = q . g\n",
    "```\n",
    "\n",
    "or\n",
    "\n",
    "```\n",
    "q . f = q . g\n",
    "```\n",
    "\n",
    "Restricting attention to **Set**, as with the *equalizer*, this equation seems to say that, for some *in*jection from *b* selected by *q*, the two functions, *f* and *g*, are equal.\n",
    "\n",
    "More here, which I don't really understand:\n",
    "\n",
    "[Wikipedia article on *Coequalizer*](https://en.wikipedia.org/wiki/Coequalizer)\n"
   ]
  },
  {
   "cell_type": "markdown",
   "metadata": {},
   "source": [
    "<a href=\"#contents\">Back to contents.</a>"
   ]
  },
  {
   "cell_type": "markdown",
   "metadata": {},
   "source": [
    "### Challenge 5 - Show that pullback towards terminal object is a product. <a name=\"limits_and_colimits_5\"/>\n",
    "\n",
    "Show that, in a category with a terminal object, a pullback towards the terminal object is a product.\n",
    "\n",
    "Referring to the second diagram after the first mention of the word \"pullback\" in the text, object *d*, along with the two morphisms, *p* and *q*, form the pullback. For d to be a product, objects *a* and *c* must be distinct. This is guaranteed, if object *b* is the terminal object, as that requires that morphisms *f* and *g* each be unique and, therefore, distinct from each other.\n"
   ]
  },
  {
   "cell_type": "markdown",
   "metadata": {},
   "source": [
    "<a href=\"#contents\">Back to contents.</a>"
   ]
  },
  {
   "cell_type": "markdown",
   "metadata": {},
   "source": [
    "### Challenge 6 - Show that pushout from initial object is a coproduct. <a name=\"limits_and_colimits_6\"/>\n",
    "\n",
    "Similarly, show that a pushout from an initial object (if one exists) is the coproduct.\n",
    "\n",
    "Referring to the last diagram in the *Colimits* section, and noting that there is a missing object, *d*, which is the initial object, the two objects, *a* and *b* are guaranteed distinct by the definition of initial object. Therefore, *c* is a coproduct.\n"
   ]
  },
  {
   "cell_type": "markdown",
   "metadata": {},
   "source": [
    "<a href=\"#contents\">Back to contents.</a>"
   ]
  },
  {
   "cell_type": "code",
   "execution_count": null,
   "metadata": {
    "collapsed": true
   },
   "outputs": [],
   "source": []
  }
 ],
 "metadata": {
  "kernelspec": {
   "display_name": "Haskell",
   "language": "haskell",
   "name": "haskell"
  },
  "language_info": {
   "codemirror_mode": "ihaskell",
   "file_extension": ".hs",
   "name": "haskell",
   "version": "7.10.3"
  }
 },
 "nbformat": 4,
 "nbformat_minor": 0
}
