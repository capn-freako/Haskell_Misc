{
 "cells": [
  {
   "cell_type": "markdown",
   "metadata": {},
   "source": [
    "# Bartosz Milewski's - \"Categories for Programmers\"\n",
    "## *Challenges* - Cap'n Freako's responses.\n",
    "\n",
    "Original Author: David Banas <capn.freako@gmail.com>  \n",
    "Original Date: May 2, 2016\n",
    "\n",
    "Copyright (c) 2016 David Banas; all rights reserved World wide.\n",
    "\n",
    "This [IHaskell](https://github.com/gibiansky/ihaskell) notebook contains my responses to the *Challenges* posed by Bartosz Milewski in his [Categories for Programmers](https://bartoszmilewski.com/2014/10/28/category-theory-for-programmers-the-preface/)."
   ]
  },
  {
   "cell_type": "code",
   "execution_count": 2,
   "metadata": {
    "collapsed": false
   },
   "outputs": [
    {
     "data": {
      "text/plain": [
       "\"Notebook last run:\""
      ]
     },
     "metadata": {},
     "output_type": "display_data"
    },
    {
     "data": {
      "text/plain": [
       "2016-05-05 12:48:33.050441 UTC"
      ]
     },
     "metadata": {},
     "output_type": "display_data"
    }
   ],
   "source": [
    "import Data.Time\n",
    "\n",
    "print \"Notebook last run:\"\n",
    "getCurrentTime\n"
   ]
  },
  {
   "cell_type": "markdown",
   "metadata": {},
   "source": [
    "## Table of Contents <a name=\"contents\"/>\n",
    "\n",
    "1. <a href=\"#category\">Category: The Essence of Composition</a>\n",
    "1. <a href=\"#functors\">Functors</a>\n",
    "    1. <a href=\"#functors_1\">Alternative Functor instance for *Maybe*</a>\n",
    "    1. <a href=\"#functors_2\">Functor laws for *Reader*</a>\n",
    "    1. <a href=\"#functors_3\">*Reader* functor, in Python</a>\n",
    "    1. <a href=\"#functors_4\">Prove Functor laws for *List*.</a>\n"
   ]
  },
  {
   "cell_type": "markdown",
   "metadata": {},
   "source": [
    "## Category: The Essence of Composition <a name=\"category\"/>"
   ]
  },
  {
   "cell_type": "markdown",
   "metadata": {},
   "source": [
    "<a href=\"#contents\">Back to contents.</a>"
   ]
  },
  {
   "cell_type": "markdown",
   "metadata": {},
   "source": [
    "## Category: Functors <a name=\"functors\"/>"
   ]
  },
  {
   "cell_type": "markdown",
   "metadata": {},
   "source": [
    "### Challenge 1 - Alternative Functor instance for Maybe <a name=\"functors_1\"/>\n",
    "\n",
    "Can we turn the Maybe type constructor into a functor by defining:\n",
    "\n",
    "    fmap _ _ = Nothing\n",
    "    \n",
    "which ignores both of its arguments? (Hint: Check the functor laws.)\n",
    "\n",
    "No, we cannot, because such an instance violates, at least, the identity Functor law:\n",
    "\n",
    "    fmap id (Just x) = {fmap definition}\n",
    "    Nothing /= id (Just x) = {id definition}\n",
    "    Just x"
   ]
  },
  {
   "cell_type": "markdown",
   "metadata": {},
   "source": [
    "<a href=\"#contents\">Back to contents.</a>"
   ]
  },
  {
   "cell_type": "markdown",
   "metadata": {},
   "source": [
    "### Challenge 2 - Functor laws for Reader <a name=\"functors_2\"/>\n",
    "\n",
    "Prove functor laws for the reader functor. Hint: it’s really simple.\n",
    "\n",
    "    instance Functor ((->) r) where\n",
    "        fmap = (.)\n",
    "    \n",
    "    f :: r -> a\n",
    "    \n",
    "    fmap id f      = {fmap definition}\n",
    "    id . f         = {definition of composition}\n",
    "    \\x -> id (f x) = {definition of id}\n",
    "    \\x -> f x      = {eta reduction}\n",
    "    f              = {definition of id}\n",
    "    id f\n",
    "    \n",
    "    (fmap g . fmap h) f = {definition of composition}\n",
    "    fmap g (fmap h f)   = {definition of fmap}\n",
    "    fmap g (h . f)      = {definition of fmap}\n",
    "    g . (h . f)         = {associativity of composition}\n",
    "    (g . h) . f         = {definition of fmap}\n",
    "    fmap (g . h) f\n"
   ]
  },
  {
   "cell_type": "markdown",
   "metadata": {},
   "source": [
    "<a href=\"#contents\">Back to contents.</a>"
   ]
  },
  {
   "cell_type": "markdown",
   "metadata": {},
   "source": [
    "### Challenge 3 - Reader Functor, in Python. <a name=\"functors_3\"/>\n",
    "\n",
    "Implement the reader functor in your second favorite language (the first being Haskell, of course).\n",
    "\n",
    "*reader_functory.py*:\n",
    "\n",
    "    #! /usr/bin/env python\n",
    "\n",
    "    def fmap(g, f):\n",
    "        return lambda x: g(f(x))\n",
    "\n",
    "    def f(x):\n",
    "        return x + 1\n",
    "\n",
    "    def g(x):\n",
    "        return x * 2\n",
    "\n",
    "    def main():\n",
    "        h = fmap(g, f)\n",
    "        res = h(3)\n",
    "        print res\n",
    "\n",
    "    if(__name__ == '__main__'):\n",
    "        main()\n",
    "        \n",
    "Davids-MacBook-Air-2:Haskell_Misc dbanas$ ./reader_functor.py  \n",
    "8\n"
   ]
  },
  {
   "cell_type": "markdown",
   "metadata": {},
   "source": [
    "<a href=\"#contents\">Back to contents.</a>"
   ]
  },
  {
   "cell_type": "markdown",
   "metadata": {},
   "source": [
    "### Challenge 4 - Prove Functor laws for List. <a name=\"functors_4\"/>\n",
    "\n",
    "Prove the functor laws for the list functor. Assume that the laws are true for the tail part of the list you’re applying it to (in other words, use induction).\n",
    "\n",
    "    instance Functor [] where\n",
    "        fmap g []     = []\n",
    "        fmap g (x:xs) = g x : (fmap g xs)\n",
    "    \n",
    "    fmap id [] = {definition of fmap}\n",
    "    []         = {definition of id}\n",
    "    id []\n",
    "\n",
    "    fmap id (x:xs)      = {definition of fmap}\n",
    "    id x : (fmap id xs) = {definition of id}\n",
    "    x : (fmap id xs)    = {inductive assumption}\n",
    "    x : xs              = {definition of id}\n",
    "    id (x:xs)\n",
    "\n",
    "    (fmap g . fmap h) [] = {definition of composition}\n",
    "    fmap g (fmap h [])   = {definition of fmap}\n",
    "    fmap g []            = {definition of fmap}\n",
    "    []                   = {definition of fmap}\n",
    "    fmap (g . h) []\n",
    "    \n",
    "    (fmap g . fmap h) (x:xs)           = {definition of composition}\n",
    "    fmap g (fmap h (x:xs))             = {definition of fmap}\n",
    "    fmap g (h x : (fmap h xs))         = {definition of fmap}\n",
    "    g (h x) : (fmap g (fmap h xs))     = {definition of composition}\n",
    "    (g . h) x : ((fmap g . fmap h) xs) = {inductive assumption}\n",
    "    (g . h) x : (fmap (g . h) xs)      = {definition of fmap}\n",
    "    fmap (g . h) (x:xs)"
   ]
  },
  {
   "cell_type": "markdown",
   "metadata": {},
   "source": [
    "<a href=\"#contents\">Back to contents.</a>"
   ]
  },
  {
   "cell_type": "code",
   "execution_count": null,
   "metadata": {
    "collapsed": true
   },
   "outputs": [],
   "source": []
  }
 ],
 "metadata": {
  "kernelspec": {
   "display_name": "Haskell",
   "language": "haskell",
   "name": "haskell"
  },
  "language_info": {
   "codemirror_mode": "ihaskell",
   "file_extension": ".hs",
   "name": "haskell",
   "version": "7.10.3"
  }
 },
 "nbformat": 4,
 "nbformat_minor": 0
}
