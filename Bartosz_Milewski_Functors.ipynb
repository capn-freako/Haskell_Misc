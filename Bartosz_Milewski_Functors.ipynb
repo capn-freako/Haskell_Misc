{
 "cells": [
  {
   "cell_type": "markdown",
   "metadata": {},
   "source": [
    "# Bartosz Milewski's - \"Categories for Programmers\"\n",
    "## *Challenges* - Cap'n Freako's responses.\n",
    "\n",
    "Original Author: David Banas <capn.freako@gmail.com>  \n",
    "Original Date: May 2, 2016\n",
    "\n",
    "Copyright (c) 2016 David Banas; all rights reserved World wide.\n",
    "\n",
    "This [IHaskell](https://github.com/gibiansky/ihaskell) notebook contains my responses to the *Challenges* posed by Bartosz Milewski in his [Categories for Programmers](https://bartoszmilewski.com/2014/10/28/category-theory-for-programmers-the-preface/)."
   ]
  },
  {
   "cell_type": "code",
   "execution_count": 1,
   "metadata": {
    "collapsed": false
   },
   "outputs": [
    {
     "data": {
      "text/plain": [
       "\"Notebook last run:\""
      ]
     },
     "metadata": {},
     "output_type": "display_data"
    },
    {
     "data": {
      "text/plain": [
       "2016-05-27 15:22:49.486835 UTC"
      ]
     },
     "metadata": {},
     "output_type": "display_data"
    }
   ],
   "source": [
    "import Data.Time\n",
    "\n",
    "print \"Notebook last run:\"\n",
    "getCurrentTime\n"
   ]
  },
  {
   "cell_type": "markdown",
   "metadata": {},
   "source": [
    "## Table of Contents <a name=\"contents\"/>\n",
    "\n",
    "1. <a href=\"#category\">Category: The Essence of Composition</a>\n",
    "    1. <a href=\"#category_1\">Identity in Python</a>\n",
    "    1. <a href=\"#category_2\">Composition in Python</a>\n",
    "    1. <a href=\"#category_3\">Composition w/ Identity in Python</a>\n",
    "    1. <a href=\"#category_4\">WWW a category? Links morphisms?</a>\n",
    "    1. <a href=\"#category_5\">Facebook a category? Friendships morphisms?</a>\n",
    "    1. <a href=\"#category_6\">When is a directed graph a category?</a>\n",
    "1. <a href=\"#types_and_functions\">Types and Functions</a>\n",
    "    1. <a href=\"#types_1\">Memoization in Python</a>\n",
    "    1. <a href=\"#types_2\">Memoization of random()</a>\n",
    "    1. <a href=\"#types_3\">Memoized C++ functions</a>\n",
    "    1. <a href=\"#types_4\">Memoization in Python</a>\n",
    "    1. <a href=\"#types_5\">Bool to Bool</a>\n",
    "    1. <a href=\"#types_6\">Category drawing: Void, (), and Bool</a>\n",
    "1. <a href=\"#categories\">Categories Great and Small</a>\n",
    "    1. <a href=\"#categories_1\">Free category construction</a>\n",
    "    1. <a href=\"#categories_2\">Determining order kind</a>\n",
    "    1. <a href=\"#categories_3\">Bool as two (set-theoretical) monoids</a>\n",
    "    1. <a href=\"#categories_4\">True/AND monoid as category</a>\n",
    "    1. <a href=\"#categories_5\">Addition modulo 3 as category</a>\n",
    "1. <a href=\"#kleisli\">Kleisli Categories</a>\n",
    "    1. <a href=\"#kleisli_1\">Kleisli category for partial functions</a>\n",
    "    1. <a href=\"#kleisli_2\">Implementation of `safe_reciprocal`</a>\n",
    "    1. <a href=\"#kleisli_3\">Composition of `safe_root` and `safe_reciprocal`</a>\n",
    "1. <a href=\"#functors\">Functors</a>\n",
    "    1. <a href=\"#functors_1\">Alternative Functor instance for *Maybe*</a>\n",
    "    1. <a href=\"#functors_2\">Functor laws for *Reader*</a>\n",
    "    1. <a href=\"#functors_3\">*Reader* functor, in Python</a>\n",
    "    1. <a href=\"#functors_4\">Prove Functor laws for *List*.</a>\n",
    "1. <a href=\"#functoriality\">Functoriality</a>\n",
    "    1. <a href=\"#functoriality_1\">*Bifunctor* instance for *Pair*</a>\n",
    "    1. <a href=\"#functoriality_2\">Isomorphic definitions of *Maybe*</a>\n",
    "    1. <a href=\"#functoriality_3\">Bifunctor instance for *PreList*</a>\n",
    "    1. <a href=\"#functoriality_4\">More Bifunctor instances</a>\n",
    "    1. <a href=\"#functoriality_5\">Bifunctor in Python</a>\n",
    "    1. <a href=\"#functoriality_6\">Functorial nature of C++ std::map</a>\n"
   ]
  },
  {
   "cell_type": "markdown",
   "metadata": {},
   "source": [
    "## Category: The Essence of Composition <a name=\"category\"/>"
   ]
  },
  {
   "cell_type": "markdown",
   "metadata": {},
   "source": [
    "### Challenge 1 - Identity in Python <a name=\"category_1\"/>\n",
    "\n",
    "```\n",
    "def identity(x):\n",
    "    return x\n",
    "```\n"
   ]
  },
  {
   "cell_type": "markdown",
   "metadata": {},
   "source": [
    "### Challenge 2 - Composition in Python <a name=\"category_2\"/>\n",
    "\n",
    "```\n",
    "def compose(g, h):\n",
    "    return lambda x: g(h(x))\n",
    "```\n"
   ]
  },
  {
   "cell_type": "markdown",
   "metadata": {},
   "source": [
    "### Challenge 3 - Composition w/ Identity in Python <a name=\"category_3\"/>\n",
    "\n",
    "*identity_compose.py*:\n",
    "\n",
    "```\n",
    "#! /usr/bin/env python\n",
    "\n",
    "def main():\n",
    "    def f(x):\n",
    "        return x + 2\n",
    "\n",
    "    g = compose(f, identity)\n",
    "    h = compose(identity, f)\n",
    "\n",
    "    for x in range(3):\n",
    "        assert g(x) == f(x)\n",
    "        assert h(x) == f(x)\n",
    "\n",
    "    print \"All tests passed.\"\n",
    "\n",
    "if(__name__ == \"__main__\"):\n",
    "    main()\n",
    "```\n",
    "\n",
    "davids-air-2:Haskell_Misc dbanas$ ./identity_compose.py  \n",
    "All tests passed.\n"
   ]
  },
  {
   "cell_type": "markdown",
   "metadata": {},
   "source": [
    "<a href=\"#contents\">Back to contents.</a>"
   ]
  },
  {
   "cell_type": "markdown",
   "metadata": {},
   "source": [
    "### Challenge 4 - WWW a category? Links morphisms? <a name=\"category_4\"/>\n",
    "\n",
    "I say, \"yes,\" because:\n",
    "\n",
    "- I can certainly make an identity link.\n",
    "- Composition is easy and associative: it amounts to simply taking the destination of the final link in the composition chain.\n"
   ]
  },
  {
   "cell_type": "markdown",
   "metadata": {},
   "source": [
    "### Challenge 5 - Facebook a category? Friendships morphisms? <a name=\"category_5\"/>\n",
    "\n",
    "I say, \"no,\" because I can't friend myself; therefore, identity is missing.\n"
   ]
  },
  {
   "cell_type": "markdown",
   "metadata": {},
   "source": [
    "### Challenge 6 - When is a directed graph a category? <a name=\"category_6\"/>\n",
    "\n",
    "When all possible compositions of arrows are members of the graph, and every node in the graph has an identity arrow."
   ]
  },
  {
   "cell_type": "markdown",
   "metadata": {},
   "source": [
    "<a href=\"#contents\">Back to contents.</a>"
   ]
  },
  {
   "cell_type": "markdown",
   "metadata": {},
   "source": [
    "## Types and Functions <a name=\"types_and_functions\"/>"
   ]
  },
  {
   "cell_type": "markdown",
   "metadata": {},
   "source": [
    "### Challenge 1 - Memoization in Python <a name=\"types_1\"/>\n",
    "\n",
    "```\n",
    "#! /usr/bin/env python\n",
    "\n",
    "from operator import mul\n",
    "import time\n",
    "\n",
    "class Memoized(object):\n",
    "    def __init__(self, f):\n",
    "        self.f = f\n",
    "        self.memo = {}\n",
    "\n",
    "    def call(self, *args):\n",
    "        if(args in self.memo):\n",
    "            return self.memo[args]\n",
    "        else:\n",
    "            res = self.f(*args)\n",
    "            self.memo[args] = res\n",
    "            return res\n",
    "\n",
    "def fact(x):\n",
    "    return reduce(mul, range(1, x + 1), 1)\n",
    "\n",
    "def main():\n",
    "    fact_m = Memoized(fact)\n",
    "    arg = 100000\n",
    "\n",
    "    t0 = time.time()\n",
    "    fact_m.call(arg)\n",
    "    t1 = time.time()\n",
    "    res = fact_m.call(arg)\n",
    "    t2 = time.time()\n",
    "\n",
    "    print \"{}! = {}\".format(arg, res)\n",
    "    print \"First call took {} seconds.\".format(t1 - t0)\n",
    "    print \"Second call took {} seconds.\".format(t2 - t1)\n",
    "\n",
    "if(__name__ == \"__main__\"):\n",
    "    main()\n",
    "```\n",
    "\n",
    "    > ./memoize.py  \n",
    "    100000! = 2824229407960347874293421578024535518477494926091224850578918  \n",
    "    {Many lines snipped.}  \n",
    "    00000000000000000000000000000000000000000000000000000000000000000000000  \n",
    "\n",
    "    First call took 3.60797715187 seconds.  \n",
    "    Second call took 5.00679016113e-06 seconds.  \n",
    "    Keys of memo: [(100000,)]\n"
   ]
  },
  {
   "cell_type": "markdown",
   "metadata": {},
   "source": [
    "<a href=\"#contents\">Back to contents.</a>"
   ]
  },
  {
   "cell_type": "markdown",
   "metadata": {},
   "source": [
    "### Challenge 2 - Memoization of *random()* <a name=\"types_2\"/>\n",
    "\n",
    "*rand_mem.py*:\n",
    "\n",
    "```\n",
    "#! /usr/bin/env python\n",
    "\n",
    "import time\n",
    "from random import random\n",
    "from memoize import Memoized\n",
    "\n",
    "def main():\n",
    "    rand_m = Memoized(random)\n",
    "\n",
    "    t0 = time.time()\n",
    "    res1 = rand_m.call()\n",
    "    t1 = time.time()\n",
    "    res2 = rand_m.call()\n",
    "    t2 = time.time()\n",
    "\n",
    "    print \"First result: {} ; Second result: {}\".format(res1, res2)\n",
    "    print \"First call took {} seconds.\".format(t1 - t0)\n",
    "    print \"Second call took {} seconds.\".format(t2 - t1)\n",
    "    print \"Keys of memo: {}\".format(rand_m.memo.keys())\n",
    "\n",
    "if(__name__ == \"__main__\"):\n",
    "    main()\n",
    "```\n",
    "\n",
    "    > ./rand_mem.py  \n",
    "    First result: 0.314463120332 ; Second result: 0.314463120332  \n",
    "    First call took 3.81469726562e-06 seconds.  \n",
    "    Second call took 1.19209289551e-06 seconds.  \n",
    "    Keys of memo: [()]\n",
    "\n",
    "It didn't work, because the *random()* function gets called without an argument.  \n",
    "So, all successive calls will return the original value, which isn't very random.\n"
   ]
  },
  {
   "cell_type": "markdown",
   "metadata": {},
   "source": [
    "<a href=\"#contents\">Back to contents.</a>"
   ]
  },
  {
   "cell_type": "markdown",
   "metadata": {},
   "source": [
    "### Challenge 4 - Memoized C++ functions <a name=\"types_4\"/>\n",
    "\n",
    "*rand_mem.py*:\n",
    "\n",
    "```\n",
    "#include <map>\n",
    "#include <iostream>\n",
    "#include <chrono>\n",
    "\n",
    "using namespace std;\n",
    "using namespace std::chrono;\n",
    "\n",
    "template<typename T1, typename T2>\n",
    "class Memoized {\n",
    "  public:\n",
    "    Memoized(T2 (*g)(T1)) {\n",
    "        f = g;\n",
    "        _memo.clear();\n",
    "    }\n",
    "\n",
    "    T2 call(T1 x) {\n",
    "        try {\n",
    "            return _memo.at(x);\n",
    "        }\n",
    "        catch(...) {\n",
    "            T2 res = f(x);\n",
    "            _memo[x] = res;\n",
    "            return res;\n",
    "        }\n",
    "    }\n",
    "\n",
    "  protected:\n",
    "    map<T1, T2> _memo;\n",
    "    T2 (*f)(T1);\n",
    "};\n",
    "\n",
    "double fact(int n) {\n",
    "    int i;\n",
    "    double result = 1;\n",
    "    for (i = 2; i <= n; ++i)\n",
    "        result *= i;\n",
    "    return result;\n",
    "}\n",
    "\n",
    "int f(int x)\n",
    "{\n",
    "    static int y = 0;\n",
    "    y += x;\n",
    "    return y;\n",
    "}\n",
    "\n",
    "int main(int argc, char *argv[]) {\n",
    "    int x = 1000;\n",
    "\n",
    "    cout << \"1. Factorial\\n\";\n",
    "    Memoized<int, double> fact_m(fact);\n",
    "    for(auto i=0; i < 2; ++i) {\n",
    "        cout << \"\\tTrial \" << i << \"\\n\";\n",
    "        high_resolution_clock::time_point t1 = high_resolution_clock::now();\n",
    "        double res = fact(x);\n",
    "        high_resolution_clock::time_point t2 = high_resolution_clock::now();\n",
    "        auto duration = duration_cast<microseconds>( t2 - t1 ).count();\n",
    "        t1 = high_resolution_clock::now();\n",
    "        double res_m = fact_m.call(x);\n",
    "        t2 = high_resolution_clock::now();\n",
    "        auto duration_m = duration_cast<microseconds>( t2 - t1 ).count();\n",
    "        printf(\"\\t\\tFunction argument: %d; Function result: %e; Memoized function result: %e.\\n\", x, res, res_m);\n",
    "        printf(\"\\t\\tFunction time: %lld us; Memoized function time: %lld us.\\n\", duration, duration_m);\n",
    "    }\n",
    "\n",
    "    cout << \"4. f(int x)\\n\";\n",
    "    Memoized<int, int> f_m(f);\n",
    "    for(auto i=0; i < 2; ++i) {\n",
    "        cout << \"\\tTrial \" << i << \"\\n\";\n",
    "        high_resolution_clock::time_point t1 = high_resolution_clock::now();\n",
    "        int res = f(x);\n",
    "        high_resolution_clock::time_point t2 = high_resolution_clock::now();\n",
    "        auto duration = duration_cast<microseconds>( t2 - t1 ).count();\n",
    "        t1 = high_resolution_clock::now();\n",
    "        int res_m = f_m.call(x);\n",
    "        t2 = high_resolution_clock::now();\n",
    "        auto duration_m = duration_cast<microseconds>( t2 - t1 ).count();\n",
    "        printf(\"\\t\\tFunction argument: %d; Function result: %d; Memoized function result: %d.\\n\", x, res, res_m);\n",
    "        printf(\"\\t\\tFunction time: %lld us; Memoized function time: %lld us.\\n\", duration, duration_m);\n",
    "    }\n",
    "}\n",
    "\n",
    "```\n",
    "\n",
    "    > g++ -Wno-c++11-extensions mem_fact.cpp  \n",
    "    > ./a.out \n",
    "    1. Factorial\n",
    "        Trial 0\n",
    "            Function argument: 1000; Function result: inf; Memoized function result: inf.\n",
    "            Function time: 6 us; Memoized function time: 473 us.\n",
    "        Trial 1\n",
    "            Function argument: 1000; Function result: inf; Memoized function result: inf.\n",
    "            Function time: 7 us; Memoized function time: 7 us.\n",
    "    \n",
    "    4. f(int x)\n",
    "        Trial 0\n",
    "            Function argument: 1000; Function result: 1000; Memoized function result: 2000.\n",
    "            Function time: 0 us; Memoized function time: 19 us.\n",
    "        Trial 1\n",
    "            Function argument: 1000; Function result: 3000; Memoized function result: 2000.\n",
    "            Function time: 0 us; Memoized function time: 0 us.\n",
    "\n",
    "#### 1) Factorial\n",
    "\n",
    "This function is pure:\n",
    "\n",
    "- Both trials produce the same result.\n",
    "- The memoized and non-memoized versions yield identical results.\n",
    "\n",
    "#### 2) std::getchar()\n",
    "\n",
    "This function is not pure:\n",
    "\n",
    "- It can, potentially, produce different results each time it is called, depending upon user input.\n",
    "- It can't be memoized, because it takes no argument.\n",
    "\n",
    "#### 3) bool f()\n",
    "\n",
    "This function is not pure:\n",
    "\n",
    "- It produces the same result, each time it is called.\n",
    "- However, it has side effects: it modifies the state of the governing terminal, via its output statement.\n",
    "- It can't be memoized, because it takes no argument.\n",
    "\n",
    "#### 4) int f(int x)\n",
    "\n",
    "This function is not pure:\n",
    "\n",
    "- It produces different results, each time it is called, due to its static storage.\n",
    "- The memoized and non-memoized versions produce different results.\n"
   ]
  },
  {
   "cell_type": "markdown",
   "metadata": {},
   "source": [
    "<a href=\"#contents\">Back to contents.</a>"
   ]
  },
  {
   "cell_type": "markdown",
   "metadata": {},
   "source": [
    "### Challenge 5 <a name=\"types_5\"/>\n",
    "\n",
    "*How many different functions are there from Bool to Bool?*  \n",
    "*Can you implement them all?*\n",
    "\n",
    "There are 3:\n",
    "\n",
    "- true\n",
    "- complement\n",
    "- bottom\n",
    "\n",
    "Yes, they can all be implemented (in Haskell):\n"
   ]
  },
  {
   "cell_type": "code",
   "execution_count": 2,
   "metadata": {
    "collapsed": false
   },
   "outputs": [
    {
     "data": {
      "text/plain": [
       "true:\n",
       "\tTrue -> True\n",
       "\tFalse -> False\n",
       "complement:\n",
       "\tTrue -> False\n",
       "\tFalse -> True\n",
       "bottom:\n",
       "\t(Attempting to call 'bottom' short circuits the monad, and we get no output.)"
      ]
     },
     "metadata": {},
     "output_type": "display_data"
    }
   ],
   "source": [
    "true :: Bool -> Bool\n",
    "true True = True\n",
    "true False = False\n",
    "\n",
    "complement :: Bool -> Bool\n",
    "complement True = False\n",
    "complement False = True\n",
    "\n",
    "bottom :: Bool -> Bool\n",
    "bottom _ = undefined\n",
    "\n",
    "main :: IO ()\n",
    "main = do\n",
    "  putStrLn \"true:\"\n",
    "  putStrLn $ \"\\tTrue -> \" ++ (show $ true True)\n",
    "  putStrLn $ \"\\tFalse -> \" ++ (show $ true False)\n",
    "  putStrLn \"complement:\"\n",
    "  putStrLn $ \"\\tTrue -> \" ++ (show $ complement True)\n",
    "  putStrLn $ \"\\tFalse -> \" ++ (show $ complement False)\n",
    "  putStrLn \"bottom:\"\n",
    "--  putStrLn $ \"\\tTrue -> \" ++ (show $ bottom True)\n",
    "--  putStrLn $ \"\\tFalse -> \" ++ (show $ bottom False)\n",
    "  putStrLn \"\\t(Attempting to call 'bottom' short circuits the monad, and we get no output.)\"\n",
    "main\n"
   ]
  },
  {
   "cell_type": "markdown",
   "metadata": {},
   "source": [
    "<a href=\"#contents\">Back to contents.</a>"
   ]
  },
  {
   "cell_type": "markdown",
   "metadata": {},
   "source": [
    "### Challenge 6 <a name=\"types_6\"/>\n",
    "\n",
    "![Category Picture](types_6.png)\n"
   ]
  },
  {
   "cell_type": "markdown",
   "metadata": {},
   "source": [
    "<a href=\"#contents\">Back to contents.</a>"
   ]
  },
  {
   "cell_type": "markdown",
   "metadata": {},
   "source": [
    "## Categories Great and Small <a name=\"categories\"/>"
   ]
  },
  {
   "cell_type": "markdown",
   "metadata": {},
   "source": [
    "### Challenge 1 - Free category construction <a name=\"categories_1\"/>\n",
    "\n",
    "Generate a free category from:\n",
    "\n",
    "1. A graph with one node and no edges\n",
    "![Single node](categories_1_1.png)\n",
    "1. A graph with one node and one (directed) edge (hint: this edge can be composed with itself)\n",
    "![Single node](categories_1_4.png)\n",
    "1. A graph with two nodes and a single arrow between them\n",
    "![Single node](categories_1_3.png)\n",
    "1. A graph with a single node and 26 arrows marked with the letters of the alphabet: a, b, c … z.\n",
    "![Single node](categories_1_4.png)\n"
   ]
  },
  {
   "cell_type": "markdown",
   "metadata": {},
   "source": [
    "<a href=\"#contents\">Back to contents.</a>"
   ]
  },
  {
   "cell_type": "markdown",
   "metadata": {},
   "source": [
    "### Challenge 2 - Determining order kind. <a name=\"categories_2\"/>\n",
    "\n",
    "What kind of order is this?\n",
    "\n",
    "1. A set of sets with the inclusion relation: A is included in B if every element of A is also an element of B.  \n",
    "I believe this is a *preorder*, because it isn't explicitly stipulated that, if A is included in B *and* B is included in A, then A and B are identical.\n",
    "\n",
    "1. C++ types with the following subtyping relation: T1 is a subtype of T2 if a pointer to T1 can be passed to a function that expects a pointer to T2 without triggering a compilation error.  \n",
    "Again, I claim preorder, due to the missing stipulation regarding equality."
   ]
  },
  {
   "cell_type": "markdown",
   "metadata": {},
   "source": [
    "<a href=\"#contents\">Back to contents.</a>"
   ]
  },
  {
   "cell_type": "markdown",
   "metadata": {},
   "source": [
    "### Challenge 3 - *Bool* as two (set-theoretical) monoids. <a name=\"categories_3\"/>\n",
    "\n",
    "Considering that Bool is a set of two values True and False, show that it forms two (set-theoretical) monoids with respect to, respectively, operator && (AND) and || (OR).\n",
    "\n",
    "**True**:\n",
    "\n",
    "1. True is a unit, under AND; check.\n",
    "1. AND is associative; check.\n",
    "\n",
    "**False**:\n",
    "\n",
    "1. False is a unit, under OR; check.\n",
    "1. OR is associative; check.\n"
   ]
  },
  {
   "cell_type": "markdown",
   "metadata": {},
   "source": [
    "<a href=\"#contents\">Back to contents.</a>"
   ]
  },
  {
   "cell_type": "markdown",
   "metadata": {},
   "source": [
    "### Challenge 4 - *True*/*AND* monoid as category. <a name=\"categories_4\"/>\n",
    "\n",
    "Represent the Bool monoid with the AND operator as a category: List the morphisms and their rules of composition.\n",
    "\n",
    "Morphisms:\n",
    "\n",
    "1. id\n",
    "1. \"a && b\", which happens to be equal to id, since the only value available for populating 'a' and 'b' is True.\n",
    "\n",
    "Rules of Composition:\n",
    "\n",
    "1. m1 . m2 = (a && b) && (c && d), where\n",
    "  * m1 = a && b\n",
    "  * m2 = c && d\n",
    "  "
   ]
  },
  {
   "cell_type": "markdown",
   "metadata": {},
   "source": [
    "<a href=\"#contents\">Back to contents.</a>"
   ]
  },
  {
   "cell_type": "markdown",
   "metadata": {},
   "source": [
    "### Challenge 5 - Addition modulo 3 as category. <a name=\"categories_5\"/>\n",
    "\n",
    "Represent addition modulo 3 as a monoid category.\n",
    "\n",
    "Nodes:\n",
    "\n",
    "1. {{0, 1, 2}, {1, 2, 0}, {2, 0, 1}}\n",
    "\n",
    "Morphisms:\n",
    "\n",
    "1. rotate 0 (id)\n",
    "1. rotate 1 ({0, 1, 2} -> {1, 2, 0}, etc.)\n",
    "1. rotate 2 ({0, 1, 2} -> {2, 0, 1}, etc.)\n",
    "\n",
    "Composition Rules:\n",
    "\n",
    "1. rotate n . rotate m = rotate (n + m mod 3)\n"
   ]
  },
  {
   "cell_type": "markdown",
   "metadata": {},
   "source": [
    "<a href=\"#contents\">Back to contents.</a>"
   ]
  },
  {
   "cell_type": "markdown",
   "metadata": {},
   "source": [
    "## Kleisli Categories <a name=\"kleisli\"/>"
   ]
  },
  {
   "cell_type": "markdown",
   "metadata": {},
   "source": [
    "### Challenge 1 - Kleisli category for partial functions <a name=\"kleisli_1\"/>\n",
    "\n",
    "Construct the Kleisli category for partial functions (define composition and identity).\n",
    "\n",
    "**Objects**: Hask\n",
    "\n",
    "**Morphisms**: a -> (b, Bool)\n",
    "\n",
    "**Composition**:  \n",
    "m1 &#183; m2 = &#955;x &#8594; case (m1 x) of  \n",
    "(\\_, False) &#8594; (&#8709;, False)  \n",
    "(y, True) &#8594; m2 y\n",
    "\n",
    "**Identity**:  \n",
    "&#955;x &#8594; (x, True)\n"
   ]
  },
  {
   "cell_type": "markdown",
   "metadata": {},
   "source": [
    "<a href=\"#contents\">Back to contents.</a>"
   ]
  },
  {
   "cell_type": "markdown",
   "metadata": {},
   "source": [
    "### Challenge 2 - Implementation of `safe_reciprocal` <a name=\"kleisli_2\"/>\n",
    "\n",
    "Implement the embellished function `safe_reciprocal` that returns a valid reciprocal of its argument, if it’s different from zero.\n"
   ]
  },
  {
   "cell_type": "code",
   "execution_count": 3,
   "metadata": {
    "collapsed": false
   },
   "outputs": [
    {
     "data": {
      "text/plain": [
       "safe_reciprocal 0 = (0.0,False)\n",
       "safe_reciprocal 2 = (0.5,True)"
      ]
     },
     "metadata": {},
     "output_type": "display_data"
    }
   ],
   "source": [
    "type SafeRecip a = (a, Bool)\n",
    "\n",
    "safe_reciprocal :: (Fractional a, Eq a) => a -> SafeRecip a\n",
    "safe_reciprocal x\n",
    "    | x == 0    = (0, False)\n",
    "    | otherwise = (1/x, True)\n",
    "\n",
    "main :: IO ()\n",
    "main = do\n",
    "    putStr \"safe_reciprocal 0 = \"\n",
    "    print $ safe_reciprocal 0\n",
    "    putStr \"safe_reciprocal 2 = \"\n",
    "    print $ safe_reciprocal 2\n",
    "    \n",
    "main\n"
   ]
  },
  {
   "cell_type": "markdown",
   "metadata": {},
   "source": [
    "<a href=\"#contents\">Back to contents.</a>"
   ]
  },
  {
   "cell_type": "markdown",
   "metadata": {},
   "source": [
    "### Challenge 3 - Composition of `safe_root` and  `safe_reciprocal` <a name=\"kleisli_3\"/>\n",
    "\n",
    "Compose `safe_root` and `safe_reciprocal` to implement safe_root_reciprocal that calculates sqrt(1/x) whenever possible.\n"
   ]
  },
  {
   "cell_type": "code",
   "execution_count": 4,
   "metadata": {
    "collapsed": false
   },
   "outputs": [
    {
     "data": {
      "text/plain": [
       "safe_recip_root 0 = (0.0,False)\n",
       "safe_recip_root -1 = (0.0,False)\n",
       "safe_recip_root 2 = (0.70710677,True)"
      ]
     },
     "metadata": {},
     "output_type": "display_data"
    }
   ],
   "source": [
    "-- We need a way to generate a default value, in the event of failure.\n",
    "class HasDef a where\n",
    "    defVal :: a\n",
    "\n",
    "instance HasDef Float where\n",
    "    defVal = 0.0\n",
    "\n",
    "-- Some convenient type aliases.\n",
    "type SafeUnit a = (a, Bool)\n",
    "type SafeFunc a b = a -> SafeUnit b\n",
    "\n",
    "-- Our composer for SafeFuncs.\n",
    "infix 9 >=>\n",
    "(>=>) :: (HasDef c) => SafeFunc a b -> SafeFunc b c -> SafeFunc a c\n",
    "sf1 >=> sf2 = \\x -> case sf1 x of\n",
    "    (_, False) -> (defVal, False)\n",
    "    (y, True)  -> sf2 y\n",
    "\n",
    "-- Rewriting `safe_reciprocal`, so that it fits into the new framework.\n",
    "safe_reciprocal :: (Floating a, Eq a) => SafeFunc a a\n",
    "safe_reciprocal x\n",
    "    | x == 0    = (0, False)\n",
    "    | otherwise = (1/x, True)\n",
    "\n",
    "-- The safe version of `sqrt`.\n",
    "safe_root :: (Floating a, Ord a) => SafeFunc a a\n",
    "safe_root x\n",
    "    | x < 0     = (0, False)\n",
    "    | otherwise = (sqrt x, True)\n",
    "\n",
    "-- The goal of this exercise.\n",
    "safe_recip_root :: (Floating a, Ord a, Eq a, HasDef a) => SafeFunc a a\n",
    "safe_recip_root = safe_root >=> safe_reciprocal\n",
    "\n",
    "-- Testing\n",
    "main :: IO ()\n",
    "main = do\n",
    "    putStr \"safe_recip_root 0 = \"\n",
    "    print $ safe_recip_root (0 :: Float)\n",
    "    putStr \"safe_recip_root -1 = \"\n",
    "    print $ safe_recip_root ((-1) :: Float)\n",
    "    putStr \"safe_recip_root 2 = \"\n",
    "    print $ safe_recip_root (2 :: Float)\n",
    "\n",
    "main\n"
   ]
  },
  {
   "cell_type": "markdown",
   "metadata": {},
   "source": [
    "<a href=\"#contents\">Back to contents.</a>"
   ]
  },
  {
   "cell_type": "markdown",
   "metadata": {},
   "source": [
    "## Functors <a name=\"functors\"/>"
   ]
  },
  {
   "cell_type": "markdown",
   "metadata": {},
   "source": [
    "### Challenge 1 - Alternative Functor instance for Maybe <a name=\"functors_1\"/>\n",
    "\n",
    "Can we turn the Maybe type constructor into a functor by defining:\n",
    "\n",
    "    fmap _ _ = Nothing\n",
    "    \n",
    "which ignores both of its arguments? (Hint: Check the functor laws.)\n",
    "\n",
    "No, we cannot, because such an instance violates, at least, the identity Functor law:\n",
    "\n",
    "    fmap id (Just x) = {fmap definition}\n",
    "    Nothing /= id (Just x) = {id definition}\n",
    "    Just x"
   ]
  },
  {
   "cell_type": "markdown",
   "metadata": {},
   "source": [
    "<a href=\"#contents\">Back to contents.</a>"
   ]
  },
  {
   "cell_type": "markdown",
   "metadata": {},
   "source": [
    "### Challenge 2 - Functor laws for Reader <a name=\"functors_2\"/>\n",
    "\n",
    "Prove functor laws for the reader functor. Hint: it’s really simple.\n",
    "\n",
    "    instance Functor ((->) r) where\n",
    "        fmap = (.)\n",
    "    \n",
    "    f :: r -> a\n",
    "    \n",
    "    fmap id f      = {fmap definition}\n",
    "    id . f         = {definition of composition}\n",
    "    \\x -> id (f x) = {definition of id}\n",
    "    \\x -> f x      = {eta reduction}\n",
    "    f              = {definition of id}\n",
    "    id f\n",
    "    \n",
    "    (fmap g . fmap h) f = {definition of composition}\n",
    "    fmap g (fmap h f)   = {definition of fmap}\n",
    "    fmap g (h . f)      = {definition of fmap}\n",
    "    g . (h . f)         = {associativity of composition}\n",
    "    (g . h) . f         = {definition of fmap}\n",
    "    fmap (g . h) f\n"
   ]
  },
  {
   "cell_type": "markdown",
   "metadata": {},
   "source": [
    "<a href=\"#contents\">Back to contents.</a>"
   ]
  },
  {
   "cell_type": "markdown",
   "metadata": {},
   "source": [
    "### Challenge 3 - Reader Functor, in Python. <a name=\"functors_3\"/>\n",
    "\n",
    "Implement the reader functor in your second favorite language (the first being Haskell, of course).\n",
    "\n",
    "*reader_functory.py*:\n",
    "\n",
    "    #! /usr/bin/env python\n",
    "\n",
    "    def fmap(g, f):\n",
    "        return lambda x: g(f(x))\n",
    "\n",
    "    def f(x):\n",
    "        return x + 1\n",
    "\n",
    "    def g(x):\n",
    "        return x * 2\n",
    "\n",
    "    def main():\n",
    "        h = fmap(g, f)\n",
    "        res = h(3)\n",
    "        print res\n",
    "\n",
    "    if(__name__ == '__main__'):\n",
    "        main()\n",
    "        \n",
    "Davids-MacBook-Air-2:Haskell_Misc dbanas$ ./reader_functor.py  \n",
    "8\n"
   ]
  },
  {
   "cell_type": "markdown",
   "metadata": {},
   "source": [
    "<a href=\"#contents\">Back to contents.</a>"
   ]
  },
  {
   "cell_type": "markdown",
   "metadata": {},
   "source": [
    "### Challenge 4 - Prove Functor laws for List. <a name=\"functors_4\"/>\n",
    "\n",
    "Prove the functor laws for the list functor. Assume that the laws are true for the tail part of the list you’re applying it to (in other words, use induction).\n",
    "\n",
    "    instance Functor [] where\n",
    "        fmap g []     = []\n",
    "        fmap g (x:xs) = g x : (fmap g xs)\n",
    "    \n",
    "    fmap id [] = {definition of fmap}\n",
    "    []         = {definition of id}\n",
    "    id []\n",
    "\n",
    "    fmap id (x:xs)      = {definition of fmap}\n",
    "    id x : (fmap id xs) = {definition of id}\n",
    "    x : (fmap id xs)    = {inductive assumption}\n",
    "    x : xs              = {definition of id}\n",
    "    id (x:xs)\n",
    "\n",
    "    (fmap g . fmap h) [] = {definition of composition}\n",
    "    fmap g (fmap h [])   = {definition of fmap}\n",
    "    fmap g []            = {definition of fmap}\n",
    "    []                   = {definition of fmap}\n",
    "    fmap (g . h) []\n",
    "    \n",
    "    (fmap g . fmap h) (x:xs)           = {definition of composition}\n",
    "    fmap g (fmap h (x:xs))             = {definition of fmap}\n",
    "    fmap g (h x : (fmap h xs))         = {definition of fmap}\n",
    "    g (h x) : (fmap g (fmap h xs))     = {definition of composition}\n",
    "    (g . h) x : ((fmap g . fmap h) xs) = {inductive assumption}\n",
    "    (g . h) x : (fmap (g . h) xs)      = {definition of fmap}\n",
    "    fmap (g . h) (x:xs)"
   ]
  },
  {
   "cell_type": "markdown",
   "metadata": {},
   "source": [
    "<a href=\"#contents\">Back to contents.</a>"
   ]
  },
  {
   "cell_type": "markdown",
   "metadata": {},
   "source": [
    "## Functoriality <a name=\"functoriality\"/>"
   ]
  },
  {
   "cell_type": "markdown",
   "metadata": {},
   "source": [
    "### Challenge 1 - *Bifunctor* instance for *Pair* <a name=\"functoriality_1\"/>\n",
    "\n",
    "Show that the data type:\n",
    "\n",
    "    data Pair a b = Pair a b\n",
    "    \n",
    "is a bifunctor. For additional credit implement all three methods of Bifunctor and use equational reasoning to show that these definitions are compatible with the default implementations whenever they can be applied."
   ]
  },
  {
   "cell_type": "code",
   "execution_count": 5,
   "metadata": {
    "collapsed": false
   },
   "outputs": [],
   "source": [
    "import Data.Bifunctor\n",
    "\n",
    "data Pair a b = Pair a b\n",
    "\n",
    "instance Bifunctor Pair where\n",
    "    bimap g h (Pair x y) = Pair (g x) (h y)\n",
    "    first g (Pair x y)   = Pair (g x) y\n",
    "    second h (Pair x y)  = Pair x (h y)\n",
    "    "
   ]
  },
  {
   "cell_type": "markdown",
   "metadata": {},
   "source": [
    "```\n",
    "bimap g id                       = {definition of *bimap*}\n",
    "\\(Pair x y) -> Pair (g x) (id y) = {definition of *id*}\n",
    "\\(Pair x y) -> Pair (g x) y      = {definition of *first*}\n",
    "first g\n",
    "```\n",
    "&#9633;\n",
    "\n",
    "```\n",
    "bimap id                           = {definition of *bimap*}\n",
    "\\h (Pair x y) -> Pair (id x) (h y) = {definition of *id*}\n",
    "\\h (Pair x y) -> Pair x (h y)      = {definition of *second*}\n",
    "second\n",
    "```\n",
    "&#9633;\n"
   ]
  },
  {
   "cell_type": "markdown",
   "metadata": {},
   "source": [
    "<a href=\"#contents\">Back to contents.</a>"
   ]
  },
  {
   "cell_type": "markdown",
   "metadata": {},
   "source": [
    "### Challenge 2 - Isomorphic definitions of *Maybe* <a name=\"functoriality_2\"/>\n",
    "\n",
    "Show the isomorphism between the standard definition of *Maybe* and this desugaring:\n",
    "\n",
    "    type Maybe' a = Either (Const () a) (Identity a)\n",
    "    \n",
    "Hint: Define two mappings between the two implementations. For additional credit, show that they are the inverse of each other using equational reasoning."
   ]
  },
  {
   "cell_type": "code",
   "execution_count": 6,
   "metadata": {
    "collapsed": false
   },
   "outputs": [
    {
     "data": {
      "text/plain": [
       "True\n",
       "True\n",
       "True\n",
       "True"
      ]
     },
     "metadata": {},
     "output_type": "display_data"
    }
   ],
   "source": [
    "import Control.Applicative   (Const (..))\n",
    "import Data.Functor.Identity (Identity (..))\n",
    "\n",
    "type Maybe' a = Either (Const () a) (Identity a)\n",
    "\n",
    "toMaybe :: Maybe' a -> Maybe a\n",
    "toMaybe (Left (Const ()))    = Nothing\n",
    "toMaybe (Right (Identity x)) = Just x\n",
    "\n",
    "toMaybe' :: Maybe a -> Maybe' a\n",
    "toMaybe' Nothing  = Left (Const ())\n",
    "toMaybe' (Just x) = Right (Identity x)\n",
    "\n",
    "-- Check for isomorphism, empirically:\n",
    "main :: IO ()\n",
    "main = do\n",
    "    print $ (toMaybe . toMaybe') Nothing              == Nothing\n",
    "    print $ (toMaybe . toMaybe') (Just 1)             == Just 1\n",
    "    print $ (toMaybe' . toMaybe) (Left (Const ()))    == Left (Const ())\n",
    "    print $ (toMaybe' . toMaybe) (Right (Identity 1)) == Right (Identity 1)\n",
    "\n",
    "main\n"
   ]
  },
  {
   "cell_type": "markdown",
   "metadata": {},
   "source": [
    "To show that the mappings are inverses, we show that composing them equals *id*.  \n",
    "I'll do it in both directions, to be thorough.\n",
    "\n",
    "First, the *Const*/*Nothing* case:\n",
    "\n",
    "```\n",
    "(toMaybe . toMaybe') Nothing = {definition of composition}\n",
    "toMaybe (toMaybe' Nothing)   = {definition of *toMaybe'*}\n",
    "toMaybe (Left (Const ()))    = {definition of *toMaybe*}\n",
    "Nothing                      = {definition of *id*}\n",
    "id Nothing\n",
    "```\n",
    "&#9633;\n",
    "\n",
    "```\n",
    "(toMaybe' . toMaybe) (Left (Const ())) = {definition of composition}\n",
    "toMaybe' (toMaybe (Left (Const ())))   = {definition of *toMaybe*}\n",
    "toMaybe' Nothing                       = {definition of *toMaybe'*}\n",
    "Left (Const ())                        = {definition of *id*}\n",
    "id (Left (Const ()))\n",
    "```\n",
    "&#9633;\n",
    "\n",
    "Next, the *Identity*/*Just* case:\n",
    "\n",
    "```\n",
    "(toMaybe . toMaybe') (Just x) = {definition of composition}\n",
    "toMaybe (toMaybe' (Just x))   = {definition of *toMaybe'*}\n",
    "toMaybe (Right (Identity x))  = {definition of *toMaybe*}\n",
    "Just x                        = {definition of *id*}\n",
    "id (Just x)\n",
    "```\n",
    "&#9633;\n",
    "\n",
    "```\n",
    "(toMaybe' . toMaybe) (Right (Identity x)) = {definition of composition}\n",
    "toMaybe' (toMaybe (Right (Identity x)))   = {definition of *toMaybe*}\n",
    "toMaybe' (Just x)                         = {definition of *toMaybe'*}\n",
    "Right (Identity x)                        = {definition of *id*}\n",
    "id (Right (Identity x))\n",
    "```\n",
    "&#9633;\n"
   ]
  },
  {
   "cell_type": "markdown",
   "metadata": {},
   "source": [
    "<a href=\"#contents\">Back to contents.</a>"
   ]
  },
  {
   "cell_type": "markdown",
   "metadata": {},
   "source": [
    "### Challenge 3 - Bifunctor instance for *PreList* <a name=\"functoriality_3\"/>\n",
    "\n",
    "Let’s try another data structure. I call it a *PreList* because it’s a precursor to a List. It replaces recursion with a type parameter, *b*.\n",
    "\n",
    "    data PreList a b = Nil | Cons a b\n",
    "    \n",
    "You could recover our earlier definition of a List by recursively applying PreList to itself (we’ll see how it’s done when we talk about fixed points).\n",
    "\n",
    "Show that PreList is an instance of Bifunctor."
   ]
  },
  {
   "cell_type": "code",
   "execution_count": 7,
   "metadata": {
    "collapsed": false
   },
   "outputs": [
    {
     "data": {
      "text/plain": [
       "True\n",
       "True\n",
       "True\n",
       "True"
      ]
     },
     "metadata": {},
     "output_type": "display_data"
    }
   ],
   "source": [
    "import Data.Bifunctor\n",
    "\n",
    "data PreList a b = Nil | Cons a b\n",
    "    deriving (Eq)\n",
    "\n",
    "instance Bifunctor PreList where\n",
    "    bimap g h Nil        = Nil\n",
    "    bimap g h (Cons x y) = Cons (g x) (h y)\n",
    "\n",
    "main :: IO ()\n",
    "main = do\n",
    "    -- Checking the Functor laws.\n",
    "    print $ bimap id id Nil        == Nil\n",
    "    print $ bimap id id (Cons 1 2) == Cons 1 2\n",
    "    print $ ((bimap (+ 1) (* 2)) . (bimap (+ 2) (* 3))) Nil        == bimap ((+ 1) . (+ 2)) ((* 2) . (* 3)) Nil\n",
    "    print $ ((bimap (+ 1) (* 2)) . (bimap (+ 2) (* 3))) (Cons 1 2) == bimap ((+ 1) . (+ 2)) ((* 2) . (* 3)) (Cons 1 2)\n",
    "\n",
    "main\n"
   ]
  },
  {
   "cell_type": "markdown",
   "metadata": {},
   "source": [
    "<a href=\"#contents\">Back to contents.</a>"
   ]
  },
  {
   "cell_type": "markdown",
   "metadata": {},
   "source": [
    "### Challenge 4 - More Bifunctor instances <a name=\"functoriality_4\"/>\n",
    "\n",
    "Show that the following data types define bifunctors in a and b:\n",
    "```\n",
    "data K2 c a b = K2 c\n",
    "data Fst a b = Fst a\n",
    "data Snd a b = Snd b\n",
    "```\n",
    "For additional credit, check your solutions agains Conor McBride’s paper [Clowns to the Left of me, Jokers to the Right](http://strictlypositive.org/CJ.pdf)."
   ]
  },
  {
   "cell_type": "code",
   "execution_count": 8,
   "metadata": {
    "collapsed": false
   },
   "outputs": [
    {
     "data": {
      "text/plain": [
       "True\n",
       "True\n",
       "True\n",
       "True\n",
       "True\n",
       "True"
      ]
     },
     "metadata": {},
     "output_type": "display_data"
    }
   ],
   "source": [
    "import Data.Bifunctor\n",
    "\n",
    "data K2 c a b = K2 c\n",
    "    deriving (Eq)\n",
    "\n",
    "instance Bifunctor (K2 c) where\n",
    "    bimap g h (K2 c) = K2 c\n",
    "    \n",
    "-- Check Functor laws.\n",
    "assert1 = bimap id id (K2 1) == K2 1\n",
    "assert2 = ((bimap (+ 1) (* 2)) . (bimap (+ 2) (* 3))) (K2 1) == bimap ((+ 1) . (+ 2)) ((* 2) . (* 3)) (K2 1)\n",
    "\n",
    "data Fst a b = Fst a\n",
    "    deriving (Eq)\n",
    "\n",
    "instance Bifunctor Fst where\n",
    "    bimap g h (Fst x) = Fst (g x)\n",
    "    \n",
    "-- Check Functor laws.\n",
    "assert3 = bimap id id (Fst 1) == Fst 1\n",
    "assert4 = ((bimap (+ 1) (* 2)) . (bimap (+ 2) (* 3))) (Fst 1) == bimap ((+ 1) . (+ 2)) ((* 2) . (* 3)) (Fst 1)\n",
    "\n",
    "data Snd a b = Snd b\n",
    "    deriving (Eq)\n",
    "\n",
    "instance Bifunctor Snd where\n",
    "    bimap g h (Snd y) = Snd (h y)\n",
    "    \n",
    "-- Check Functor laws.\n",
    "assert5 = bimap id id (Snd 1) == Snd 1\n",
    "assert6 = ((bimap (+ 1) (* 2)) . (bimap (+ 2) (* 3))) (Snd 1) == bimap ((+ 1) . (+ 2)) ((* 2) . (* 3)) (Snd 1)\n",
    "\n",
    "main :: IO ()\n",
    "main = do\n",
    "    print assert1\n",
    "    print assert2\n",
    "    print assert3\n",
    "    print assert4\n",
    "    print assert5\n",
    "    print assert6\n",
    "\n",
    "main\n"
   ]
  },
  {
   "cell_type": "markdown",
   "metadata": {},
   "source": [
    "My definitions *do* match those in Conor's paper."
   ]
  },
  {
   "cell_type": "markdown",
   "metadata": {},
   "source": [
    "<a href=\"#contents\">Back to contents.</a>"
   ]
  },
  {
   "cell_type": "markdown",
   "metadata": {},
   "source": [
    "### Challenge 5 - Bifunctor in Python <a name=\"functoriality_5\"/>\n",
    "\n",
    "Define a bifunctor in a language other than Haskell. Implement bimap for a generic pair in that language."
   ]
  },
  {
   "cell_type": "markdown",
   "metadata": {},
   "source": [
    "*bifunctor.py*:\n",
    "\n",
    "```\n",
    "#! /usr/bin/env python\n",
    "\n",
    "import abc\n",
    "\n",
    "\n",
    "def ident(x):\n",
    "    \"\"\"\n",
    "    Identity function - Just returns whatever is passed in.\n",
    "\n",
    "    'id' is a built-in function, in Python, which doesn't give what we\n",
    "    want.\n",
    "\n",
    "    \"\"\"\n",
    "\n",
    "    return x\n",
    "\n",
    "\n",
    "def compose(*functions):\n",
    "    \"\"\"\n",
    "    Function composition for arbitrary number of inputs.\n",
    "\n",
    "    Taken from:\n",
    "    https://mathieularose.com/function-composition-in-python/#solution\n",
    "\n",
    "    \"\"\"\n",
    "\n",
    "    return reduce(lambda f, g: lambda x: f(g(x)), functions, lambda x: x)\n",
    "\n",
    "\n",
    "class Bifunctor(object):\n",
    "    __metaclass__ = abc.ABCMeta\n",
    "\n",
    "    @abc.abstractmethod\n",
    "    def bimap(self, g, h):\n",
    "        pass\n",
    "\n",
    "class Eq(object):\n",
    "    __metaclass__ = abc.ABCMeta\n",
    "\n",
    "    @abc.abstractmethod\n",
    "    def equals(self, other):\n",
    "        pass\n",
    "\n",
    "class Pair(Bifunctor, Eq):\n",
    "    'Bifunctorial Product.'\n",
    "\n",
    "    def __init__(self, x, y):\n",
    "        self._x = x\n",
    "        self._y = y\n",
    "\n",
    "    def GetX(self):\n",
    "        return self._x\n",
    "    def SetX(self, val):\n",
    "        self._x = val\n",
    "    x = property(GetX, SetX)\n",
    "\n",
    "    def GetY(self):\n",
    "        return self._y\n",
    "    def SetY(self, val):\n",
    "        self._y = val\n",
    "    y = property(GetY, SetY)\n",
    "\n",
    "    def bimap(self, g, h):\n",
    "        return Pair(g(self.x), h(self.y))\n",
    "\n",
    "    def equals(self, other):\n",
    "        if(self.x == other.x and self.y == other.y):\n",
    "            return True\n",
    "        else:\n",
    "            return False\n",
    "\n",
    "\n",
    "class K2(Bifunctor, Eq):\n",
    "    'Bifunctorial constant.'\n",
    "\n",
    "    def __init__(self, val):\n",
    "        self._val = val\n",
    "\n",
    "    def GetVal(self):\n",
    "        return self._val\n",
    "    def SetVal(self, val):\n",
    "        self._val = val\n",
    "    val = property(GetVal, SetVal)\n",
    "\n",
    "    def bimap(self, g, h):\n",
    "        return self\n",
    "\n",
    "    def equals(self, other):\n",
    "        if(self.val == other.val):\n",
    "            return True\n",
    "        else:\n",
    "            return False\n",
    "\n",
    "\n",
    "class Fst(Bifunctor, Eq):\n",
    "    'First applicative bifunctor.'\n",
    "\n",
    "    def __init__(self, val):\n",
    "        self._val = val\n",
    "\n",
    "    def GetVal(self):\n",
    "        return self._val\n",
    "    def SetVal(self, val):\n",
    "        self._val = val\n",
    "    val = property(GetVal, SetVal)\n",
    "\n",
    "    def bimap(self, g, h):\n",
    "        return Fst(g(self.val))\n",
    "\n",
    "    def equals(self, other):\n",
    "        if(self.val == other.val):\n",
    "            return True\n",
    "        else:\n",
    "            return False\n",
    "\n",
    "\n",
    "class Snd(Bifunctor, Eq):\n",
    "    'Second applicative bifunctor.'\n",
    "\n",
    "    def __init__(self, val):\n",
    "        self._val = val\n",
    "\n",
    "    def GetVal(self):\n",
    "        return self._val\n",
    "    def SetVal(self, val):\n",
    "        self._val = val\n",
    "    val = property(GetVal, SetVal)\n",
    "\n",
    "    def bimap(self, g, h):\n",
    "        return Snd(h(self.val))\n",
    "\n",
    "    def equals(self, other):\n",
    "        if(self.val == other.val):\n",
    "            return True\n",
    "        else:\n",
    "            return False\n",
    "\n",
    "\n",
    "def g1(x):\n",
    "    return x + 1\n",
    "\n",
    "def g2(x):\n",
    "    return x + 2\n",
    "\n",
    "def h1(x):\n",
    "    return x * 2\n",
    "\n",
    "def h2(x):\n",
    "    return x * 3\n",
    "\n",
    "def main():\n",
    "    assert Pair(1, 2).bimap(ident, ident).equals(ident(Pair(1, 2)))\n",
    "    assert Pair(1, 2).bimap(g1, h1).bimap(g2, h2).equals(Pair(1, 2).bimap(compose(g1, g2), compose(h1, h2)))\n",
    "    assert K2(1).bimap(ident, ident).equals(ident(K2(1)))\n",
    "    assert K2(1).bimap(g1, h1).bimap(g2, h2).equals(K2(1).bimap(compose(g1, g2), compose(h1, h2)))\n",
    "    assert Fst(1).bimap(ident, ident).equals(ident(Fst(1)))\n",
    "    assert Fst(1).bimap(g1, h1).bimap(g2, h2).equals(Fst(1).bimap(compose(g1, g2), compose(h1, h2)))\n",
    "    assert Snd(1).bimap(ident, ident).equals(ident(Snd(1)))\n",
    "    assert Snd(1).bimap(g1, h1).bimap(g2, h2).equals(Snd(1).bimap(compose(g1, g2), compose(h1, h2)))\n",
    "\n",
    "    print \"All assertions passed.\"\n",
    "\n",
    "if(__name__ == '__main__'):\n",
    "    main()\n",
    "```\n",
    "\n",
    "Davids-MacBook-Air-2:Haskell_Misc dbanas$ ./bifunctor.py  \n",
    "All assertions passed.\n"
   ]
  },
  {
   "cell_type": "markdown",
   "metadata": {},
   "source": [
    "<a href=\"#contents\">Back to contents.</a>"
   ]
  },
  {
   "cell_type": "markdown",
   "metadata": {},
   "source": [
    "### Challenge 6 - Functorial nature of C++ std::map <a name=\"functoriality_6\"/>\n",
    "\n",
    "Should `std::map` be considered a *bifunctor* or a *profunctor* in the two template arguments `Key` and `T`?  \n",
    "How would you redesign this data type to make it so?\n",
    "\n",
    "Since `std::map` is a mapping from type `Key` to type `T`, the same argument that was used to show that `(->)` is a *Profunctor* applies to `std::map`.\n",
    "\n",
    "I'll break the task of making `std::map` profunctorial down, by choosing to implement two new functions: *lmap* and *rmap*, using the C++ equivalent of the Haskell default implementation for *dimap*, in order to complete the definition:\n",
    "\n",
    "While I was able to get *rmap* working:\n",
    "\n",
    "```\n",
    "#include <stdio.h>\n",
    "#include <stdlib.h>\n",
    "#include <vector>\n",
    "#include <map>\n",
    "\n",
    "template<class T>\n",
    "T id(T x) {return x;}\n",
    "\n",
    "// Using \"has a\", instead of \"is a\", to make immutability enforcement easier.\n",
    "template<\n",
    "    class Key,\n",
    "    class T\n",
    "> class promap\n",
    "{\n",
    "  public:\n",
    "    // I'm only providing initial and copy constructors.\n",
    "    promap( const std::map<Key, T>* the_map )\n",
    "    {\n",
    "        _keys.clear();\n",
    "        my_map = the_map;\n",
    "        for(auto elem : *(this->my_map))\n",
    "            _keys.push_back(elem.first);\n",
    "    }\n",
    "\n",
    "    // Piggy-backing on other's my_map should be okay, since I'm enforcing immutability.\n",
    "    promap( const promap& other )\n",
    "    {\n",
    "        _keys.clear();\n",
    "        my_map = other.my_map;\n",
    "        for(auto elem : *(this->my_map))\n",
    "            _keys.push_back(elem.first);\n",
    "    }\n",
    "\n",
    "    // Access is read-only, of course.\n",
    "    T operator[](const Key& key) const\n",
    "    {\n",
    "        return my_map->at(key);\n",
    "    }\n",
    "\n",
    "    // Fetching keys is handy.\n",
    "    const std::vector<Key>& keys() const { return _keys; }\n",
    "\n",
    "    // Need '==' definition, for testing.\n",
    "    bool operator==(const promap& other) const\n",
    "    {\n",
    "        if(other.my_map->size() != this->my_map->size())\n",
    "            return false;\n",
    "\n",
    "        for(auto key : keys())\n",
    "            if(other[key] != (*this)[key])\n",
    "                return false;\n",
    "\n",
    "        return true;\n",
    "    }\n",
    "\n",
    "  protected:\n",
    "    const std::map<Key, T>* my_map=nullptr;\n",
    "\n",
    "  private:\n",
    "    // Holds the keys in the underlying map, for fetching via keys().\n",
    "    std::vector<Key> _keys;\n",
    "\n",
    "    template<class Key1, class A, class B>\n",
    "    friend const promap<Key1, B>* rmap(B (*g)(A), const promap<Key1, A>& f);\n",
    "};\n",
    "\n",
    "// rmap\n",
    "template<class Key1, class A, class B>\n",
    "const promap<Key1, B>* rmap(B (*g)(A), const promap<Key1, A>& f)\n",
    "{\n",
    "    auto new_map = new std::map<Key1, B>(*(f.my_map));\n",
    "    for(auto key : f.keys())\n",
    "        new_map->operator[](key) = g(f[key]);\n",
    "    auto res = new promap<Key1, B> (new_map);\n",
    "    return res;\n",
    "}\n",
    "\n",
    "int g(int x) {return(x + 1);}\n",
    "\n",
    "int h(int x) {return(x * 2);}\n",
    "\n",
    "int g_comp_h(int x) {return x * 2 + 1;}\n",
    "\n",
    "int main(int argc, char *argv[])\n",
    "{\n",
    "    std::vector<int> xs;\n",
    "    xs.clear();\n",
    "    xs.push_back(0);\n",
    "    xs.push_back(1);\n",
    "    xs.push_back(2);\n",
    "\n",
    "    std::map<int, int> the_map;\n",
    "    the_map.clear();\n",
    "    int ix = 0;\n",
    "    for(auto x : xs)\n",
    "        the_map[ix++] = x;\n",
    "\n",
    "    promap<int, int> my_promap(&the_map);\n",
    "\n",
    "    // Test Functor identity law.\n",
    "    const promap<int, int>* new_promap = rmap<int, int, int>(id, my_promap);\n",
    "    if(*new_promap == id(my_promap))\n",
    "        printf(\"Functor identity law held.\\n\");\n",
    "    else\n",
    "        printf(\"Functor identity law did not hold!\\n\");\n",
    "\n",
    "    // Test Functor composition law.\n",
    "    const promap<int, int>* tmp_promap  = rmap<int, int, int> (h, my_promap);\n",
    "    const promap<int, int>* new_promap2 = rmap<int, int, int> (g, *tmp_promap);\n",
    "    const promap<int, int>* new_promap3 = rmap<int, int, int> (g_comp_h, my_promap);\n",
    "    if(*new_promap2 == *new_promap3)\n",
    "        printf(\"Functor composition law held.\\n\");\n",
    "    else\n",
    "        printf(\"Functor composition law did not hold!\\n\");\n",
    "}\n",
    "\n",
    "Davids-MacBook-Air-2:Haskell_Misc dbanas$ g++ -Wno-c++11-extensions promap.cpp \n",
    "Davids-MacBook-Air-2:Haskell_Misc dbanas$ ./a.out \n",
    "Functor identity law held.\n",
    "Functor composition law held.\n",
    "```\n",
    "\n",
    "I'm stuck on *lmap*, because I’m not going to be able to use the same trick, because I’ll be modifying the key value, before applying it to the original map. Also, it’s not clear to me how I can prevent this key transformation from resulting in a failed lookup. Any thoughts?"
   ]
  },
  {
   "cell_type": "markdown",
   "metadata": {},
   "source": [
    "<a href=\"#contents\">Back to contents.</a>"
   ]
  }
 ],
 "metadata": {
  "kernelspec": {
   "display_name": "Haskell",
   "language": "haskell",
   "name": "haskell"
  },
  "language_info": {
   "codemirror_mode": "ihaskell",
   "file_extension": ".hs",
   "name": "haskell",
   "version": "7.10.3"
  }
 },
 "nbformat": 4,
 "nbformat_minor": 0
}
