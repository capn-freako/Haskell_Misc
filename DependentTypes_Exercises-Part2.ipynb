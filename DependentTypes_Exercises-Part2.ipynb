{
 "cells": [
  {
   "cell_type": "markdown",
   "metadata": {
    "toc": true
   },
   "source": [
    "<h1>Table of Contents<span class=\"tocSkip\"></span></h1>\n",
    "<div class=\"toc\" style=\"margin-top: 1em;\"><ul class=\"toc-item\"><li><span><a href=\"#Language-Pragmas,-Imports,-and-Base-Type-Definitions\" data-toc-modified-id=\"Language-Pragmas,-Imports,-and-Base-Type-Definitions-1\"><span class=\"toc-item-num\">1&nbsp;&nbsp;</span>Language Pragmas, Imports, and Base Type Definitions</a></span></li><li><span><a href=\"#Ex-1:-Using-continuation-style-existentials.\" data-toc-modified-id=\"Ex-1:-Using-continuation-style-existentials.-2\"><span class=\"toc-item-num\">2&nbsp;&nbsp;</span>Ex 1: Using continuation style existentials.</a></span></li><li><span><a href=\"#Ex-2:-Existentializing-the-entire-network-structure.\" data-toc-modified-id=\"Ex-2:-Existentializing-the-entire-network-structure.-3\"><span class=\"toc-item-num\">3&nbsp;&nbsp;</span>Ex 2: Existentializing the entire network structure.</a></span><ul class=\"toc-item\"><li><span><a href=\"#Conversion-from-SomeNet-to-OpaqueNet\" data-toc-modified-id=\"Conversion-from-SomeNet-to-OpaqueNet-3.1\"><span class=\"toc-item-num\">3.1&nbsp;&nbsp;</span>Conversion from <code>SomeNet</code> to <code>OpaqueNet</code></a></span></li><li><span><a href=\"#Implementation-of-randomSNet,-using-constructor-style\" data-toc-modified-id=\"Implementation-of-randomSNet,-using-constructor-style-3.2\"><span class=\"toc-item-num\">3.2&nbsp;&nbsp;</span>Implementation of <code>randomSNet</code>, using <em>constructor</em> style</a></span><ul class=\"toc-item\"><li><span><a href=\"#Original-code,-resultant-error,-and-my-commentary:\" data-toc-modified-id=\"Original-code,-resultant-error,-and-my-commentary:-3.2.1\"><span class=\"toc-item-num\">3.2.1&nbsp;&nbsp;</span>Original code, resultant error, and my commentary:</a></span></li></ul></li><li><span><a href=\"#Implementation-of-randomSNet,-using-continuation-style\" data-toc-modified-id=\"Implementation-of-randomSNet,-using-continuation-style-3.3\"><span class=\"toc-item-num\">3.3&nbsp;&nbsp;</span>Implementation of <code>randomSNet</code>, using <em>continuation</em> style</a></span></li><li><span><a href=\"#Binary-instance-for-SomeNet\" data-toc-modified-id=\"Binary-instance-for-SomeNet-3.4\"><span class=\"toc-item-num\">3.4&nbsp;&nbsp;</span><code>Binary</code> instance for <code>SomeNet</code></a></span></li></ul></li></ul></div>"
   ]
  },
  {
   "cell_type": "markdown",
   "metadata": {},
   "source": [
    "<h1>Practical Dependent Types in Haskell: Existential Neural Networks and Types at Runtime (Part 2) - Exercises<span class=\"tocSkip\"></span></h1>\n",
    "\n",
    "This [IHaskell](https://github.com/gibiansky/ihaskell/wiki) [Jupyter](http://jupyter.org) notebook contains my attempts at the exercises posed at the end of [Practical Dependent Types in Haskell: Existential Neural Networks and Types at Runtime (Part 2)](https://blog.jle.im/entry/practical-dependent-types-in-haskell-2.html) by Justin Le.\n",
    "\n",
    "Original author: David Banas <capn.freako@gmail.com>  \n",
    "Original date: January 14, 2018\n",
    "\n",
    "Copyright &copy; 2018 David Banas; all rights reserved World wide."
   ]
  },
  {
   "cell_type": "markdown",
   "metadata": {
    "ExecuteTime": {
     "end_time": "2018-01-11T16:07:46.187900Z",
     "start_time": "2018-01-12T00:07:46.162Z"
    }
   },
   "source": [
    "# Language Pragmas, Imports, and Base Type Definitions"
   ]
  },
  {
   "cell_type": "code",
   "execution_count": 1,
   "metadata": {
    "ExecuteTime": {
     "end_time": "2018-01-20T06:15:01.666099Z",
     "start_time": "2018-01-20T14:14:58.312Z"
    },
    "collapsed": false
   },
   "outputs": [],
   "source": [
    "{-# LANGUAGE AllowAmbiguousTypes #-}\n",
    "{-# LANGUAGE DataKinds #-}\n",
    "{-# LANGUAGE DeriveGeneric #-}\n",
    "{-# LANGUAGE ExplicitForAll #-}\n",
    "{-# LANGUAGE GADTs #-}\n",
    "{-# LANGUAGE KindSignatures #-}\n",
    "{-# LANGUAGE LambdaCase #-}\n",
    "{-# LANGUAGE RankNTypes #-}\n",
    "{-# LANGUAGE ScopedTypeVariables #-}\n",
    "{-# LANGUAGE TypeApplications #-}\n",
    "{-# LANGUAGE TypeOperators #-}\n",
    "\n",
    "import Control.Monad.Random\n",
    "import Data.Binary\n",
    "import Data.Singletons.Prelude\n",
    "import Data.Singletons.TypeLits\n",
    "import GHC.Generics (Generic)\n",
    "import GHC.TypeLits\n",
    "import Numeric.LinearAlgebra.Static\n",
    "import qualified Numeric.LinearAlgebra.Static as LAS\n",
    "\n",
    "data Weights i o = W { wBiases :: !(LAS.R o)\n",
    "                     , wNodes  :: !(LAS.L o i)\n",
    "                     }                      -- an \"o x i\" layer\n",
    "  deriving (Show, Generic)\n",
    "\n",
    "instance (KnownNat i, KnownNat o) => Binary (Weights i o)\n",
    "\n",
    "data Network :: Nat -> [Nat] -> Nat -> * where\n",
    "    O     :: !(Weights i o)\n",
    "          -> Network i '[] o\n",
    "    (:&~) :: KnownNat h\n",
    "          => !(Weights i h)\n",
    "          -> !(Network h hs o)\n",
    "          -> Network i (h ': hs) o\n",
    "infixr 5 :&~\n",
    "\n",
    "putNet :: (KnownNat i, KnownNat o)\n",
    "       => Network i hs o\n",
    "       -> Put\n",
    "putNet = \\case\n",
    "    O w     -> put w\n",
    "    w :&~ n -> put w *> putNet n\n",
    "\n",
    "getNet :: forall i hs o. (KnownNat i, KnownNat o)\n",
    "       => Sing hs\n",
    "       -> Get (Network i hs o)\n",
    "getNet = \\case\n",
    "    SNil            ->     O <$> get\n",
    "    SNat `SCons` ss -> (:&~) <$> get <*> getNet ss\n",
    "\n",
    "instance (KnownNat i, SingI hs, KnownNat o) => Binary (Network i hs o) where\n",
    "    put = putNet\n",
    "    get = getNet sing\n",
    "\n",
    "hiddenStruct :: Network i hs o -> [Integer]\n",
    "hiddenStruct = \\case\n",
    "    O _    -> []\n",
    "    _ :&~ (n' :: Network h hs' o)\n",
    "           -> natVal (Proxy @h)\n",
    "            : hiddenStruct n'\n",
    "\n",
    "data OpaqueNet :: Nat -> Nat -> * where\n",
    "    ONet :: Network i hs o -> OpaqueNet i o\n",
    "\n",
    "type OpaqueNet' i o r = (forall hs. Network i hs o -> r) -> r\n",
    "\n",
    "randomWeights :: (MonadRandom m, KnownNat i, KnownNat o)\n",
    "              => m (Weights i o)\n",
    "randomWeights = do\n",
    "    s1 :: Int <- getRandom\n",
    "    s2 :: Int <- getRandom\n",
    "    let wB = randomVector  s1 Uniform * 2 - 1\n",
    "        wN = uniformSample s2 (-1) 1\n",
    "    return $ W wB wN\n",
    "\n",
    "randomNet' :: forall m i hs o. (MonadRandom m, KnownNat i, KnownNat o)\n",
    "           => Sing hs -> m (Network i hs o)\n",
    "randomNet' = \\case\n",
    "    SNil            ->     O <$> randomWeights\n",
    "    SNat `SCons` ss -> (:&~) <$> randomWeights <*> randomNet' ss\n",
    "\n",
    "randomNet :: forall m i hs o. (MonadRandom m, KnownNat i, SingI hs, KnownNat o)\n",
    "          => m (Network i hs o)\n",
    "randomNet = randomNet' sing"
   ]
  },
  {
   "cell_type": "markdown",
   "metadata": {},
   "source": [
    "# Ex 1: Using continuation style existentials.\n",
    "\n",
    "Implement `putONet'` and `getONet'` using the continuation-style existentials, instead.\n",
    "\n",
    "The constructor style implementations are:\n",
    "\n",
    "```haskell\n",
    "putONet :: (KnownNat i, KnownNat o)\n",
    "        => OpaqueNet i o\n",
    "        -> Put\n",
    "putONet (ONet net) = do\n",
    "    put (hiddenStruct net)\n",
    "    putNet net\n",
    "    \n",
    "getONet :: (KnownNat i, KnownNat o)\n",
    "        => Get (OpaqueNet i o)\n",
    "getONet = do\n",
    "    hs <- get\n",
    "    withSomeSing hs \\$ \\ss ->\n",
    "      ONet <$> getNet ss\n",
    "```"
   ]
  },
  {
   "cell_type": "code",
   "execution_count": 2,
   "metadata": {
    "ExecuteTime": {
     "end_time": "2018-01-20T06:15:02.547357Z",
     "start_time": "2018-01-20T14:14:58.506Z"
    },
    "collapsed": false
   },
   "outputs": [],
   "source": [
    "putONet' :: (KnownNat i, KnownNat o)\n",
    "         => OpaqueNet' i o Put\n",
    "         -> Put\n",
    "putONet' f = f $ \\net -> do\n",
    "  put (hiddenStruct net)\n",
    "  putNet net\n",
    "  \n",
    "getONet' :: (KnownNat i, KnownNat o)\n",
    "         => (forall hs. Network i hs o -> Get r)\n",
    "         -> Get r\n",
    "getONet' f = do\n",
    "  hs  <- get\n",
    "  withSomeSing hs $ \\ss -> do\n",
    "    net <- getNet ss\n",
    "    f net"
   ]
  },
  {
   "cell_type": "markdown",
   "metadata": {},
   "source": [
    "I struggled for a long time with the `getONet'` definition, above, before realizing that I needed _nested monads_.\n",
    "I was, instead, attempting different variations on this basic theme:"
   ]
  },
  {
   "cell_type": "code",
   "execution_count": 3,
   "metadata": {
    "ExecuteTime": {
     "end_time": "2018-01-20T06:15:02.576590Z",
     "start_time": "2018-01-20T14:14:58.693Z"
    },
    "collapsed": false
   },
   "outputs": [
    {
     "data": {
      "text/html": [
       "<style>/* Styles used for the Hoogle display in the pager */\n",
       ".hoogle-doc {\n",
       "display: block;\n",
       "padding-bottom: 1.3em;\n",
       "padding-left: 0.4em;\n",
       "}\n",
       ".hoogle-code {\n",
       "display: block;\n",
       "font-family: monospace;\n",
       "white-space: pre;\n",
       "}\n",
       ".hoogle-text {\n",
       "display: block;\n",
       "}\n",
       ".hoogle-name {\n",
       "color: green;\n",
       "font-weight: bold;\n",
       "}\n",
       ".hoogle-head {\n",
       "font-weight: bold;\n",
       "}\n",
       ".hoogle-sub {\n",
       "display: block;\n",
       "margin-left: 0.4em;\n",
       "}\n",
       ".hoogle-package {\n",
       "font-weight: bold;\n",
       "font-style: italic;\n",
       "}\n",
       ".hoogle-module {\n",
       "font-weight: bold;\n",
       "}\n",
       ".hoogle-class {\n",
       "font-weight: bold;\n",
       "}\n",
       ".get-type {\n",
       "color: green;\n",
       "font-weight: bold;\n",
       "font-family: monospace;\n",
       "display: block;\n",
       "white-space: pre-wrap;\n",
       "}\n",
       ".show-type {\n",
       "color: green;\n",
       "font-weight: bold;\n",
       "font-family: monospace;\n",
       "margin-left: 1em;\n",
       "}\n",
       ".mono {\n",
       "font-family: monospace;\n",
       "display: block;\n",
       "}\n",
       ".err-msg {\n",
       "color: red;\n",
       "font-style: italic;\n",
       "font-family: monospace;\n",
       "white-space: pre;\n",
       "display: block;\n",
       "}\n",
       "#unshowable {\n",
       "color: red;\n",
       "font-weight: bold;\n",
       "}\n",
       ".err-msg.in.collapse {\n",
       "padding-top: 0.7em;\n",
       "}\n",
       ".highlight-code {\n",
       "white-space: pre;\n",
       "font-family: monospace;\n",
       "}\n",
       ".suggestion-warning { \n",
       "font-weight: bold;\n",
       "color: rgb(200, 130, 0);\n",
       "}\n",
       ".suggestion-error { \n",
       "font-weight: bold;\n",
       "color: red;\n",
       "}\n",
       ".suggestion-name {\n",
       "font-weight: bold;\n",
       "}\n",
       "</style><span class='err-msg'>&lt;interactive&gt;:6:35: error:<br/>    • Couldn't match type ‘hs0’ with ‘a’<br/>        because type variable ‘a’ would escape its scope<br/>      This (rigid, skolem) type variable is bound by<br/>        a type expected by the context:<br/>          Sing a -&gt; Get (Network i hs0 o)<br/>        at &lt;interactive&gt;:6:10-43<br/>      Expected type: Get (Network i hs0 o)<br/>        Actual type: Get (Network i a o)<br/>    • In the expression: getNet ss<br/>      In the second argument of ‘(<span>&dollar;</span>)’, namely ‘\\ ss -&gt; getNet ss’<br/>      In a stmt of a 'do' block: net &lt;- withSomeSing hs <span>&dollar;</span> \\ ss -&gt; getNet ss<br/>    • Relevant bindings include ss :: Sing a (bound at &lt;interactive&gt;:6:29)</span>"
      ],
      "text/plain": [
       "<interactive>:6:35: error:\n",
       "    • Couldn't match type ‘hs0’ with ‘a’\n",
       "        because type variable ‘a’ would escape its scope\n",
       "      This (rigid, skolem) type variable is bound by\n",
       "        a type expected by the context:\n",
       "          Sing a -> Get (Network i hs0 o)\n",
       "        at <interactive>:6:10-43\n",
       "      Expected type: Get (Network i hs0 o)\n",
       "        Actual type: Get (Network i a o)\n",
       "    • In the expression: getNet ss\n",
       "      In the second argument of ‘($)’, namely ‘\\ ss -> getNet ss’\n",
       "      In a stmt of a 'do' block: net <- withSomeSing hs $ \\ ss -> getNet ss\n",
       "    • Relevant bindings include ss :: Sing a (bound at <interactive>:6:29)"
      ]
     },
     "metadata": {},
     "output_type": "display_data"
    }
   ],
   "source": [
    "getONet'' :: (KnownNat i, KnownNat o)\n",
    "         => (forall hs. Network i hs o -> Get r)\n",
    "         -> Get r\n",
    "getONet'' f = do\n",
    "  hs  <- get\n",
    "  net <- withSomeSing hs $ \\ss -> getNet ss\n",
    "  f net"
   ]
  },
  {
   "cell_type": "markdown",
   "metadata": {},
   "source": [
    "And not quite understanding what to do about that error.\n",
    "Of course, with the correct code available to stare at, now, the solution seems obvous.\n",
    "D'oh! :(\n",
    "\n",
    "**I think I'd like to discuss w/ Conal the deeper type-level interactions and significances present in this example.**"
   ]
  },
  {
   "cell_type": "markdown",
   "metadata": {},
   "source": [
    "# Ex 2: Existentializing the entire network structure.\n",
    "\n",
    "Work with an existential wrapper over the entire network structure (inputs and outputs, too):"
   ]
  },
  {
   "cell_type": "code",
   "execution_count": 4,
   "metadata": {
    "ExecuteTime": {
     "end_time": "2018-01-20T06:15:02.749461Z",
     "start_time": "2018-01-20T14:14:59.175Z"
    },
    "collapsed": false
   },
   "outputs": [],
   "source": [
    "data SomeNet where\n",
    "  SNet :: (KnownNat i, KnownNat o)\n",
    "    => Network i hs o\n",
    "    -> SomeNet"
   ]
  },
  {
   "cell_type": "markdown",
   "metadata": {},
   "source": [
    "(We need the `KnownNat` constraints because of type erasure, to recover the original input/output dimensions back once we pattern match)\n",
    "\n",
    "And write:\n",
    "\n",
    "- A function to convert `SomeNets` to `OpaqueNets`. Return the `OpaqueNet` with existentially quantified `i` and `o` in continuation-style. (You can write a data type to return it in constructor-style, too, for funsies.)\n",
    "\n",
    "- `randomSNet`, returning `m SomeNet`.\n",
    "\n",
    "- While you’re at it, write it to return a random continuation-style `SomeNet`, too! (See the type of `withRandomONet'` for reference on how to write the type)\n",
    "\n",
    "- The `Binary` instance for `SomeNet`.\n",
    "\n",
    "    Hint: Remember `natVal :: KnownNat n => Proxy n -> Integer`!\n",
    "\n",
    "Hint: Remember that `toSomeSing` also works for `Integer`s, to get `Sing`s for `Nat`s, too!"
   ]
  },
  {
   "cell_type": "markdown",
   "metadata": {},
   "source": [
    "## Conversion from `SomeNet` to `OpaqueNet`"
   ]
  },
  {
   "cell_type": "code",
   "execution_count": 5,
   "metadata": {
    "ExecuteTime": {
     "end_time": "2018-01-20T06:15:02.931359Z",
     "start_time": "2018-01-20T14:14:59.702Z"
    },
    "collapsed": false
   },
   "outputs": [],
   "source": [
    "sNetToONet :: (forall i o. OpaqueNet i o -> r) -> SomeNet -> r\n",
    "sNetToONet f (SNet net) = f $ ONet net"
   ]
  },
  {
   "cell_type": "markdown",
   "metadata": {},
   "source": [
    "## Implementation of `randomSNet`, using _constructor_ style"
   ]
  },
  {
   "cell_type": "code",
   "execution_count": 6,
   "metadata": {
    "ExecuteTime": {
     "end_time": "2018-01-20T06:15:03.114276Z",
     "start_time": "2018-01-20T14:14:59.946Z"
    },
    "collapsed": false
   },
   "outputs": [],
   "source": [
    "randomSNet :: forall m. (MonadRandom m)\n",
    "           => Integer    -- # inputs\n",
    "           -> [Integer]  -- hidden layer widths\n",
    "           -> Integer    -- # outputs\n",
    "           -> m SomeNet\n",
    "randomSNet i hs o =\n",
    "  withSomeSing i  $ \\(SNat :: Sing (i  :: Nat)) ->\n",
    "  withSomeSing o  $ \\(SNat :: Sing (o  :: Nat)) ->\n",
    "  withSomeSing hs $ \\(ss   :: Sing (hs :: [Nat])) ->\n",
    "    SNet <$> (randomNet' ss :: m (Network i hs o))"
   ]
  },
  {
   "cell_type": "markdown",
   "metadata": {
    "ExecuteTime": {
     "end_time": "2018-01-16T10:25:24.134252Z",
     "start_time": "2018-01-16T18:25:23.957Z"
    }
   },
   "source": [
    "### Original code, resultant error, and my commentary:\n",
    "\n",
    "```haskell\n",
    "randomSNet i hs o =\n",
    "  withSomeSing i \\$ \\case\n",
    "    (SNat :: Sing i) -> withSomeSing o \\$ \\case\n",
    "      (SNat :: Sing o) -> withSomeSing hs \\$ \\ss -> do\n",
    "        SNet <$> (randomNet' ss :: m (Network i hs o))\n",
    "```\n",
    "\n",
    "> <interactive>:12:47: error:  \n",
    "    • Expected kind ‘Nat’, but ‘a’ has kind ‘k20’  \n",
    "    • In the first argument of ‘Network’, namely ‘i’  \n",
    "      In the first argument of ‘m’, namely ‘Network i hs o’  \n",
    "      In an expression type signature: m (Network i hs o)  \n",
    "<interactive>:12:52: error:  \n",
    "    • Expected kind ‘Nat’, but ‘a’ has kind ‘k1’  \n",
    "    • In the third argument of ‘Network’, namely ‘o’  \n",
    "      In the first argument of ‘m’, namely ‘Network i hs o’  \n",
    "      In an expression type signature: m (Network i hs o)  \n",
    "      \n",
    "Hmmm, I'm not sure why I'm getting the error, above.\n",
    "If I understand this excerpt from Justin's post:\n",
    "\n",
    "```haskell\n",
    "main :: IO ()\n",
    "main = do\n",
    "    putStrLn \"How many cats do you own?\"\n",
    "    c <- readLn :: IO Integer\n",
    "    case toSing c of\n",
    "      SomeSing (SNat :: Sing n) -> -- ...\n",
    "```\n",
    "\n",
    "> Now, inside the case statement branch (the ...), we have type `n :: Nat` in scope! And by pattern matching on the `SNat` constructor, we also have a `KnownNat n` instance (As discussed in previous part).\n",
    "\n",
    "correctly, then I should have what I need in `i` and `o`.\n",
    "That is, they should both have kind `Nat`.\n",
    "\n",
    "**I have suggested to Justin that he add an explanatory note, re: the necessity of typing `n`.**"
   ]
  },
  {
   "cell_type": "markdown",
   "metadata": {},
   "source": [
    "## Implementation of `randomSNet`, using _continuation_ style"
   ]
  },
  {
   "cell_type": "code",
   "execution_count": 7,
   "metadata": {
    "ExecuteTime": {
     "end_time": "2018-01-20T06:15:03.305307Z",
     "start_time": "2018-01-20T14:15:00.379Z"
    },
    "collapsed": false
   },
   "outputs": [],
   "source": [
    "withRandomSNet :: forall m r. (MonadRandom m)\n",
    "           => Integer    -- # inputs\n",
    "           -> [Integer]  -- hidden layer widths\n",
    "           -> Integer    -- # outputs\n",
    "           -> (forall i hs o. (KnownNat i, KnownNat o) => Network i hs o -> m r)\n",
    "           -> m r\n",
    "withRandomSNet i hs o f =\n",
    "  withSomeSing i  $ \\(SNat :: Sing (i  :: Nat)) ->\n",
    "  withSomeSing o  $ \\(SNat :: Sing (o  :: Nat)) ->\n",
    "  withSomeSing hs $ \\(ss   :: Sing (hs :: [Nat])) -> do\n",
    "    n <- randomNet' ss :: m (Network i hs o)\n",
    "    f n"
   ]
  },
  {
   "cell_type": "markdown",
   "metadata": {},
   "source": [
    "## `Binary` instance for `SomeNet`"
   ]
  },
  {
   "cell_type": "code",
   "execution_count": 8,
   "metadata": {
    "ExecuteTime": {
     "end_time": "2018-01-20T06:15:03.506105Z",
     "start_time": "2018-01-20T14:15:00.611Z"
    },
    "collapsed": false
   },
   "outputs": [],
   "source": [
    "instance Binary SomeNet where\n",
    "  put (SNet (net :: Network i hs o)) = do\n",
    "    put $ natVal (Proxy @i)\n",
    "    put $ hiddenStruct net\n",
    "    put $ natVal (Proxy @o)\n",
    "    putNet net\n",
    "\n",
    "  get = do\n",
    "    i  <- get :: Get Integer\n",
    "    hs <- get :: Get [Integer]\n",
    "    o  <- get :: Get Integer\n",
    "    withSomeSing i    $ \\(SNat :: Sing (i  :: Nat  )) ->\n",
    "      withSomeSing hs $ \\(ss   :: Sing (hs :: [Nat])) ->\n",
    "      withSomeSing o  $ \\(SNat :: Sing (o  :: Nat  )) -> do\n",
    "        n <- getNet ss :: Get (Network i hs o)\n",
    "        return (SNet n)"
   ]
  },
  {
   "cell_type": "code",
   "execution_count": 12,
   "metadata": {
    "ExecuteTime": {
     "end_time": "2018-01-20T06:18:43.564447Z",
     "start_time": "2018-01-20T14:18:42.912Z"
    },
    "collapsed": false
   },
   "outputs": [
    {
     "data": {},
     "metadata": {},
     "output_type": "display_data"
    }
   ],
   "source": [
    ":i R"
   ]
  },
  {
   "cell_type": "code",
   "execution_count": null,
   "metadata": {
    "collapsed": true
   },
   "outputs": [],
   "source": []
  }
 ],
 "metadata": {
  "kernelspec": {
   "display_name": "Haskell",
   "language": "haskell",
   "name": "haskell"
  },
  "language_info": {
   "codemirror_mode": "ihaskell",
   "file_extension": ".hs",
   "name": "haskell",
   "version": "8.0.2"
  },
  "latex_envs": {
   "LaTeX_envs_menu_present": true,
   "autocomplete": true,
   "bibliofile": "biblio.bib",
   "cite_by": "apalike",
   "current_citInitial": 1,
   "eqLabelWithNumbers": true,
   "eqNumInitial": 1,
   "hotkeys": {
    "equation": "Ctrl-E",
    "itemize": "Ctrl-I"
   },
   "labels_anchors": false,
   "latex_user_defs": false,
   "report_style_numbering": false,
   "user_envs_cfg": false
  },
  "toc": {
   "nav_menu": {},
   "number_sections": true,
   "sideBar": true,
   "skip_h1_title": false,
   "toc_cell": true,
   "toc_position": {},
   "toc_section_display": "block",
   "toc_window_display": true
  }
 },
 "nbformat": 4,
 "nbformat_minor": 2
}
